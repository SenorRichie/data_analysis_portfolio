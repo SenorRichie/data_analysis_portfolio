{
 "cells": [
  {
   "cell_type": "markdown",
   "metadata": {},
   "source": [
    "# Принятие решений в бизнесе\n",
    "\n",
    "**Необходимо увеличить выручку крупного интернет-магазина, для этого нужно приоретизировать гипотезы, запустить A/B-тест и проанилизировать все результаты.**\n",
    "\n",
    "**Часть 1. Приоритизация гипотез.**\n",
    "\n",
    "**В файле /datasets/hypothesis.csv 9 гипотез по увеличению выручки интернет-магазина с указанными параметрами Reach, Impact, Confidence, Effort.**\n",
    "\n",
    "**Задачи:**\n",
    "- Примените фреймворк ICE для приоритизации гипотез. Отсортируйте их по убыванию приоритета.\n",
    "- Примените фреймворк RICE для приоритизации гипотез. Отсортируйте их по убыванию приоритета.\n",
    "- Укажите, как изменилась приоритизация гипотез при применении RICE вместо ICE. Объясните, почему так произошло.\n",
    "\n",
    "\n",
    "**Часть 2. Анализ A/B-теста.**\n",
    "\n",
    "**Мы провели A/B-тест и получили результаты, которые описаны в файлах /datasets/orders.csv и /datasets/visitors.csv.**\n",
    "\n",
    "**Задачи по анализу A/B-теста:**\n",
    "- Постройте график кумулятивной выручки по группам. Сделайте выводы и предположения.\n",
    "- Постройте график кумулятивного среднего чека по группам. Сделайте выводы и предположения.\n",
    "- Постройте график относительного изменения кумулятивного среднего чека группы B к группе A. Сделайте выводы и предположения.\n",
    "- Постройте график кумулятивного среднего количества заказов на посетителя по группам. Сделайте выводы и предположения.\n",
    "- Постройте график относительного изменения кумулятивного среднего количества заказов на посетителя группы B к группе A. Сделайте выводы и предположения.\n",
    "- Постройте точечный график количества заказов по пользователям. Сделайте выводы и предположения.\n",
    "- Посчитайте 95-й и 99-й перцентили количества заказов на пользователя. Выберите границу для определения аномальных пользователей.\n",
    "- Постройте точечный график стоимостей заказов. Сделайте выводы и предположения.\n",
    "- Посчитайте 95-й и 99-й перцентили стоимости заказов. Выберите границу для определения аномальных заказов.\n",
    "- Посчитайте статистическую значимость различий в среднем количестве заказов на посетителя между группами по «сырым» данным. Сделайте выводы и предположения.\n",
    "- Посчитайте статистическую значимость различий в среднем чеке заказа между группами по «сырым» данным. Сделайте выводы и предположения.\n",
    "- Посчитайте статистическую значимость различий в среднем количестве заказов на посетителя между группами по «очищенным» данным. Сделайте выводы и предположения.\n",
    "- Посчитайте статистическую значимость различий в среднем чеке заказа между группами по «очищенным» данным. Сделайте выводы и предположения.\n",
    "- Примите решение по результатам теста и объясните его. Варианты решений:\n",
    "    1. Остановить тест, зафиксировать победу одной из групп.\n",
    "    2. Остановить тест, зафиксировать отсутствие различий между группами.\n",
    "    3. Продолжить тест."
   ]
  },
  {
   "cell_type": "code",
   "execution_count": 1,
   "metadata": {},
   "outputs": [],
   "source": [
    "import pandas as pd\n",
    "import scipy.stats as stats\n",
    "import datetime as dt\n",
    "import numpy as np\n",
    "import matplotlib.pyplot as plt\n",
    "from pandas.plotting import register_matplotlib_converters\n",
    "import warnings"
   ]
  },
  {
   "cell_type": "markdown",
   "metadata": {},
   "source": [
    "## Часть 1. Приоритизация гипотез.\n",
    "\n",
    "- Примените фреймворк ICE для приоритизации гипотез. Отсортируйте их по убыванию приоритета.\n",
    "- Примените фреймворк RICE для приоритизации гипотез. Отсортируйте их по убыванию приоритета.\n",
    "- Укажите, как изменилась приоритизация гипотез при применении RICE вместо ICE. Объясните, почему так произошло.\n",
    "\n",
    "### Предобработка данных."
   ]
  },
  {
   "cell_type": "code",
   "execution_count": 2,
   "metadata": {},
   "outputs": [
    {
     "data": {
      "text/html": [
       "<div>\n",
       "<style scoped>\n",
       "    .dataframe tbody tr th:only-of-type {\n",
       "        vertical-align: middle;\n",
       "    }\n",
       "\n",
       "    .dataframe tbody tr th {\n",
       "        vertical-align: top;\n",
       "    }\n",
       "\n",
       "    .dataframe thead th {\n",
       "        text-align: right;\n",
       "    }\n",
       "</style>\n",
       "<table border=\"1\" class=\"dataframe\">\n",
       "  <thead>\n",
       "    <tr style=\"text-align: right;\">\n",
       "      <th></th>\n",
       "      <th>Hypothesis</th>\n",
       "      <th>Reach</th>\n",
       "      <th>Impact</th>\n",
       "      <th>Confidence</th>\n",
       "      <th>Efforts</th>\n",
       "    </tr>\n",
       "  </thead>\n",
       "  <tbody>\n",
       "    <tr>\n",
       "      <th>0</th>\n",
       "      <td>Добавить два новых канала привлечения трафика, что позволит привлекать на 30% больше пользователей</td>\n",
       "      <td>3</td>\n",
       "      <td>10</td>\n",
       "      <td>8</td>\n",
       "      <td>6</td>\n",
       "    </tr>\n",
       "    <tr>\n",
       "      <th>1</th>\n",
       "      <td>Запустить собственную службу доставки, что сократит срок доставки заказов</td>\n",
       "      <td>2</td>\n",
       "      <td>5</td>\n",
       "      <td>4</td>\n",
       "      <td>10</td>\n",
       "    </tr>\n",
       "    <tr>\n",
       "      <th>2</th>\n",
       "      <td>Добавить блоки рекомендаций товаров на сайт интернет магазина, чтобы повысить конверсию и средний чек заказа</td>\n",
       "      <td>8</td>\n",
       "      <td>3</td>\n",
       "      <td>7</td>\n",
       "      <td>3</td>\n",
       "    </tr>\n",
       "    <tr>\n",
       "      <th>3</th>\n",
       "      <td>Изменить структура категорий, что увеличит конверсию, т.к. пользователи быстрее найдут нужный товар</td>\n",
       "      <td>8</td>\n",
       "      <td>3</td>\n",
       "      <td>3</td>\n",
       "      <td>8</td>\n",
       "    </tr>\n",
       "    <tr>\n",
       "      <th>4</th>\n",
       "      <td>Изменить цвет фона главной страницы, чтобы увеличить вовлеченность пользователей</td>\n",
       "      <td>3</td>\n",
       "      <td>1</td>\n",
       "      <td>1</td>\n",
       "      <td>1</td>\n",
       "    </tr>\n",
       "    <tr>\n",
       "      <th>5</th>\n",
       "      <td>Добавить страницу отзывов клиентов о магазине, что позволит увеличить количество заказов</td>\n",
       "      <td>3</td>\n",
       "      <td>2</td>\n",
       "      <td>2</td>\n",
       "      <td>3</td>\n",
       "    </tr>\n",
       "    <tr>\n",
       "      <th>6</th>\n",
       "      <td>Показать на главной странице баннеры с актуальными акциями и распродажами, чтобы увеличить конверсию</td>\n",
       "      <td>5</td>\n",
       "      <td>3</td>\n",
       "      <td>8</td>\n",
       "      <td>3</td>\n",
       "    </tr>\n",
       "    <tr>\n",
       "      <th>7</th>\n",
       "      <td>Добавить форму подписки на все основные страницы, чтобы собрать базу клиентов для email-рассылок</td>\n",
       "      <td>10</td>\n",
       "      <td>7</td>\n",
       "      <td>8</td>\n",
       "      <td>5</td>\n",
       "    </tr>\n",
       "    <tr>\n",
       "      <th>8</th>\n",
       "      <td>Запустить акцию, дающую скидку на товар в день рождения</td>\n",
       "      <td>1</td>\n",
       "      <td>9</td>\n",
       "      <td>9</td>\n",
       "      <td>5</td>\n",
       "    </tr>\n",
       "  </tbody>\n",
       "</table>\n",
       "</div>"
      ],
      "text/plain": [
       "                                                                                                     Hypothesis  \\\n",
       "0            Добавить два новых канала привлечения трафика, что позволит привлекать на 30% больше пользователей   \n",
       "1                                     Запустить собственную службу доставки, что сократит срок доставки заказов   \n",
       "2  Добавить блоки рекомендаций товаров на сайт интернет магазина, чтобы повысить конверсию и средний чек заказа   \n",
       "3           Изменить структура категорий, что увеличит конверсию, т.к. пользователи быстрее найдут нужный товар   \n",
       "4                              Изменить цвет фона главной страницы, чтобы увеличить вовлеченность пользователей   \n",
       "5                      Добавить страницу отзывов клиентов о магазине, что позволит увеличить количество заказов   \n",
       "6          Показать на главной странице баннеры с актуальными акциями и распродажами, чтобы увеличить конверсию   \n",
       "7              Добавить форму подписки на все основные страницы, чтобы собрать базу клиентов для email-рассылок   \n",
       "8                                                       Запустить акцию, дающую скидку на товар в день рождения   \n",
       "\n",
       "   Reach  Impact  Confidence  Efforts  \n",
       "0      3      10           8        6  \n",
       "1      2       5           4       10  \n",
       "2      8       3           7        3  \n",
       "3      8       3           3        8  \n",
       "4      3       1           1        1  \n",
       "5      3       2           2        3  \n",
       "6      5       3           8        3  \n",
       "7     10       7           8        5  \n",
       "8      1       9           9        5  "
      ]
     },
     "execution_count": 2,
     "metadata": {},
     "output_type": "execute_result"
    }
   ],
   "source": [
    "hypothesis = pd.read_csv('/datasets/hypothesis.csv')\n",
    "\n",
    "# Задаём максимальную видимость содержимого колонок - 150 символов\n",
    "pd.set_option('display.max_colwidth', 150)\n",
    "\n",
    "hypothesis"
   ]
  },
  {
   "cell_type": "code",
   "execution_count": 3,
   "metadata": {},
   "outputs": [
    {
     "name": "stdout",
     "output_type": "stream",
     "text": [
      "<class 'pandas.core.frame.DataFrame'>\n",
      "RangeIndex: 9 entries, 0 to 8\n",
      "Data columns (total 5 columns):\n",
      " #   Column      Non-Null Count  Dtype \n",
      "---  ------      --------------  ----- \n",
      " 0   Hypothesis  9 non-null      object\n",
      " 1   Reach       9 non-null      int64 \n",
      " 2   Impact      9 non-null      int64 \n",
      " 3   Confidence  9 non-null      int64 \n",
      " 4   Efforts     9 non-null      int64 \n",
      "dtypes: int64(4), object(1)\n",
      "memory usage: 488.0+ bytes\n"
     ]
    }
   ],
   "source": [
    "hypothesis.info()"
   ]
  },
  {
   "cell_type": "markdown",
   "metadata": {},
   "source": [
    "**Без дополнительных инструментов, по датасету и его информации видно, что дубликаты и пропуски отсутствуют.**\n",
    "\n",
    "**Меняем шрифт названий колонок на змеиный:**"
   ]
  },
  {
   "cell_type": "code",
   "execution_count": 4,
   "metadata": {},
   "outputs": [],
   "source": [
    "hypothesis.columns = hypothesis.columns.str.lower().str.replace(' ', '_')"
   ]
  },
  {
   "cell_type": "markdown",
   "metadata": {},
   "source": [
    "**Вывод по предобработке данных:**\n",
    "- Дубликаты и пропуски отсутствуют;\n",
    "- Шрифт названий колонок изменен на змеиный.\n",
    "\n",
    "**Структура полученных данных:**\n",
    "\n",
    "- **hypothesis** - название гипотезы, object;\n",
    "- **reach** - скольких пользователей затронет изменение по гипотезе, int64;\n",
    "- **impact** - насколько сильно изменение повлияет на пользователей (их опыт и удовлетворение), int64;\n",
    "- **confidence** - насколько мы уверены, что это изменение повлияет на пользователей именно так, int64;\n",
    "- **efforts** - стоимость теста гипотезы, int64."
   ]
  },
  {
   "cell_type": "markdown",
   "metadata": {},
   "source": [
    "### Примените фреймворк ICE для приоритизации гипотез. Отсортируйте их по убыванию приоритета."
   ]
  },
  {
   "cell_type": "code",
   "execution_count": 5,
   "metadata": {},
   "outputs": [
    {
     "data": {
      "text/html": [
       "<div>\n",
       "<style scoped>\n",
       "    .dataframe tbody tr th:only-of-type {\n",
       "        vertical-align: middle;\n",
       "    }\n",
       "\n",
       "    .dataframe tbody tr th {\n",
       "        vertical-align: top;\n",
       "    }\n",
       "\n",
       "    .dataframe thead th {\n",
       "        text-align: right;\n",
       "    }\n",
       "</style>\n",
       "<table border=\"1\" class=\"dataframe\">\n",
       "  <thead>\n",
       "    <tr style=\"text-align: right;\">\n",
       "      <th></th>\n",
       "      <th>hypothesis</th>\n",
       "      <th>ice_score</th>\n",
       "    </tr>\n",
       "  </thead>\n",
       "  <tbody>\n",
       "    <tr>\n",
       "      <th>8</th>\n",
       "      <td>Запустить акцию, дающую скидку на товар в день рождения</td>\n",
       "      <td>16.20</td>\n",
       "    </tr>\n",
       "    <tr>\n",
       "      <th>0</th>\n",
       "      <td>Добавить два новых канала привлечения трафика, что позволит привлекать на 30% больше пользователей</td>\n",
       "      <td>13.33</td>\n",
       "    </tr>\n",
       "    <tr>\n",
       "      <th>7</th>\n",
       "      <td>Добавить форму подписки на все основные страницы, чтобы собрать базу клиентов для email-рассылок</td>\n",
       "      <td>11.20</td>\n",
       "    </tr>\n",
       "    <tr>\n",
       "      <th>6</th>\n",
       "      <td>Показать на главной странице баннеры с актуальными акциями и распродажами, чтобы увеличить конверсию</td>\n",
       "      <td>8.00</td>\n",
       "    </tr>\n",
       "    <tr>\n",
       "      <th>2</th>\n",
       "      <td>Добавить блоки рекомендаций товаров на сайт интернет магазина, чтобы повысить конверсию и средний чек заказа</td>\n",
       "      <td>7.00</td>\n",
       "    </tr>\n",
       "    <tr>\n",
       "      <th>1</th>\n",
       "      <td>Запустить собственную службу доставки, что сократит срок доставки заказов</td>\n",
       "      <td>2.00</td>\n",
       "    </tr>\n",
       "    <tr>\n",
       "      <th>5</th>\n",
       "      <td>Добавить страницу отзывов клиентов о магазине, что позволит увеличить количество заказов</td>\n",
       "      <td>1.33</td>\n",
       "    </tr>\n",
       "    <tr>\n",
       "      <th>3</th>\n",
       "      <td>Изменить структура категорий, что увеличит конверсию, т.к. пользователи быстрее найдут нужный товар</td>\n",
       "      <td>1.12</td>\n",
       "    </tr>\n",
       "    <tr>\n",
       "      <th>4</th>\n",
       "      <td>Изменить цвет фона главной страницы, чтобы увеличить вовлеченность пользователей</td>\n",
       "      <td>1.00</td>\n",
       "    </tr>\n",
       "  </tbody>\n",
       "</table>\n",
       "</div>"
      ],
      "text/plain": [
       "                                                                                                     hypothesis  \\\n",
       "8                                                       Запустить акцию, дающую скидку на товар в день рождения   \n",
       "0            Добавить два новых канала привлечения трафика, что позволит привлекать на 30% больше пользователей   \n",
       "7              Добавить форму подписки на все основные страницы, чтобы собрать базу клиентов для email-рассылок   \n",
       "6          Показать на главной странице баннеры с актуальными акциями и распродажами, чтобы увеличить конверсию   \n",
       "2  Добавить блоки рекомендаций товаров на сайт интернет магазина, чтобы повысить конверсию и средний чек заказа   \n",
       "1                                     Запустить собственную службу доставки, что сократит срок доставки заказов   \n",
       "5                      Добавить страницу отзывов клиентов о магазине, что позволит увеличить количество заказов   \n",
       "3           Изменить структура категорий, что увеличит конверсию, т.к. пользователи быстрее найдут нужный товар   \n",
       "4                              Изменить цвет фона главной страницы, чтобы увеличить вовлеченность пользователей   \n",
       "\n",
       "   ice_score  \n",
       "8      16.20  \n",
       "0      13.33  \n",
       "7      11.20  \n",
       "6       8.00  \n",
       "2       7.00  \n",
       "1       2.00  \n",
       "5       1.33  \n",
       "3       1.12  \n",
       "4       1.00  "
      ]
     },
     "execution_count": 5,
     "metadata": {},
     "output_type": "execute_result"
    }
   ],
   "source": [
    "# Создаём новый столбец с фреймворком ICE для приоритизации гипотез\n",
    "hypothesis['ice_score'] = (hypothesis['impact'] * hypothesis['confidence'] / hypothesis['efforts']).round(2)\n",
    "\n",
    "# Выводим датафрейм с сортировкой ICE по убыванию\n",
    "hypothesis[['hypothesis', 'ice_score']].sort_values(by='ice_score', ascending=False)"
   ]
  },
  {
   "cell_type": "markdown",
   "metadata": {},
   "source": [
    "**По методу ICE приоритетнее в первую очередь тестировать гипотезу:**\n",
    "- **Запустить акцию, дающую скидку на товар в день рождения**\n",
    "\n",
    "**Также перспективны гипотезы:**\n",
    "- **Добавить два новых канала привлечения трафика, что позволит привлекать на 30% больше пользователей**\n",
    "- **Добавить форму подписки на все основные страницы, чтобы собрать базу клиентов для email-рассылок**"
   ]
  },
  {
   "cell_type": "markdown",
   "metadata": {},
   "source": [
    "### Примените фреймворк RICE для приоритизации гипотез. Отсортируйте их по убыванию приоритета."
   ]
  },
  {
   "cell_type": "code",
   "execution_count": 6,
   "metadata": {},
   "outputs": [
    {
     "data": {
      "text/html": [
       "<div>\n",
       "<style scoped>\n",
       "    .dataframe tbody tr th:only-of-type {\n",
       "        vertical-align: middle;\n",
       "    }\n",
       "\n",
       "    .dataframe tbody tr th {\n",
       "        vertical-align: top;\n",
       "    }\n",
       "\n",
       "    .dataframe thead th {\n",
       "        text-align: right;\n",
       "    }\n",
       "</style>\n",
       "<table border=\"1\" class=\"dataframe\">\n",
       "  <thead>\n",
       "    <tr style=\"text-align: right;\">\n",
       "      <th></th>\n",
       "      <th>hypothesis</th>\n",
       "      <th>rice_score</th>\n",
       "    </tr>\n",
       "  </thead>\n",
       "  <tbody>\n",
       "    <tr>\n",
       "      <th>7</th>\n",
       "      <td>Добавить форму подписки на все основные страницы, чтобы собрать базу клиентов для email-рассылок</td>\n",
       "      <td>112.0</td>\n",
       "    </tr>\n",
       "    <tr>\n",
       "      <th>2</th>\n",
       "      <td>Добавить блоки рекомендаций товаров на сайт интернет магазина, чтобы повысить конверсию и средний чек заказа</td>\n",
       "      <td>56.0</td>\n",
       "    </tr>\n",
       "    <tr>\n",
       "      <th>0</th>\n",
       "      <td>Добавить два новых канала привлечения трафика, что позволит привлекать на 30% больше пользователей</td>\n",
       "      <td>40.0</td>\n",
       "    </tr>\n",
       "    <tr>\n",
       "      <th>6</th>\n",
       "      <td>Показать на главной странице баннеры с актуальными акциями и распродажами, чтобы увеличить конверсию</td>\n",
       "      <td>40.0</td>\n",
       "    </tr>\n",
       "    <tr>\n",
       "      <th>8</th>\n",
       "      <td>Запустить акцию, дающую скидку на товар в день рождения</td>\n",
       "      <td>16.2</td>\n",
       "    </tr>\n",
       "    <tr>\n",
       "      <th>3</th>\n",
       "      <td>Изменить структура категорий, что увеличит конверсию, т.к. пользователи быстрее найдут нужный товар</td>\n",
       "      <td>9.0</td>\n",
       "    </tr>\n",
       "    <tr>\n",
       "      <th>1</th>\n",
       "      <td>Запустить собственную службу доставки, что сократит срок доставки заказов</td>\n",
       "      <td>4.0</td>\n",
       "    </tr>\n",
       "    <tr>\n",
       "      <th>5</th>\n",
       "      <td>Добавить страницу отзывов клиентов о магазине, что позволит увеличить количество заказов</td>\n",
       "      <td>4.0</td>\n",
       "    </tr>\n",
       "    <tr>\n",
       "      <th>4</th>\n",
       "      <td>Изменить цвет фона главной страницы, чтобы увеличить вовлеченность пользователей</td>\n",
       "      <td>3.0</td>\n",
       "    </tr>\n",
       "  </tbody>\n",
       "</table>\n",
       "</div>"
      ],
      "text/plain": [
       "                                                                                                     hypothesis  \\\n",
       "7              Добавить форму подписки на все основные страницы, чтобы собрать базу клиентов для email-рассылок   \n",
       "2  Добавить блоки рекомендаций товаров на сайт интернет магазина, чтобы повысить конверсию и средний чек заказа   \n",
       "0            Добавить два новых канала привлечения трафика, что позволит привлекать на 30% больше пользователей   \n",
       "6          Показать на главной странице баннеры с актуальными акциями и распродажами, чтобы увеличить конверсию   \n",
       "8                                                       Запустить акцию, дающую скидку на товар в день рождения   \n",
       "3           Изменить структура категорий, что увеличит конверсию, т.к. пользователи быстрее найдут нужный товар   \n",
       "1                                     Запустить собственную службу доставки, что сократит срок доставки заказов   \n",
       "5                      Добавить страницу отзывов клиентов о магазине, что позволит увеличить количество заказов   \n",
       "4                              Изменить цвет фона главной страницы, чтобы увеличить вовлеченность пользователей   \n",
       "\n",
       "   rice_score  \n",
       "7       112.0  \n",
       "2        56.0  \n",
       "0        40.0  \n",
       "6        40.0  \n",
       "8        16.2  \n",
       "3         9.0  \n",
       "1         4.0  \n",
       "5         4.0  \n",
       "4         3.0  "
      ]
     },
     "execution_count": 6,
     "metadata": {},
     "output_type": "execute_result"
    }
   ],
   "source": [
    "# Создаём новый столбец с фреймворком RICE для приоритизации гипотез\n",
    "hypothesis['rice_score'] = (hypothesis['reach'] * hypothesis['impact'] * hypothesis['confidence']\n",
    "                            / hypothesis['efforts'])\n",
    "\n",
    "# Выводим датафрейм с сортировкой RICE по убыванию\n",
    "hypothesis[['hypothesis', 'rice_score']].sort_values(by='rice_score', ascending=False)"
   ]
  },
  {
   "cell_type": "markdown",
   "metadata": {},
   "source": [
    "**По методу RICE вывод другой, приоритетнее в первую очередь тестировать гипотезу:**\n",
    "- **Добавить форму подписки на все основные страницы, чтобы собрать базу клиентов для email-рассылок**\n",
    "\n",
    "**Также перспективны гипотезы:**\n",
    "- **Добавить блоки рекомендаций товаров на сайт интернет магазина, чтобы повысить конверсию и средний чек заказа**\n",
    "- **Добавить два новых канала привлечения трафика, что позволит привлекать на 30% больше пользователей**\n",
    "- **Показать на главной странице баннеры с актуальными акциями и распродажами, чтобы увеличить конверсию**"
   ]
  },
  {
   "cell_type": "markdown",
   "metadata": {},
   "source": [
    "### Укажите, как изменилась приоритизация гипотез при применении RICE вместо ICE. Объясните, почему так произошло.\n",
    "\n",
    "**Приоритет гипотез по методу ICE:**\n",
    "- **1) Запустить акцию, дающую скидку на товар в день рождения**\n",
    "\n",
    "\n",
    "- **2) Добавить два новых канала привлечения трафика, что позволит привлекать на 30% больше пользователей**\n",
    "\n",
    "\n",
    "- **3) Добавить форму подписки на все основные страницы, чтобы собрать базу клиентов для email-рассылок**\n",
    "\n",
    "**Приоритет гипотез по методу RICE:**\n",
    "- **1) Добавить форму подписки на все основные страницы, чтобы собрать базу клиентов для email-рассылок**\n",
    "\n",
    "\n",
    "- **2) Добавить блоки рекомендаций товаров на сайт интернет магазина, чтобы повысить конверсию и средний чек заказа**\n",
    "\n",
    "\n",
    "- **3) Добавить два новых канала привлечения трафика, что позволит привлекать на 30% больше пользователей и Показать на главной странице баннеры с актуальными акциями и распродажами, чтобы увеличить конверсию (одинаковый приоритет)**\n",
    "\n",
    "**Изменение приоритета связано с компонентом Reach (какой будет охват при изменениях), который учитывается в методе RICE.**"
   ]
  },
  {
   "cell_type": "markdown",
   "metadata": {},
   "source": [
    "## Часть 2. Анализ A/B-теста.\n",
    "\n",
    "- Постройте график кумулятивной выручки по группам. Сделайте выводы и предположения.\n",
    "- Постройте график кумулятивного среднего чека по группам. Сделайте выводы и предположения.\n",
    "- Постройте график относительного изменения кумулятивного среднего чека группы B к группе A. Сделайте выводы и предположения.\n",
    "- Постройте график кумулятивного среднего количества заказов на посетителя по группам. Сделайте выводы и предположения.\n",
    "- Постройте график относительного изменения кумулятивного среднего количества заказов на посетителя группы B к группе A. Сделайте выводы и предположения.\n",
    "- Постройте точечный график количества заказов по пользователям. Сделайте выводы и предположения.\n",
    "- Посчитайте 95-й и 99-й перцентили количества заказов на пользователя. Выберите границу для определения аномальных пользователей.\n",
    "- Постройте точечный график стоимостей заказов. Сделайте выводы и предположения.\n",
    "- Посчитайте 95-й и 99-й перцентили стоимости заказов. Выберите границу для определения аномальных заказов.\n",
    "- Посчитайте статистическую значимость различий в среднем количестве заказов на посетителя между группами по «сырым» данным. Сделайте выводы и предположения.\n",
    "- Посчитайте статистическую значимость различий в среднем чеке заказа между группами по «сырым» данным. Сделайте выводы и предположения.\n",
    "- Посчитайте статистическую значимость различий в среднем количестве заказов на посетителя между группами по «очищенным» данным. Сделайте выводы и предположения.\n",
    "- Посчитайте статистическую значимость различий в среднем чеке заказа между группами по «очищенным» данным. Сделайте выводы и предположения.\n",
    "- Примите решение по результатам теста и объясните его. Варианты решений:\n",
    "    1. Остановить тест, зафиксировать победу одной из групп.\n",
    "    2. Остановить тест, зафиксировать отсутствие различий между группами.\n",
    "    3. Продолжить тест.\n",
    "\n",
    "### Предобработка данных.\n",
    "\n",
    "**Так-как аномалии будут учитываться далее в анализе, не будем с ними работать с предобработке.**\n",
    "\n",
    "**Смотрим на общую структуру данных:**"
   ]
  },
  {
   "cell_type": "code",
   "execution_count": 7,
   "metadata": {},
   "outputs": [],
   "source": [
    "orders = pd.read_csv('/datasets/orders.csv')\n",
    "visitors = pd.read_csv('/datasets/visitors.csv')"
   ]
  },
  {
   "cell_type": "code",
   "execution_count": 8,
   "metadata": {},
   "outputs": [
    {
     "name": "stdout",
     "output_type": "stream",
     "text": [
      "<class 'pandas.core.frame.DataFrame'>\n",
      "RangeIndex: 1197 entries, 0 to 1196\n",
      "Data columns (total 5 columns):\n",
      " #   Column         Non-Null Count  Dtype \n",
      "---  ------         --------------  ----- \n",
      " 0   transactionId  1197 non-null   int64 \n",
      " 1   visitorId      1197 non-null   int64 \n",
      " 2   date           1197 non-null   object\n",
      " 3   revenue        1197 non-null   int64 \n",
      " 4   group          1197 non-null   object\n",
      "dtypes: int64(3), object(2)\n",
      "memory usage: 46.9+ KB\n"
     ]
    }
   ],
   "source": [
    "orders.info()"
   ]
  },
  {
   "cell_type": "code",
   "execution_count": 9,
   "metadata": {
    "scrolled": true
   },
   "outputs": [
    {
     "name": "stdout",
     "output_type": "stream",
     "text": [
      "<class 'pandas.core.frame.DataFrame'>\n",
      "RangeIndex: 62 entries, 0 to 61\n",
      "Data columns (total 3 columns):\n",
      " #   Column    Non-Null Count  Dtype \n",
      "---  ------    --------------  ----- \n",
      " 0   date      62 non-null     object\n",
      " 1   group     62 non-null     object\n",
      " 2   visitors  62 non-null     int64 \n",
      "dtypes: int64(1), object(2)\n",
      "memory usage: 1.6+ KB\n"
     ]
    }
   ],
   "source": [
    "visitors.info()"
   ]
  },
  {
   "cell_type": "markdown",
   "metadata": {},
   "source": [
    "**Меняем названия столбцов в orders на змеиный шрифт:**"
   ]
  },
  {
   "cell_type": "code",
   "execution_count": 10,
   "metadata": {},
   "outputs": [],
   "source": [
    "def snake_type(data):\n",
    "    '''\n",
    "    Функция принимает датафрейм.\n",
    "    Возвращает список с измененными\n",
    "    названиями столбцов под змеиный шрифт.\n",
    "    '''\n",
    "    columns = []\n",
    "    for i in data.columns:\n",
    "        column_name = []\n",
    "        for j in i:\n",
    "            if j == ' ':\n",
    "                column_name.append('_')\n",
    "            elif j.isupper():\n",
    "                column_name.append(f'_{str.lower(j)}')\n",
    "            else:\n",
    "                column_name.append(j)\n",
    "        columns.append(''.join(column_name))\n",
    "    return columns\n",
    "\n",
    "\n",
    "orders.columns = snake_type(orders)"
   ]
  },
  {
   "cell_type": "markdown",
   "metadata": {},
   "source": [
    "**Проверяем наличие пропусков и дубликатов:**"
   ]
  },
  {
   "cell_type": "code",
   "execution_count": 11,
   "metadata": {},
   "outputs": [
    {
     "data": {
      "text/plain": [
       "transaction_id    0\n",
       "visitor_id        0\n",
       "date              0\n",
       "revenue           0\n",
       "group             0\n",
       "dtype: int64"
      ]
     },
     "execution_count": 11,
     "metadata": {},
     "output_type": "execute_result"
    }
   ],
   "source": [
    "orders.isna().sum()"
   ]
  },
  {
   "cell_type": "code",
   "execution_count": 12,
   "metadata": {},
   "outputs": [
    {
     "data": {
      "text/plain": [
       "date        0\n",
       "group       0\n",
       "visitors    0\n",
       "dtype: int64"
      ]
     },
     "execution_count": 12,
     "metadata": {},
     "output_type": "execute_result"
    }
   ],
   "source": [
    "visitors.isna().sum()"
   ]
  },
  {
   "cell_type": "code",
   "execution_count": 13,
   "metadata": {},
   "outputs": [
    {
     "data": {
      "text/plain": [
       "0"
      ]
     },
     "execution_count": 13,
     "metadata": {},
     "output_type": "execute_result"
    }
   ],
   "source": [
    "orders.duplicated().sum()"
   ]
  },
  {
   "cell_type": "code",
   "execution_count": 14,
   "metadata": {},
   "outputs": [
    {
     "data": {
      "text/plain": [
       "0"
      ]
     },
     "execution_count": 14,
     "metadata": {},
     "output_type": "execute_result"
    }
   ],
   "source": [
    "visitors.duplicated().sum()"
   ]
  },
  {
   "cell_type": "markdown",
   "metadata": {},
   "source": [
    "**Пропусков и дубликатов нет. Меняем тип столбцов с датой с object на datetime:**"
   ]
  },
  {
   "cell_type": "code",
   "execution_count": 15,
   "metadata": {},
   "outputs": [],
   "source": [
    "orders['date'] = pd.to_datetime(orders['date'])\n",
    "visitors['date'] = pd.to_datetime(visitors['date'])"
   ]
  },
  {
   "cell_type": "markdown",
   "metadata": {},
   "source": [
    "**Вывод по предобработке данных:**\n",
    "- Дубликаты и пропуски отсутствуют;\n",
    "- Названия столбцов в orders изменён на змеиный шрифт;\n",
    "- Тип данных столбцов date в orders и visitors изменён с object на datetime.\n",
    "\n",
    "\n",
    "**Структура полученных данных:**\n",
    "\n",
    "- **orders, заказы пользователей:**\n",
    "    - **transaction_id** - ID заказа, int64\n",
    "    - **visitor_id** - ID посетителя, int64\n",
    "    - **date** - дата заказа, datetime\n",
    "    - **revenue** - выручка, int64\n",
    "    - **group** - группа теста, object\n",
    "\n",
    "\n",
    "- **visitors, посещения:**\n",
    "    - **date** - дата посещения, datetime\n",
    "    - **group** - группа теста, object\n",
    "    - **visitors** - количество посещений, int64"
   ]
  },
  {
   "cell_type": "markdown",
   "metadata": {},
   "source": [
    "### Кумулятивные метрики.\n",
    "\n",
    "#### Постройте график кумулятивной выручки по группам. Сделайте выводы и предположения."
   ]
  },
  {
   "cell_type": "code",
   "execution_count": 16,
   "metadata": {},
   "outputs": [
    {
     "data": {
      "image/png": "[encoded data removed]",
      "text/plain": [
       "<Figure size 1224x504 with 1 Axes>"
      ]
     },
     "metadata": {
      "needs_background": "light"
     },
     "output_type": "display_data"
    }
   ],
   "source": [
    "# Удаляем дубликаты\n",
    "dates_groups = orders[['date','group']].drop_duplicates()\n",
    "\n",
    "# Аггрегация заказов\n",
    "orders_aggregated = (dates_groups\n",
    "                     .apply(lambda x: orders[np.logical_and(orders['date'] <= x['date'], orders['group'] == x['group'])]\n",
    "                            .agg({'date' : 'max',\n",
    "                                  'group' : 'max',\n",
    "                                  'transaction_id' : 'nunique',\n",
    "                                  'visitor_id' : 'nunique',\n",
    "                                  'revenue' : 'sum'}), axis=1)\n",
    "                     .sort_values(by=['date','group']))\n",
    "\n",
    "# Аггрегация посещений\n",
    "visitors_aggregated = (dates_groups\n",
    "                       .apply(lambda x: visitors[np.logical_and(visitors['date'] <= x['date'], visitors['group'] == x['group'])]\n",
    "                              .agg({'date' : 'max',\n",
    "                                    'group' : 'max',\n",
    "                                    'visitors' : 'sum'}), axis=1)\n",
    "                       .sort_values(by=['date','group']))\n",
    "\n",
    "\n",
    "# Кумулятивные данные заказов и посещений\n",
    "cumulative_data = orders_aggregated.merge(visitors_aggregated, left_on=['date', 'group'], right_on=['date', 'group'])\n",
    "cumulative_data.columns = ['date', 'group', 'orders', 'buyers', 'revenue', 'visitors']\n",
    "\n",
    "# Данные о датах, выручке и числе заказов по группам\n",
    "cumulative_revenue_a = cumulative_data.loc[cumulative_data['group'] == 'A'][['date', 'revenue', 'orders']]\n",
    "cumulative_revenue_b = cumulative_data.loc[cumulative_data['group'] == 'B'][['date', 'revenue', 'orders']]\n",
    "\n",
    "# График кумулятивной выручки по группам\n",
    "plt.figure(figsize=(17, 7))\n",
    "plt.plot(cumulative_revenue_a['date'], cumulative_revenue_a['revenue'], label='Группа A')\n",
    "plt.plot(cumulative_revenue_b['date'], cumulative_revenue_b['revenue'], label='Группа B')\n",
    "plt.title('Кумулятивная выручка по группам')\n",
    "plt.xlabel('Дата')\n",
    "plt.ylabel('Выручка')\n",
    "plt.legend()\n",
    "plt.show()"
   ]
  },
  {
   "cell_type": "markdown",
   "metadata": {},
   "source": [
    "**По группе B обнаружен резкий скачек выручки - что указывает аномалию.**\n",
    "\n",
    "**Предположительно, это связано с сезоном отпусков в ближе к концу августа. Но пока-что точно мы сказать не можем.**\n",
    "\n",
    "**По двум группам видна стабильная выручка без длительных остановок, и группа B превосходит группу A по выручке.**"
   ]
  },
  {
   "cell_type": "markdown",
   "metadata": {},
   "source": [
    "#### Постройте график кумулятивного среднего чека по группам. Сделайте выводы и предположения."
   ]
  },
  {
   "cell_type": "code",
   "execution_count": 17,
   "metadata": {},
   "outputs": [
    {
     "data": {
      "image/png": "[encoded data removed]",
      "text/plain": [
       "<Figure size 1224x504 with 1 Axes>"
      ]
     },
     "metadata": {
      "needs_background": "light"
     },
     "output_type": "display_data"
    }
   ],
   "source": [
    "plt.figure(figsize=(17, 7))\n",
    "plt.plot(cumulative_revenue_a['date'], cumulative_revenue_a['revenue']/cumulative_revenue_a['orders'], label='Группа A')\n",
    "plt.plot(cumulative_revenue_b['date'], cumulative_revenue_b['revenue']/cumulative_revenue_b['orders'], label='Группа B')\n",
    "plt.title('Кумулятивный средний чек по группам')\n",
    "plt.xlabel('Дата')\n",
    "plt.ylabel('Средний чек')\n",
    "plt.legend() \n",
    "plt.show()"
   ]
  },
  {
   "cell_type": "markdown",
   "metadata": {},
   "source": [
    "**Средний чек по группе B выше группы A.**\n",
    "\n",
    "**По среднему чеку у группы B также заметна аномалия в виде резкого всплеска. Также это предположительно указывает на сезон отпусков.**"
   ]
  },
  {
   "cell_type": "markdown",
   "metadata": {},
   "source": [
    "#### Постройте график относительного изменения кумулятивного среднего чека группы B к группе A. Сделайте выводы и предположения."
   ]
  },
  {
   "cell_type": "code",
   "execution_count": 18,
   "metadata": {},
   "outputs": [
    {
     "data": {
      "image/png": "[encoded data removed]",
      "text/plain": [
       "<Figure size 1224x504 with 1 Axes>"
      ]
     },
     "metadata": {
      "needs_background": "light"
     },
     "output_type": "display_data"
    }
   ],
   "source": [
    "# Cобираем данные в одном датафрейме\n",
    "merged_cumulative_revenue = (cumulative_revenue_a\n",
    "                           .merge(cumulative_revenue_b, left_on='date', right_on='date', how='left', suffixes=['A', 'B']))\n",
    "\n",
    "# Строим график\n",
    "plt.figure(figsize=(17, 7))\n",
    "plt.plot(merged_cumulative_revenue['date'],\n",
    "         ((merged_cumulative_revenue['revenueB']/merged_cumulative_revenue['ordersB'])\n",
    "          /(merged_cumulative_revenue['revenueA']/merged_cumulative_revenue['ordersA'])-1),\n",
    "         label='Группа B'\n",
    "        )\n",
    "plt.axhline(y=0, color='black', linestyle='--', label='Группа A')\n",
    "plt.title('Относительное изменение кумулятивного среднего чека группы B к группе A')\n",
    "plt.xlabel('Дата')\n",
    "plt.ylabel('Средний чек')\n",
    "plt.legend()\n",
    "plt.show()"
   ]
  },
  {
   "cell_type": "markdown",
   "metadata": {},
   "source": [
    "**Видно то-же самое, что средний чек группы B в начале был меньше группы A, затем вырос и снова стал ниже. Аномалия сильно влияет на выводы, то что средний чек группы B сильно выбивается ближе к концу теста.**"
   ]
  },
  {
   "cell_type": "markdown",
   "metadata": {},
   "source": [
    "#### Постройте график кумулятивного среднего количества заказов на посетителя по группам. Сделайте выводы и предположения."
   ]
  },
  {
   "cell_type": "code",
   "execution_count": 19,
   "metadata": {},
   "outputs": [
    {
     "data": {
      "image/png": "[encoded data removed]",
      "text/plain": [
       "<Figure size 1224x504 with 1 Axes>"
      ]
     },
     "metadata": {
      "needs_background": "light"
     },
     "output_type": "display_data"
    }
   ],
   "source": [
    "# Считаем среднее количество заказов на посетителя (конверсию)\n",
    "cumulative_data['conversion'] = cumulative_data['orders']/cumulative_data['visitors']\n",
    "\n",
    "# Отделяем данные по группам\n",
    "cumulative_data_a = cumulative_data[cumulative_data['group']=='A']\n",
    "cumulative_data_b = cumulative_data[cumulative_data['group']=='B']\n",
    "\n",
    "# Строим график\n",
    "plt.figure(figsize=(17, 7))\n",
    "plt.plot(cumulative_data_a['date'], cumulative_data_a['conversion'], label='Группа A')\n",
    "plt.plot(cumulative_data_b['date'], cumulative_data_b['conversion'], label='Группа B')\n",
    "plt.title('Среднее количество заказов на одного посетителя по группам')\n",
    "plt.xlabel('Дата')\n",
    "plt.ylabel('Среднее кол-во заказов')\n",
    "plt.legend()\n",
    "plt.show()"
   ]
  },
  {
   "cell_type": "markdown",
   "metadata": {},
   "source": [
    "**В начале теста, до 5 августа 2019 года включительно по среднему количеству заказов преобладала группа A. Потом по каким-то обстоятельствам количество заказов в среднем стало больше у посетителей группы B. Точные причины нам не ясны.**"
   ]
  },
  {
   "cell_type": "markdown",
   "metadata": {},
   "source": [
    "#### Постройте график относительного изменения кумулятивного среднего количества заказов на посетителя группы B к группе A. Сделайте выводы и предположения."
   ]
  },
  {
   "cell_type": "code",
   "execution_count": 20,
   "metadata": {},
   "outputs": [
    {
     "data": {
      "image/png": "[encoded data removed]",
      "text/plain": [
       "<Figure size 1224x504 with 1 Axes>"
      ]
     },
     "metadata": {
      "needs_background": "light"
     },
     "output_type": "display_data"
    }
   ],
   "source": [
    "# Объединям данные\n",
    "merged_cumulative_conversions = (cumulative_data_a[['date','conversion']]\n",
    "                                 .merge(\n",
    "                                     cumulative_data_b[['date','conversion']],\n",
    "                                     left_on='date',\n",
    "                                     right_on='date',\n",
    "                                     how='left', \n",
    "                                     suffixes=['A', 'B']\n",
    "                                 ))\n",
    "\n",
    "# Строим график\n",
    "plt.figure(figsize=(17, 7))\n",
    "plt.plot(\n",
    "    merged_cumulative_conversions['date'],\n",
    "    merged_cumulative_conversions['conversionB'] / merged_cumulative_conversions['conversionA'] - 1,\n",
    "    label='Группа B'\n",
    ")\n",
    "plt.title('Относительный прирост кумулятивного среднего количества заказов на посетителя группы B относительно группы A')\n",
    "plt.xlabel('Дата')\n",
    "plt.ylabel('Среднее кол-во заказов')\n",
    "plt.axhline(y=0, color='black', linestyle='--', label='Группа A')\n",
    "plt.legend()\n",
    "plt.show()"
   ]
  },
  {
   "cell_type": "markdown",
   "metadata": {},
   "source": [
    "**Вывод можно сделать такой-же, как в прошлом пункте - в начале преобладало среднее количество заказов группы A, а теперь группы B.**"
   ]
  },
  {
   "cell_type": "markdown",
   "metadata": {},
   "source": [
    "### Анализ выбросов и всплесков.\n",
    "\n",
    "#### Постройте точечный график количества заказов по пользователям. Сделайте выводы и предположения."
   ]
  },
  {
   "cell_type": "code",
   "execution_count": 21,
   "metadata": {},
   "outputs": [
    {
     "data": {
      "image/png": "[encoded data removed]",
      "text/plain": [
       "<Figure size 1080x576 with 1 Axes>"
      ]
     },
     "metadata": {
      "needs_background": "light"
     },
     "output_type": "display_data"
    }
   ],
   "source": [
    "# Группируем данные по ID посетителя\n",
    "orders_by_users = (\n",
    "    orders.groupby('visitor_id', as_index=False)\n",
    "    .agg({'transaction_id': 'nunique'})\n",
    ")\n",
    "orders_by_users.columns = ['visitor_id', 'orders']\n",
    "\n",
    "# Полный точечный график\n",
    "plt.figure(figsize=(15, 8))\n",
    "x_values = pd.Series(range(0, len(orders_by_users)))\n",
    "plt.scatter(x_values, orders_by_users['orders'])\n",
    "plt.title('График разброса количества заказов по пользователям')\n",
    "plt.xlabel('Количество пользователей')\n",
    "plt.ylabel('Количество заказов')\n",
    "plt.show()"
   ]
  },
  {
   "cell_type": "markdown",
   "metadata": {},
   "source": [
    "**Заказов более 5 на одного посетителя - уже большая редкость.**"
   ]
  },
  {
   "cell_type": "markdown",
   "metadata": {},
   "source": [
    "#### Посчитайте 95-й и 99-й перцентили количества заказов на пользователя. Выберите границу для определения аномальных посетителей."
   ]
  },
  {
   "cell_type": "code",
   "execution_count": 22,
   "metadata": {},
   "outputs": [
    {
     "name": "stdout",
     "output_type": "stream",
     "text": [
      "90, 95, 99 и 99.5 процентили: [1. 2. 4. 5.]\n"
     ]
    }
   ],
   "source": [
    "# Для визуальной разницы возьмём ещё 90-й и 99.5-й процентиль\n",
    "print('90, 95, 99 и 99.5 процентили:', np.percentile(orders_by_users['orders'], [90, 95, 99, 99.5]))"
   ]
  },
  {
   "cell_type": "markdown",
   "metadata": {},
   "source": [
    "**Не более 0.5% пользователей имеют заказов больше 5-и. Подтверждаем это значение как граница для аномальных пользователей.**\n",
    "\n",
    "**Выбираем 99.5-й процентиль, чтобы меньше терять данных.**"
   ]
  },
  {
   "cell_type": "markdown",
   "metadata": {},
   "source": [
    "#### Постройте точечный график стоимостей заказов. Сделайте выводы и предположения."
   ]
  },
  {
   "cell_type": "code",
   "execution_count": 23,
   "metadata": {},
   "outputs": [
    {
     "data": {
      "image/png": "[encoded data removed]",
      "text/plain": [
       "<Figure size 1080x576 with 1 Axes>"
      ]
     },
     "metadata": {
      "needs_background": "light"
     },
     "output_type": "display_data"
    },
    {
     "data": {
      "image/png": "[encoded data removed]",
      "text/plain": [
       "<Figure size 1080x576 with 1 Axes>"
      ]
     },
     "metadata": {
      "needs_background": "light"
     },
     "output_type": "display_data"
    }
   ],
   "source": [
    "# Полный точечный график\n",
    "plt.figure(figsize=(15, 8))\n",
    "x_values = pd.Series(range(0,len(orders['revenue'])))\n",
    "plt.scatter(x_values, orders['revenue']) \n",
    "plt.title('График разброса стоимостей заказов')\n",
    "plt.xlabel('Количество заказов')\n",
    "plt.ylabel('Стоимость заказа (миллионы)')\n",
    "plt.show()\n",
    "\n",
    "# Точечный график с узким диапазоном стоимости заказов 150.000\n",
    "plt.figure(figsize=(15, 8))\n",
    "x_values = pd.Series(range(0,len(orders['revenue'])))\n",
    "plt.scatter(x_values, orders['revenue'])\n",
    "plt.ylim((0, 150000))\n",
    "plt.title('График разброса стоимостей заказов (обзор до стоимости 150.000)')\n",
    "plt.xlabel('Количество заказов')\n",
    "plt.ylabel('Стоимость заказа')\n",
    "plt.show()"
   ]
  },
  {
   "cell_type": "markdown",
   "metadata": {},
   "source": [
    "**Все заказы стоимости свыше 100.000 можно предполагать как аномальные выбросы.**\n",
    "\n",
    "**Можно предположить, что заказ на сумму свыше 1.2 миллионов повлиял на аномальный всплеск группы B по выручке и среднему чеку.**"
   ]
  },
  {
   "cell_type": "markdown",
   "metadata": {},
   "source": [
    "#### Посчитайте 95-й и 99-й перцентили стоимости заказов. Выберите границу для определения аномальных заказов."
   ]
  },
  {
   "cell_type": "code",
   "execution_count": 24,
   "metadata": {},
   "outputs": [
    {
     "name": "stdout",
     "output_type": "stream",
     "text": [
      "90, 95, 99 и 99.5 процентили: [18168.  28000.  58233.2 78990. ]\n"
     ]
    }
   ],
   "source": [
    "# Для визуальной разницы возьмём ещё 90-й и 99.5-й процентиль\n",
    "print('90, 95, 99 и 99.5 процентили:', np.percentile(orders['revenue'], [90, 95, 99, 99.5]))"
   ]
  },
  {
   "cell_type": "markdown",
   "metadata": {},
   "source": [
    "**Не более 0.5% заказов имеют стоимость дороже 78990. Возьмём эту стоимость как границу аномальных заказов.**\n",
    "\n",
    "**Также мы выбрали 99.5-й процентиль для меньшей потери данных.**"
   ]
  },
  {
   "cell_type": "markdown",
   "metadata": {},
   "source": [
    "### Анализ тестов с сырыми и очищенными данными.\n",
    "\n",
    "#### Посчитайте статистическую значимость различий в среднем количестве заказов на посетителя между группами по «сырым» данным. Сделайте выводы и предположения.\n",
    "\n",
    "**Рассчитаем P-value и относительный прирост среднего кол-ва заказов группы B к группе A. Будем использовать двустороннюю проверку и сформулируем гипотезы так:**\n",
    "\n",
    "- **Нулевая гипотеза: Среднее кол-во заказов группы B = Среднее кол-во заказов группы A**\n",
    "- **Альтернативная гипотеза: Среднее кол-во заказов группы B ≠ Среднее кол-во заказов группы A**\n",
    "\n",
    "**Для начала подготовим сгруппированные данные:**"
   ]
  },
  {
   "cell_type": "code",
   "execution_count": 25,
   "metadata": {},
   "outputs": [],
   "source": [
    "visitors_a_daily = visitors[visitors['group'] == 'A'][['date', 'visitors']]\n",
    "visitors_a_daily.columns = ['date', 'visitors_per_date_a']\n",
    "\n",
    "visitors_a_cummulative = visitors_a_daily.apply(\n",
    "    lambda x: visitors_a_daily[visitors_a_daily['date'] <= x['date']].agg(\n",
    "        {'date': 'max', 'visitors_per_date_a': 'sum'}\n",
    "    ),\n",
    "    axis=1,\n",
    ")\n",
    "visitors_a_cummulative.columns = ['date', 'visitors_cummulative_a']\n",
    "\n",
    "visitors_b_daily = visitors[visitors['group'] == 'B'][['date', 'visitors']]\n",
    "visitors_b_daily.columns = ['date', 'visitors_per_date_b']\n",
    "\n",
    "visitors_b_cummulative = visitors_b_daily.apply(\n",
    "    lambda x: visitors_b_daily[visitors_b_daily['date'] <= x['date']].agg(\n",
    "        {'date': 'max', 'visitors_per_date_b': 'sum'}\n",
    "    ),\n",
    "    axis=1,\n",
    ")\n",
    "visitors_b_cummulative.columns = ['date', 'visitors_cummulative_b']\n",
    "\n",
    "orders_a_daily = (\n",
    "    orders[orders['group'] == 'A'][['date', 'transaction_id', 'visitor_id', 'revenue']]\n",
    "    .groupby('date', as_index=False)\n",
    "    .agg({'transaction_id': pd.Series.nunique, 'revenue': 'sum'})\n",
    ")\n",
    "orders_a_daily.columns = ['date', 'orders_per_date_a', 'revenue_per_date_a']\n",
    "\n",
    "orders_a_cummulative = orders_a_daily.apply(\n",
    "    lambda x: orders_a_daily[orders_a_daily['date'] <= x['date']].agg(\n",
    "        {'date': 'max', 'orders_per_date_a': 'sum', 'revenue_per_date_a': 'sum'}\n",
    "    ),\n",
    "    axis=1,\n",
    ").sort_values(by=['date'])\n",
    "orders_a_cummulative.columns = [\n",
    "    'date',\n",
    "    'orders_cummulative_a',\n",
    "    'revenue_cummulative_a',\n",
    "]\n",
    "\n",
    "orders_b_daily = (\n",
    "    orders[orders['group'] == 'B'][['date', 'transaction_id', 'visitor_id', 'revenue']]\n",
    "    .groupby('date', as_index=False)\n",
    "    .agg({'transaction_id': pd.Series.nunique, 'revenue': 'sum'})\n",
    ")\n",
    "orders_b_daily.columns = ['date', 'orders_per_date_b', 'revenue_per_date_b']\n",
    "\n",
    "orders_b_cummulative = orders_b_daily.apply(\n",
    "    lambda x: orders_b_daily[orders_b_daily['date'] <= x['date']].agg(\n",
    "        {'date': 'max', 'orders_per_date_b': 'sum', 'revenue_per_date_b': 'sum'}\n",
    "    ),\n",
    "    axis=1,\n",
    ").sort_values(by=['date'])\n",
    "orders_b_cummulative.columns = [\n",
    "    'date',\n",
    "    'orders_cummulative_b',\n",
    "    'revenue_cummulative_b',\n",
    "]\n",
    "\n",
    "data = (\n",
    "    orders_a_daily.merge(\n",
    "        orders_b_daily, left_on='date', right_on='date', how='left'\n",
    "    )\n",
    "    .merge(orders_a_cummulative, left_on='date', right_on='date', how='left')\n",
    "    .merge(orders_b_cummulative, left_on='date', right_on='date', how='left')\n",
    "    .merge(visitors_a_daily, left_on='date', right_on='date', how='left')\n",
    "    .merge(visitors_b_daily, left_on='date', right_on='date', how='left')\n",
    "    .merge(visitors_a_cummulative, left_on='date', right_on='date', how='left')\n",
    "    .merge(visitors_b_cummulative, left_on='date', right_on='date', how='left')\n",
    ")\n",
    "\n",
    "orders_by_users_a = (\n",
    "    orders[orders['group'] == 'A']\n",
    "    .groupby('visitor_id', as_index=False)\n",
    "    .agg({'transaction_id': pd.Series.nunique})\n",
    ")\n",
    "orders_by_users_a.columns = ['visitor_id', 'orders']\n",
    "\n",
    "orders_by_users_b = (\n",
    "    orders[orders['group'] == 'B']\n",
    "    .groupby('visitor_id', as_index=False)\n",
    "    .agg({'transaction_id': pd.Series.nunique})\n",
    ")\n",
    "orders_by_users_b.columns = ['visitor_id', 'orders']\n",
    "\n",
    "sample_a = pd.concat([\n",
    "    orders_by_users_a['orders'],\n",
    "    pd.Series(0, index=np.arange(data['visitors_per_date_a'].sum() - len(orders_by_users_a['orders'])), name='orders')\n",
    "], axis=0)\n",
    "\n",
    "sample_b = pd.concat([\n",
    "    orders_by_users_b['orders'],\n",
    "    pd.Series(0, index=np.arange(data['visitors_per_date_b'].sum() - len(orders_by_users_b['orders'])), name='orders')\n",
    "], axis=0)"
   ]
  },
  {
   "cell_type": "markdown",
   "metadata": {},
   "source": [
    "**Применяем тест и проверяем относительный прирост группы B к группе A.**\n",
    "\n",
    "**Применяем коррекцию для определения уровня значимости, так-как здесь множественная проверка гипотез на одних данных. Без коррекции может возникнуть проблема подглядывания.**\n",
    "\n",
    "**Далее корректированный уровень значимости будет применяться в остальных тестах.**"
   ]
  },
  {
   "cell_type": "code",
   "execution_count": 26,
   "metadata": {
    "scrolled": true
   },
   "outputs": [
    {
     "name": "stdout",
     "output_type": "stream",
     "text": [
      "Корректированный уровень значимости: 0.025320565519103666\n",
      "P-value: 0.01679\n",
      "Отвергаем нулевую гипотезу.\n",
      "Среднее кол-во заказов групп по \"сырым\" данным различны.\n",
      "\n",
      "Относительный прирост группы B к группе A: 0.13808\n"
     ]
    }
   ],
   "source": [
    "alpha_corr = 1-((1-0.05)**(1/2))\n",
    "p_value = stats.mannwhitneyu(sample_a, sample_b).pvalue.round(5)\n",
    "\n",
    "print('Корректированный уровень значимости:', alpha_corr)\n",
    "print('P-value:', p_value)\n",
    "\n",
    "if p_value < alpha_corr:\n",
    "    print('Отвергаем нулевую гипотезу.')\n",
    "    print('Среднее кол-во заказов групп по \"сырым\" данным различны.')\n",
    "else:\n",
    "    print('Не отвергаем нулевую гипотезу.')\n",
    "    print('Среднее кол-во заказов групп по \"сырым\" данным не различны.')\n",
    "\n",
    "print('')\n",
    "\n",
    "print('Относительный прирост группы B к группе A:', (sample_b.mean() / sample_a.mean() - 1).round(5))"
   ]
  },
  {
   "cell_type": "markdown",
   "metadata": {},
   "source": [
    "**Среднее кол-во заказов групп различны, соответственно, сами группы по среднему кол-ву заказов различны.**\n",
    "\n",
    "**У группы B относительный прирост кол-ва заказов к группе A на 13,8%. Явно говорит о превосходстве группы B.**"
   ]
  },
  {
   "cell_type": "markdown",
   "metadata": {},
   "source": [
    "#### Посчитайте статистическую значимость различий в среднем чеке заказа между группами по «сырым» данным. Сделайте выводы и предположения.\n",
    "\n",
    "**Также рассчитаем P-value и относительный прирост группы B к группе A. Возьмём для теста двустороннюю гипотезу:**\n",
    "\n",
    "- **Нулевая гипотеза: Средний чек группы B = Средний чек группы A**\n",
    "- **Альтернативная гипотеза: Средний чек группы B ≠ Средний чек группы A**"
   ]
  },
  {
   "cell_type": "code",
   "execution_count": 27,
   "metadata": {},
   "outputs": [
    {
     "name": "stdout",
     "output_type": "stream",
     "text": [
      "P-value: 0.72929\n",
      "Не отвергаем нулевую гипотезу.\n",
      "Средний чек групп по \"сырым\" данным не различен.\n",
      "\n",
      "Относительный прирост группы B к группе A: 0.25871\n"
     ]
    }
   ],
   "source": [
    "p_value = (stats.mannwhitneyu(orders[orders['group']=='A']['revenue'], orders[orders['group']=='B']['revenue'])\n",
    "           .pvalue\n",
    "           .round(5))\n",
    "\n",
    "print('P-value:', p_value)\n",
    "\n",
    "if p_value < alpha_corr:\n",
    "    print('Отвергаем нулевую гипотезу.')\n",
    "    print('Средний чек групп по \"сырым\" данным различен.')\n",
    "else:\n",
    "    print('Не отвергаем нулевую гипотезу.')\n",
    "    print('Средний чек групп по \"сырым\" данным не различен.')\n",
    "\n",
    "print('')\n",
    "\n",
    "print('Относительный прирост группы B к группе A:',\n",
    "    '{0:.5f}'.format(orders[orders['group']=='B']['revenue'].mean()/orders[orders['group']=='A']['revenue'].mean()-1))"
   ]
  },
  {
   "cell_type": "markdown",
   "metadata": {},
   "source": [
    "**По среднему чеку группы уже не различны. При этом, у группы B относительный прирост к группе A на 25,87%.**"
   ]
  },
  {
   "cell_type": "markdown",
   "metadata": {},
   "source": [
    "#### Посчитайте статистическую значимость различий в среднем количестве заказов на посетителя между группами по «очищенным» данным. Сделайте выводы и предположения.\n",
    "\n",
    "**Выделим пользователей, которые совершили аномальные заказы.**"
   ]
  },
  {
   "cell_type": "code",
   "execution_count": 28,
   "metadata": {},
   "outputs": [],
   "source": [
    "many_orders = pd.concat(\n",
    "    [orders_by_users_a[orders_by_users_a['orders'] > 5]['visitor_id'],\n",
    "     orders_by_users_b[orders_by_users_b['orders'] > 5]['visitor_id']],\n",
    "    axis=0\n",
    ")\n",
    "\n",
    "expensive_orders = orders[orders['revenue'] > 78990]['visitor_id']\n",
    "\n",
    "abnormal_users = (\n",
    "    pd.concat([many_orders, expensive_orders], axis=0)\n",
    "    .drop_duplicates()\n",
    "    .sort_values()\n",
    ")"
   ]
  },
  {
   "cell_type": "markdown",
   "metadata": {},
   "source": [
    "**Рассчитываем P-value и относительный прирост группы B к группе A по среднему кол-ву заказов, по очищенным данным.**\n",
    "\n",
    "**Формулировка гипотез:**\n",
    "\n",
    "- **Нулевая гипотеза: Среднее кол-во заказов группы B = Среднее кол-во заказов группы A**\n",
    "- **Альтернативная гипотеза: Среднее кол-во заказов группы B ≠ Среднее кол-во заказов группы A**"
   ]
  },
  {
   "cell_type": "code",
   "execution_count": 29,
   "metadata": {},
   "outputs": [
    {
     "name": "stdout",
     "output_type": "stream",
     "text": [
      "P-value: 0.01909\n",
      "Отвергаем нулевую гипотезу.\n",
      "Среднее кол-во заказов групп по \"очищенным\" данным различны.\n",
      "\n",
      "Относительный прирост группы B к группе A: 0.142\n"
     ]
    }
   ],
   "source": [
    "sample_a_filtered = pd.concat(\n",
    "    [\n",
    "        orders_by_users_a[\n",
    "            np.logical_not(orders_by_users_a['visitor_id'].isin(abnormal_users))\n",
    "        ]['orders'],\n",
    "        pd.Series(\n",
    "            0,\n",
    "            index=np.arange(\n",
    "                data['visitors_per_date_a'].sum() - len(orders_by_users_a['orders'])\n",
    "            ),\n",
    "            name='orders',\n",
    "        ),\n",
    "    ],\n",
    "    axis=0,\n",
    ")\n",
    "\n",
    "sample_b_filtered = pd.concat(\n",
    "    [\n",
    "        orders_by_users_b[\n",
    "            np.logical_not(orders_by_users_b['visitor_id'].isin(abnormal_users))\n",
    "        ]['orders'],\n",
    "        pd.Series(\n",
    "            0,\n",
    "            index=np.arange(\n",
    "                data['visitors_per_date_b'].sum() - len(orders_by_users_b['orders'])\n",
    "            ),\n",
    "            name='orders',\n",
    "        ),\n",
    "    ],\n",
    "    axis=0,\n",
    ")\n",
    "\n",
    "p_value = stats.mannwhitneyu(sample_a_filtered, sample_b_filtered).pvalue.round(5)\n",
    "\n",
    "print('P-value:', p_value)\n",
    "\n",
    "if p_value < alpha_corr:\n",
    "    print('Отвергаем нулевую гипотезу.')\n",
    "    print('Среднее кол-во заказов групп по \"очищенным\" данным различны.')\n",
    "else:\n",
    "    print('Не отвергаем нулевую гипотезу.')\n",
    "    print('Среднее кол-во заказов групп по \"очищенным\" данным не различны.')\n",
    "\n",
    "print('')\n",
    "\n",
    "print('Относительный прирост группы B к группе A:', (sample_b_filtered.mean() / sample_a_filtered.mean() - 1).round(5))"
   ]
  },
  {
   "cell_type": "markdown",
   "metadata": {},
   "source": [
    "**По очищенным данным, группы по среднему кол-ву заказов также различны. Здесь у группы B относительный прирост к группе A составляет 14,2%.**"
   ]
  },
  {
   "cell_type": "markdown",
   "metadata": {},
   "source": [
    "#### Посчитайте статистическую значимость различий в среднем чеке заказа между группами по «очищенным» данным. Сделайте выводы и предположения.\n",
    "\n",
    "**Формулировка гипотез:**\n",
    "\n",
    "- **Нулевая гипотеза: Средний чек группы B = Средний чек группы A**\n",
    "- **Альтернативная гипотеза: Средний чек группы B ≠ Средний чек группы A**"
   ]
  },
  {
   "cell_type": "code",
   "execution_count": 30,
   "metadata": {
    "scrolled": true
   },
   "outputs": [
    {
     "name": "stdout",
     "output_type": "stream",
     "text": [
      "P-value: 0.81615\n",
      "Не отвергаем нулевую гипотезу.\n",
      "Средний чек групп по \"очищенным\" данным не различен.\n",
      "\n",
      "Относительный прирост группы B к группе A: -0.05318\n"
     ]
    }
   ],
   "source": [
    "alpha = 0.05\n",
    "p_value = (\n",
    "    stats.mannwhitneyu(\n",
    "        orders[\n",
    "            np.logical_and(\n",
    "                orders['group'] == 'A',\n",
    "                np.logical_not(orders['visitor_id'].isin(abnormal_users))\n",
    "            )\n",
    "        ]['revenue'],\n",
    "        orders[\n",
    "            np.logical_and(\n",
    "                orders['group'] == 'B',\n",
    "                np.logical_not(orders['visitor_id'].isin(abnormal_users))\n",
    "            )\n",
    "        ]['revenue']\n",
    "    ).pvalue.round(5)\n",
    ")\n",
    "\n",
    "print('P-value:', p_value)\n",
    "\n",
    "if p_value < alpha_corr:\n",
    "    print('Отвергаем нулевую гипотезу.')\n",
    "    print('Средний чек групп по \"очищенным\" данным различен.')\n",
    "else:\n",
    "    print('Не отвергаем нулевую гипотезу.')\n",
    "    print('Средний чек групп по \"очищенным\" данным не различен.')\n",
    "\n",
    "print('')\n",
    "\n",
    "print('Относительный прирост группы B к группе A:',\n",
    "    (\n",
    "        orders[\n",
    "            np.logical_and(\n",
    "                orders['group'] == 'B',\n",
    "                np.logical_not(orders['visitor_id'].isin(abnormal_users))\n",
    "            )\n",
    "        ]['revenue'].mean()\n",
    "        / orders[\n",
    "            np.logical_and(\n",
    "                orders['group'] == 'A',\n",
    "                np.logical_not(orders['visitor_id'].isin(abnormal_users))\n",
    "            )\n",
    "        ]['revenue'].mean()\n",
    "        - 1\n",
    "    ).round(5)\n",
    ")"
   ]
  },
  {
   "cell_type": "markdown",
   "metadata": {},
   "source": [
    "**В очищенных данных также, как и в сырых, нету различий между группами по среднему чеку.**\n",
    "\n",
    "**Есть отличие - теперь относительный прирост группы B к группе A отрицательный: -5,32%. Видимо, после удаления аномального заказа на сумму свыше 1,2 миллиона, средний чек по группе B упал. Проверим это:**"
   ]
  },
  {
   "cell_type": "code",
   "execution_count": 31,
   "metadata": {},
   "outputs": [
    {
     "data": {
      "image/png": "[encoded data removed]",
      "text/plain": [
       "<Figure size 1224x504 with 1 Axes>"
      ]
     },
     "metadata": {
      "needs_background": "light"
     },
     "output_type": "display_data"
    }
   ],
   "source": [
    "# Создаём копию датафрейма orders без аномалий\n",
    "mask = orders.loc[orders['visitor_id'].isin(abnormal_users)]\n",
    "clear_orders = orders.drop(index=mask.index)\n",
    "\n",
    "# Удаляем дубликаты\n",
    "dates_groups = clear_orders[['date','group']].drop_duplicates()\n",
    "\n",
    "# Аггрегация заказов\n",
    "orders_aggregated = (dates_groups\n",
    "                     .apply(lambda x: clear_orders[np.logical_and(clear_orders['date'] <= x['date'], clear_orders['group'] == x['group'])]\n",
    "                            .agg({'date' : 'max',\n",
    "                                  'group' : 'max',\n",
    "                                  'transaction_id' : 'nunique',\n",
    "                                  'visitor_id' : 'nunique',\n",
    "                                  'revenue' : 'sum'}), axis=1)\n",
    "                     .sort_values(by=['date','group']))\n",
    "\n",
    "# Аггрегация посещений\n",
    "visitors_aggregated = (dates_groups\n",
    "                       .apply(lambda x: visitors[np.logical_and(visitors['date'] <= x['date'], visitors['group'] == x['group'])]\n",
    "                              .agg({'date' : 'max',\n",
    "                                    'group' : 'max',\n",
    "                                    'visitors' : 'sum'}), axis=1)\n",
    "                       .sort_values(by=['date','group']))\n",
    "\n",
    "\n",
    "# Кумулятивные данные заказов и посещений\n",
    "cumulative_data = orders_aggregated.merge(visitors_aggregated, left_on=['date', 'group'], right_on=['date', 'group'])\n",
    "cumulative_data.columns = ['date', 'group', 'orders', 'buyers', 'revenue', 'visitors']\n",
    "\n",
    "# Данные о датах, выручке и числе заказов по группам\n",
    "cumulative_revenue_a = cumulative_data.loc[cumulative_data['group'] == 'A'][['date', 'revenue', 'orders']]\n",
    "cumulative_revenue_b = cumulative_data.loc[cumulative_data['group'] == 'B'][['date', 'revenue', 'orders']]\n",
    "\n",
    "# Строим график\n",
    "plt.figure(figsize=(17, 7))\n",
    "plt.plot(cumulative_revenue_a['date'], cumulative_revenue_a['revenue']/cumulative_revenue_a['orders'], label='Группа A')\n",
    "plt.plot(cumulative_revenue_b['date'], cumulative_revenue_b['revenue']/cumulative_revenue_b['orders'], label='Группа B')\n",
    "plt.title('Кумулятивный средний чек по группам (очищенные данные)')\n",
    "plt.xlabel('Дата')\n",
    "plt.ylabel('Средний чек')\n",
    "plt.legend() \n",
    "plt.show()"
   ]
  },
  {
   "cell_type": "markdown",
   "metadata": {},
   "source": [
    "**Как видно, удаление аномалий повлияло на показатели среднего чека по группам.**\n",
    "\n",
    "**Теперь в самом начале теста - лидирует группа A, затем группа B, и до конца теста по среднему чеку лидирует группа A, в одну дату уступив группе B.**\n",
    "\n",
    "**Также можем убедиться в этом, посмотрев на относительное изменение среднего чека группы B к группе A на графике:**"
   ]
  },
  {
   "cell_type": "code",
   "execution_count": 32,
   "metadata": {
    "scrolled": false
   },
   "outputs": [
    {
     "data": {
      "image/png": "[encoded data removed]",
      "text/plain": [
       "<Figure size 1224x504 with 1 Axes>"
      ]
     },
     "metadata": {
      "needs_background": "light"
     },
     "output_type": "display_data"
    }
   ],
   "source": [
    "# Cобираем данные в одном датафрейме\n",
    "merged_cumulative_revenue = (cumulative_revenue_a\n",
    "                           .merge(cumulative_revenue_b, left_on='date', right_on='date', how='left', suffixes=['A', 'B']))\n",
    "\n",
    "# Строим график\n",
    "plt.figure(figsize=(17, 7))\n",
    "plt.plot(merged_cumulative_revenue['date'],\n",
    "         ((merged_cumulative_revenue['revenueB']/merged_cumulative_revenue['ordersB'])\n",
    "          /(merged_cumulative_revenue['revenueA']/merged_cumulative_revenue['ordersA'])-1),\n",
    "         label='Группа B'\n",
    "        )\n",
    "plt.axhline(y=0, color='black', linestyle='--', label='Группа A')\n",
    "plt.title('Относительное изменение кумулятивного среднего чека группы B к группе A (очищенные данные)')\n",
    "plt.xlabel('Дата')\n",
    "plt.ylabel('Средний чек')\n",
    "plt.legend()\n",
    "plt.show()"
   ]
  },
  {
   "cell_type": "markdown",
   "metadata": {},
   "source": [
    "#### Примите решение по результатам теста и объясните его. Варианты решений:\n",
    "- **1) Остановить тест, зафиксировать победу одной из групп.**\n",
    "- **2) Остановить тест, зафиксировать отсутствие различий между группами.**\n",
    "- **3) Продолжить тест.**\n",
    "\n",
    "**Исходя из выявленных фактов:**\n",
    "- **Группы по среднему кол-ву заказов различны, что по сырым и очищенным данным;**\n",
    "- **Группы по среднему чеку не различны, по сырым и очищенным данным;**\n",
    "- **У группы B отрицательный относительный прирост к группе A по среднему чеку, исходя из очищенных данных;**\n",
    "- **У группы B положительный относительный прирост к группе A по среднему количеству заказов, т.е. конверсии.**\n",
    "\n",
    "**Посмотрим на изменение среднего количества заказов по группам по очищенным данным на графиках:**"
   ]
  },
  {
   "cell_type": "code",
   "execution_count": 33,
   "metadata": {},
   "outputs": [
    {
     "data": {
      "image/png": "[encoded data removed]",
      "text/plain": [
       "<Figure size 1224x504 with 1 Axes>"
      ]
     },
     "metadata": {
      "needs_background": "light"
     },
     "output_type": "display_data"
    },
    {
     "data": {
      "image/png": "[encoded data removed]",
      "text/plain": [
       "<Figure size 1224x504 with 1 Axes>"
      ]
     },
     "metadata": {
      "needs_background": "light"
     },
     "output_type": "display_data"
    }
   ],
   "source": [
    "# Считаем среднее количество заказов на посетителя (конверсию)\n",
    "cumulative_data['conversion'] = cumulative_data['orders']/cumulative_data['visitors']\n",
    "\n",
    "# Отделяем данные по группам\n",
    "cumulative_data_a = cumulative_data[cumulative_data['group']=='A']\n",
    "cumulative_data_b = cumulative_data[cumulative_data['group']=='B']\n",
    "\n",
    "# Строим график\n",
    "plt.figure(figsize=(17, 7))\n",
    "plt.plot(cumulative_data_a['date'], cumulative_data_a['conversion'], label='Группа A')\n",
    "plt.plot(cumulative_data_b['date'], cumulative_data_b['conversion'], label='Группа B')\n",
    "plt.title('Среднее количество заказов на одного посетителя по группам (очищенные данные)')\n",
    "plt.xlabel('Дата')\n",
    "plt.ylabel('Среднее кол-во заказов')\n",
    "plt.legend()\n",
    "plt.show()\n",
    "\n",
    "# Объединям данные\n",
    "merged_cumulative_conversions = (cumulative_data_a[['date','conversion']]\n",
    "                                 .merge(\n",
    "                                     cumulative_data_b[['date','conversion']],\n",
    "                                     left_on='date',\n",
    "                                     right_on='date',\n",
    "                                     how='left', \n",
    "                                     suffixes=['A', 'B']\n",
    "                                 ))\n",
    "\n",
    "# Строим график\n",
    "plt.figure(figsize=(17, 7))\n",
    "plt.plot(\n",
    "    merged_cumulative_conversions['date'],\n",
    "    merged_cumulative_conversions['conversionB'] / merged_cumulative_conversions['conversionA'] - 1,\n",
    "    label='Группа B'\n",
    ")\n",
    "plt.title('Относительный прирост кумулятивного среднего количества заказов на посетителя группы B относительно группы A (очищенные данные)')\n",
    "plt.xlabel('Дата')\n",
    "plt.ylabel('Среднее кол-во заказов')\n",
    "plt.axhline(y=0, color='black', linestyle='--', label='Группа A')\n",
    "plt.legend()\n",
    "plt.show()"
   ]
  },
  {
   "cell_type": "markdown",
   "metadata": {},
   "source": [
    "**Группа B явно лидирует по среднему количеству заказов (т.е. конверсии заказов), а также есть различие в группах по тесту. По среднему чеку у групп нет различий, исходя из теста.**\n",
    "\n",
    "**Продолжать тест чтобы выявить различие по среднему чеку не обосновано.**\n",
    "\n",
    "**Заключение: Остановить тест и зафиксировать победу группы B.**"
   ]
  },
  {
   "cell_type": "markdown",
   "metadata": {},
   "source": [
    "## Вывод по проделанной работе.\n",
    "\n",
    "### Часть 1. Приоритизация гипотез.\n",
    "\n",
    "#### Предобработка данных.\n",
    "\n",
    "- **Пропуски и дубликаты в данных гипотез для задания приоритета отсутствуют;**\n",
    "\n",
    "\n",
    "- **Изменён шрифт названий столбцов на змеиный;**\n",
    "\n",
    "\n",
    "- **Была расписана структура данных.**\n",
    "\n",
    "\n",
    "#### Приоритезация гипотез.\n",
    "\n",
    "**Были применены методы ICE и RICE для приоритезации гипотез:**\n",
    "\n",
    "**Приоритет гипотез по методу ICE:**\n",
    "- **1) Запустить акцию, дающую скидку на товар в день рождения**\n",
    "\n",
    "\n",
    "- **2) Добавить два новых канала привлечения трафика, что позволит привлекать на 30% больше пользователей**\n",
    "\n",
    "\n",
    "- **3) Добавить форму подписки на все основные страницы, чтобы собрать базу клиентов для email-рассылок**\n",
    "\n",
    "**Приоритет гипотез по методу RICE:**\n",
    "- **1) Добавить форму подписки на все основные страницы, чтобы собрать базу клиентов для email-рассылок**\n",
    "\n",
    "\n",
    "- **2) Добавить блоки рекомендаций товаров на сайт интернет магазина, чтобы повысить конверсию и средний чек заказа**\n",
    "\n",
    "\n",
    "- **3) Добавить два новых канала привлечения трафика, что позволит привлекать на 30% больше пользователей и Показать на главной странице баннеры с актуальными акциями и распродажами, чтобы увеличить конверсию (одинаковый приоритет)**\n",
    "\n",
    "**Изменение приоритета связано с компонентом Reach (какой будет охват при изменениях), который учитывается в методе RICE.**\n",
    "\n",
    "\n",
    "\n",
    "\n",
    "### Часть 2. Анализ A/B-теста.\n",
    "\n",
    "#### Предобработка данных.\n",
    "\n",
    "- **Дубликаты и пропуски отсутствуют;**\n",
    "\n",
    "\n",
    "- **Названия столбцов в orders изменён на змеиный шрифт;**\n",
    "\n",
    "\n",
    "- **Тип данных столбцов date в orders и visitors изменён с object на datetime;**\n",
    "\n",
    "\n",
    "- **Была расписана структура данных.**\n",
    "\n",
    "#### Кумулятивные метрики.\n",
    "\n",
    "- **По графику кумулятивной выручки по двум группам видна стабильная выручка без длительных остановок, и группа B превосходит группу A по выручке. Также виден аномальынй всплеск группы B по выручке.**\n",
    "\n",
    "\n",
    "- **По графику изменения кумулятивного среднего чека и относительного изменения ср. чека группы B к группе A лидирует группа B, но также заметен её аномальный всплеск.**\n",
    "\n",
    "\n",
    "- **По графику изменения кумулятивного среднего кол-ва заказов и относительного изменения ср. кол-ва заказов группы B к группе A лидирует группа B. Аномальных всплесков для лидерства группы B по сырым данным не наблюдается.**\n",
    "\n",
    "#### Анализ выбросов и всплесков.\n",
    "\n",
    "- **На основе графика разброса и 99.5 процентиля количества заказов, принято решение считать кол-во заказов больше 5-и на одного пользователя аномальными.**\n",
    "\n",
    "\n",
    "- **По таким же инструментам, принято считать сумму заказа свыше 78990 - аномальной.**\n",
    "\n",
    "**Далее в анализе тестов аномальные значения в \"очищенных\" данных исключены.**\n",
    "\n",
    "#### Анализ тестов с сырыми и очищенными данными.\n",
    "\n",
    "**Были проведены двусторонние тесты гипотез о различиях средних значений по группам. Также применена коррекция к уровню значимости для избежания проблемы подглядывания, так-как проводится множественный тест на одном наборе данных.**\n",
    "\n",
    "**Формулировка гипотез для среднего количества заказов по группам, для сырых и очищенных данных:**\n",
    "\n",
    "- **Нулевая гипотеза: Среднее кол-во заказов группы B = Среднее кол-во заказов группы A**\n",
    "- **Альтернативная гипотеза: Среднее кол-во заказов группы B ≠ Среднее кол-во заказов группы A**\n",
    "\n",
    "**Формулировка для среднего чека по группам, также для сырых и очищенных данных:**\n",
    "\n",
    "- **Нулевая гипотеза: Средний чек группы B = Средний чек группы A**\n",
    "- **Альтернативная гипотеза: Средний чек группы B ≠ Средний чек группы A**\n",
    "\n",
    "**В результате тестов на сырых и очищенных данных было выявлено:**\n",
    "\n",
    "- **Группы по среднему кол-ву заказов различны, что по сырым и очищенным данным;**\n",
    "\n",
    "\n",
    "- **Группы по среднему чеку не различны, по сырым и очищенным данным;**\n",
    "\n",
    "\n",
    "- **У группы B отрицательный относительный прирост к группе A по среднему чеку, исходя из очищенных данных;**\n",
    "\n",
    "\n",
    "- **У группы B положительный относительный прирост к группе A по среднему количеству заказов, т.е. конверсии.**\n",
    "\n",
    "**Продолжать тест чтобы выявить различие по среднему чеку не обосновано.**\n",
    "\n",
    "**Заключение тестов: Остановить тест и зафиксировать победу группы B.**\n",
    "\n",
    "\n",
    "\n",
    "\n",
    "## Рекомендации заказчику.\n",
    "\n",
    "### Часть 1. Приоритизация гипотез.\n",
    "\n",
    "- **1) Добавить форму подписки на все основные страницы, чтобы собрать базу клиентов для email-рассылок**\n",
    "\n",
    "\n",
    "- **2) Добавить блоки рекомендаций товаров на сайт интернет магазина, чтобы повысить конверсию и средний чек заказа**\n",
    "\n",
    "\n",
    "- **3) Добавить два новых канала привлечения трафика, что позволит привлекать на 30% больше пользователей и Показать на главной странице баннеры с актуальными акциями и распродажами, чтобы увеличить конверсию (одинаковый приоритет)**\n",
    "\n",
    "### Часть 2. Анализ A/B-теста.\n",
    "\n",
    "**Остановить тест и зафиксировать победу группы B, так-как группа B лидирует по конверсии заказов. Различие между группами A и B по среднему чеку нет.**"
   ]
  }
 ],
 "metadata": {
  "ExecuteTimeLog": [
   {
    "duration": 322,
    "start_time": "2024-08-23T09:17:44.456Z"
   },
   {
    "duration": 90,
    "start_time": "2024-08-23T09:19:27.511Z"
   },
   {
    "duration": 73,
    "start_time": "2024-08-23T09:19:40.157Z"
   },
   {
    "duration": 382,
    "start_time": "2024-08-23T09:22:42.231Z"
   },
   {
    "duration": 803,
    "start_time": "2024-08-23T09:22:46.184Z"
   },
   {
    "duration": 71,
    "start_time": "2024-08-23T09:24:20.380Z"
   },
   {
    "duration": 11,
    "start_time": "2024-08-23T09:24:24.219Z"
   },
   {
    "duration": 9,
    "start_time": "2024-08-23T09:24:53.648Z"
   },
   {
    "duration": 6,
    "start_time": "2024-08-23T09:25:04.681Z"
   },
   {
    "duration": 8,
    "start_time": "2024-08-23T09:25:13.569Z"
   },
   {
    "duration": 8,
    "start_time": "2024-08-23T09:26:10.406Z"
   },
   {
    "duration": 31,
    "start_time": "2024-08-23T09:26:14.906Z"
   },
   {
    "duration": 9,
    "start_time": "2024-08-23T09:27:20.421Z"
   },
   {
    "duration": 3,
    "start_time": "2024-08-23T09:27:24.172Z"
   },
   {
    "duration": 8,
    "start_time": "2024-08-23T09:27:25.696Z"
   },
   {
    "duration": 31,
    "start_time": "2024-08-23T09:27:38.986Z"
   },
   {
    "duration": 3,
    "start_time": "2024-08-23T09:27:41.489Z"
   },
   {
    "duration": 10,
    "start_time": "2024-08-23T09:27:43.113Z"
   },
   {
    "duration": 773,
    "start_time": "2024-08-23T09:27:47.606Z"
   },
   {
    "duration": 42,
    "start_time": "2024-08-23T09:27:48.381Z"
   },
   {
    "duration": 10,
    "start_time": "2024-08-23T09:27:48.424Z"
   },
   {
    "duration": 2,
    "start_time": "2024-08-23T09:27:48.435Z"
   },
   {
    "duration": 2,
    "start_time": "2024-08-23T09:36:14.038Z"
   },
   {
    "duration": 792,
    "start_time": "2024-08-23T09:36:17.389Z"
   },
   {
    "duration": 37,
    "start_time": "2024-08-23T09:36:18.183Z"
   },
   {
    "duration": 9,
    "start_time": "2024-08-23T09:36:18.221Z"
   },
   {
    "duration": 16,
    "start_time": "2024-08-23T09:36:18.232Z"
   },
   {
    "duration": 5,
    "start_time": "2024-08-23T09:39:09.767Z"
   },
   {
    "duration": 9,
    "start_time": "2024-08-23T09:41:16.210Z"
   },
   {
    "duration": 8,
    "start_time": "2024-08-23T09:42:23.909Z"
   },
   {
    "duration": 7,
    "start_time": "2024-08-23T09:42:54.294Z"
   },
   {
    "duration": 9,
    "start_time": "2024-08-23T09:42:58.335Z"
   },
   {
    "duration": 9,
    "start_time": "2024-08-23T09:44:39.493Z"
   },
   {
    "duration": 4,
    "start_time": "2024-08-23T09:45:43.289Z"
   },
   {
    "duration": 9,
    "start_time": "2024-08-23T09:45:47.862Z"
   },
   {
    "duration": 817,
    "start_time": "2024-08-23T09:45:59.002Z"
   },
   {
    "duration": 38,
    "start_time": "2024-08-23T09:45:59.821Z"
   },
   {
    "duration": 9,
    "start_time": "2024-08-23T09:45:59.861Z"
   },
   {
    "duration": 6,
    "start_time": "2024-08-23T09:45:59.871Z"
   },
   {
    "duration": 7,
    "start_time": "2024-08-23T09:45:59.879Z"
   },
   {
    "duration": 10,
    "start_time": "2024-08-23T09:46:14.258Z"
   },
   {
    "duration": 31,
    "start_time": "2024-08-23T09:46:38.242Z"
   },
   {
    "duration": 9,
    "start_time": "2024-08-23T09:46:39.884Z"
   },
   {
    "duration": 3,
    "start_time": "2024-08-23T09:46:40.707Z"
   },
   {
    "duration": 1343,
    "start_time": "2024-08-23T09:46:51.827Z"
   },
   {
    "duration": 811,
    "start_time": "2024-08-23T09:47:04.291Z"
   },
   {
    "duration": 42,
    "start_time": "2024-08-23T09:47:05.104Z"
   },
   {
    "duration": 10,
    "start_time": "2024-08-23T09:47:05.147Z"
   },
   {
    "duration": 20,
    "start_time": "2024-08-23T09:47:05.158Z"
   },
   {
    "duration": 22,
    "start_time": "2024-08-23T09:47:05.180Z"
   },
   {
    "duration": 724,
    "start_time": "2024-08-23T09:47:29.071Z"
   },
   {
    "duration": 35,
    "start_time": "2024-08-23T09:47:29.797Z"
   },
   {
    "duration": 9,
    "start_time": "2024-08-23T09:47:29.834Z"
   },
   {
    "duration": 20,
    "start_time": "2024-08-23T09:47:29.844Z"
   },
   {
    "duration": 20,
    "start_time": "2024-08-23T09:47:29.866Z"
   },
   {
    "duration": 13,
    "start_time": "2024-08-23T09:48:15.281Z"
   },
   {
    "duration": 804,
    "start_time": "2024-08-23T09:48:24.106Z"
   },
   {
    "duration": 36,
    "start_time": "2024-08-23T09:48:24.911Z"
   },
   {
    "duration": 17,
    "start_time": "2024-08-23T09:48:24.949Z"
   },
   {
    "duration": 25,
    "start_time": "2024-08-23T09:48:24.968Z"
   },
   {
    "duration": 13,
    "start_time": "2024-08-23T09:48:24.994Z"
   },
   {
    "duration": 81,
    "start_time": "2024-08-23T09:58:40.394Z"
   },
   {
    "duration": 10,
    "start_time": "2024-08-23T09:58:48.468Z"
   },
   {
    "duration": 174,
    "start_time": "2024-08-23T10:30:16.887Z"
   },
   {
    "duration": 69,
    "start_time": "2024-08-23T10:30:28.218Z"
   },
   {
    "duration": 69,
    "start_time": "2024-08-23T10:30:34.922Z"
   },
   {
    "duration": 62,
    "start_time": "2024-08-23T10:30:50.400Z"
   },
   {
    "duration": 69,
    "start_time": "2024-08-23T10:30:56.169Z"
   },
   {
    "duration": 70,
    "start_time": "2024-08-23T10:31:00.698Z"
   },
   {
    "duration": 65,
    "start_time": "2024-08-23T10:31:27.564Z"
   },
   {
    "duration": 69,
    "start_time": "2024-08-23T10:31:32.106Z"
   },
   {
    "duration": 63,
    "start_time": "2024-08-23T10:31:35.016Z"
   },
   {
    "duration": 74,
    "start_time": "2024-08-23T10:31:49.676Z"
   },
   {
    "duration": 74,
    "start_time": "2024-08-23T10:31:58.606Z"
   },
   {
    "duration": 80,
    "start_time": "2024-08-23T10:32:02.769Z"
   },
   {
    "duration": 75,
    "start_time": "2024-08-23T10:32:11.056Z"
   },
   {
    "duration": 74,
    "start_time": "2024-08-23T10:32:16.625Z"
   },
   {
    "duration": 73,
    "start_time": "2024-08-23T10:32:22.282Z"
   },
   {
    "duration": 9,
    "start_time": "2024-08-23T10:32:36.144Z"
   },
   {
    "duration": 63,
    "start_time": "2024-08-23T10:32:37.069Z"
   },
   {
    "duration": 10,
    "start_time": "2024-08-23T10:32:37.359Z"
   },
   {
    "duration": 9,
    "start_time": "2024-08-23T10:32:42.536Z"
   },
   {
    "duration": 7,
    "start_time": "2024-08-23T10:33:03.692Z"
   },
   {
    "duration": 10,
    "start_time": "2024-08-23T10:33:08.050Z"
   },
   {
    "duration": 8,
    "start_time": "2024-08-23T10:34:54.080Z"
   },
   {
    "duration": 5,
    "start_time": "2024-08-23T10:35:11.940Z"
   },
   {
    "duration": 5,
    "start_time": "2024-08-23T10:35:15.117Z"
   },
   {
    "duration": 6,
    "start_time": "2024-08-23T10:35:19.543Z"
   },
   {
    "duration": 5,
    "start_time": "2024-08-23T10:36:00.041Z"
   },
   {
    "duration": 5,
    "start_time": "2024-08-23T10:36:07.358Z"
   },
   {
    "duration": 5,
    "start_time": "2024-08-23T10:36:28.601Z"
   },
   {
    "duration": 5,
    "start_time": "2024-08-23T10:36:33.691Z"
   },
   {
    "duration": 4,
    "start_time": "2024-08-23T10:37:49.259Z"
   },
   {
    "duration": 18,
    "start_time": "2024-08-23T10:37:54.983Z"
   },
   {
    "duration": 11,
    "start_time": "2024-08-23T10:37:59.534Z"
   },
   {
    "duration": 5,
    "start_time": "2024-08-23T10:38:15.123Z"
   },
   {
    "duration": 258,
    "start_time": "2024-08-23T10:41:22.495Z"
   },
   {
    "duration": 3,
    "start_time": "2024-08-23T10:41:31.766Z"
   },
   {
    "duration": 8,
    "start_time": "2024-08-23T10:41:38.606Z"
   },
   {
    "duration": 4,
    "start_time": "2024-08-23T10:47:15.558Z"
   },
   {
    "duration": 3,
    "start_time": "2024-08-23T10:48:49.201Z"
   },
   {
    "duration": 3,
    "start_time": "2024-08-23T10:48:58.943Z"
   },
   {
    "duration": 3,
    "start_time": "2024-08-23T10:49:05.707Z"
   },
   {
    "duration": 4,
    "start_time": "2024-08-23T10:49:30.192Z"
   },
   {
    "duration": 2,
    "start_time": "2024-08-23T10:50:18.810Z"
   },
   {
    "duration": 3,
    "start_time": "2024-08-23T10:50:26.875Z"
   },
   {
    "duration": 3,
    "start_time": "2024-08-23T10:50:57.276Z"
   },
   {
    "duration": 3,
    "start_time": "2024-08-23T10:51:21.796Z"
   },
   {
    "duration": 7,
    "start_time": "2024-08-23T10:52:37.728Z"
   },
   {
    "duration": 3,
    "start_time": "2024-08-23T10:53:26.991Z"
   },
   {
    "duration": 7,
    "start_time": "2024-08-23T10:56:18.902Z"
   },
   {
    "duration": 3,
    "start_time": "2024-08-23T10:56:25.713Z"
   },
   {
    "duration": 6,
    "start_time": "2024-08-23T10:59:02.711Z"
   },
   {
    "duration": 5,
    "start_time": "2024-08-23T10:59:25.081Z"
   },
   {
    "duration": 6,
    "start_time": "2024-08-23T10:59:38.876Z"
   },
   {
    "duration": 5,
    "start_time": "2024-08-23T11:00:18.108Z"
   },
   {
    "duration": 10,
    "start_time": "2024-08-23T11:01:15.038Z"
   },
   {
    "duration": 4,
    "start_time": "2024-08-23T11:01:28.057Z"
   },
   {
    "duration": 5,
    "start_time": "2024-08-23T11:03:39.166Z"
   },
   {
    "duration": 5,
    "start_time": "2024-08-23T11:04:00.585Z"
   },
   {
    "duration": 760,
    "start_time": "2024-08-23T11:04:05.237Z"
   },
   {
    "duration": 38,
    "start_time": "2024-08-23T11:04:05.999Z"
   },
   {
    "duration": 9,
    "start_time": "2024-08-23T11:04:06.038Z"
   },
   {
    "duration": 34,
    "start_time": "2024-08-23T11:04:06.049Z"
   },
   {
    "duration": 20,
    "start_time": "2024-08-23T11:04:06.085Z"
   },
   {
    "duration": 14,
    "start_time": "2024-08-23T11:04:06.106Z"
   },
   {
    "duration": 52,
    "start_time": "2024-08-23T11:04:06.122Z"
   },
   {
    "duration": 9,
    "start_time": "2024-08-23T11:04:06.175Z"
   },
   {
    "duration": 11,
    "start_time": "2024-08-23T11:04:06.185Z"
   },
   {
    "duration": 6,
    "start_time": "2024-08-23T11:04:06.197Z"
   },
   {
    "duration": 11,
    "start_time": "2024-08-23T11:04:06.204Z"
   },
   {
    "duration": 53,
    "start_time": "2024-08-23T11:04:06.216Z"
   },
   {
    "duration": 156,
    "start_time": "2024-08-23T11:04:06.270Z"
   },
   {
    "duration": 7,
    "start_time": "2024-08-23T11:04:06.427Z"
   },
   {
    "duration": 6,
    "start_time": "2024-08-23T11:04:06.435Z"
   },
   {
    "duration": 4,
    "start_time": "2024-08-23T11:18:43.276Z"
   },
   {
    "duration": 12,
    "start_time": "2024-08-23T11:18:49.256Z"
   },
   {
    "duration": 4,
    "start_time": "2024-08-23T11:19:19.980Z"
   },
   {
    "duration": 5,
    "start_time": "2024-08-23T11:20:37.935Z"
   },
   {
    "duration": 5,
    "start_time": "2024-08-23T11:20:38.366Z"
   },
   {
    "duration": 4,
    "start_time": "2024-08-23T11:20:38.747Z"
   },
   {
    "duration": 4,
    "start_time": "2024-08-23T11:20:39.187Z"
   },
   {
    "duration": 8,
    "start_time": "2024-08-23T11:24:28.267Z"
   },
   {
    "duration": 366,
    "start_time": "2024-08-23T11:28:01.269Z"
   },
   {
    "duration": 36,
    "start_time": "2024-08-23T11:28:01.637Z"
   },
   {
    "duration": 9,
    "start_time": "2024-08-23T11:28:01.674Z"
   },
   {
    "duration": 16,
    "start_time": "2024-08-23T11:28:01.684Z"
   },
   {
    "duration": 15,
    "start_time": "2024-08-23T11:28:01.701Z"
   },
   {
    "duration": 9,
    "start_time": "2024-08-23T11:28:01.717Z"
   },
   {
    "duration": 67,
    "start_time": "2024-08-23T11:28:01.727Z"
   },
   {
    "duration": 9,
    "start_time": "2024-08-23T11:28:01.796Z"
   },
   {
    "duration": 56,
    "start_time": "2024-08-23T11:28:01.806Z"
   },
   {
    "duration": 16,
    "start_time": "2024-08-23T11:28:01.864Z"
   },
   {
    "duration": 8,
    "start_time": "2024-08-23T11:28:01.881Z"
   },
   {
    "duration": 9,
    "start_time": "2024-08-23T11:28:01.890Z"
   },
   {
    "duration": 7,
    "start_time": "2024-08-23T11:28:01.900Z"
   },
   {
    "duration": 18,
    "start_time": "2024-08-23T11:28:01.908Z"
   },
   {
    "duration": 16,
    "start_time": "2024-08-23T11:28:01.927Z"
   },
   {
    "duration": 73,
    "start_time": "2024-08-23T11:28:01.944Z"
   },
   {
    "duration": 243,
    "start_time": "2024-08-23T11:29:48.790Z"
   },
   {
    "duration": 229,
    "start_time": "2024-08-23T11:31:19.152Z"
   },
   {
    "duration": 241,
    "start_time": "2024-08-23T11:32:59.553Z"
   },
   {
    "duration": 235,
    "start_time": "2024-08-23T11:36:59.260Z"
   },
   {
    "duration": 228,
    "start_time": "2024-08-23T11:37:08.765Z"
   },
   {
    "duration": 239,
    "start_time": "2024-08-23T11:37:27.260Z"
   },
   {
    "duration": 235,
    "start_time": "2024-08-23T11:37:50.514Z"
   },
   {
    "duration": 732,
    "start_time": "2024-08-23T11:38:05.541Z"
   },
   {
    "duration": 36,
    "start_time": "2024-08-23T11:38:06.276Z"
   },
   {
    "duration": 11,
    "start_time": "2024-08-23T11:38:06.314Z"
   },
   {
    "duration": 142,
    "start_time": "2024-08-23T11:38:06.327Z"
   },
   {
    "duration": 70,
    "start_time": "2024-08-23T11:38:06.471Z"
   },
   {
    "duration": 9,
    "start_time": "2024-08-23T11:38:06.543Z"
   },
   {
    "duration": 54,
    "start_time": "2024-08-23T11:38:06.553Z"
   },
   {
    "duration": 10,
    "start_time": "2024-08-23T11:38:06.608Z"
   },
   {
    "duration": 28,
    "start_time": "2024-08-23T11:38:06.619Z"
   },
   {
    "duration": 14,
    "start_time": "2024-08-23T11:38:06.648Z"
   },
   {
    "duration": 35,
    "start_time": "2024-08-23T11:38:06.664Z"
   },
   {
    "duration": 5,
    "start_time": "2024-08-23T11:38:06.700Z"
   },
   {
    "duration": 38,
    "start_time": "2024-08-23T11:38:06.707Z"
   },
   {
    "duration": 12,
    "start_time": "2024-08-23T11:38:06.748Z"
   },
   {
    "duration": 21,
    "start_time": "2024-08-23T11:38:06.762Z"
   },
   {
    "duration": 485,
    "start_time": "2024-08-23T11:38:06.785Z"
   },
   {
    "duration": 395,
    "start_time": "2024-08-23T11:39:21.533Z"
   },
   {
    "duration": 443,
    "start_time": "2024-08-23T11:39:28.888Z"
   },
   {
    "duration": 476,
    "start_time": "2024-08-23T11:39:43.747Z"
   },
   {
    "duration": 430,
    "start_time": "2024-08-23T11:39:50.763Z"
   },
   {
    "duration": 415,
    "start_time": "2024-08-23T11:39:54.670Z"
   },
   {
    "duration": 427,
    "start_time": "2024-08-23T11:40:32.757Z"
   },
   {
    "duration": 425,
    "start_time": "2024-08-23T11:40:37.206Z"
   },
   {
    "duration": 436,
    "start_time": "2024-08-23T11:40:51.946Z"
   },
   {
    "duration": 428,
    "start_time": "2024-08-23T11:40:58.875Z"
   },
   {
    "duration": 415,
    "start_time": "2024-08-23T11:41:04.551Z"
   },
   {
    "duration": 424,
    "start_time": "2024-08-23T11:42:01.266Z"
   },
   {
    "duration": 163,
    "start_time": "2024-08-23T11:49:05.206Z"
   },
   {
    "duration": 184,
    "start_time": "2024-08-23T11:49:19.058Z"
   },
   {
    "duration": 259,
    "start_time": "2024-08-23T11:49:27.806Z"
   },
   {
    "duration": 430,
    "start_time": "2024-08-23T11:49:37.472Z"
   },
   {
    "duration": 208,
    "start_time": "2024-08-23T11:49:43.058Z"
   },
   {
    "duration": 211,
    "start_time": "2024-08-23T11:50:05.897Z"
   },
   {
    "duration": 71,
    "start_time": "2024-08-23T11:57:07.311Z"
   },
   {
    "duration": 11,
    "start_time": "2024-08-23T11:57:48.783Z"
   },
   {
    "duration": 4,
    "start_time": "2024-08-23T11:58:19.014Z"
   },
   {
    "duration": 13,
    "start_time": "2024-08-23T11:58:44.958Z"
   },
   {
    "duration": 12,
    "start_time": "2024-08-23T11:59:00.607Z"
   },
   {
    "duration": 9,
    "start_time": "2024-08-23T12:00:58.145Z"
   },
   {
    "duration": 757,
    "start_time": "2024-08-23T12:03:01.662Z"
   },
   {
    "duration": 8,
    "start_time": "2024-08-23T12:03:17.781Z"
   },
   {
    "duration": 457,
    "start_time": "2024-08-23T13:00:36.004Z"
   },
   {
    "duration": 51,
    "start_time": "2024-08-23T15:46:32.615Z"
   },
   {
    "duration": 792,
    "start_time": "2024-08-23T15:46:51.198Z"
   },
   {
    "duration": 109,
    "start_time": "2024-08-23T15:46:51.992Z"
   },
   {
    "duration": 12,
    "start_time": "2024-08-23T15:46:52.102Z"
   },
   {
    "duration": 11,
    "start_time": "2024-08-23T15:46:52.116Z"
   },
   {
    "duration": 16,
    "start_time": "2024-08-23T15:46:52.129Z"
   },
   {
    "duration": 11,
    "start_time": "2024-08-23T15:46:52.146Z"
   },
   {
    "duration": 166,
    "start_time": "2024-08-23T15:46:52.159Z"
   },
   {
    "duration": 11,
    "start_time": "2024-08-23T15:46:52.326Z"
   },
   {
    "duration": 11,
    "start_time": "2024-08-23T15:46:52.338Z"
   },
   {
    "duration": 11,
    "start_time": "2024-08-23T15:46:52.351Z"
   },
   {
    "duration": 18,
    "start_time": "2024-08-23T15:46:52.363Z"
   },
   {
    "duration": 22,
    "start_time": "2024-08-23T15:46:52.382Z"
   },
   {
    "duration": 10,
    "start_time": "2024-08-23T15:46:52.405Z"
   },
   {
    "duration": 4,
    "start_time": "2024-08-23T15:46:52.417Z"
   },
   {
    "duration": 8,
    "start_time": "2024-08-23T15:46:52.423Z"
   },
   {
    "duration": 584,
    "start_time": "2024-08-23T15:46:52.432Z"
   },
   {
    "duration": 234,
    "start_time": "2024-08-23T15:46:53.018Z"
   },
   {
    "duration": 72,
    "start_time": "2024-08-23T15:46:53.254Z"
   },
   {
    "duration": 355,
    "start_time": "2024-08-23T15:47:03.228Z"
   },
   {
    "duration": 341,
    "start_time": "2024-08-23T15:47:10.216Z"
   },
   {
    "duration": 311,
    "start_time": "2024-08-23T15:47:37.330Z"
   },
   {
    "duration": 302,
    "start_time": "2024-08-23T15:47:49.378Z"
   },
   {
    "duration": 319,
    "start_time": "2024-08-23T15:48:06.311Z"
   },
   {
    "duration": 208,
    "start_time": "2024-08-23T15:56:38.107Z"
   },
   {
    "duration": 180,
    "start_time": "2024-08-23T15:56:57.309Z"
   },
   {
    "duration": 206,
    "start_time": "2024-08-23T15:57:12.392Z"
   },
   {
    "duration": 274,
    "start_time": "2024-08-23T15:57:18.206Z"
   },
   {
    "duration": 245,
    "start_time": "2024-08-23T15:58:06.042Z"
   },
   {
    "duration": 312,
    "start_time": "2024-08-23T16:02:58.564Z"
   },
   {
    "duration": 353,
    "start_time": "2024-08-23T16:03:07.922Z"
   },
   {
    "duration": 204,
    "start_time": "2024-08-23T16:17:43.003Z"
   },
   {
    "duration": 155,
    "start_time": "2024-08-23T16:17:54.712Z"
   },
   {
    "duration": 202,
    "start_time": "2024-08-23T16:18:02.143Z"
   },
   {
    "duration": 12,
    "start_time": "2024-08-23T16:19:36.706Z"
   },
   {
    "duration": 348,
    "start_time": "2024-08-23T16:20:04.813Z"
   },
   {
    "duration": 312,
    "start_time": "2024-08-23T16:20:31.384Z"
   },
   {
    "duration": 362,
    "start_time": "2024-08-23T16:20:43.901Z"
   },
   {
    "duration": 312,
    "start_time": "2024-08-23T16:20:48.773Z"
   },
   {
    "duration": 239,
    "start_time": "2024-08-23T16:21:14.953Z"
   },
   {
    "duration": 231,
    "start_time": "2024-08-23T16:21:19.629Z"
   },
   {
    "duration": 353,
    "start_time": "2024-08-23T16:21:22.930Z"
   },
   {
    "duration": 327,
    "start_time": "2024-08-23T16:21:40.561Z"
   },
   {
    "duration": 419,
    "start_time": "2024-08-23T16:22:13.436Z"
   },
   {
    "duration": 374,
    "start_time": "2024-08-23T16:22:35.453Z"
   },
   {
    "duration": 197,
    "start_time": "2024-08-23T16:23:19.183Z"
   },
   {
    "duration": 305,
    "start_time": "2024-08-23T16:23:29.909Z"
   },
   {
    "duration": 348,
    "start_time": "2024-08-23T16:24:07.875Z"
   },
   {
    "duration": 252,
    "start_time": "2024-08-23T16:24:19.400Z"
   },
   {
    "duration": 223,
    "start_time": "2024-08-23T16:24:30.936Z"
   },
   {
    "duration": 650,
    "start_time": "2024-08-23T16:24:44.140Z"
   },
   {
    "duration": 39,
    "start_time": "2024-08-23T16:24:44.792Z"
   },
   {
    "duration": 11,
    "start_time": "2024-08-23T16:24:44.833Z"
   },
   {
    "duration": 7,
    "start_time": "2024-08-23T16:24:44.845Z"
   },
   {
    "duration": 13,
    "start_time": "2024-08-23T16:24:44.854Z"
   },
   {
    "duration": 11,
    "start_time": "2024-08-23T16:24:44.868Z"
   },
   {
    "duration": 60,
    "start_time": "2024-08-23T16:24:44.881Z"
   },
   {
    "duration": 11,
    "start_time": "2024-08-23T16:24:44.942Z"
   },
   {
    "duration": 70,
    "start_time": "2024-08-23T16:24:44.955Z"
   },
   {
    "duration": 31,
    "start_time": "2024-08-23T16:24:45.026Z"
   },
   {
    "duration": 30,
    "start_time": "2024-08-23T16:24:45.058Z"
   },
   {
    "duration": 37,
    "start_time": "2024-08-23T16:24:45.090Z"
   },
   {
    "duration": 45,
    "start_time": "2024-08-23T16:24:45.128Z"
   },
   {
    "duration": 12,
    "start_time": "2024-08-23T16:24:45.175Z"
   },
   {
    "duration": 14,
    "start_time": "2024-08-23T16:24:45.188Z"
   },
   {
    "duration": 586,
    "start_time": "2024-08-23T16:24:45.203Z"
   },
   {
    "duration": 235,
    "start_time": "2024-08-23T16:24:45.790Z"
   },
   {
    "duration": 369,
    "start_time": "2024-08-23T16:24:46.027Z"
   },
   {
    "duration": 332,
    "start_time": "2024-08-23T16:24:46.397Z"
   },
   {
    "duration": 361,
    "start_time": "2024-08-23T16:24:46.730Z"
   },
   {
    "duration": 187,
    "start_time": "2024-08-23T16:24:47.093Z"
   },
   {
    "duration": 206,
    "start_time": "2024-08-23T16:26:34.849Z"
   },
   {
    "duration": 211,
    "start_time": "2024-08-23T16:26:57.320Z"
   },
   {
    "duration": 214,
    "start_time": "2024-08-23T16:27:08.382Z"
   },
   {
    "duration": 209,
    "start_time": "2024-08-23T16:46:11.045Z"
   },
   {
    "duration": 182,
    "start_time": "2024-08-23T16:47:07.766Z"
   },
   {
    "duration": 385,
    "start_time": "2024-08-23T16:49:57.909Z"
   },
   {
    "duration": 441,
    "start_time": "2024-08-23T16:50:29.805Z"
   },
   {
    "duration": 379,
    "start_time": "2024-08-23T16:50:59.449Z"
   },
   {
    "duration": 378,
    "start_time": "2024-08-23T16:51:17.440Z"
   },
   {
    "duration": 609,
    "start_time": "2024-08-23T16:51:21.593Z"
   },
   {
    "duration": 40,
    "start_time": "2024-08-23T16:51:22.203Z"
   },
   {
    "duration": 11,
    "start_time": "2024-08-23T16:51:22.245Z"
   },
   {
    "duration": 19,
    "start_time": "2024-08-23T16:51:22.257Z"
   },
   {
    "duration": 17,
    "start_time": "2024-08-23T16:51:22.277Z"
   },
   {
    "duration": 12,
    "start_time": "2024-08-23T16:51:22.295Z"
   },
   {
    "duration": 61,
    "start_time": "2024-08-23T16:51:22.308Z"
   },
   {
    "duration": 11,
    "start_time": "2024-08-23T16:51:22.370Z"
   },
   {
    "duration": 12,
    "start_time": "2024-08-23T16:51:22.382Z"
   },
   {
    "duration": 7,
    "start_time": "2024-08-23T16:51:22.397Z"
   },
   {
    "duration": 20,
    "start_time": "2024-08-23T16:51:22.405Z"
   },
   {
    "duration": 6,
    "start_time": "2024-08-23T16:51:22.427Z"
   },
   {
    "duration": 7,
    "start_time": "2024-08-23T16:51:22.434Z"
   },
   {
    "duration": 5,
    "start_time": "2024-08-23T16:51:22.443Z"
   },
   {
    "duration": 8,
    "start_time": "2024-08-23T16:51:22.449Z"
   },
   {
    "duration": 596,
    "start_time": "2024-08-23T16:51:22.458Z"
   },
   {
    "duration": 236,
    "start_time": "2024-08-23T16:51:23.056Z"
   },
   {
    "duration": 337,
    "start_time": "2024-08-23T16:51:23.293Z"
   },
   {
    "duration": 353,
    "start_time": "2024-08-23T16:51:23.631Z"
   },
   {
    "duration": 346,
    "start_time": "2024-08-23T16:51:23.986Z"
   },
   {
    "duration": 400,
    "start_time": "2024-08-23T16:51:24.334Z"
   },
   {
    "duration": 361,
    "start_time": "2024-08-23T16:51:30.909Z"
   },
   {
    "duration": 5,
    "start_time": "2024-08-23T16:54:04.603Z"
   },
   {
    "duration": 4,
    "start_time": "2024-08-23T17:00:01.991Z"
   },
   {
    "duration": 767,
    "start_time": "2024-08-23T17:02:58.774Z"
   },
   {
    "duration": 381,
    "start_time": "2024-08-23T17:03:28.238Z"
   },
   {
    "duration": 8,
    "start_time": "2024-08-23T17:06:52.806Z"
   },
   {
    "duration": 6,
    "start_time": "2024-08-23T17:06:57.637Z"
   },
   {
    "duration": 11,
    "start_time": "2024-08-23T17:08:04.308Z"
   },
   {
    "duration": 110,
    "start_time": "2024-08-23T17:08:12.108Z"
   },
   {
    "duration": 140,
    "start_time": "2024-08-23T17:08:22.869Z"
   },
   {
    "duration": 406,
    "start_time": "2024-08-23T17:09:26.858Z"
   },
   {
    "duration": 138,
    "start_time": "2024-08-23T17:09:54.723Z"
   },
   {
    "duration": 159,
    "start_time": "2024-08-23T17:10:26.533Z"
   },
   {
    "duration": 162,
    "start_time": "2024-08-23T17:10:34.706Z"
   },
   {
    "duration": 175,
    "start_time": "2024-08-23T17:11:58.753Z"
   },
   {
    "duration": 160,
    "start_time": "2024-08-23T17:12:30.625Z"
   },
   {
    "duration": 350,
    "start_time": "2024-08-23T17:12:49.818Z"
   },
   {
    "duration": 348,
    "start_time": "2024-08-23T17:12:55.633Z"
   },
   {
    "duration": 4,
    "start_time": "2024-08-23T17:14:06.624Z"
   },
   {
    "duration": 5,
    "start_time": "2024-08-23T17:14:16.741Z"
   },
   {
    "duration": 3,
    "start_time": "2024-08-23T17:14:51.523Z"
   },
   {
    "duration": 3,
    "start_time": "2024-08-23T17:14:57.668Z"
   },
   {
    "duration": 4,
    "start_time": "2024-08-23T17:16:41.744Z"
   },
   {
    "duration": 4,
    "start_time": "2024-08-23T17:16:49.845Z"
   },
   {
    "duration": 5,
    "start_time": "2024-08-23T17:17:05.350Z"
   },
   {
    "duration": 4,
    "start_time": "2024-08-23T17:17:25.537Z"
   },
   {
    "duration": 4,
    "start_time": "2024-08-23T17:17:32.913Z"
   },
   {
    "duration": 431,
    "start_time": "2024-08-23T17:32:10.389Z"
   },
   {
    "duration": 9,
    "start_time": "2024-08-23T17:46:30.651Z"
   },
   {
    "duration": 165,
    "start_time": "2024-08-23T17:47:50.788Z"
   },
   {
    "duration": 141,
    "start_time": "2024-08-23T17:47:57.959Z"
   },
   {
    "duration": 1004,
    "start_time": "2024-08-23T17:49:06.586Z"
   },
   {
    "duration": 86,
    "start_time": "2024-08-23T17:49:07.592Z"
   },
   {
    "duration": 10,
    "start_time": "2024-08-23T17:49:07.680Z"
   },
   {
    "duration": 6,
    "start_time": "2024-08-23T17:49:07.692Z"
   },
   {
    "duration": 32,
    "start_time": "2024-08-23T17:49:07.700Z"
   },
   {
    "duration": 11,
    "start_time": "2024-08-23T17:49:07.734Z"
   },
   {
    "duration": 61,
    "start_time": "2024-08-23T17:49:07.747Z"
   },
   {
    "duration": 11,
    "start_time": "2024-08-23T17:49:07.809Z"
   },
   {
    "duration": 17,
    "start_time": "2024-08-23T17:49:07.821Z"
   },
   {
    "duration": 66,
    "start_time": "2024-08-23T17:49:07.839Z"
   },
   {
    "duration": 18,
    "start_time": "2024-08-23T17:49:07.906Z"
   },
   {
    "duration": 13,
    "start_time": "2024-08-23T17:49:07.925Z"
   },
   {
    "duration": 6,
    "start_time": "2024-08-23T17:49:07.939Z"
   },
   {
    "duration": 4,
    "start_time": "2024-08-23T17:49:07.948Z"
   },
   {
    "duration": 10,
    "start_time": "2024-08-23T17:49:07.954Z"
   },
   {
    "duration": 608,
    "start_time": "2024-08-23T17:49:07.965Z"
   },
   {
    "duration": 236,
    "start_time": "2024-08-23T17:49:08.575Z"
   },
   {
    "duration": 382,
    "start_time": "2024-08-23T17:49:08.813Z"
   },
   {
    "duration": 295,
    "start_time": "2024-08-23T17:49:09.197Z"
   },
   {
    "duration": 347,
    "start_time": "2024-08-23T17:49:09.494Z"
   },
   {
    "duration": 186,
    "start_time": "2024-08-23T17:49:09.843Z"
   },
   {
    "duration": 5,
    "start_time": "2024-08-23T17:49:10.031Z"
   },
   {
    "duration": 390,
    "start_time": "2024-08-23T17:49:10.037Z"
   },
   {
    "duration": 5,
    "start_time": "2024-08-23T17:49:10.429Z"
   },
   {
    "duration": 243,
    "start_time": "2024-08-23T17:49:10.435Z"
   },
   {
    "duration": 334,
    "start_time": "2024-08-23T17:58:42.861Z"
   },
   {
    "duration": 361,
    "start_time": "2024-08-23T17:59:10.516Z"
   },
   {
    "duration": 423,
    "start_time": "2024-08-23T18:17:17.271Z"
   },
   {
    "duration": 321,
    "start_time": "2024-08-23T18:17:50.519Z"
   },
   {
    "duration": 337,
    "start_time": "2024-08-23T18:17:54.616Z"
   },
   {
    "duration": 4,
    "start_time": "2024-08-23T18:19:42.541Z"
   },
   {
    "duration": 5,
    "start_time": "2024-08-23T18:19:51.715Z"
   },
   {
    "duration": 4,
    "start_time": "2024-08-23T18:20:10.353Z"
   },
   {
    "duration": 757,
    "start_time": "2024-08-23T18:20:23.926Z"
   },
   {
    "duration": 4,
    "start_time": "2024-08-23T18:20:44.685Z"
   },
   {
    "duration": 372,
    "start_time": "2024-08-23T18:24:42.046Z"
   },
   {
    "duration": 352,
    "start_time": "2024-08-23T18:24:50.381Z"
   },
   {
    "duration": 359,
    "start_time": "2024-08-23T18:25:03.002Z"
   },
   {
    "duration": 346,
    "start_time": "2024-08-23T18:27:04.183Z"
   },
   {
    "duration": 366,
    "start_time": "2024-08-23T18:33:37.120Z"
   },
   {
    "duration": 1262,
    "start_time": "2024-08-26T11:07:50.418Z"
   },
   {
    "duration": 167,
    "start_time": "2024-08-26T11:07:51.682Z"
   },
   {
    "duration": 12,
    "start_time": "2024-08-26T11:07:51.851Z"
   },
   {
    "duration": 5,
    "start_time": "2024-08-26T11:07:51.864Z"
   },
   {
    "duration": 15,
    "start_time": "2024-08-26T11:07:51.871Z"
   },
   {
    "duration": 12,
    "start_time": "2024-08-26T11:07:51.887Z"
   },
   {
    "duration": 176,
    "start_time": "2024-08-26T11:07:51.900Z"
   },
   {
    "duration": 11,
    "start_time": "2024-08-26T11:07:52.077Z"
   },
   {
    "duration": 11,
    "start_time": "2024-08-26T11:07:52.089Z"
   },
   {
    "duration": 5,
    "start_time": "2024-08-26T11:07:52.101Z"
   },
   {
    "duration": 20,
    "start_time": "2024-08-26T11:07:52.107Z"
   },
   {
    "duration": 16,
    "start_time": "2024-08-26T11:07:52.129Z"
   },
   {
    "duration": 15,
    "start_time": "2024-08-26T11:07:52.146Z"
   },
   {
    "duration": 10,
    "start_time": "2024-08-26T11:07:52.164Z"
   },
   {
    "duration": 7,
    "start_time": "2024-08-26T11:07:52.175Z"
   },
   {
    "duration": 606,
    "start_time": "2024-08-26T11:07:52.183Z"
   },
   {
    "duration": 234,
    "start_time": "2024-08-26T11:07:52.791Z"
   },
   {
    "duration": 410,
    "start_time": "2024-08-26T11:07:53.027Z"
   },
   {
    "duration": 291,
    "start_time": "2024-08-26T11:07:53.439Z"
   },
   {
    "duration": 358,
    "start_time": "2024-08-26T11:07:53.733Z"
   },
   {
    "duration": 180,
    "start_time": "2024-08-26T11:07:54.093Z"
   },
   {
    "duration": 4,
    "start_time": "2024-08-26T11:07:54.275Z"
   },
   {
    "duration": 380,
    "start_time": "2024-08-26T11:07:54.281Z"
   },
   {
    "duration": 4,
    "start_time": "2024-08-26T11:07:54.663Z"
   },
   {
    "duration": 385,
    "start_time": "2024-08-26T11:07:54.668Z"
   },
   {
    "duration": 357,
    "start_time": "2024-08-26T11:31:06.206Z"
   },
   {
    "duration": 439,
    "start_time": "2024-08-26T11:32:27.560Z"
   },
   {
    "duration": 351,
    "start_time": "2024-08-26T11:33:12.804Z"
   },
   {
    "duration": 369,
    "start_time": "2024-08-26T11:33:57.694Z"
   },
   {
    "duration": 331,
    "start_time": "2024-08-26T11:34:11.165Z"
   },
   {
    "duration": 358,
    "start_time": "2024-08-26T11:34:47.638Z"
   },
   {
    "duration": 345,
    "start_time": "2024-08-26T11:38:47.861Z"
   },
   {
    "duration": 336,
    "start_time": "2024-08-26T11:38:52.642Z"
   },
   {
    "duration": 10,
    "start_time": "2024-08-26T11:41:12.892Z"
   },
   {
    "duration": 10,
    "start_time": "2024-08-26T11:41:19.779Z"
   },
   {
    "duration": 10,
    "start_time": "2024-08-26T11:41:50.316Z"
   },
   {
    "duration": 366,
    "start_time": "2024-08-26T11:49:02.649Z"
   },
   {
    "duration": 376,
    "start_time": "2024-08-26T11:50:36.123Z"
   },
   {
    "duration": 11,
    "start_time": "2024-08-26T12:06:57.941Z"
   },
   {
    "duration": 11,
    "start_time": "2024-08-26T12:07:09.362Z"
   },
   {
    "duration": 11,
    "start_time": "2024-08-26T12:07:15.315Z"
   },
   {
    "duration": 14,
    "start_time": "2024-08-26T12:08:41.105Z"
   },
   {
    "duration": 14,
    "start_time": "2024-08-26T12:08:49.356Z"
   },
   {
    "duration": 15,
    "start_time": "2024-08-26T12:10:53.892Z"
   },
   {
    "duration": 12,
    "start_time": "2024-08-26T12:11:42.311Z"
   },
   {
    "duration": 16,
    "start_time": "2024-08-26T12:12:04.331Z"
   },
   {
    "duration": 30,
    "start_time": "2024-08-26T12:12:40.336Z"
   },
   {
    "duration": 482,
    "start_time": "2024-08-26T12:13:56.475Z"
   },
   {
    "duration": 347,
    "start_time": "2024-08-26T12:14:12.539Z"
   },
   {
    "duration": 339,
    "start_time": "2024-08-26T12:14:18.358Z"
   },
   {
    "duration": 361,
    "start_time": "2024-08-26T12:14:28.735Z"
   },
   {
    "duration": 361,
    "start_time": "2024-08-26T12:14:50.405Z"
   },
   {
    "duration": 360,
    "start_time": "2024-08-26T12:15:03.434Z"
   },
   {
    "duration": 423,
    "start_time": "2024-08-26T12:15:30.017Z"
   },
   {
    "duration": 12,
    "start_time": "2024-08-26T12:19:26.752Z"
   },
   {
    "duration": 1024,
    "start_time": "2024-08-26T12:19:30.046Z"
   },
   {
    "duration": 92,
    "start_time": "2024-08-26T12:19:31.072Z"
   },
   {
    "duration": 11,
    "start_time": "2024-08-26T12:19:31.165Z"
   },
   {
    "duration": 5,
    "start_time": "2024-08-26T12:19:31.178Z"
   },
   {
    "duration": 15,
    "start_time": "2024-08-26T12:19:31.184Z"
   },
   {
    "duration": 32,
    "start_time": "2024-08-26T12:19:31.200Z"
   },
   {
    "duration": 65,
    "start_time": "2024-08-26T12:19:31.234Z"
   },
   {
    "duration": 10,
    "start_time": "2024-08-26T12:19:31.301Z"
   },
   {
    "duration": 11,
    "start_time": "2024-08-26T12:19:31.313Z"
   },
   {
    "duration": 13,
    "start_time": "2024-08-26T12:19:31.326Z"
   },
   {
    "duration": 6,
    "start_time": "2024-08-26T12:19:31.341Z"
   },
   {
    "duration": 7,
    "start_time": "2024-08-26T12:19:31.348Z"
   },
   {
    "duration": 6,
    "start_time": "2024-08-26T12:19:31.356Z"
   },
   {
    "duration": 6,
    "start_time": "2024-08-26T12:19:31.365Z"
   },
   {
    "duration": 6,
    "start_time": "2024-08-26T12:19:31.372Z"
   },
   {
    "duration": 600,
    "start_time": "2024-08-26T12:19:31.380Z"
   },
   {
    "duration": 230,
    "start_time": "2024-08-26T12:19:31.982Z"
   },
   {
    "duration": 374,
    "start_time": "2024-08-26T12:19:32.214Z"
   },
   {
    "duration": 276,
    "start_time": "2024-08-26T12:19:32.590Z"
   },
   {
    "duration": 338,
    "start_time": "2024-08-26T12:19:32.867Z"
   },
   {
    "duration": 168,
    "start_time": "2024-08-26T12:19:33.207Z"
   },
   {
    "duration": 4,
    "start_time": "2024-08-26T12:19:33.376Z"
   },
   {
    "duration": 376,
    "start_time": "2024-08-26T12:19:33.382Z"
   },
   {
    "duration": 5,
    "start_time": "2024-08-26T12:19:33.760Z"
   },
   {
    "duration": 374,
    "start_time": "2024-08-26T12:19:33.768Z"
   },
   {
    "duration": 11,
    "start_time": "2024-08-26T12:19:34.144Z"
   },
   {
    "duration": 8,
    "start_time": "2024-08-26T12:23:45.405Z"
   },
   {
    "duration": 7,
    "start_time": "2024-08-26T12:24:01.001Z"
   },
   {
    "duration": 11,
    "start_time": "2024-08-26T12:24:10.551Z"
   },
   {
    "duration": 7,
    "start_time": "2024-08-26T12:25:19.400Z"
   },
   {
    "duration": 13,
    "start_time": "2024-08-26T12:25:28.719Z"
   },
   {
    "duration": 372,
    "start_time": "2024-08-26T12:29:24.881Z"
   },
   {
    "duration": 435,
    "start_time": "2024-08-26T12:29:35.076Z"
   },
   {
    "duration": 333,
    "start_time": "2024-08-26T12:29:46.026Z"
   },
   {
    "duration": 12,
    "start_time": "2024-08-26T12:30:00.792Z"
   },
   {
    "duration": 8,
    "start_time": "2024-08-26T12:30:38.138Z"
   },
   {
    "duration": 93,
    "start_time": "2024-08-26T12:30:49.781Z"
   },
   {
    "duration": 821,
    "start_time": "2024-08-26T12:31:50.518Z"
   },
   {
    "duration": 29,
    "start_time": "2024-08-26T12:32:09.042Z"
   },
   {
    "duration": 31,
    "start_time": "2024-08-26T12:33:51.557Z"
   },
   {
    "duration": 65,
    "start_time": "2024-08-26T12:34:20.030Z"
   },
   {
    "duration": 38,
    "start_time": "2024-08-26T12:34:23.108Z"
   },
   {
    "duration": 32,
    "start_time": "2024-08-26T12:34:27.397Z"
   },
   {
    "duration": 850,
    "start_time": "2024-08-26T12:35:43.225Z"
   },
   {
    "duration": 15,
    "start_time": "2024-08-26T12:36:00.929Z"
   },
   {
    "duration": 21,
    "start_time": "2024-08-26T13:11:57.227Z"
   },
   {
    "duration": 17,
    "start_time": "2024-08-26T13:12:45.688Z"
   },
   {
    "duration": 2409,
    "start_time": "2024-08-26T13:15:27.501Z"
   },
   {
    "duration": 1774,
    "start_time": "2024-08-26T13:15:33.288Z"
   },
   {
    "duration": 99,
    "start_time": "2024-08-26T13:15:35.064Z"
   },
   {
    "duration": 12,
    "start_time": "2024-08-26T13:15:35.165Z"
   },
   {
    "duration": 7,
    "start_time": "2024-08-26T13:15:35.178Z"
   },
   {
    "duration": 21,
    "start_time": "2024-08-26T13:15:35.186Z"
   },
   {
    "duration": 31,
    "start_time": "2024-08-26T13:15:35.209Z"
   },
   {
    "duration": 61,
    "start_time": "2024-08-26T13:15:35.242Z"
   },
   {
    "duration": 11,
    "start_time": "2024-08-26T13:15:35.304Z"
   },
   {
    "duration": 24,
    "start_time": "2024-08-26T13:15:35.317Z"
   },
   {
    "duration": 5,
    "start_time": "2024-08-26T13:15:35.344Z"
   },
   {
    "duration": 8,
    "start_time": "2024-08-26T13:15:35.351Z"
   },
   {
    "duration": 6,
    "start_time": "2024-08-26T13:15:35.360Z"
   },
   {
    "duration": 8,
    "start_time": "2024-08-26T13:15:35.367Z"
   },
   {
    "duration": 14,
    "start_time": "2024-08-26T13:15:35.376Z"
   },
   {
    "duration": 7,
    "start_time": "2024-08-26T13:15:35.392Z"
   },
   {
    "duration": 664,
    "start_time": "2024-08-26T13:15:35.401Z"
   },
   {
    "duration": 268,
    "start_time": "2024-08-26T13:15:36.067Z"
   },
   {
    "duration": 379,
    "start_time": "2024-08-26T13:15:36.337Z"
   },
   {
    "duration": 281,
    "start_time": "2024-08-26T13:15:36.725Z"
   },
   {
    "duration": 422,
    "start_time": "2024-08-26T13:15:37.007Z"
   },
   {
    "duration": 184,
    "start_time": "2024-08-26T13:15:37.437Z"
   },
   {
    "duration": 16,
    "start_time": "2024-08-26T13:15:37.623Z"
   },
   {
    "duration": 411,
    "start_time": "2024-08-26T13:15:37.642Z"
   },
   {
    "duration": 5,
    "start_time": "2024-08-26T13:15:38.055Z"
   },
   {
    "duration": 406,
    "start_time": "2024-08-26T13:15:38.062Z"
   },
   {
    "duration": 13,
    "start_time": "2024-08-26T13:15:38.470Z"
   },
   {
    "duration": 8,
    "start_time": "2024-08-26T13:15:38.485Z"
   },
   {
    "duration": 64,
    "start_time": "2024-08-26T13:15:38.497Z"
   },
   {
    "duration": 14,
    "start_time": "2024-08-26T13:15:38.563Z"
   },
   {
    "duration": 18,
    "start_time": "2024-08-26T13:15:48.806Z"
   },
   {
    "duration": 321,
    "start_time": "2024-08-26T13:28:01.790Z"
   },
   {
    "duration": 997,
    "start_time": "2024-08-26T13:29:19.294Z"
   },
   {
    "duration": 64,
    "start_time": "2024-08-26T13:29:25.065Z"
   },
   {
    "duration": 8,
    "start_time": "2024-08-26T13:29:27.056Z"
   },
   {
    "duration": 9,
    "start_time": "2024-08-26T13:34:18.958Z"
   },
   {
    "duration": 12,
    "start_time": "2024-08-26T13:34:24.809Z"
   },
   {
    "duration": 12,
    "start_time": "2024-08-26T13:34:43.585Z"
   },
   {
    "duration": 17,
    "start_time": "2024-08-26T13:34:50.530Z"
   },
   {
    "duration": 19,
    "start_time": "2024-08-26T13:34:56.124Z"
   },
   {
    "duration": 5,
    "start_time": "2024-08-26T13:35:01.691Z"
   },
   {
    "duration": 5,
    "start_time": "2024-08-26T13:37:35.066Z"
   },
   {
    "duration": 7,
    "start_time": "2024-08-26T13:37:38.716Z"
   },
   {
    "duration": 19,
    "start_time": "2024-08-26T13:38:17.277Z"
   },
   {
    "duration": 15,
    "start_time": "2024-08-26T13:39:01.071Z"
   },
   {
    "duration": 531,
    "start_time": "2024-08-26T13:40:15.667Z"
   },
   {
    "duration": 361,
    "start_time": "2024-08-26T13:40:57.795Z"
   },
   {
    "duration": 612,
    "start_time": "2024-08-26T13:43:10.132Z"
   },
   {
    "duration": 525,
    "start_time": "2024-08-26T13:44:31.147Z"
   },
   {
    "duration": 552,
    "start_time": "2024-08-26T13:44:43.362Z"
   },
   {
    "duration": 563,
    "start_time": "2024-08-26T13:45:27.984Z"
   },
   {
    "duration": 589,
    "start_time": "2024-08-26T13:45:40.482Z"
   },
   {
    "duration": 512,
    "start_time": "2024-08-26T13:45:51.914Z"
   },
   {
    "duration": 44,
    "start_time": "2024-08-26T13:50:23.732Z"
   },
   {
    "duration": 367,
    "start_time": "2024-08-26T13:50:32.133Z"
   },
   {
    "duration": 25,
    "start_time": "2024-08-26T13:52:49.549Z"
   },
   {
    "duration": 40,
    "start_time": "2024-08-26T13:53:49.230Z"
   },
   {
    "duration": 12,
    "start_time": "2024-08-26T13:53:55.681Z"
   },
   {
    "duration": 21,
    "start_time": "2024-08-26T15:04:32.992Z"
   },
   {
    "duration": 1132,
    "start_time": "2024-08-26T15:04:43.701Z"
   },
   {
    "duration": 95,
    "start_time": "2024-08-26T15:04:44.835Z"
   },
   {
    "duration": 11,
    "start_time": "2024-08-26T15:04:44.932Z"
   },
   {
    "duration": 18,
    "start_time": "2024-08-26T15:04:44.945Z"
   },
   {
    "duration": 22,
    "start_time": "2024-08-26T15:04:44.965Z"
   },
   {
    "duration": 27,
    "start_time": "2024-08-26T15:04:44.988Z"
   },
   {
    "duration": 83,
    "start_time": "2024-08-26T15:04:45.017Z"
   },
   {
    "duration": 11,
    "start_time": "2024-08-26T15:04:45.102Z"
   },
   {
    "duration": 25,
    "start_time": "2024-08-26T15:04:45.115Z"
   },
   {
    "duration": 10,
    "start_time": "2024-08-26T15:04:45.143Z"
   },
   {
    "duration": 10,
    "start_time": "2024-08-26T15:04:45.155Z"
   },
   {
    "duration": 8,
    "start_time": "2024-08-26T15:04:45.167Z"
   },
   {
    "duration": 7,
    "start_time": "2024-08-26T15:04:45.177Z"
   },
   {
    "duration": 9,
    "start_time": "2024-08-26T15:04:45.185Z"
   },
   {
    "duration": 30,
    "start_time": "2024-08-26T15:04:45.196Z"
   },
   {
    "duration": 622,
    "start_time": "2024-08-26T15:04:45.228Z"
   },
   {
    "duration": 266,
    "start_time": "2024-08-26T15:04:45.852Z"
   },
   {
    "duration": 372,
    "start_time": "2024-08-26T15:04:46.125Z"
   },
   {
    "duration": 272,
    "start_time": "2024-08-26T15:04:46.498Z"
   },
   {
    "duration": 353,
    "start_time": "2024-08-26T15:04:46.772Z"
   },
   {
    "duration": 177,
    "start_time": "2024-08-26T15:04:47.127Z"
   },
   {
    "duration": 5,
    "start_time": "2024-08-26T15:04:47.306Z"
   },
   {
    "duration": 385,
    "start_time": "2024-08-26T15:04:47.312Z"
   },
   {
    "duration": 5,
    "start_time": "2024-08-26T15:04:47.699Z"
   },
   {
    "duration": 367,
    "start_time": "2024-08-26T15:04:47.706Z"
   },
   {
    "duration": 28,
    "start_time": "2024-08-26T15:04:48.075Z"
   },
   {
    "duration": 30,
    "start_time": "2024-08-26T15:04:48.104Z"
   },
   {
    "duration": 8,
    "start_time": "2024-08-26T15:04:48.137Z"
   },
   {
    "duration": 39,
    "start_time": "2024-08-26T15:04:48.147Z"
   },
   {
    "duration": 15,
    "start_time": "2024-08-26T15:04:48.188Z"
   },
   {
    "duration": 610,
    "start_time": "2024-08-26T15:04:48.226Z"
   },
   {
    "duration": 29,
    "start_time": "2024-08-26T15:05:21.884Z"
   },
   {
    "duration": 129,
    "start_time": "2024-08-26T15:05:32.720Z"
   },
   {
    "duration": 29,
    "start_time": "2024-08-26T15:05:42.932Z"
   },
   {
    "duration": 27,
    "start_time": "2024-08-26T15:06:56.116Z"
   },
   {
    "duration": 362,
    "start_time": "2024-08-26T15:09:21.015Z"
   },
   {
    "duration": 356,
    "start_time": "2024-08-26T15:10:19.540Z"
   },
   {
    "duration": 542,
    "start_time": "2024-08-26T15:14:03.265Z"
   },
   {
    "duration": 338,
    "start_time": "2024-08-26T15:14:10.863Z"
   },
   {
    "duration": 313,
    "start_time": "2024-08-26T15:25:39.595Z"
   },
   {
    "duration": 1124,
    "start_time": "2024-08-26T15:25:55.187Z"
   },
   {
    "duration": 109,
    "start_time": "2024-08-26T15:25:56.314Z"
   },
   {
    "duration": 26,
    "start_time": "2024-08-26T15:25:56.424Z"
   },
   {
    "duration": 5,
    "start_time": "2024-08-26T15:25:56.453Z"
   },
   {
    "duration": 21,
    "start_time": "2024-08-26T15:25:56.459Z"
   },
   {
    "duration": 17,
    "start_time": "2024-08-26T15:25:56.482Z"
   },
   {
    "duration": 83,
    "start_time": "2024-08-26T15:25:56.501Z"
   },
   {
    "duration": 12,
    "start_time": "2024-08-26T15:25:56.586Z"
   },
   {
    "duration": 39,
    "start_time": "2024-08-26T15:25:56.599Z"
   },
   {
    "duration": 7,
    "start_time": "2024-08-26T15:25:56.642Z"
   },
   {
    "duration": 10,
    "start_time": "2024-08-26T15:25:56.651Z"
   },
   {
    "duration": 12,
    "start_time": "2024-08-26T15:25:56.663Z"
   },
   {
    "duration": 6,
    "start_time": "2024-08-26T15:25:56.677Z"
   },
   {
    "duration": 62,
    "start_time": "2024-08-26T15:25:56.685Z"
   },
   {
    "duration": 8,
    "start_time": "2024-08-26T15:25:56.753Z"
   },
   {
    "duration": 688,
    "start_time": "2024-08-26T15:25:56.763Z"
   },
   {
    "duration": 263,
    "start_time": "2024-08-26T15:25:57.453Z"
   },
   {
    "duration": 391,
    "start_time": "2024-08-26T15:25:57.725Z"
   },
   {
    "duration": 304,
    "start_time": "2024-08-26T15:25:58.118Z"
   },
   {
    "duration": 397,
    "start_time": "2024-08-26T15:25:58.424Z"
   },
   {
    "duration": 188,
    "start_time": "2024-08-26T15:25:58.826Z"
   },
   {
    "duration": 12,
    "start_time": "2024-08-26T15:25:59.016Z"
   },
   {
    "duration": 432,
    "start_time": "2024-08-26T15:25:59.030Z"
   },
   {
    "duration": 5,
    "start_time": "2024-08-26T15:25:59.464Z"
   },
   {
    "duration": 439,
    "start_time": "2024-08-26T15:25:59.471Z"
   },
   {
    "duration": 52,
    "start_time": "2024-08-26T15:25:59.912Z"
   },
   {
    "duration": 16,
    "start_time": "2024-08-26T15:25:59.966Z"
   },
   {
    "duration": 8,
    "start_time": "2024-08-26T15:25:59.986Z"
   },
   {
    "duration": 60,
    "start_time": "2024-08-26T15:25:59.996Z"
   },
   {
    "duration": 16,
    "start_time": "2024-08-26T15:26:00.058Z"
   },
   {
    "duration": 720,
    "start_time": "2024-08-26T15:26:00.076Z"
   },
   {
    "duration": 418,
    "start_time": "2024-08-26T15:26:00.798Z"
   },
   {
    "duration": 275,
    "start_time": "2024-08-26T15:26:01.218Z"
   },
   {
    "duration": 244,
    "start_time": "2024-08-26T15:36:04.615Z"
   },
   {
    "duration": 647,
    "start_time": "2024-08-26T15:36:38.460Z"
   },
   {
    "duration": 580,
    "start_time": "2024-08-26T15:37:30.603Z"
   },
   {
    "duration": 603,
    "start_time": "2024-08-26T15:37:45.830Z"
   },
   {
    "duration": 666,
    "start_time": "2024-08-26T15:38:01.231Z"
   },
   {
    "duration": 1073,
    "start_time": "2024-08-26T15:48:41.327Z"
   },
   {
    "duration": 97,
    "start_time": "2024-08-26T15:48:42.402Z"
   },
   {
    "duration": 10,
    "start_time": "2024-08-26T15:48:42.500Z"
   },
   {
    "duration": 4,
    "start_time": "2024-08-26T15:48:42.513Z"
   },
   {
    "duration": 25,
    "start_time": "2024-08-26T15:48:42.519Z"
   },
   {
    "duration": 18,
    "start_time": "2024-08-26T15:48:42.546Z"
   },
   {
    "duration": 54,
    "start_time": "2024-08-26T15:48:42.566Z"
   },
   {
    "duration": 12,
    "start_time": "2024-08-26T15:48:42.622Z"
   },
   {
    "duration": 33,
    "start_time": "2024-08-26T15:48:42.636Z"
   },
   {
    "duration": 8,
    "start_time": "2024-08-26T15:48:42.672Z"
   },
   {
    "duration": 7,
    "start_time": "2024-08-26T15:48:42.682Z"
   },
   {
    "duration": 6,
    "start_time": "2024-08-26T15:48:42.691Z"
   },
   {
    "duration": 7,
    "start_time": "2024-08-26T15:48:42.699Z"
   },
   {
    "duration": 15,
    "start_time": "2024-08-26T15:48:42.708Z"
   },
   {
    "duration": 18,
    "start_time": "2024-08-26T15:48:42.725Z"
   },
   {
    "duration": 723,
    "start_time": "2024-08-26T15:48:42.745Z"
   },
   {
    "duration": 255,
    "start_time": "2024-08-26T15:48:43.469Z"
   },
   {
    "duration": 370,
    "start_time": "2024-08-26T15:48:43.731Z"
   },
   {
    "duration": 288,
    "start_time": "2024-08-26T15:48:44.102Z"
   },
   {
    "duration": 374,
    "start_time": "2024-08-26T15:48:44.391Z"
   },
   {
    "duration": 206,
    "start_time": "2024-08-26T15:48:44.766Z"
   },
   {
    "duration": 5,
    "start_time": "2024-08-26T15:48:44.973Z"
   },
   {
    "duration": 438,
    "start_time": "2024-08-26T15:48:44.979Z"
   },
   {
    "duration": 12,
    "start_time": "2024-08-26T15:48:45.419Z"
   },
   {
    "duration": 377,
    "start_time": "2024-08-26T15:48:45.437Z"
   },
   {
    "duration": 37,
    "start_time": "2024-08-26T15:48:45.816Z"
   },
   {
    "duration": 15,
    "start_time": "2024-08-26T15:48:45.855Z"
   },
   {
    "duration": 11,
    "start_time": "2024-08-26T15:48:45.874Z"
   },
   {
    "duration": 72,
    "start_time": "2024-08-26T15:48:45.887Z"
   },
   {
    "duration": 15,
    "start_time": "2024-08-26T15:48:45.960Z"
   },
   {
    "duration": 604,
    "start_time": "2024-08-26T15:48:45.976Z"
   },
   {
    "duration": 352,
    "start_time": "2024-08-26T15:48:46.581Z"
   },
   {
    "duration": 656,
    "start_time": "2024-08-26T15:48:46.935Z"
   },
   {
    "duration": 52,
    "start_time": "2024-08-26T19:35:49.861Z"
   },
   {
    "duration": 1133,
    "start_time": "2024-08-26T19:35:53.546Z"
   },
   {
    "duration": 139,
    "start_time": "2024-08-26T19:35:54.681Z"
   },
   {
    "duration": 14,
    "start_time": "2024-08-26T19:35:54.821Z"
   },
   {
    "duration": 5,
    "start_time": "2024-08-26T19:35:54.837Z"
   },
   {
    "duration": 15,
    "start_time": "2024-08-26T19:35:54.843Z"
   },
   {
    "duration": 10,
    "start_time": "2024-08-26T19:35:54.859Z"
   },
   {
    "duration": 166,
    "start_time": "2024-08-26T19:35:54.870Z"
   },
   {
    "duration": 9,
    "start_time": "2024-08-26T19:35:55.037Z"
   },
   {
    "duration": 11,
    "start_time": "2024-08-26T19:35:55.048Z"
   },
   {
    "duration": 9,
    "start_time": "2024-08-26T19:35:55.061Z"
   },
   {
    "duration": 14,
    "start_time": "2024-08-26T19:35:55.071Z"
   },
   {
    "duration": 5,
    "start_time": "2024-08-26T19:35:55.087Z"
   },
   {
    "duration": 24,
    "start_time": "2024-08-26T19:35:55.094Z"
   },
   {
    "duration": 5,
    "start_time": "2024-08-26T19:35:55.119Z"
   },
   {
    "duration": 10,
    "start_time": "2024-08-26T19:35:55.125Z"
   },
   {
    "duration": 517,
    "start_time": "2024-08-26T19:35:55.137Z"
   },
   {
    "duration": 361,
    "start_time": "2024-08-26T19:35:55.656Z"
   },
   {
    "duration": 528,
    "start_time": "2024-08-26T19:35:56.018Z"
   },
   {
    "duration": 521,
    "start_time": "2024-08-26T19:35:56.548Z"
   },
   {
    "duration": 364,
    "start_time": "2024-08-26T19:35:57.071Z"
   },
   {
    "duration": 157,
    "start_time": "2024-08-26T19:35:57.437Z"
   },
   {
    "duration": 4,
    "start_time": "2024-08-26T19:35:57.595Z"
   },
   {
    "duration": 366,
    "start_time": "2024-08-26T19:35:57.600Z"
   },
   {
    "duration": 4,
    "start_time": "2024-08-26T19:35:57.968Z"
   },
   {
    "duration": 334,
    "start_time": "2024-08-26T19:35:57.973Z"
   },
   {
    "duration": 23,
    "start_time": "2024-08-26T19:35:58.308Z"
   },
   {
    "duration": 11,
    "start_time": "2024-08-26T19:35:58.333Z"
   },
   {
    "duration": 7,
    "start_time": "2024-08-26T19:35:58.348Z"
   },
   {
    "duration": 58,
    "start_time": "2024-08-26T19:35:58.356Z"
   },
   {
    "duration": 17,
    "start_time": "2024-08-26T19:35:58.416Z"
   },
   {
    "duration": 517,
    "start_time": "2024-08-26T19:35:58.435Z"
   },
   {
    "duration": 306,
    "start_time": "2024-08-26T19:35:58.954Z"
   },
   {
    "duration": 572,
    "start_time": "2024-08-26T19:35:59.261Z"
   },
   {
    "duration": 129,
    "start_time": "2024-08-26T19:36:16.457Z"
   },
   {
    "duration": 31,
    "start_time": "2024-08-26T19:36:49.787Z"
   },
   {
    "duration": 32,
    "start_time": "2024-08-26T20:24:50.334Z"
   },
   {
    "duration": 31,
    "start_time": "2024-08-26T20:25:04.264Z"
   },
   {
    "duration": 32,
    "start_time": "2024-08-26T20:25:10.196Z"
   },
   {
    "duration": 32,
    "start_time": "2024-08-26T20:25:13.075Z"
   },
   {
    "duration": 31,
    "start_time": "2024-08-26T20:25:16.015Z"
   },
   {
    "duration": 35,
    "start_time": "2024-08-26T20:25:45.199Z"
   },
   {
    "duration": 927,
    "start_time": "2024-08-26T20:25:57.760Z"
   },
   {
    "duration": 75,
    "start_time": "2024-08-26T20:25:58.688Z"
   },
   {
    "duration": 9,
    "start_time": "2024-08-26T20:25:58.765Z"
   },
   {
    "duration": 19,
    "start_time": "2024-08-26T20:25:58.776Z"
   },
   {
    "duration": 17,
    "start_time": "2024-08-26T20:25:58.797Z"
   },
   {
    "duration": 10,
    "start_time": "2024-08-26T20:25:58.815Z"
   },
   {
    "duration": 70,
    "start_time": "2024-08-26T20:25:58.827Z"
   },
   {
    "duration": 11,
    "start_time": "2024-08-26T20:25:58.899Z"
   },
   {
    "duration": 10,
    "start_time": "2024-08-26T20:25:58.912Z"
   },
   {
    "duration": 6,
    "start_time": "2024-08-26T20:25:58.925Z"
   },
   {
    "duration": 11,
    "start_time": "2024-08-26T20:25:58.932Z"
   },
   {
    "duration": 5,
    "start_time": "2024-08-26T20:25:58.945Z"
   },
   {
    "duration": 87,
    "start_time": "2024-08-26T20:25:58.951Z"
   },
   {
    "duration": 10,
    "start_time": "2024-08-26T20:25:59.040Z"
   },
   {
    "duration": 6,
    "start_time": "2024-08-26T20:25:59.051Z"
   },
   {
    "duration": 538,
    "start_time": "2024-08-26T20:25:59.059Z"
   },
   {
    "duration": 212,
    "start_time": "2024-08-26T20:25:59.598Z"
   },
   {
    "duration": 331,
    "start_time": "2024-08-26T20:25:59.812Z"
   },
   {
    "duration": 249,
    "start_time": "2024-08-26T20:26:00.144Z"
   },
   {
    "duration": 356,
    "start_time": "2024-08-26T20:26:00.395Z"
   },
   {
    "duration": 157,
    "start_time": "2024-08-26T20:26:00.752Z"
   },
   {
    "duration": 3,
    "start_time": "2024-08-26T20:26:00.911Z"
   },
   {
    "duration": 342,
    "start_time": "2024-08-26T20:26:00.916Z"
   },
   {
    "duration": 4,
    "start_time": "2024-08-26T20:26:01.259Z"
   },
   {
    "duration": 320,
    "start_time": "2024-08-26T20:26:01.265Z"
   },
   {
    "duration": 28,
    "start_time": "2024-08-26T20:26:01.586Z"
   },
   {
    "duration": 10,
    "start_time": "2024-08-26T20:26:01.615Z"
   },
   {
    "duration": 15,
    "start_time": "2024-08-26T20:26:01.627Z"
   },
   {
    "duration": 154,
    "start_time": "2024-08-26T20:26:01.643Z"
   },
   {
    "duration": 13,
    "start_time": "2024-08-26T20:26:01.798Z"
   },
   {
    "duration": 508,
    "start_time": "2024-08-26T20:26:01.813Z"
   },
   {
    "duration": 336,
    "start_time": "2024-08-26T20:26:02.322Z"
   },
   {
    "duration": 589,
    "start_time": "2024-08-26T20:26:02.660Z"
   },
   {
    "duration": 10,
    "start_time": "2024-08-26T20:26:24.165Z"
   },
   {
    "duration": 10,
    "start_time": "2024-08-26T20:26:27.152Z"
   },
   {
    "duration": 111,
    "start_time": "2024-08-26T20:34:19.288Z"
   },
   {
    "duration": 8,
    "start_time": "2024-08-26T20:34:26.561Z"
   },
   {
    "duration": 10,
    "start_time": "2024-08-26T20:34:42.287Z"
   },
   {
    "duration": 9,
    "start_time": "2024-08-26T20:34:58.335Z"
   },
   {
    "duration": 993,
    "start_time": "2024-08-26T20:35:01.924Z"
   },
   {
    "duration": 75,
    "start_time": "2024-08-26T20:35:02.919Z"
   },
   {
    "duration": 10,
    "start_time": "2024-08-26T20:35:02.996Z"
   },
   {
    "duration": 59,
    "start_time": "2024-08-26T20:35:03.008Z"
   },
   {
    "duration": 39,
    "start_time": "2024-08-26T20:35:03.068Z"
   },
   {
    "duration": 9,
    "start_time": "2024-08-26T20:35:03.108Z"
   },
   {
    "duration": 104,
    "start_time": "2024-08-26T20:35:03.119Z"
   },
   {
    "duration": 9,
    "start_time": "2024-08-26T20:35:03.224Z"
   },
   {
    "duration": 12,
    "start_time": "2024-08-26T20:35:03.234Z"
   },
   {
    "duration": 5,
    "start_time": "2024-08-26T20:35:03.249Z"
   },
   {
    "duration": 55,
    "start_time": "2024-08-26T20:35:03.255Z"
   },
   {
    "duration": 22,
    "start_time": "2024-08-26T20:35:03.312Z"
   },
   {
    "duration": 6,
    "start_time": "2024-08-26T20:35:03.335Z"
   },
   {
    "duration": 7,
    "start_time": "2024-08-26T20:35:03.342Z"
   },
   {
    "duration": 10,
    "start_time": "2024-08-26T20:35:03.350Z"
   },
   {
    "duration": 971,
    "start_time": "2024-08-26T20:35:03.361Z"
   },
   {
    "duration": 206,
    "start_time": "2024-08-26T20:35:04.333Z"
   },
   {
    "duration": 307,
    "start_time": "2024-08-26T20:35:04.540Z"
   },
   {
    "duration": 273,
    "start_time": "2024-08-26T20:35:04.848Z"
   },
   {
    "duration": 332,
    "start_time": "2024-08-26T20:35:05.123Z"
   },
   {
    "duration": 153,
    "start_time": "2024-08-26T20:35:05.456Z"
   },
   {
    "duration": 3,
    "start_time": "2024-08-26T20:35:05.610Z"
   },
   {
    "duration": 329,
    "start_time": "2024-08-26T20:35:05.615Z"
   },
   {
    "duration": 3,
    "start_time": "2024-08-26T20:35:05.945Z"
   },
   {
    "duration": 314,
    "start_time": "2024-08-26T20:35:05.950Z"
   },
   {
    "duration": 21,
    "start_time": "2024-08-26T20:35:06.266Z"
   },
   {
    "duration": 24,
    "start_time": "2024-08-26T20:35:06.288Z"
   },
   {
    "duration": 6,
    "start_time": "2024-08-26T20:35:06.314Z"
   },
   {
    "duration": 34,
    "start_time": "2024-08-26T20:35:06.322Z"
   },
   {
    "duration": 13,
    "start_time": "2024-08-26T20:35:06.357Z"
   },
   {
    "duration": 592,
    "start_time": "2024-08-26T20:35:06.371Z"
   },
   {
    "duration": 321,
    "start_time": "2024-08-26T20:35:06.965Z"
   },
   {
    "duration": 562,
    "start_time": "2024-08-26T20:35:07.288Z"
   },
   {
    "duration": 931,
    "start_time": "2024-08-26T20:48:27.761Z"
   },
   {
    "duration": 83,
    "start_time": "2024-08-26T20:48:28.694Z"
   },
   {
    "duration": 9,
    "start_time": "2024-08-26T20:48:28.778Z"
   },
   {
    "duration": 29,
    "start_time": "2024-08-26T20:48:28.789Z"
   },
   {
    "duration": 10,
    "start_time": "2024-08-26T20:48:28.820Z"
   },
   {
    "duration": 11,
    "start_time": "2024-08-26T20:48:28.832Z"
   },
   {
    "duration": 53,
    "start_time": "2024-08-26T20:48:28.844Z"
   },
   {
    "duration": 9,
    "start_time": "2024-08-26T20:48:28.899Z"
   },
   {
    "duration": 9,
    "start_time": "2024-08-26T20:48:28.909Z"
   },
   {
    "duration": 3,
    "start_time": "2024-08-26T20:48:28.921Z"
   },
   {
    "duration": 7,
    "start_time": "2024-08-26T20:48:28.925Z"
   },
   {
    "duration": 6,
    "start_time": "2024-08-26T20:48:28.933Z"
   },
   {
    "duration": 24,
    "start_time": "2024-08-26T20:48:28.940Z"
   },
   {
    "duration": 11,
    "start_time": "2024-08-26T20:48:28.966Z"
   },
   {
    "duration": 18,
    "start_time": "2024-08-26T20:48:28.978Z"
   },
   {
    "duration": 542,
    "start_time": "2024-08-26T20:48:28.998Z"
   },
   {
    "duration": 211,
    "start_time": "2024-08-26T20:48:29.542Z"
   },
   {
    "duration": 307,
    "start_time": "2024-08-26T20:48:29.755Z"
   },
   {
    "duration": 270,
    "start_time": "2024-08-26T20:48:30.063Z"
   },
   {
    "duration": 328,
    "start_time": "2024-08-26T20:48:30.335Z"
   },
   {
    "duration": 152,
    "start_time": "2024-08-26T20:48:30.665Z"
   },
   {
    "duration": 4,
    "start_time": "2024-08-26T20:48:30.819Z"
   },
   {
    "duration": 366,
    "start_time": "2024-08-26T20:48:30.824Z"
   },
   {
    "duration": 4,
    "start_time": "2024-08-26T20:48:31.192Z"
   },
   {
    "duration": 310,
    "start_time": "2024-08-26T20:48:31.206Z"
   },
   {
    "duration": 25,
    "start_time": "2024-08-26T20:48:31.518Z"
   },
   {
    "duration": 10,
    "start_time": "2024-08-26T20:48:31.546Z"
   },
   {
    "duration": 24,
    "start_time": "2024-08-26T20:48:31.559Z"
   },
   {
    "duration": 31,
    "start_time": "2024-08-26T20:48:31.584Z"
   },
   {
    "duration": 13,
    "start_time": "2024-08-26T20:48:31.617Z"
   },
   {
    "duration": 511,
    "start_time": "2024-08-26T20:48:31.631Z"
   },
   {
    "duration": 316,
    "start_time": "2024-08-26T20:48:32.144Z"
   },
   {
    "duration": 573,
    "start_time": "2024-08-26T20:48:32.461Z"
   },
   {
    "duration": 1114,
    "start_time": "2024-08-30T12:38:01.580Z"
   },
   {
    "duration": 164,
    "start_time": "2024-08-30T12:38:02.696Z"
   },
   {
    "duration": 14,
    "start_time": "2024-08-30T12:38:02.862Z"
   },
   {
    "duration": 46,
    "start_time": "2024-08-30T12:38:02.879Z"
   },
   {
    "duration": 66,
    "start_time": "2024-08-30T12:38:02.927Z"
   },
   {
    "duration": 37,
    "start_time": "2024-08-30T12:38:02.995Z"
   },
   {
    "duration": 206,
    "start_time": "2024-08-30T12:38:03.034Z"
   },
   {
    "duration": 11,
    "start_time": "2024-08-30T12:38:03.242Z"
   },
   {
    "duration": 33,
    "start_time": "2024-08-30T12:38:03.254Z"
   },
   {
    "duration": 64,
    "start_time": "2024-08-30T12:38:03.289Z"
   },
   {
    "duration": 33,
    "start_time": "2024-08-30T12:38:03.355Z"
   },
   {
    "duration": 19,
    "start_time": "2024-08-30T12:38:03.390Z"
   },
   {
    "duration": 20,
    "start_time": "2024-08-30T12:38:03.410Z"
   },
   {
    "duration": 24,
    "start_time": "2024-08-30T12:38:03.432Z"
   },
   {
    "duration": 27,
    "start_time": "2024-08-30T12:38:03.457Z"
   },
   {
    "duration": 597,
    "start_time": "2024-08-30T12:38:03.487Z"
   },
   {
    "duration": 251,
    "start_time": "2024-08-30T12:38:04.086Z"
   },
   {
    "duration": 346,
    "start_time": "2024-08-30T12:38:04.338Z"
   },
   {
    "duration": 298,
    "start_time": "2024-08-30T12:38:04.686Z"
   },
   {
    "duration": 384,
    "start_time": "2024-08-30T12:38:04.985Z"
   },
   {
    "duration": 174,
    "start_time": "2024-08-30T12:38:05.371Z"
   },
   {
    "duration": 4,
    "start_time": "2024-08-30T12:38:05.547Z"
   },
   {
    "duration": 372,
    "start_time": "2024-08-30T12:38:05.553Z"
   },
   {
    "duration": 5,
    "start_time": "2024-08-30T12:38:05.926Z"
   },
   {
    "duration": 340,
    "start_time": "2024-08-30T12:38:05.933Z"
   },
   {
    "duration": 34,
    "start_time": "2024-08-30T12:38:06.275Z"
   },
   {
    "duration": 14,
    "start_time": "2024-08-30T12:38:06.310Z"
   },
   {
    "duration": 7,
    "start_time": "2024-08-30T12:38:06.327Z"
   },
   {
    "duration": 41,
    "start_time": "2024-08-30T12:38:06.336Z"
   },
   {
    "duration": 33,
    "start_time": "2024-08-30T12:38:06.378Z"
   },
   {
    "duration": 580,
    "start_time": "2024-08-30T12:38:06.412Z"
   },
   {
    "duration": 377,
    "start_time": "2024-08-30T12:38:06.994Z"
   },
   {
    "duration": 596,
    "start_time": "2024-08-30T12:38:07.372Z"
   },
   {
    "duration": 331,
    "start_time": "2024-08-30T12:38:10.123Z"
   },
   {
    "duration": 335,
    "start_time": "2024-08-30T12:38:18.411Z"
   },
   {
    "duration": 329,
    "start_time": "2024-08-30T12:38:22.023Z"
   },
   {
    "duration": 1132,
    "start_time": "2024-10-16T20:33:56.252Z"
   },
   {
    "duration": 126,
    "start_time": "2024-10-16T20:33:57.386Z"
   },
   {
    "duration": 11,
    "start_time": "2024-10-16T20:33:57.513Z"
   },
   {
    "duration": 5,
    "start_time": "2024-10-16T20:33:57.525Z"
   },
   {
    "duration": 12,
    "start_time": "2024-10-16T20:33:57.532Z"
   },
   {
    "duration": 20,
    "start_time": "2024-10-16T20:33:57.545Z"
   },
   {
    "duration": 157,
    "start_time": "2024-10-16T20:33:57.566Z"
   },
   {
    "duration": 10,
    "start_time": "2024-10-16T20:33:57.724Z"
   },
   {
    "duration": 16,
    "start_time": "2024-10-16T20:33:57.736Z"
   },
   {
    "duration": 5,
    "start_time": "2024-10-16T20:33:57.753Z"
   },
   {
    "duration": 10,
    "start_time": "2024-10-16T20:33:57.759Z"
   },
   {
    "duration": 16,
    "start_time": "2024-10-16T20:33:57.771Z"
   },
   {
    "duration": 11,
    "start_time": "2024-10-16T20:33:57.788Z"
   },
   {
    "duration": 5,
    "start_time": "2024-10-16T20:33:57.801Z"
   },
   {
    "duration": 6,
    "start_time": "2024-10-16T20:33:57.808Z"
   },
   {
    "duration": 615,
    "start_time": "2024-10-16T20:33:57.816Z"
   },
   {
    "duration": 271,
    "start_time": "2024-10-16T20:33:58.432Z"
   },
   {
    "duration": 344,
    "start_time": "2024-10-16T20:33:58.704Z"
   },
   {
    "duration": 251,
    "start_time": "2024-10-16T20:33:59.049Z"
   },
   {
    "duration": 327,
    "start_time": "2024-10-16T20:33:59.302Z"
   },
   {
    "duration": 181,
    "start_time": "2024-10-16T20:33:59.631Z"
   },
   {
    "duration": 5,
    "start_time": "2024-10-16T20:33:59.814Z"
   },
   {
    "duration": 394,
    "start_time": "2024-10-16T20:33:59.820Z"
   },
   {
    "duration": 4,
    "start_time": "2024-10-16T20:34:00.216Z"
   },
   {
    "duration": 405,
    "start_time": "2024-10-16T20:34:00.222Z"
   },
   {
    "duration": 36,
    "start_time": "2024-10-16T20:34:00.629Z"
   },
   {
    "duration": 12,
    "start_time": "2024-10-16T20:34:00.667Z"
   },
   {
    "duration": 7,
    "start_time": "2024-10-16T20:34:00.681Z"
   },
   {
    "duration": 37,
    "start_time": "2024-10-16T20:34:00.690Z"
   },
   {
    "duration": 46,
    "start_time": "2024-10-16T20:34:00.730Z"
   },
   {
    "duration": 582,
    "start_time": "2024-10-16T20:34:00.778Z"
   },
   {
    "duration": 356,
    "start_time": "2024-10-16T20:34:01.362Z"
   },
   {
    "duration": 642,
    "start_time": "2024-10-16T20:34:01.720Z"
   }
  ],
  "kernelspec": {
   "display_name": "Python 3 (ipykernel)",
   "language": "python",
   "name": "python3"
  },
  "language_info": {
   "codemirror_mode": {
    "name": "ipython",
    "version": 3
   },
   "file_extension": ".py",
   "mimetype": "text/x-python",
   "name": "python",
   "nbconvert_exporter": "python",
   "pygments_lexer": "ipython3",
   "version": "3.9.5"
  },
  "toc": {
   "base_numbering": 1,
   "nav_menu": {},
   "number_sections": true,
   "sideBar": true,
   "skip_h1_title": true,
   "title_cell": "Table of Contents",
   "title_sidebar": "Contents",
   "toc_cell": false,
   "toc_position": {
    "height": "calc(100% - 180px)",
    "left": "10px",
    "top": "150px",
    "width": "384px"
   },
   "toc_section_display": true,
   "toc_window_display": false
  }
 },
 "nbformat": 4,
 "nbformat_minor": 2
}
