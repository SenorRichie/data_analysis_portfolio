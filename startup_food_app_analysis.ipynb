{
 "cells": [
  {
   "cell_type": "markdown",
   "metadata": {},
   "source": [
    "# Аналитика пользователей мобильного приложения по стартапу продуктов питания\n",
    "\n",
    "**Вы работаете в стартапе, который продаёт продукты питания. Нужно разобраться, как ведут себя пользователи вашего мобильного приложения.**\n",
    "\n",
    "**Изучите воронку продаж. Узнайте, как пользователи доходят до покупки. Сколько пользователей доходит до покупки, а сколько — «застревает» на предыдущих шагах? На каких именно?**\n",
    "\n",
    "**После изучения воронки продаж нужно исследовать результаты A/A и A/B-теста, чтобы проверить, понравились ли пользователям новые шрифты в приложении.**\n",
    "\n",
    "**Инструкция по выполнению заданий:**\n",
    "\n",
    "**Шаг 1. Откройте файл с данными и изучите общую информацию**\n",
    "\n",
    "**Шаг 2. Подготовьте данные**\n",
    "- Замените названия столбцов на удобные для вас;\n",
    "- Проверьте пропуски и типы данных. Откорректируйте, если нужно;\n",
    "- Добавьте столбец даты и времени, а также отдельный столбец дат;\n",
    "\n",
    "**Шаг 3. Изучите и проверьте данные**\n",
    "- Сколько всего событий в логе?\n",
    "- Сколько всего пользователей в логе?\n",
    "- Сколько в среднем событий приходится на пользователя?\n",
    "- Данными за какой период вы располагаете? Найдите максимальную и минимальную дату. Изучите, как меняется количество данных: постройте столбчатую диаграмму, которая отобразит количество событий в зависимости от времени в разрезе групп. Можно ли быть уверенным, что у вас одинаково полные данные за весь период? Технически в логи новых дней по некоторым пользователям могут «доезжать» события из прошлого — это может «перекашивать данные». Определите, с какого момента данные полные и отбросьте более старые. Данными за какой период времени вы располагаете на самом деле?\n",
    "- Много ли событий и пользователей вы потеряли, отбросив старые данные?\n",
    "- Проверьте, что у вас есть пользователи из всех трёх экспериментальных групп.\n",
    "\n",
    "**Шаг 4. Изучите воронку событий**\n",
    "- Посмотрите, какие события есть в логах, как часто они встречаются. Отсортируйте события по частоте.\n",
    "- Посчитайте, сколько пользователей совершали каждое из этих событий. Отсортируйте события по числу пользователей. Посчитайте долю пользователей, которые хоть раз совершали событие.\n",
    "- Предположите, в каком порядке происходят события. Все ли они выстраиваются в последовательную цепочку? Их не нужно учитывать при расчёте воронки.\n",
    "- По воронке событий посчитайте, какая доля пользователей проходит на следующий шаг воронки (от числа пользователей на предыдущем). То есть для последовательности событий A → B → C посчитайте отношение числа пользователей с событием B к количеству пользователей с событием A, а также отношение числа пользователей с событием C к количеству пользователей с событием B.\n",
    "- На каком шаге теряете больше всего пользователей?\n",
    "- Какая доля пользователей доходит от первого события до оплаты?\n",
    "\n",
    "**Шаг 5. Изучите результаты эксперимента**\n",
    "- Сколько пользователей в каждой экспериментальной группе?\n",
    "- Есть 2 контрольные группы для А/А-эксперимента, чтобы проверить корректность всех механизмов и расчётов. Проверьте, находят ли статистические критерии разницу между выборками 246 и 247.\n",
    "- Выберите самое популярное событие. Посчитайте число пользователей, совершивших это событие в каждой из контрольных групп. Посчитайте долю пользователей, совершивших это событие. Проверьте, будет ли отличие между группами статистически достоверным. Проделайте то же самое для всех других событий (удобно обернуть проверку в отдельную функцию). Можно ли сказать, что разбиение на группы работает корректно?\n",
    "- Аналогично поступите с группой с изменённым шрифтом. Сравните результаты с каждой из контрольных групп в отдельности по каждому событию. Сравните результаты с объединённой контрольной группой. Какие выводы из эксперимента можно сделать?\n",
    "- Какой уровень значимости вы выбрали при проверке статистических гипотез выше? Посчитайте, сколько проверок статистических гипотез вы сделали. При уровне значимости 0.1 в 10% случаев можно ошибочно отклонить нулевую гипотезу при условии, что она верна. Какой уровень значимости стоит применить? Если вы хотите изменить его, проделайте предыдущие пункты и проверьте свои выводы."
   ]
  },
  {
   "cell_type": "code",
   "execution_count": 1,
   "metadata": {},
   "outputs": [],
   "source": [
    "import pandas as pd\n",
    "from matplotlib import pyplot as plt\n",
    "from scipy import stats as st\n",
    "import math as mth\n",
    "from plotly import graph_objects as go"
   ]
  },
  {
   "cell_type": "markdown",
   "metadata": {},
   "source": [
    "## Шаг 1. Откройте файл с данными и изучите общую информацию"
   ]
  },
  {
   "cell_type": "code",
   "execution_count": 2,
   "metadata": {},
   "outputs": [
    {
     "data": {
      "text/html": [
       "<div>\n",
       "<style scoped>\n",
       "    .dataframe tbody tr th:only-of-type {\n",
       "        vertical-align: middle;\n",
       "    }\n",
       "\n",
       "    .dataframe tbody tr th {\n",
       "        vertical-align: top;\n",
       "    }\n",
       "\n",
       "    .dataframe thead th {\n",
       "        text-align: right;\n",
       "    }\n",
       "</style>\n",
       "<table border=\"1\" class=\"dataframe\">\n",
       "  <thead>\n",
       "    <tr style=\"text-align: right;\">\n",
       "      <th></th>\n",
       "      <th>EventName</th>\n",
       "      <th>DeviceIDHash</th>\n",
       "      <th>EventTimestamp</th>\n",
       "      <th>ExpId</th>\n",
       "    </tr>\n",
       "  </thead>\n",
       "  <tbody>\n",
       "    <tr>\n",
       "      <th>0</th>\n",
       "      <td>MainScreenAppear</td>\n",
       "      <td>4575588528974610257</td>\n",
       "      <td>1564029816</td>\n",
       "      <td>246</td>\n",
       "    </tr>\n",
       "    <tr>\n",
       "      <th>1</th>\n",
       "      <td>MainScreenAppear</td>\n",
       "      <td>7416695313311560658</td>\n",
       "      <td>1564053102</td>\n",
       "      <td>246</td>\n",
       "    </tr>\n",
       "    <tr>\n",
       "      <th>2</th>\n",
       "      <td>PaymentScreenSuccessful</td>\n",
       "      <td>3518123091307005509</td>\n",
       "      <td>1564054127</td>\n",
       "      <td>248</td>\n",
       "    </tr>\n",
       "    <tr>\n",
       "      <th>3</th>\n",
       "      <td>CartScreenAppear</td>\n",
       "      <td>3518123091307005509</td>\n",
       "      <td>1564054127</td>\n",
       "      <td>248</td>\n",
       "    </tr>\n",
       "    <tr>\n",
       "      <th>4</th>\n",
       "      <td>PaymentScreenSuccessful</td>\n",
       "      <td>6217807653094995999</td>\n",
       "      <td>1564055322</td>\n",
       "      <td>248</td>\n",
       "    </tr>\n",
       "    <tr>\n",
       "      <th>5</th>\n",
       "      <td>CartScreenAppear</td>\n",
       "      <td>6217807653094995999</td>\n",
       "      <td>1564055323</td>\n",
       "      <td>248</td>\n",
       "    </tr>\n",
       "    <tr>\n",
       "      <th>6</th>\n",
       "      <td>OffersScreenAppear</td>\n",
       "      <td>8351860793733343758</td>\n",
       "      <td>1564066242</td>\n",
       "      <td>246</td>\n",
       "    </tr>\n",
       "    <tr>\n",
       "      <th>7</th>\n",
       "      <td>MainScreenAppear</td>\n",
       "      <td>5682100281902512875</td>\n",
       "      <td>1564085677</td>\n",
       "      <td>246</td>\n",
       "    </tr>\n",
       "    <tr>\n",
       "      <th>8</th>\n",
       "      <td>MainScreenAppear</td>\n",
       "      <td>1850981295691852772</td>\n",
       "      <td>1564086702</td>\n",
       "      <td>247</td>\n",
       "    </tr>\n",
       "    <tr>\n",
       "      <th>9</th>\n",
       "      <td>MainScreenAppear</td>\n",
       "      <td>5407636962369102641</td>\n",
       "      <td>1564112112</td>\n",
       "      <td>246</td>\n",
       "    </tr>\n",
       "  </tbody>\n",
       "</table>\n",
       "</div>"
      ],
      "text/plain": [
       "                 EventName         DeviceIDHash  EventTimestamp  ExpId\n",
       "0         MainScreenAppear  4575588528974610257      1564029816    246\n",
       "1         MainScreenAppear  7416695313311560658      1564053102    246\n",
       "2  PaymentScreenSuccessful  3518123091307005509      1564054127    248\n",
       "3         CartScreenAppear  3518123091307005509      1564054127    248\n",
       "4  PaymentScreenSuccessful  6217807653094995999      1564055322    248\n",
       "5         CartScreenAppear  6217807653094995999      1564055323    248\n",
       "6       OffersScreenAppear  8351860793733343758      1564066242    246\n",
       "7         MainScreenAppear  5682100281902512875      1564085677    246\n",
       "8         MainScreenAppear  1850981295691852772      1564086702    247\n",
       "9         MainScreenAppear  5407636962369102641      1564112112    246"
      ]
     },
     "execution_count": 2,
     "metadata": {},
     "output_type": "execute_result"
    }
   ],
   "source": [
    "logs = pd.read_csv('/datasets/logs_exp.csv', sep='\\t')\n",
    "\n",
    "logs.head(10)"
   ]
  },
  {
   "cell_type": "code",
   "execution_count": 3,
   "metadata": {},
   "outputs": [
    {
     "name": "stdout",
     "output_type": "stream",
     "text": [
      "<class 'pandas.core.frame.DataFrame'>\n",
      "RangeIndex: 244126 entries, 0 to 244125\n",
      "Data columns (total 4 columns):\n",
      " #   Column          Non-Null Count   Dtype \n",
      "---  ------          --------------   ----- \n",
      " 0   EventName       244126 non-null  object\n",
      " 1   DeviceIDHash    244126 non-null  int64 \n",
      " 2   EventTimestamp  244126 non-null  int64 \n",
      " 3   ExpId           244126 non-null  int64 \n",
      "dtypes: int64(3), object(1)\n",
      "memory usage: 7.5+ MB\n"
     ]
    }
   ],
   "source": [
    "logs.info()"
   ]
  },
  {
   "cell_type": "markdown",
   "metadata": {},
   "source": [
    "**Структура данных:**\n",
    "\n",
    "- **EventName - название события, object**\n",
    "- **DeviceIDHash - уникальный идентификатор пользователя, int64**\n",
    "- **EventTimestamp - время события в формате timestamp, int64**\n",
    "- **ExpId - номер эксперимента: 246 и 247 - контрольные группы, а 248 - экспериментальная, int64**"
   ]
  },
  {
   "cell_type": "markdown",
   "metadata": {},
   "source": [
    "## Шаг 2. Подготовьте данные\n",
    "\n",
    "### Замените названия столбцов на удобные для вас.\n",
    "\n",
    "**Изменим шрифт столбцов на змеиный:**"
   ]
  },
  {
   "cell_type": "code",
   "execution_count": 4,
   "metadata": {},
   "outputs": [],
   "source": [
    "def snake_type(data):\n",
    "    '''\n",
    "    Функция принимает датафрейм.\n",
    "    Возвращает список с измененными\n",
    "    названиями столбцов под змеиный шрифт.\n",
    "    '''\n",
    "    columns = []\n",
    "    for i in data.columns:\n",
    "        column_name = []\n",
    "        for j in i:\n",
    "            if j == ' ':\n",
    "                column_name.append('_')\n",
    "            elif j == i[0] and j.isupper():\n",
    "                column_name.append(str.lower(j))\n",
    "            elif j.isupper():\n",
    "                column_name.append(f'_{str.lower(j)}')\n",
    "            else:\n",
    "                column_name.append(j)\n",
    "        columns.append(''.join(column_name))\n",
    "    return columns\n",
    "\n",
    "logs.columns = snake_type(logs)"
   ]
  },
  {
   "cell_type": "markdown",
   "metadata": {},
   "source": [
    "### Проверьте пропуски и типы данных. Откорректируйте, если нужно.\n",
    "\n",
    "**Тип данных проверен в шаге с открытием файла и изучением данным. Менять тип данных пока-что нет обоснований.**\n",
    "\n",
    "**Проверяем наличие пропусков:**"
   ]
  },
  {
   "cell_type": "code",
   "execution_count": 5,
   "metadata": {},
   "outputs": [
    {
     "data": {
      "text/plain": [
       "event_name         0\n",
       "device_id_hash     0\n",
       "event_timestamp    0\n",
       "exp_id             0\n",
       "dtype: int64"
      ]
     },
     "execution_count": 5,
     "metadata": {},
     "output_type": "execute_result"
    }
   ],
   "source": [
    "logs.isna().sum()"
   ]
  },
  {
   "cell_type": "markdown",
   "metadata": {},
   "source": [
    "**Пропуски отсутствуют. Проверим наличие явных дубликатов:**"
   ]
  },
  {
   "cell_type": "code",
   "execution_count": 6,
   "metadata": {},
   "outputs": [
    {
     "data": {
      "text/plain": [
       "413"
      ]
     },
     "execution_count": 6,
     "metadata": {},
     "output_type": "execute_result"
    }
   ],
   "source": [
    "logs.duplicated().sum()"
   ]
  },
  {
   "cell_type": "markdown",
   "metadata": {},
   "source": [
    "**413 явных дубликатов, это приблизительно 0.17% от всех данных, по этому будет не критично их удалить.**\n",
    "\n",
    "**Удаляем дубликаты:**"
   ]
  },
  {
   "cell_type": "code",
   "execution_count": 7,
   "metadata": {},
   "outputs": [],
   "source": [
    "logs = logs.drop_duplicates()"
   ]
  },
  {
   "cell_type": "markdown",
   "metadata": {},
   "source": [
    "**Проверим наличие неявных дубликатов в уникальных названиях событий:**"
   ]
  },
  {
   "cell_type": "code",
   "execution_count": 8,
   "metadata": {},
   "outputs": [
    {
     "data": {
      "text/plain": [
       "array(['MainScreenAppear', 'PaymentScreenSuccessful', 'CartScreenAppear',\n",
       "       'OffersScreenAppear', 'Tutorial'], dtype=object)"
      ]
     },
     "execution_count": 8,
     "metadata": {},
     "output_type": "execute_result"
    }
   ],
   "source": [
    "logs['event_name'].unique()"
   ]
  },
  {
   "cell_type": "markdown",
   "metadata": {},
   "source": [
    "**Возможные неявные дубликаты отсутствуют.**"
   ]
  },
  {
   "cell_type": "markdown",
   "metadata": {},
   "source": [
    "### Добавьте столбец даты и времени, а также отдельный столбец дат."
   ]
  },
  {
   "cell_type": "code",
   "execution_count": 9,
   "metadata": {},
   "outputs": [],
   "source": [
    "# Столбцец с датой и временем\n",
    "logs['event_datetime'] = pd.to_datetime(logs['event_timestamp'], unit='s')\n",
    "\n",
    "# Столбец с датой\n",
    "logs['event_date'] = (pd.to_datetime(logs['event_timestamp'], unit='s')).dt.date"
   ]
  },
  {
   "cell_type": "markdown",
   "metadata": {},
   "source": [
    "**Проверяем информацию датафрейма после предобработки данных:**"
   ]
  },
  {
   "cell_type": "code",
   "execution_count": 10,
   "metadata": {},
   "outputs": [
    {
     "name": "stdout",
     "output_type": "stream",
     "text": [
      "<class 'pandas.core.frame.DataFrame'>\n",
      "Int64Index: 243713 entries, 0 to 244125\n",
      "Data columns (total 6 columns):\n",
      " #   Column           Non-Null Count   Dtype         \n",
      "---  ------           --------------   -----         \n",
      " 0   event_name       243713 non-null  object        \n",
      " 1   device_id_hash   243713 non-null  int64         \n",
      " 2   event_timestamp  243713 non-null  int64         \n",
      " 3   exp_id           243713 non-null  int64         \n",
      " 4   event_datetime   243713 non-null  datetime64[ns]\n",
      " 5   event_date       243713 non-null  object        \n",
      "dtypes: datetime64[ns](1), int64(3), object(2)\n",
      "memory usage: 13.0+ MB\n"
     ]
    }
   ],
   "source": [
    "logs.info()"
   ]
  },
  {
   "cell_type": "markdown",
   "metadata": {},
   "source": [
    "### Вывод по предобработке данных.\n",
    "\n",
    "- **Шрифт названий столбцов изменён на змеиный;**\n",
    "- **Пропуски отсутствуют;**\n",
    "- **Удалены явные дубликаты, возможные неявные дубликаты отсутствуют;**\n",
    "- **Добавлены столбцы с датой и временем.**\n",
    "\n",
    "**Структура данных после предобработки:**\n",
    "\n",
    "- **event_name - название события, object**\n",
    "- **device_id_hash  - уникальный идентификатор пользователя, int64**\n",
    "- **event_timestamp  - время события в формате timestamp, int64**\n",
    "- **exp_id - номер эксперимента: 246 и 247 - контрольные группы, а 248 - экспериментальная, int64**\n",
    "- **event_datetime - дата и время события, datetime64[ns]**\n",
    "- **event_date - дата события, object**"
   ]
  },
  {
   "cell_type": "markdown",
   "metadata": {},
   "source": [
    "## Шаг 3. Изучите и проверьте данные\n",
    "\n",
    "### Сколько всего событий в логе?"
   ]
  },
  {
   "cell_type": "code",
   "execution_count": 11,
   "metadata": {},
   "outputs": [
    {
     "name": "stdout",
     "output_type": "stream",
     "text": [
      "Всего событий в логе произошло: 243713\n",
      "\n",
      "Уникальных событий в логе: 5\n"
     ]
    }
   ],
   "source": [
    "print('Всего событий в логе произошло:', logs['event_name'].count())\n",
    "\n",
    "print('')\n",
    "\n",
    "print('Уникальных событий в логе:',\n",
    "     (logs.pivot_table(index='event_name', aggfunc={'event_name': 'nunique'}))['event_name'].sum())"
   ]
  },
  {
   "cell_type": "markdown",
   "metadata": {},
   "source": [
    "### Сколько всего пользователей в логе?"
   ]
  },
  {
   "cell_type": "code",
   "execution_count": 12,
   "metadata": {},
   "outputs": [
    {
     "name": "stdout",
     "output_type": "stream",
     "text": [
      "Всего пользователей в логе: 7551\n"
     ]
    }
   ],
   "source": [
    "print('Всего пользователей в логе:',\n",
    "     (logs.pivot_table(index='device_id_hash', aggfunc={'device_id_hash': 'nunique'}))['device_id_hash'].sum())"
   ]
  },
  {
   "cell_type": "markdown",
   "metadata": {},
   "source": [
    "### Сколько в среднем событий приходится на пользователя?"
   ]
  },
  {
   "cell_type": "code",
   "execution_count": 13,
   "metadata": {},
   "outputs": [
    {
     "name": "stdout",
     "output_type": "stream",
     "text": [
      "В среднем всего произошло событий на пользователя: 32.0\n",
      "\n",
      "В среднем произошло уникальных событий на пользователя: 3.0\n"
     ]
    }
   ],
   "source": [
    "print('В среднем всего произошло событий на пользователя:',\n",
    "    (logs.pivot_table(index='device_id_hash', values='event_name', aggfunc='count'))['event_name'].mean().round())\n",
    "\n",
    "print('')\n",
    "\n",
    "print('В среднем произошло уникальных событий на пользователя:',\n",
    "    (logs.pivot_table(index='device_id_hash', values='event_name', aggfunc='nunique'))['event_name'].mean().round())"
   ]
  },
  {
   "cell_type": "markdown",
   "metadata": {},
   "source": [
    "### Данными за какой период вы располагаете? Найдите максимальную и минимальную дату. Изучите, как меняется количество данных: постройте столбчатую диаграмму, которая отобразит количество событий в зависимости от времени в разрезе групп. Можно ли быть уверенным, что у вас одинаково полные данные за весь период? Технически в логи новых дней по некоторым пользователям могут «доезжать» события из прошлого — это может «перекашивать данные». Определите, с какого момента данные полные и отбросьте более старые. Данными за какой период времени вы располагаете на самом деле?\n",
    "\n",
    "**Находим минимальную и максимальную дату в логе:**"
   ]
  },
  {
   "cell_type": "code",
   "execution_count": 14,
   "metadata": {},
   "outputs": [
    {
     "name": "stdout",
     "output_type": "stream",
     "text": [
      "Минимальная дата в логе: 2019-07-25\n",
      "Максимальная дата в логе: 2019-08-07\n"
     ]
    }
   ],
   "source": [
    "print('Минимальная дата в логе:', logs['event_datetime'].min().date())\n",
    "print('Максимальная дата в логе:', logs['event_datetime'].max().date())"
   ]
  },
  {
   "cell_type": "markdown",
   "metadata": {},
   "source": [
    "**Строим диаграммы для сравнения, полные ли данные по событиям по группам за весь период:**"
   ]
  },
  {
   "cell_type": "code",
   "execution_count": 15,
   "metadata": {
    "scrolled": false
   },
   "outputs": [
    {
     "data": {
      "image/png": "[encoded data removed]",
      "text/plain": [
       "<Figure size 1296x576 with 1 Axes>"
      ]
     },
     "metadata": {
      "needs_background": "light"
     },
     "output_type": "display_data"
    },
    {
     "data": {
      "image/png": "[encoded data removed]",
      "text/plain": [
       "<Figure size 1296x576 with 1 Axes>"
      ]
     },
     "metadata": {
      "needs_background": "light"
     },
     "output_type": "display_data"
    },
    {
     "data": {
      "image/png": "[encoded data removed]",
      "text/plain": [
       "<Figure size 1296x576 with 1 Axes>"
      ]
     },
     "metadata": {
      "needs_background": "light"
     },
     "output_type": "display_data"
    }
   ],
   "source": [
    "def events_count_bar(group):\n",
    "    '''\n",
    "    Функция принимает номер экспериментальной группы;\n",
    "    Выводит столбчатую диаграмму с распределением количества\n",
    "    событий по датам.\n",
    "    '''\n",
    "    # Группируем данные по дате\n",
    "    group_events = (logs\n",
    "                    .query('exp_id == @group')\n",
    "                    .pivot_table(index='event_date', values='event_name', aggfunc='count'))\n",
    "    \n",
    "    # Вывод графика\n",
    "    plt.figure(figsize=(18, 8))\n",
    "    plt.bar(group_events.index, group_events['event_name'])\n",
    "    plt.xlabel('Дата')\n",
    "    plt.ylabel('Количество событий')\n",
    "    plt.title(f'Количество событий по группе {group}')\n",
    "    plt.show()\n",
    "\n",
    "# Строим графики через функцию\n",
    "for i in logs['exp_id'].unique():\n",
    "    events_count_bar(i)"
   ]
  },
  {
   "cell_type": "markdown",
   "metadata": {},
   "source": [
    "**Событий до 2019-07-31 включительно крайне мало, по сравнению с количеством событий после этой даты.**\n",
    "\n",
    "**Можно считать полными и актуальными данными все логи, которые произошли от 2019-08-01 включительно.**\n",
    "\n",
    "**Удаляем неполные данные:**"
   ]
  },
  {
   "cell_type": "code",
   "execution_count": 16,
   "metadata": {},
   "outputs": [],
   "source": [
    "actual_logs = logs.query('event_datetime >= \"2019-08-01 00:00\"')"
   ]
  },
  {
   "cell_type": "markdown",
   "metadata": {},
   "source": [
    "### Много ли событий и пользователей вы потеряли, отбросив старые данные?"
   ]
  },
  {
   "cell_type": "code",
   "execution_count": 17,
   "metadata": {},
   "outputs": [
    {
     "name": "stdout",
     "output_type": "stream",
     "text": [
      "Актуальное количество событий: 240887\n",
      "Актуальное количество пользователей: 7534\n",
      "\n",
      "Доля потерянных событий (всех данных лога): 1.16%\n",
      "Доля потерянных пользователей: 0.23%\n"
     ]
    }
   ],
   "source": [
    "# Считаем кол-во событий по сырым и актуальным данным\n",
    "logs_count = (logs['event_name'].count())\n",
    "actual_logs_count = (actual_logs['event_name'].count())\n",
    "\n",
    "# Считаем кол-во пользователей по сырым и актуальным данным\n",
    "users_count = (logs\n",
    "               .pivot_table(index='device_id_hash', aggfunc={'device_id_hash': 'nunique'})['device_id_hash']\n",
    "               .sum())\n",
    "actual_users_count = (actual_logs\n",
    "                      .pivot_table(index='device_id_hash', aggfunc={'device_id_hash': 'nunique'})['device_id_hash']\n",
    "                      .sum())\n",
    "\n",
    "# Выводим количества актуальных событий и пользователей\n",
    "print('Актуальное количество событий:', actual_logs_count)\n",
    "print('Актуальное количество пользователей:', actual_users_count)\n",
    "\n",
    "print('')\n",
    "\n",
    "# Выводим доли\n",
    "print(f'Доля потерянных событий (всех данных лога): {((logs_count - actual_logs_count) / logs_count * 100).round(2)}%')\n",
    "print(f'Доля потерянных пользователей: {((users_count - actual_users_count) / users_count * 100).round(2)}%')"
   ]
  },
  {
   "cell_type": "markdown",
   "metadata": {},
   "source": [
    "**Доля потерянных событий не критична, как и доля потерянных пользователей.**"
   ]
  },
  {
   "cell_type": "markdown",
   "metadata": {},
   "source": [
    "### Проверьте, что у вас есть пользователи из всех трёх экспериментальных групп."
   ]
  },
  {
   "cell_type": "code",
   "execution_count": 18,
   "metadata": {},
   "outputs": [
    {
     "name": "stdout",
     "output_type": "stream",
     "text": [
      "Кол-во пользователей группы 246: 2484\n",
      "Кол-во пользователей группы 247: 2513\n",
      "Кол-во пользователей группы 248: 2537\n"
     ]
    }
   ],
   "source": [
    "for i in actual_logs['exp_id'].unique():\n",
    "    print(f'Кол-во пользователей группы {i}:',\n",
    "          (actual_logs\n",
    "          .query('exp_id == @i')\n",
    "          .pivot_table(index='device_id_hash',\n",
    "                      aggfunc={'device_id_hash': 'nunique'}))['device_id_hash'].sum())"
   ]
  },
  {
   "cell_type": "markdown",
   "metadata": {},
   "source": [
    "### Вывод по изучению и проверке данных.\n",
    "\n",
    "- **Минимальная дата в логе: 2019-07-25**\n",
    "- **Максимальная дата в логе: 2019-08-07**\n",
    "\n",
    "\n",
    "- **Всего событий в логе произошло: 243713**\n",
    "- **Уникальных событий в логе: 5**\n",
    "- **Всего пользователей в логе: 7551**\n",
    "- **В среднем всего произошло событий на пользователя: 32**\n",
    "- **В среднем произошло уникальных событий на пользователя: 3**\n",
    "\n",
    "**Как видно по столбчатой диаграмме событий по датам, событий до 2019-07-31 включительно крайне мало, по сравнению с количеством событий после этой даты.**\n",
    "\n",
    "**Можно считать полными и актуальными данными все логи, которые произошли от 2019-08-01 включительно.**\n",
    "\n",
    "- **Актуальное количество событий: 240887**\n",
    "- **Актуальное количество пользователей: 7534**\n",
    "\n",
    "\n",
    "- **Доля потерянных событий: 1.16%**\n",
    "- **Доля потерянных пользователей: 0.23%**\n",
    "\n",
    "**Количество пользователей по группам по актуальным данным:**\n",
    "\n",
    "- **Группа 246: 2484**\n",
    "- **Группа 247: 2513**\n",
    "- **Группа 248: 2537**"
   ]
  },
  {
   "cell_type": "markdown",
   "metadata": {},
   "source": [
    "## Шаг 4. Изучите воронку событий\n",
    "\n",
    "### Посмотрите, какие события есть в логах, как часто они встречаются. Отсортируйте события по частоте.\n",
    "\n",
    "**Предположим, какие есть события:**"
   ]
  },
  {
   "cell_type": "code",
   "execution_count": 19,
   "metadata": {},
   "outputs": [
    {
     "name": "stdout",
     "output_type": "stream",
     "text": [
      "['MainScreenAppear' 'PaymentScreenSuccessful' 'CartScreenAppear'\n",
      " 'OffersScreenAppear' 'Tutorial']\n"
     ]
    }
   ],
   "source": [
    "print(logs['event_name'].unique())"
   ]
  },
  {
   "cell_type": "markdown",
   "metadata": {},
   "source": [
    "- **MainScreenAppear - главный экран;**\n",
    "- **PaymentScreenSuccessful - страница успешной оплаты;**\n",
    "- **CartScreenAppear - страница корзины;**\n",
    "- **OffersScreenAppear - страница с предложением;**\n",
    "- **Tutorial - страница с обучением, скорее всего обучение интерфейсу.**"
   ]
  },
  {
   "cell_type": "markdown",
   "metadata": {},
   "source": [
    "**Посмотрим на частоту событий:**"
   ]
  },
  {
   "cell_type": "code",
   "execution_count": 20,
   "metadata": {},
   "outputs": [
    {
     "data": {
      "image/png": "[encoded data removed]",
      "text/plain": [
       "<Figure size 1296x576 with 1 Axes>"
      ]
     },
     "metadata": {
      "needs_background": "light"
     },
     "output_type": "display_data"
    }
   ],
   "source": [
    "# Группируем кол-во событий по событиям\n",
    "events_count = (actual_logs\n",
    "                .pivot_table(index='event_name', aggfunc={'event_name': 'count'})\n",
    "                .rename(columns={'event_name': 'count'})\n",
    "                .sort_values(by='count'))\n",
    "\n",
    "# Вывод графика\n",
    "plt.figure(figsize=(18, 8))\n",
    "plt.bar(events_count.index, events_count['count'])\n",
    "plt.xlabel('События')\n",
    "plt.ylabel('Количество событий')\n",
    "plt.title('Частота событий в приложений')\n",
    "for index, value in enumerate(events_count['count']):\n",
    "    plt.text(index, value, str(round(value, 0)), ha='center', va='bottom')\n",
    "plt.show()"
   ]
  },
  {
   "cell_type": "markdown",
   "metadata": {},
   "source": [
    "**Пользователи часто отклоняют обучение интерфейсу.**\n",
    "\n",
    "**По всем событиям открытие страницы с успешной оплатой меньше, чем самих страниц с корзиной или предложением.**"
   ]
  },
  {
   "cell_type": "markdown",
   "metadata": {},
   "source": [
    "### Посчитайте, сколько пользователей совершали каждое из этих событий. Отсортируйте события по числу пользователей. Посчитайте долю пользователей, которые хоть раз совершали событие.\n",
    "\n",
    "**Посмотрим на распределение событий на каждого пользователя и долей пользователя на событие:**"
   ]
  },
  {
   "cell_type": "code",
   "execution_count": 21,
   "metadata": {
    "scrolled": false
   },
   "outputs": [
    {
     "data": {
      "image/png": "[encoded data removed]",
      "text/plain": [
       "<Figure size 1296x576 with 1 Axes>"
      ]
     },
     "metadata": {
      "needs_background": "light"
     },
     "output_type": "display_data"
    },
    {
     "data": {
      "text/plain": [
       "'GitHub не выводит графики plotly.graph_objects, вставлены скриншоты работы этой библиотеки.'"
      ]
     },
     "execution_count": 21,
     "metadata": {},
     "output_type": "execute_result"
    }
   ],
   "source": [
    "# Группируем данные\n",
    "events_count_by_users = (actual_logs\n",
    "                         .pivot_table(index='event_name', values='device_id_hash', aggfunc='nunique')\n",
    "                         .rename(columns={'device_id_hash': 'count'})\n",
    "                         .sort_values(by='count'))\n",
    "\n",
    "# Столбчатая диаграмма с распределением событий на каждого пользователя\n",
    "plt.figure(figsize=(18, 8))\n",
    "plt.bar(events_count_by_users.index, events_count_by_users['count'])\n",
    "plt.xlabel('События')\n",
    "plt.ylabel('Количество событий')\n",
    "plt.title('Распределение события на каждого пользователя')\n",
    "for index, value in enumerate(events_count_by_users['count']):\n",
    "    plt.text(index, value, str(round(value, 0)), ha='center', va='bottom')\n",
    "plt.show()\n",
    "\n",
    "# Удаляем событие Tutorial и сортируем значения в другом порядке\n",
    "mask = events_count_by_users.loc[events_count_by_users.index == 'Tutorial']\n",
    "events_count_by_users = (events_count_by_users\n",
    "                         .drop(index=mask.index)\n",
    "                         .sort_values(by='count', ascending=False))\n",
    "\n",
    "# Считаем доли пользователей\n",
    "events_count_by_users_sum = events_count_by_users['count'].sum()\n",
    "events_count_by_users['percent'] = (events_count_by_users['count'] / events_count_by_users_sum * 100).round(2)\n",
    "\n",
    "\"\"\"GitHub не выводит графики plotly.graph_objects, вставлены скриншоты работы этой библиотеки.\"\"\"\n",
    "## Построение диаграммы воронки\n",
    "#fig=go.Figure(go.Funnel(\n",
    "#    y=events_count_by_users.index,\n",
    "#    x=events_count_by_users['percent']))\n",
    "#fig.update_layout(\n",
    "#    title='Доли пользователей в процентах, которые минимум один раз заходили на страницу',\n",
    "#    yaxis_title='Страницы'\n",
    "#)\n",
    "#fig.show()"
   ]
  },
  {
   "attachments": {
    "newplot.png": {
     "image/png": "[encoded data removed]"
    }
   },
   "cell_type": "markdown",
   "metadata": {
    "scrolled": false
   },
   "source": [
    "![newplot.png](attachment:newplot.png)"
   ]
  },
  {
   "cell_type": "markdown",
   "metadata": {},
   "source": [
    "**Пользователи часто отклоняют обучение интерфейсу.**\n",
    "\n",
    "**Только приблизительно половина из пользователей, которые хоть раз открывали главный экран, доходит до экрана успешной оплаты. Долю таких пользователей мы ещё рассчитаем в этом шаге.**"
   ]
  },
  {
   "cell_type": "markdown",
   "metadata": {},
   "source": [
    "### Предположите, в каком порядке происходят события. Все ли они выстраиваются в последовательную цепочку? Их не нужно учитывать при расчёте воронки.\n",
    "\n",
    "**Возможны два варианта цепочек событий, как пользователь доходит до экрана с успешной оплатой:**\n",
    "\n",
    "- **Главный экран → Страница с предложением → Страница корзины → Экран успешной оплаты;**\n",
    "\n",
    "\n",
    "- **Обучение интерфейсу → Главный экран → Страница с предложением → Страница корзины → Экран успешной оплаты.**\n",
    "\n",
    "**Также возможно, что пользователь может заходить на страницы в хаотичном порядке, что может выбивать данные. К примеру, пользователь впервые с главной страницы заходит в корзину, пропуская страницу предложения, выходит из приложения и больше не пользуется им. Это в случае, если система аналитики может фиксировать такой переход.**"
   ]
  },
  {
   "cell_type": "markdown",
   "metadata": {},
   "source": [
    "### По воронке событий посчитайте, какая доля пользователей проходит на следующий шаг воронки (от числа пользователей на предыдущем). То есть для последовательности событий A → B → C посчитайте отношение числа пользователей с событием B к количеству пользователей с событием A, а также отношение числа пользователей с событием C к количеству пользователей с событием B.\n",
    "\n",
    "**Возьмём следующую воронку событий:**\n",
    "\n",
    "**A → B → C → D**\n",
    "\n",
    "**Где:**\n",
    "\n",
    "- **Главный экран - A;**\n",
    "- **Страница с предложением - B;**\n",
    "- **Страница корзины - C;**\n",
    "- **Экран успешной оплаты - D.**\n",
    "\n",
    "**Обучение интерфейсу брать не будем, так-как большинство пользователей его пропускают, и нам важен путь пользователя до страницы с успешной оплатой.**"
   ]
  },
  {
   "cell_type": "code",
   "execution_count": 22,
   "metadata": {},
   "outputs": [
    {
     "name": "stdout",
     "output_type": "stream",
     "text": [
      "Доля пользователей при переходе A → B: 61.91%\n",
      "Доля пользователей при переходе B → C: 81.3%\n",
      "Доля пользователей при переходе C → D: 94.78%\n"
     ]
    }
   ],
   "source": [
    "main_screen_count = (events_count_by_users.query('index == \"MainScreenAppear\"')['count']).sum()\n",
    "offer_screen_count = (events_count_by_users.query('index == \"OffersScreenAppear\"')['count']).sum()\n",
    "cart_screen_count = (events_count_by_users.query('index == \"CartScreenAppear\"')['count']).sum()\n",
    "payment_screen_count = (events_count_by_users.query('index == \"PaymentScreenSuccessful\"')['count']).sum()\n",
    "\n",
    "print(f'Доля пользователей при переходе A → B: {((offer_screen_count / main_screen_count) * 100).round(2)}%')\n",
    "print(f'Доля пользователей при переходе B → C: {((cart_screen_count / offer_screen_count) * 100).round(2)}%')\n",
    "print(f'Доля пользователей при переходе C → D: {((payment_screen_count / cart_screen_count) * 100).round(2)}%')"
   ]
  },
  {
   "cell_type": "markdown",
   "metadata": {},
   "source": [
    "**94.78% пользователей, которые заходили в корзину, оплачивали товар.**\n",
    "\n",
    "**До самого предложения с главного экрана переходило только 61.91% пользователей. Скорее всего есть проблема в интерфейсе, то что пользователям сложно или не вызывает желания открывать само предложение. Но точно мы пока-что знать не можем.**"
   ]
  },
  {
   "cell_type": "markdown",
   "metadata": {},
   "source": [
    "### На каком шаге теряете больше всего пользователей?\n",
    "\n",
    "**На главном экране.**"
   ]
  },
  {
   "cell_type": "markdown",
   "metadata": {},
   "source": [
    "### Какая доля пользователей доходит от первого события до оплаты?"
   ]
  },
  {
   "cell_type": "code",
   "execution_count": 23,
   "metadata": {},
   "outputs": [
    {
     "name": "stdout",
     "output_type": "stream",
     "text": [
      "Доля пользователей, которая доходит от главной страницы к странице успешной оплаты: 47.7%\n"
     ]
    }
   ],
   "source": [
    "print(f'Доля пользователей, которая доходит от главной страницы к странице успешной оплаты: \\\n",
    "{((payment_screen_count / main_screen_count) * 100).round(2)}%')"
   ]
  },
  {
   "cell_type": "markdown",
   "metadata": {},
   "source": [
    "**Как и предполагали, до страницы с успешной оплатой доходит приблизительно половина пользователей.**\n",
    "\n",
    "**Конверсия 47.7% - хороший показатель. Примерно каждый второй пользователь приложения доходит до успешной оплаты.**"
   ]
  },
  {
   "cell_type": "markdown",
   "metadata": {},
   "source": [
    "### Вывод по изучению воронки событий.\n",
    "\n",
    "**В воронке событий есть следующие события:**\n",
    "\n",
    "- **MainScreenAppear - главный экран;**\n",
    "- **PaymentScreenSuccessful - страница успешной оплаты;**\n",
    "- **CartScreenAppear - страница корзины;**\n",
    "- **OffersScreenAppear - страница с предложением;**\n",
    "- **Tutorial - страница с обучением, скорее всего обучение интерфейсу.**\n",
    "\n",
    "\n",
    "**Пользователи часто отклоняют обучение интерфейсу, если сравнить доли открытия главного экрана и открытия обучения.**\n",
    "\n",
    "\n",
    "**Возможны два варианта цепочек событий, как пользователь доходит до экрана с успешной оплатой:**\n",
    "\n",
    "- **Главный экран → Страница с предложением → Страница корзины → Экран успешной оплаты;**\n",
    "\n",
    "- **Обучение интерфейсу → Главный экран → Страница с предложением → Страница корзины → Экран успешной оплаты.**\n",
    "\n",
    "\n",
    "**Также возможно, что пользователь может заходить на страницы в хаотичном порядке, что может выбивать данные. К примеру, пользователь впервые с главной страницы заходит в корзину, пропуская страницу предложения, выходит из приложения и больше не пользуется им. Это в случае, если система аналитики может фиксировать такой переход.**\n",
    "\n",
    "\n",
    "**Доли пользователей при переходе по воронке событий:**\n",
    "- **Доля пользователей при переходе A → B: 61.91%**\n",
    "- **Доля пользователей при переходе B → C: 81.3%**\n",
    "- **Доля пользователей при переходе C → D: 94.78%**\n",
    "\n",
    "**Где:**\n",
    "\n",
    "- **Главный экран - A;**\n",
    "- **Страница с предложением - B;**\n",
    "- **Страница корзины - C;**\n",
    "- **Экран успешной оплаты - D.**\n",
    "\n",
    "**На первом шаге, на переходе с главной страницы на страницу с предложением теряется больше всего пользователей.**\n",
    "\n",
    "\n",
    "**Доля пользователей, которая доходит от главной страницы к странице успешной оплаты: 47.7%**"
   ]
  },
  {
   "cell_type": "markdown",
   "metadata": {},
   "source": [
    "## Шаг 5. Изучите результаты эксперимента\n",
    "\n",
    "### Сколько пользователей в каждой экспериментальной группе?\n",
    "\n",
    "**Посмотрим количество пользователей в каждой группе, и проверим, чтобы каждый пользователь находился только в одной группе теста:**"
   ]
  },
  {
   "cell_type": "code",
   "execution_count": 24,
   "metadata": {},
   "outputs": [
    {
     "name": "stdout",
     "output_type": "stream",
     "text": [
      "Кол-во пользователей группы 246: 2484\n",
      "Кол-во пользователей группы 247: 2513\n",
      "Кол-во пользователей группы 248: 2537\n",
      "\n",
      "Все пользователи находятся только в одном эксперименте.\n"
     ]
    }
   ],
   "source": [
    "# Вывод количества пользователей в каждой группе\n",
    "for i in actual_logs['exp_id'].unique():\n",
    "    print(f'Кол-во пользователей группы {i}:',\n",
    "          (actual_logs\n",
    "          .query('exp_id == @i')\n",
    "          .pivot_table(index='device_id_hash',\n",
    "                      aggfunc={'device_id_hash': 'nunique'}))['device_id_hash'].sum())\n",
    "\n",
    "print('')\n",
    "\n",
    "# Проверка наличия пользователей в более чем одной группы\n",
    "user_per_group = (actual_logs.pivot_table(index='device_id_hash', values='exp_id', aggfunc='nunique'))\n",
    "non_unique_group = user_per_group.loc[user_per_group['exp_id'] > 1]\n",
    "\n",
    "if non_unique_group.empty: \n",
    "    print('Все пользователи находятся только в одном эксперименте.')\n",
    "else:\n",
    "    print('Некоторые пользователи участвуют в более чем одном эксперименте:')\n",
    "    print(non_unique_group)"
   ]
  },
  {
   "cell_type": "markdown",
   "metadata": {},
   "source": [
    "### Есть 2 контрольные группы для А/А-эксперимента, чтобы проверить корректность всех механизмов и расчётов. Проверьте, находят ли статистические критерии разницу между выборками 246 и 247.\n",
    "\n",
    "**Проверим разницу количества пользователей в контрольных группах A/A-теста:**"
   ]
  },
  {
   "cell_type": "code",
   "execution_count": 25,
   "metadata": {},
   "outputs": [
    {
     "name": "stdout",
     "output_type": "stream",
     "text": [
      "Различие кол-ва пользователей в группах A/A-теста: 1.15%\n"
     ]
    }
   ],
   "source": [
    "# Считаем количество пользователей по группам\n",
    "group_246_count = (actual_logs\n",
    "                   .query('exp_id == 246')\n",
    "                   .pivot_table(index='device_id_hash', aggfunc={'device_id_hash': 'nunique'})['device_id_hash']\n",
    "                   .sum())\n",
    "group_247_count = (actual_logs\n",
    "                   .query('exp_id == 247')\n",
    "                   .pivot_table(index='device_id_hash', aggfunc={'device_id_hash': 'nunique'})['device_id_hash']\n",
    "                   .sum())\n",
    "\n",
    "# Выводим разницу количества в процентах\n",
    "print(f'Различие кол-ва пользователей в группах A/A-теста: \\\n",
    "{((group_247_count - group_246_count) / group_247_count * 100).round(2)}%')"
   ]
  },
  {
   "cell_type": "markdown",
   "metadata": {},
   "source": [
    "**Различие составляет более 1%, это может говорить о неудаче A/A-тестов.**\n",
    "\n",
    "**Проверим с помощью теста с использованием величины z, есть ли статистическая значимость в различии долей пользователей. Формулировка гипотез:**\n",
    "\n",
    "- **Нулевая гипотеза: Доля пользователей группы 246 = Доля пользователей группы 247;**\n",
    "\n",
    "- **Альтернативная гипотеза: Доля пользователей группы 246 ≠ Доля пользователей группы 247.**"
   ]
  },
  {
   "cell_type": "code",
   "execution_count": 26,
   "metadata": {},
   "outputs": [
    {
     "name": "stdout",
     "output_type": "stream",
     "text": [
      "P-value: 0.68163\n",
      "Не отклоняем нулевую гипотезу: различие пользователей НЕ статистически значимо.\n"
     ]
    }
   ],
   "source": [
    "# Кол-во пользователей в контрольных группах\n",
    "control_groups_count = group_246_count + group_247_count\n",
    "\n",
    "# Доли пользователей\n",
    "p1 = group_246_count / control_groups_count\n",
    "p2 = group_247_count / control_groups_count\n",
    "\n",
    "# Объединенные доли\n",
    "p_combined = (group_246_count * p1 + group_247_count * p2) / (group_246_count + group_247_count)\n",
    "\n",
    "# Z-величина\n",
    "z_value = (p1 - p2) / mth.sqrt(p_combined * (1 - p_combined) * (1 / group_246_count + 1 / group_247_count))\n",
    "\n",
    "# Задаём стандартное нормальное распределение\n",
    "distr = st.norm(0, 1)\n",
    "\n",
    "alpha = 0.05\n",
    "\n",
    "p_value = (1 - distr.cdf(abs(z_value))) * 2\n",
    "\n",
    "print(f'P-value:', p_value.round(5))\n",
    "\n",
    "if p_value < 0.05:\n",
    "    print('Отклоняем нулевую гипотезу: различие пользователей статистически значимо.')\n",
    "else:\n",
    "    print('Не отклоняем нулевую гипотезу: различие пользователей НЕ статистически значимо.')"
   ]
  },
  {
   "cell_type": "markdown",
   "metadata": {},
   "source": [
    "**Различие по количеству пользователей в контрольных группах A/A-теста есть, но оно не статически значимо.**"
   ]
  },
  {
   "cell_type": "markdown",
   "metadata": {},
   "source": [
    "### Выберите самое популярное событие. Посчитайте число пользователей, совершивших это событие в каждой из контрольных групп. Посчитайте долю пользователей, совершивших это событие. Проверьте, будет ли отличие между группами статистически достоверным. Проделайте то же самое для всех других событий (удобно обернуть проверку в отдельную функцию). Можно ли сказать, что разбиение на группы работает корректно?\n",
    "\n",
    "**Самое популярное событие - главная страница.**\n",
    "\n",
    "**Считаем кол-во пользователей по главной странице и их доли:**"
   ]
  },
  {
   "cell_type": "code",
   "execution_count": 27,
   "metadata": {},
   "outputs": [
    {
     "name": "stdout",
     "output_type": "stream",
     "text": [
      "Кол-во пользователей группы 246, которые минимум 1 раз заходили на главную страницу: 2450\n",
      "Кол-во пользователей группы 247, которые минимум 1 раз заходили на главную страницу: 2476\n",
      "\n",
      "Доля пользователей группы 246, которые минимум 1 раз заходили на главную страницу:: 49.74%\n",
      "Доля пользователей группы 247, которые минимум 1 раз заходили на главную страницу:: 50.26%\n"
     ]
    }
   ],
   "source": [
    "main_screen_246 = (actual_logs\n",
    "                   .query('exp_id == 246 and event_name == \"MainScreenAppear\"')\n",
    "                   .pivot_table(index='device_id_hash', aggfunc={'device_id_hash': 'nunique'})['device_id_hash']\n",
    "                   .sum())\n",
    "main_screen_247 = (actual_logs\n",
    "                   .query('exp_id == 247 and event_name == \"MainScreenAppear\"')\n",
    "                   .pivot_table(index='device_id_hash', aggfunc={'device_id_hash': 'nunique'})['device_id_hash']\n",
    "                   .sum())\n",
    "\n",
    "main_screen_246_247 = main_screen_246 + main_screen_247\n",
    "\n",
    "main_screen_246_part = (main_screen_246 / main_screen_246_247 * 100).round(2)\n",
    "main_screen_247_part = (main_screen_247 / main_screen_246_247 * 100).round(2)\n",
    "\n",
    "print(f'Кол-во пользователей группы 246, которые минимум 1 раз заходили на главную страницу: {main_screen_246}')\n",
    "print(f'Кол-во пользователей группы 247, которые минимум 1 раз заходили на главную страницу: {main_screen_247}')\n",
    "\n",
    "print('')\n",
    "\n",
    "print(f'Доля пользователей группы 246, которые минимум 1 раз заходили на главную страницу:: {main_screen_246_part}%')\n",
    "print(f'Доля пользователей группы 247, которые минимум 1 раз заходили на главную страницу:: {main_screen_247_part}%')"
   ]
  },
  {
   "cell_type": "markdown",
   "metadata": {},
   "source": [
    "**Проведём тесты о равенстве долях на каждом событий между контрольными группами A/A-теста.**\n",
    "\n",
    "**Так-как здесь будет проводится множественная проверка гипотез, применим коррекцию к уровню значимости.**"
   ]
  },
  {
   "cell_type": "code",
   "execution_count": 28,
   "metadata": {},
   "outputs": [
    {
     "name": "stdout",
     "output_type": "stream",
     "text": [
      "Корректированный уровень значимости: 0.0032006977101884937\n",
      "\n",
      "\n",
      "\n",
      "Событие: MainScreenAppear\n",
      "Нулевая гипотеза: Доля пользователей группы 246 = Доля пользователей группы 247\n",
      "Альтернативная гипотеза: Доля пользователей группы 246 ≠ Доля пользователей группы 247\n",
      "\n",
      "P-value: 0.75706\n",
      "Не отклоняем нулевую гипотезу: различие пользователей НЕ статистически значимо.\n",
      "\n",
      "\n",
      "\n",
      "Событие: OffersScreenAppear\n",
      "Нулевая гипотеза: Доля пользователей группы 246 = Доля пользователей группы 247\n",
      "Альтернативная гипотеза: Доля пользователей группы 246 ≠ Доля пользователей группы 247\n",
      "\n",
      "P-value: 0.2481\n",
      "Не отклоняем нулевую гипотезу: различие пользователей НЕ статистически значимо.\n",
      "\n",
      "\n",
      "\n",
      "Событие: CartScreenAppear\n",
      "Нулевая гипотеза: Доля пользователей группы 246 = Доля пользователей группы 247\n",
      "Альтернативная гипотеза: Доля пользователей группы 246 ≠ Доля пользователей группы 247\n",
      "\n",
      "P-value: 0.22883\n",
      "Не отклоняем нулевую гипотезу: различие пользователей НЕ статистически значимо.\n",
      "\n",
      "\n",
      "\n",
      "Событие: PaymentScreenSuccessful\n",
      "Нулевая гипотеза: Доля пользователей группы 246 = Доля пользователей группы 247\n",
      "Альтернативная гипотеза: Доля пользователей группы 246 ≠ Доля пользователей группы 247\n",
      "\n",
      "P-value: 0.11457\n",
      "Не отклоняем нулевую гипотезу: различие пользователей НЕ статистически значимо.\n"
     ]
    }
   ],
   "source": [
    "def hypothesis_test(data, group_one, group_two, event_name, alpha=0.05):\n",
    "    '''\n",
    "    Функция по рассчету статистической значимости между двумя группами\n",
    "    по определенному событию.\n",
    "    \n",
    "    Функция принимает:\n",
    "    - data - датафрейм;\n",
    "    - group_one - название первой группы теста;\n",
    "    - group_two - название второй группы теста;\n",
    "    - event_name - название события;\n",
    "    - alpha - уровень значимости теста (по умлочанию = 0.05).\n",
    "    \n",
    "    Выводит через функцию print():\n",
    "    - Название события;\n",
    "    - Нулевую и альтернативную гипотезу;\n",
    "    - Значение P-value;\n",
    "    - Результат теста.\n",
    "    '''\n",
    "    # Количество пользователей по группам на событие\n",
    "    a_count = data.query('exp_id == @group_one and event_name == @event_name')['device_id_hash'].nunique()\n",
    "    b_count = data.query('exp_id == @group_two and event_name == @event_name')['device_id_hash'].nunique()\n",
    "\n",
    "    # Общее количество пользователей по группам\n",
    "    a_total_count = data.query('exp_id == @group_one')['device_id_hash'].nunique()\n",
    "    b_total_count = data.query('exp_id == @group_two')['device_id_hash'].nunique()\n",
    "\n",
    "    # Доли пользователей, которые выполнили событие в каждой группе\n",
    "    p1 = a_count / a_total_count\n",
    "    p2 = b_count / b_total_count\n",
    "\n",
    "    # Объединенная доля\n",
    "    p_combined = (a_count + b_count) / (a_total_count + b_total_count)\n",
    "\n",
    "    # Z-величина\n",
    "    z_value = (p1 - p2) / mth.sqrt(p_combined * (1 - p_combined) * (1 / a_total_count + 1 / b_total_count))\n",
    "\n",
    "    # Задаём стандартное нормальное распределение\n",
    "    distr = st.norm(0, 1)\n",
    "    \n",
    "    p_value = (1 - distr.cdf(abs(z_value))) * 2\n",
    "    \n",
    "    print(f'Событие: {event_name}')\n",
    "    print(f'Нулевая гипотеза: Доля пользователей группы {group_one} = Доля пользователей группы {group_two}')\n",
    "    print(f'Альтернативная гипотеза: Доля пользователей группы {group_one} ≠ Доля пользователей группы {group_two}')\n",
    "    \n",
    "    print('')\n",
    "    \n",
    "    print(f'P-value:', p_value.round(5))\n",
    "    \n",
    "    if p_value < alpha:\n",
    "        print('Отклоняем нулевую гипотезу: различие пользователей статистически значимо.')\n",
    "    else:\n",
    "        print('Не отклоняем нулевую гипотезу: различие пользователей НЕ статистически значимо.')\n",
    "\n",
    "def hypothesis_test_call(data, group_one, group_two, alpha=0.05):\n",
    "    '''\n",
    "    Функция для вызова функции hypothesis_test. Итерирует\n",
    "    вызов функции в зависимости от количества событий.\n",
    "    Исключает событие Tutorial.\n",
    "    Принимает:\n",
    "    - Датафрейм;\n",
    "    - Номер первой группы;\n",
    "    - Номер второй группы;\n",
    "    - Уровень значимости теста (по умолчанию = 0.05).\n",
    "    '''\n",
    "    for event_name in data['event_name'].unique():\n",
    "        if event_name == 'Tutorial':\n",
    "            pass\n",
    "        else:\n",
    "            print('')\n",
    "            print('')\n",
    "            print('')\n",
    "            hypothesis_test(data, group_one, group_two, event_name, alpha=alpha_corr)\n",
    "\n",
    "# Корректированный уровень значимости\n",
    "alpha_corr = 1-((1-0.05)**(1/16))\n",
    "\n",
    "print(f'Корректированный уровень значимости: {alpha_corr}')\n",
    "\n",
    "hypothesis_test_call(actual_logs, 246, 247, alpha_corr)"
   ]
  },
  {
   "cell_type": "markdown",
   "metadata": {},
   "source": [
    "**Группы не различны, A/A-тест работает корректно.**"
   ]
  },
  {
   "cell_type": "markdown",
   "metadata": {},
   "source": [
    "### Аналогично поступите с группой с изменённым шрифтом. Сравните результаты с каждой из контрольных групп в отдельности по каждому событию. Сравните результаты с объединённой контрольной группой. Какие выводы из эксперимента можно сделать?\n",
    "\n",
    "**Проводим тесты контрольнольной группы 246 и эксперементальной 248:**"
   ]
  },
  {
   "cell_type": "code",
   "execution_count": 29,
   "metadata": {},
   "outputs": [
    {
     "name": "stdout",
     "output_type": "stream",
     "text": [
      "\n",
      "\n",
      "\n",
      "Событие: MainScreenAppear\n",
      "Нулевая гипотеза: Доля пользователей группы 246 = Доля пользователей группы 248\n",
      "Альтернативная гипотеза: Доля пользователей группы 246 ≠ Доля пользователей группы 248\n",
      "\n",
      "P-value: 0.29497\n",
      "Не отклоняем нулевую гипотезу: различие пользователей НЕ статистически значимо.\n",
      "\n",
      "\n",
      "\n",
      "Событие: OffersScreenAppear\n",
      "Нулевая гипотеза: Доля пользователей группы 246 = Доля пользователей группы 248\n",
      "Альтернативная гипотеза: Доля пользователей группы 246 ≠ Доля пользователей группы 248\n",
      "\n",
      "P-value: 0.20836\n",
      "Не отклоняем нулевую гипотезу: различие пользователей НЕ статистически значимо.\n",
      "\n",
      "\n",
      "\n",
      "Событие: CartScreenAppear\n",
      "Нулевая гипотеза: Доля пользователей группы 246 = Доля пользователей группы 248\n",
      "Альтернативная гипотеза: Доля пользователей группы 246 ≠ Доля пользователей группы 248\n",
      "\n",
      "P-value: 0.07843\n",
      "Не отклоняем нулевую гипотезу: различие пользователей НЕ статистически значимо.\n",
      "\n",
      "\n",
      "\n",
      "Событие: PaymentScreenSuccessful\n",
      "Нулевая гипотеза: Доля пользователей группы 246 = Доля пользователей группы 248\n",
      "Альтернативная гипотеза: Доля пользователей группы 246 ≠ Доля пользователей группы 248\n",
      "\n",
      "P-value: 0.21226\n",
      "Не отклоняем нулевую гипотезу: различие пользователей НЕ статистически значимо.\n"
     ]
    }
   ],
   "source": [
    "hypothesis_test_call(actual_logs, 246, 248, alpha_corr)"
   ]
  },
  {
   "cell_type": "markdown",
   "metadata": {},
   "source": [
    "**Тесты контрольнольной группы 247 и эксперементальной 248:**"
   ]
  },
  {
   "cell_type": "code",
   "execution_count": 30,
   "metadata": {},
   "outputs": [
    {
     "name": "stdout",
     "output_type": "stream",
     "text": [
      "\n",
      "\n",
      "\n",
      "Событие: MainScreenAppear\n",
      "Нулевая гипотеза: Доля пользователей группы 247 = Доля пользователей группы 248\n",
      "Альтернативная гипотеза: Доля пользователей группы 247 ≠ Доля пользователей группы 248\n",
      "\n",
      "P-value: 0.45871\n",
      "Не отклоняем нулевую гипотезу: различие пользователей НЕ статистически значимо.\n",
      "\n",
      "\n",
      "\n",
      "Событие: OffersScreenAppear\n",
      "Нулевая гипотеза: Доля пользователей группы 247 = Доля пользователей группы 248\n",
      "Альтернативная гипотеза: Доля пользователей группы 247 ≠ Доля пользователей группы 248\n",
      "\n",
      "P-value: 0.91978\n",
      "Не отклоняем нулевую гипотезу: различие пользователей НЕ статистически значимо.\n",
      "\n",
      "\n",
      "\n",
      "Событие: CartScreenAppear\n",
      "Нулевая гипотеза: Доля пользователей группы 247 = Доля пользователей группы 248\n",
      "Альтернативная гипотеза: Доля пользователей группы 247 ≠ Доля пользователей группы 248\n",
      "\n",
      "P-value: 0.57862\n",
      "Не отклоняем нулевую гипотезу: различие пользователей НЕ статистически значимо.\n",
      "\n",
      "\n",
      "\n",
      "Событие: PaymentScreenSuccessful\n",
      "Нулевая гипотеза: Доля пользователей группы 247 = Доля пользователей группы 248\n",
      "Альтернативная гипотеза: Доля пользователей группы 247 ≠ Доля пользователей группы 248\n",
      "\n",
      "P-value: 0.73734\n",
      "Не отклоняем нулевую гипотезу: различие пользователей НЕ статистически значимо.\n"
     ]
    }
   ],
   "source": [
    "hypothesis_test_call(actual_logs, 247, 248, alpha_corr)"
   ]
  },
  {
   "cell_type": "markdown",
   "metadata": {},
   "source": [
    "**Объединяем контрольные группы 246 и 247 и тестируем с эксперементальной 248:**"
   ]
  },
  {
   "cell_type": "code",
   "execution_count": 31,
   "metadata": {},
   "outputs": [
    {
     "name": "stdout",
     "output_type": "stream",
     "text": [
      "\n",
      "\n",
      "\n",
      "Событие: MainScreenAppear\n",
      "Нулевая гипотеза: Доля пользователей группы 246+247 = Доля пользователей группы 248\n",
      "Альтернативная гипотеза: Доля пользователей группы 246+247 ≠ Доля пользователей группы 248\n",
      "\n",
      "P-value: 0.29425\n",
      "Не отклоняем нулевую гипотезу: различие пользователей НЕ статистически значимо.\n",
      "\n",
      "\n",
      "\n",
      "Событие: OffersScreenAppear\n",
      "Нулевая гипотеза: Доля пользователей группы 246+247 = Доля пользователей группы 248\n",
      "Альтернативная гипотеза: Доля пользователей группы 246+247 ≠ Доля пользователей группы 248\n",
      "\n",
      "P-value: 0.43426\n",
      "Не отклоняем нулевую гипотезу: различие пользователей НЕ статистически значимо.\n",
      "\n",
      "\n",
      "\n",
      "Событие: CartScreenAppear\n",
      "Нулевая гипотеза: Доля пользователей группы 246+247 = Доля пользователей группы 248\n",
      "Альтернативная гипотеза: Доля пользователей группы 246+247 ≠ Доля пользователей группы 248\n",
      "\n",
      "P-value: 0.18176\n",
      "Не отклоняем нулевую гипотезу: различие пользователей НЕ статистически значимо.\n",
      "\n",
      "\n",
      "\n",
      "Событие: PaymentScreenSuccessful\n",
      "Нулевая гипотеза: Доля пользователей группы 246+247 = Доля пользователей группы 248\n",
      "Альтернативная гипотеза: Доля пользователей группы 246+247 ≠ Доля пользователей группы 248\n",
      "\n",
      "P-value: 0.60043\n",
      "Не отклоняем нулевую гипотезу: различие пользователей НЕ статистически значимо.\n"
     ]
    }
   ],
   "source": [
    "# Создаём копию датафрейма actual_logs, в котором номера контрольных групп\n",
    "# переписаны как '246+247'\n",
    "actual_logs_test = actual_logs.copy()\n",
    "actual_logs_test['exp_id'] = (actual_logs_test['exp_id']\n",
    "                              .astype(str)\n",
    "                              .replace(['246', '247'], '246+247', regex=True))\n",
    "\n",
    "# Вызов функции для проведения тестов\n",
    "hypothesis_test_call(actual_logs_test, '246+247', '248', alpha_corr)"
   ]
  },
  {
   "cell_type": "markdown",
   "metadata": {},
   "source": [
    "**Между группами 246, 247 и 248 нет различий по доле пользователей на каждом шаге воронки. Как и между объединенными контрольными группами (246+247) и эксперементальной (248).**\n",
    "\n",
    "**Продолжать тесты на этих группах нет обоснований.**"
   ]
  },
  {
   "cell_type": "markdown",
   "metadata": {},
   "source": [
    "### Какой уровень значимости вы выбрали при проверке статистических гипотез выше? Посчитайте, сколько проверок статистических гипотез вы сделали. При уровне значимости 0.1 в 10% случаев можно ошибочно отклонить нулевую гипотезу при условии, что она верна. Какой уровень значимости стоит применить? Если вы хотите изменить его, проделайте предыдущие пункты и проверьте свои выводы.\n",
    "\n",
    "**Так-как на одних данных была множественная проверка гипотез, была применена коррекция уровня значимости по формуле метода Шидака:**\n",
    "\n",
    "**a_corr = 1-(1-a)^(1/n)**\n",
    "\n",
    "**Где:**\n",
    "- **a - уровень статистической значимости;**\n",
    "- **n - количество нулевых гипотез.**\n",
    "\n",
    "**В итоге корректированный уровень значимости получился такой:**"
   ]
  },
  {
   "cell_type": "code",
   "execution_count": 32,
   "metadata": {},
   "outputs": [
    {
     "name": "stdout",
     "output_type": "stream",
     "text": [
      "Корректированный уровень значимости: 0.0032006977101884937\n"
     ]
    }
   ],
   "source": [
    "print(f'Корректированный уровень значимости: {alpha_corr}')"
   ]
  },
  {
   "cell_type": "markdown",
   "metadata": {},
   "source": [
    "## Вывод по проделанной работе\n",
    "\n",
    "### Предобработка данных:\n",
    "\n",
    "- **Шрифт названий столбцов изменён на змеиный;**\n",
    "- **Пропуски отсутствуют;**\n",
    "- **Удалены явные дубликаты, возможные неявные дубликаты отсутствуют;**\n",
    "- **Добавлены столбцы с датой и временем.**\n",
    "\n",
    "**Структура данных после предобработки:**\n",
    "\n",
    "- **event_name - название события, object**\n",
    "- **device_id_hash  - уникальный идентификатор пользователя, int64**\n",
    "- **event_timestamp  - время события в формате timestamp, int64**\n",
    "- **exp_id - номер эксперимента: 246 и 247 - контрольные группы, а 248 - экспериментальная, int64**\n",
    "- **event_datetime - дата и время события, datetime64[ns]**\n",
    "- **event_date - дата события, object**\n",
    "\n",
    "\n",
    "### Изучение и проверка данных:\n",
    "\n",
    "- **Минимальная дата в логе: 2019-07-25**\n",
    "- **Максимальная дата в логе: 2019-08-07**\n",
    "\n",
    "\n",
    "- **Всего событий в логе произошло: 243713**\n",
    "- **Уникальных событий в логе: 5**\n",
    "- **Всего пользователей в логе: 7551**\n",
    "- **В среднем всего произошло событий на пользователя: 32**\n",
    "- **В среднем произошло уникальных событий на пользователя: 3**\n",
    "\n",
    "**Как видно по столбчатой диаграмме событий по датам, событий до 2019-07-31 включительно крайне мало, по сравнению с количеством событий после этой даты.**\n",
    "\n",
    "**Можно считать полными и актуальными данными все логи, которые произошли от 2019-08-01 включительно.**\n",
    "\n",
    "- **Актуальное количество событий: 240887**\n",
    "- **Актуальное количество пользователей: 7534**\n",
    "\n",
    "\n",
    "- **Доля потерянных событий: 1.16%**\n",
    "- **Доля потерянных пользователей: 0.23%**\n",
    "\n",
    "**Количество пользователей по группам по актуальным данным:**\n",
    "\n",
    "- **Группа 246: 2484**\n",
    "- **Группа 247: 2513**\n",
    "- **Группа 248: 2537**\n",
    "\n",
    "\n",
    "### Изучение воронки событий:\n",
    "\n",
    "**В воронке событий есть следующие события:**\n",
    "\n",
    "- **MainScreenAppear - главный экран;**\n",
    "- **PaymentScreenSuccessful - страница успешной оплаты;**\n",
    "- **CartScreenAppear - страница корзины;**\n",
    "- **OffersScreenAppear - страница с предложением;**\n",
    "- **Tutorial - страница с обучением, скорее всего обучение интерфейсу.**\n",
    "\n",
    "\n",
    "**Пользователи часто отклоняют обучение интерфейсу, если сравнить доли открытия главного экрана и открытия обучения.**\n",
    "\n",
    "\n",
    "**Возможны два варианта цепочек событий, как пользователь доходит до экрана с успешной оплатой:**\n",
    "\n",
    "- **Главный экран → Страница с предложением → Страница корзины → Экран успешной оплаты;**\n",
    "\n",
    "- **Обучение интерфейсу → Главный экран → Страница с предложением → Страница корзины → Экран успешной оплаты.**\n",
    "\n",
    "\n",
    "**Также возможно, что пользователь может заходить на страницы в хаотичном порядке, что может выбивать данные. К примеру, пользователь впервые с главной страницы заходит в корзину, пропуская страницу предложения, выходит из приложения и больше не пользуется им. Это в случае, если система аналитики может фиксировать такой переход.**\n",
    "\n",
    "\n",
    "**Доли пользователей при переходе по воронке событий:**\n",
    "- **Доля пользователей при переходе A → B: 61.91%**\n",
    "- **Доля пользователей при переходе B → C: 81.3%**\n",
    "- **Доля пользователей при переходе C → D: 94.78%**\n",
    "\n",
    "**Где:**\n",
    "\n",
    "- **Главный экран - A;**\n",
    "- **Страница с предложением - B;**\n",
    "- **Страница корзины - C;**\n",
    "- **Экран успешной оплаты - D.**\n",
    "\n",
    "**На первом шаге, на переходе с главной страницы на страницу с предложением теряется больше всего пользователей.**\n",
    "\n",
    "\n",
    "**Доля пользователей, которая доходит от главной страницы к странице успешной оплаты: 47.7%**\n",
    "\n",
    "\n",
    "### Изучение результатов эксперимента:\n",
    "\n",
    "**Между группами 246, 247 и 248 нет различий по доле пользователей на каждом шаге воронки. Как и между объединенными контрольными группами (246+247) и эксперементальной (248).**\n",
    "\n",
    "**Продолжать тесты на этих группах нет обоснований.**\n",
    "\n",
    "**Так-как на одних данных была множественная проверка гипотез, была применена коррекция уровня значимости по формуле метода Шидака:**\n",
    "\n",
    "**a_corr = 1-(1-a)^(1/n)**\n",
    "\n",
    "**Где:**\n",
    "- **a - уровень статистической значимости;**\n",
    "- **n - количество нулевых гипотез.**\n",
    "\n",
    "\n",
    "## Рекомендации заказчику\n",
    "\n",
    "**На первом шаге, на главной странице в воронке теряется больше всего пользователей, на страницу с предложением переходит только 62% пользователей по всем группам. Нужно обратить внимание, что мешает пользователю перейти на следующий шаг воронки - открыть страницу с предложением. Рекомендации:**\n",
    "\n",
    "- **Провести UX-исследование из пунктов на выбор:**\n",
    "    - **Usability Testing - проверка, насколько интерфейс удобен. Проверяемым пользователям дают стандартные задачи с интерфейсом, по которым нужно выяснить сложности;**\n",
    "    - **Eye tracking - изучить визуальное взаимодействие пользователя с интерфейсом с помощью специальных устройств отслеживания взгляда на экране. Может помочь выявить, на что пользователь обращает или не обращает внимание своим взглядом;**\n",
    "    - **Интервью:**\n",
    "        - **Экспертное интервью - интервью с экспертами по дизайну, интерфейсу и тематике приложения;**\n",
    "        - **Проблемное интервью - опрос, который позволяет выявить, есть ли у пользователей определенные потребности.**\n",
    "    - **Фокус-группа - групповая дискуссия и обсуждение.**\n",
    "\n",
    "\n",
    "- **Провести новый A/A и A/B-тест с новой эксперементальной группой по новому дизайну и/или интерфейсу. Тесты можно провести на основе UX-исследований, что будет более эффективно.**\n",
    "\n",
    "**По остальным шагам воронки проходит хорошая доля пользователей - от 80 до 95%.**"
   ]
  }
 ],
 "metadata": {
  "ExecuteTimeLog": [
   {
    "duration": 423,
    "start_time": "2024-08-28T12:27:54.467Z"
   },
   {
    "duration": 846,
    "start_time": "2024-08-28T12:29:17.814Z"
   },
   {
    "duration": 194,
    "start_time": "2024-08-28T12:30:55.320Z"
   },
   {
    "duration": 22,
    "start_time": "2024-08-28T12:31:37.472Z"
   },
   {
    "duration": 193,
    "start_time": "2024-08-28T12:33:12.001Z"
   },
   {
    "duration": 5,
    "start_time": "2024-08-28T12:37:28.065Z"
   },
   {
    "duration": 5,
    "start_time": "2024-08-28T12:38:01.810Z"
   },
   {
    "duration": 14,
    "start_time": "2024-08-28T12:38:05.358Z"
   },
   {
    "duration": 4,
    "start_time": "2024-08-28T12:38:11.614Z"
   },
   {
    "duration": 7,
    "start_time": "2024-08-28T12:39:40.989Z"
   },
   {
    "duration": 5,
    "start_time": "2024-08-28T12:39:53.008Z"
   },
   {
    "duration": 23,
    "start_time": "2024-08-28T12:41:59.129Z"
   },
   {
    "duration": 18,
    "start_time": "2024-08-28T12:42:03.021Z"
   },
   {
    "duration": 66,
    "start_time": "2024-08-28T13:05:12.417Z"
   },
   {
    "duration": 59,
    "start_time": "2024-08-28T13:05:16.266Z"
   },
   {
    "duration": 71,
    "start_time": "2024-08-28T13:08:24.858Z"
   },
   {
    "duration": 61,
    "start_time": "2024-08-28T13:08:29.204Z"
   },
   {
    "duration": 23,
    "start_time": "2024-08-28T13:08:38.330Z"
   },
   {
    "duration": 419,
    "start_time": "2024-08-28T13:08:46.668Z"
   },
   {
    "duration": 222,
    "start_time": "2024-08-28T13:08:47.089Z"
   },
   {
    "duration": 24,
    "start_time": "2024-08-28T13:08:47.313Z"
   },
   {
    "duration": 17,
    "start_time": "2024-08-28T13:08:47.338Z"
   },
   {
    "duration": 19,
    "start_time": "2024-08-28T13:08:47.358Z"
   },
   {
    "duration": 113,
    "start_time": "2024-08-28T13:08:47.378Z"
   },
   {
    "duration": 82,
    "start_time": "2024-08-28T13:10:11.375Z"
   },
   {
    "duration": 69,
    "start_time": "2024-08-28T13:10:12.843Z"
   },
   {
    "duration": 449,
    "start_time": "2024-08-28T13:10:16.230Z"
   },
   {
    "duration": 203,
    "start_time": "2024-08-28T13:10:16.681Z"
   },
   {
    "duration": 23,
    "start_time": "2024-08-28T13:10:16.886Z"
   },
   {
    "duration": 33,
    "start_time": "2024-08-28T13:10:16.911Z"
   },
   {
    "duration": 18,
    "start_time": "2024-08-28T13:10:16.946Z"
   },
   {
    "duration": 77,
    "start_time": "2024-08-28T13:10:16.966Z"
   },
   {
    "duration": 88,
    "start_time": "2024-08-28T13:10:17.044Z"
   },
   {
    "duration": 21,
    "start_time": "2024-08-28T13:10:53.526Z"
   },
   {
    "duration": 429,
    "start_time": "2024-08-28T13:11:43.660Z"
   },
   {
    "duration": 207,
    "start_time": "2024-08-28T13:11:44.091Z"
   },
   {
    "duration": 22,
    "start_time": "2024-08-28T13:11:44.300Z"
   },
   {
    "duration": 12,
    "start_time": "2024-08-28T13:11:44.324Z"
   },
   {
    "duration": 30,
    "start_time": "2024-08-28T13:11:44.339Z"
   },
   {
    "duration": 86,
    "start_time": "2024-08-28T13:11:44.370Z"
   },
   {
    "duration": 2,
    "start_time": "2024-08-28T13:11:44.458Z"
   },
   {
    "duration": 57,
    "start_time": "2024-08-28T13:11:44.461Z"
   },
   {
    "duration": 86,
    "start_time": "2024-08-28T13:11:48.108Z"
   },
   {
    "duration": 19,
    "start_time": "2024-08-28T13:11:48.939Z"
   },
   {
    "duration": 41,
    "start_time": "2024-08-28T13:14:26.539Z"
   },
   {
    "duration": 12,
    "start_time": "2024-08-28T13:14:29.254Z"
   },
   {
    "duration": 393,
    "start_time": "2024-08-28T13:15:12.688Z"
   },
   {
    "duration": 235,
    "start_time": "2024-08-28T13:15:13.083Z"
   },
   {
    "duration": 39,
    "start_time": "2024-08-28T13:15:13.320Z"
   },
   {
    "duration": 6,
    "start_time": "2024-08-28T13:15:13.362Z"
   },
   {
    "duration": 47,
    "start_time": "2024-08-28T13:15:13.369Z"
   },
   {
    "duration": 84,
    "start_time": "2024-08-28T13:15:13.417Z"
   },
   {
    "duration": 92,
    "start_time": "2024-08-28T13:15:13.503Z"
   },
   {
    "duration": 20,
    "start_time": "2024-08-28T13:15:13.597Z"
   },
   {
    "duration": 56,
    "start_time": "2024-08-28T13:15:13.619Z"
   },
   {
    "duration": 30,
    "start_time": "2024-08-28T13:15:13.678Z"
   },
   {
    "duration": 68,
    "start_time": "2024-08-28T13:17:26.507Z"
   },
   {
    "duration": 42,
    "start_time": "2024-08-28T13:17:36.735Z"
   },
   {
    "duration": 12,
    "start_time": "2024-08-28T13:17:40.534Z"
   },
   {
    "duration": 437,
    "start_time": "2024-08-28T13:18:21.952Z"
   },
   {
    "duration": 204,
    "start_time": "2024-08-28T13:18:22.391Z"
   },
   {
    "duration": 25,
    "start_time": "2024-08-28T13:18:22.596Z"
   },
   {
    "duration": 5,
    "start_time": "2024-08-28T13:18:22.623Z"
   },
   {
    "duration": 36,
    "start_time": "2024-08-28T13:18:22.630Z"
   },
   {
    "duration": 90,
    "start_time": "2024-08-28T13:18:22.667Z"
   },
   {
    "duration": 78,
    "start_time": "2024-08-28T13:18:22.758Z"
   },
   {
    "duration": 32,
    "start_time": "2024-08-28T13:18:22.837Z"
   },
   {
    "duration": 9,
    "start_time": "2024-08-28T13:18:22.871Z"
   },
   {
    "duration": 16,
    "start_time": "2024-08-28T13:18:22.882Z"
   },
   {
    "duration": 35,
    "start_time": "2024-08-28T13:18:50.213Z"
   },
   {
    "duration": 54,
    "start_time": "2024-08-28T13:20:51.413Z"
   },
   {
    "duration": 33,
    "start_time": "2024-08-28T13:20:51.829Z"
   },
   {
    "duration": 15,
    "start_time": "2024-08-28T13:20:57.628Z"
   },
   {
    "duration": 33,
    "start_time": "2024-08-28T13:20:57.953Z"
   },
   {
    "duration": 395,
    "start_time": "2024-08-28T13:23:50.404Z"
   },
   {
    "duration": 213,
    "start_time": "2024-08-28T13:23:50.801Z"
   },
   {
    "duration": 24,
    "start_time": "2024-08-28T13:23:51.016Z"
   },
   {
    "duration": 20,
    "start_time": "2024-08-28T13:23:51.057Z"
   },
   {
    "duration": 38,
    "start_time": "2024-08-28T13:23:51.078Z"
   },
   {
    "duration": 126,
    "start_time": "2024-08-28T13:23:51.117Z"
   },
   {
    "duration": 86,
    "start_time": "2024-08-28T13:23:51.245Z"
   },
   {
    "duration": 35,
    "start_time": "2024-08-28T13:23:51.333Z"
   },
   {
    "duration": 4,
    "start_time": "2024-08-28T13:23:51.370Z"
   },
   {
    "duration": 38,
    "start_time": "2024-08-28T13:23:51.377Z"
   },
   {
    "duration": 10,
    "start_time": "2024-08-28T13:25:02.063Z"
   },
   {
    "duration": 114,
    "start_time": "2024-08-28T13:25:52.792Z"
   },
   {
    "duration": 204,
    "start_time": "2024-08-28T13:25:53.927Z"
   },
   {
    "duration": 446,
    "start_time": "2024-08-28T13:26:00.848Z"
   },
   {
    "duration": 214,
    "start_time": "2024-08-28T13:26:01.296Z"
   },
   {
    "duration": 23,
    "start_time": "2024-08-28T13:26:01.512Z"
   },
   {
    "duration": 50,
    "start_time": "2024-08-28T13:26:01.537Z"
   },
   {
    "duration": 34,
    "start_time": "2024-08-28T13:26:01.590Z"
   },
   {
    "duration": 84,
    "start_time": "2024-08-28T13:26:01.626Z"
   },
   {
    "duration": 94,
    "start_time": "2024-08-28T13:26:01.711Z"
   },
   {
    "duration": 22,
    "start_time": "2024-08-28T13:26:01.807Z"
   },
   {
    "duration": 96,
    "start_time": "2024-08-28T13:26:01.830Z"
   },
   {
    "duration": 189,
    "start_time": "2024-08-28T13:26:01.928Z"
   },
   {
    "duration": 382,
    "start_time": "2024-08-28T13:26:13.961Z"
   },
   {
    "duration": 0,
    "start_time": "2024-08-28T13:26:14.344Z"
   },
   {
    "duration": 452,
    "start_time": "2024-08-28T13:28:36.382Z"
   },
   {
    "duration": 204,
    "start_time": "2024-08-28T13:28:36.836Z"
   },
   {
    "duration": 24,
    "start_time": "2024-08-28T13:28:37.041Z"
   },
   {
    "duration": 15,
    "start_time": "2024-08-28T13:28:37.066Z"
   },
   {
    "duration": 34,
    "start_time": "2024-08-28T13:28:37.083Z"
   },
   {
    "duration": 81,
    "start_time": "2024-08-28T13:28:37.118Z"
   },
   {
    "duration": 87,
    "start_time": "2024-08-28T13:28:37.201Z"
   },
   {
    "duration": 21,
    "start_time": "2024-08-28T13:28:37.289Z"
   },
   {
    "duration": 43,
    "start_time": "2024-08-28T13:28:37.312Z"
   },
   {
    "duration": 12,
    "start_time": "2024-08-28T13:29:43.015Z"
   },
   {
    "duration": 44,
    "start_time": "2024-08-28T13:29:43.359Z"
   },
   {
    "duration": 403,
    "start_time": "2024-08-28T13:33:18.617Z"
   },
   {
    "duration": 243,
    "start_time": "2024-08-28T13:33:19.022Z"
   },
   {
    "duration": 25,
    "start_time": "2024-08-28T13:33:19.267Z"
   },
   {
    "duration": 5,
    "start_time": "2024-08-28T13:33:19.294Z"
   },
   {
    "duration": 21,
    "start_time": "2024-08-28T13:33:19.301Z"
   },
   {
    "duration": 91,
    "start_time": "2024-08-28T13:33:19.324Z"
   },
   {
    "duration": 93,
    "start_time": "2024-08-28T13:33:19.417Z"
   },
   {
    "duration": 21,
    "start_time": "2024-08-28T13:33:19.511Z"
   },
   {
    "duration": 54,
    "start_time": "2024-08-28T13:33:19.534Z"
   },
   {
    "duration": 32,
    "start_time": "2024-08-28T13:33:19.589Z"
   },
   {
    "duration": 732,
    "start_time": "2024-08-28T13:35:00.967Z"
   },
   {
    "duration": 36,
    "start_time": "2024-08-28T13:35:01.830Z"
   },
   {
    "duration": 316,
    "start_time": "2024-08-28T13:35:19.909Z"
   },
   {
    "duration": 377,
    "start_time": "2024-08-28T13:38:18.256Z"
   },
   {
    "duration": 35,
    "start_time": "2024-08-28T13:38:18.740Z"
   },
   {
    "duration": 453,
    "start_time": "2024-08-28T13:38:44.840Z"
   },
   {
    "duration": 204,
    "start_time": "2024-08-28T13:38:45.296Z"
   },
   {
    "duration": 30,
    "start_time": "2024-08-28T13:38:45.501Z"
   },
   {
    "duration": 23,
    "start_time": "2024-08-28T13:38:45.533Z"
   },
   {
    "duration": 63,
    "start_time": "2024-08-28T13:38:45.558Z"
   },
   {
    "duration": 91,
    "start_time": "2024-08-28T13:38:45.624Z"
   },
   {
    "duration": 89,
    "start_time": "2024-08-28T13:38:45.716Z"
   },
   {
    "duration": 21,
    "start_time": "2024-08-28T13:38:45.807Z"
   },
   {
    "duration": 379,
    "start_time": "2024-08-28T13:38:45.829Z"
   },
   {
    "duration": 29,
    "start_time": "2024-08-28T13:38:46.210Z"
   },
   {
    "duration": 68,
    "start_time": "2024-08-28T13:39:00.563Z"
   },
   {
    "duration": 974,
    "start_time": "2024-08-28T13:39:06.503Z"
   },
   {
    "duration": 0,
    "start_time": "2024-08-28T13:39:07.479Z"
   },
   {
    "duration": 965,
    "start_time": "2024-08-28T13:39:10.705Z"
   },
   {
    "duration": 116,
    "start_time": "2024-08-28T13:39:17.851Z"
   },
   {
    "duration": 198,
    "start_time": "2024-08-28T13:39:19.770Z"
   },
   {
    "duration": 258,
    "start_time": "2024-08-28T13:39:28.988Z"
   },
   {
    "duration": 210,
    "start_time": "2024-08-28T13:39:30.691Z"
   },
   {
    "duration": 448,
    "start_time": "2024-08-28T13:39:36.572Z"
   },
   {
    "duration": 228,
    "start_time": "2024-08-28T13:39:37.023Z"
   },
   {
    "duration": 26,
    "start_time": "2024-08-28T13:39:37.253Z"
   },
   {
    "duration": 9,
    "start_time": "2024-08-28T13:39:37.281Z"
   },
   {
    "duration": 37,
    "start_time": "2024-08-28T13:39:37.293Z"
   },
   {
    "duration": 84,
    "start_time": "2024-08-28T13:39:37.332Z"
   },
   {
    "duration": 109,
    "start_time": "2024-08-28T13:39:37.419Z"
   },
   {
    "duration": 30,
    "start_time": "2024-08-28T13:39:37.532Z"
   },
   {
    "duration": 144,
    "start_time": "2024-08-28T13:39:37.564Z"
   },
   {
    "duration": 218,
    "start_time": "2024-08-28T13:39:37.710Z"
   },
   {
    "duration": 436,
    "start_time": "2024-08-28T13:40:12.159Z"
   },
   {
    "duration": 205,
    "start_time": "2024-08-28T13:40:12.597Z"
   },
   {
    "duration": 23,
    "start_time": "2024-08-28T13:40:12.803Z"
   },
   {
    "duration": 16,
    "start_time": "2024-08-28T13:40:12.828Z"
   },
   {
    "duration": 27,
    "start_time": "2024-08-28T13:40:12.846Z"
   },
   {
    "duration": 118,
    "start_time": "2024-08-28T13:40:12.875Z"
   },
   {
    "duration": 103,
    "start_time": "2024-08-28T13:40:12.996Z"
   },
   {
    "duration": 26,
    "start_time": "2024-08-28T13:40:13.101Z"
   },
   {
    "duration": 3,
    "start_time": "2024-08-28T13:40:13.129Z"
   },
   {
    "duration": 78,
    "start_time": "2024-08-28T13:40:13.134Z"
   },
   {
    "duration": 86,
    "start_time": "2024-08-28T13:40:48.430Z"
   },
   {
    "duration": 192,
    "start_time": "2024-08-28T13:40:49.296Z"
   },
   {
    "duration": 454,
    "start_time": "2024-08-28T13:41:54.572Z"
   },
   {
    "duration": 256,
    "start_time": "2024-08-28T13:41:55.028Z"
   },
   {
    "duration": 25,
    "start_time": "2024-08-28T13:41:55.285Z"
   },
   {
    "duration": 5,
    "start_time": "2024-08-28T13:41:55.313Z"
   },
   {
    "duration": 39,
    "start_time": "2024-08-28T13:41:55.320Z"
   },
   {
    "duration": 76,
    "start_time": "2024-08-28T13:41:55.361Z"
   },
   {
    "duration": 99,
    "start_time": "2024-08-28T13:41:55.439Z"
   },
   {
    "duration": 39,
    "start_time": "2024-08-28T13:41:55.540Z"
   },
   {
    "duration": 54,
    "start_time": "2024-08-28T13:41:55.581Z"
   },
   {
    "duration": 46,
    "start_time": "2024-08-28T13:41:55.637Z"
   },
   {
    "duration": 416,
    "start_time": "2024-08-28T13:42:05.976Z"
   },
   {
    "duration": 208,
    "start_time": "2024-08-28T13:42:06.394Z"
   },
   {
    "duration": 24,
    "start_time": "2024-08-28T13:42:06.604Z"
   },
   {
    "duration": 24,
    "start_time": "2024-08-28T13:42:06.631Z"
   },
   {
    "duration": 56,
    "start_time": "2024-08-28T13:42:06.657Z"
   },
   {
    "duration": 115,
    "start_time": "2024-08-28T13:42:06.715Z"
   },
   {
    "duration": 124,
    "start_time": "2024-08-28T13:42:06.833Z"
   },
   {
    "duration": 22,
    "start_time": "2024-08-28T13:42:06.958Z"
   },
   {
    "duration": 12,
    "start_time": "2024-08-28T13:42:06.982Z"
   },
   {
    "duration": 57,
    "start_time": "2024-08-28T13:42:06.996Z"
   },
   {
    "duration": 45,
    "start_time": "2024-08-28T13:44:01.571Z"
   },
   {
    "duration": 47,
    "start_time": "2024-08-28T13:44:01.964Z"
   },
   {
    "duration": 438,
    "start_time": "2024-08-28T13:44:32.274Z"
   },
   {
    "duration": 225,
    "start_time": "2024-08-28T13:44:32.714Z"
   },
   {
    "duration": 38,
    "start_time": "2024-08-28T13:44:32.955Z"
   },
   {
    "duration": 6,
    "start_time": "2024-08-28T13:44:32.996Z"
   },
   {
    "duration": 25,
    "start_time": "2024-08-28T13:44:33.003Z"
   },
   {
    "duration": 111,
    "start_time": "2024-08-28T13:44:33.030Z"
   },
   {
    "duration": 127,
    "start_time": "2024-08-28T13:44:33.144Z"
   },
   {
    "duration": 35,
    "start_time": "2024-08-28T13:44:33.276Z"
   },
   {
    "duration": 11,
    "start_time": "2024-08-28T13:44:33.313Z"
   },
   {
    "duration": 49,
    "start_time": "2024-08-28T13:44:33.326Z"
   },
   {
    "duration": 424,
    "start_time": "2024-08-28T13:45:39.406Z"
   },
   {
    "duration": 229,
    "start_time": "2024-08-28T13:45:39.832Z"
   },
   {
    "duration": 35,
    "start_time": "2024-08-28T13:45:40.069Z"
   },
   {
    "duration": 6,
    "start_time": "2024-08-28T13:45:40.105Z"
   },
   {
    "duration": 35,
    "start_time": "2024-08-28T13:45:40.113Z"
   },
   {
    "duration": 92,
    "start_time": "2024-08-28T13:45:40.150Z"
   },
   {
    "duration": 94,
    "start_time": "2024-08-28T13:45:40.244Z"
   },
   {
    "duration": 40,
    "start_time": "2024-08-28T13:45:40.340Z"
   },
   {
    "duration": 10,
    "start_time": "2024-08-28T13:45:40.383Z"
   },
   {
    "duration": 432,
    "start_time": "2024-08-28T13:48:03.914Z"
   },
   {
    "duration": 240,
    "start_time": "2024-08-28T13:48:04.348Z"
   },
   {
    "duration": 26,
    "start_time": "2024-08-28T13:48:04.590Z"
   },
   {
    "duration": 6,
    "start_time": "2024-08-28T13:48:04.619Z"
   },
   {
    "duration": 70,
    "start_time": "2024-08-28T13:48:04.627Z"
   },
   {
    "duration": 122,
    "start_time": "2024-08-28T13:48:04.699Z"
   },
   {
    "duration": 97,
    "start_time": "2024-08-28T13:48:04.823Z"
   },
   {
    "duration": 25,
    "start_time": "2024-08-28T13:48:04.922Z"
   },
   {
    "duration": 101,
    "start_time": "2024-08-28T13:48:04.949Z"
   },
   {
    "duration": 18,
    "start_time": "2024-08-28T13:48:13.784Z"
   },
   {
    "duration": 100,
    "start_time": "2024-08-28T13:48:26.021Z"
   },
   {
    "duration": 95,
    "start_time": "2024-08-28T14:53:50.634Z"
   },
   {
    "duration": 123,
    "start_time": "2024-08-28T14:54:52.473Z"
   },
   {
    "duration": 88,
    "start_time": "2024-08-28T14:55:02.803Z"
   },
   {
    "duration": 33,
    "start_time": "2024-08-28T14:55:38.445Z"
   },
   {
    "duration": 26,
    "start_time": "2024-08-28T15:01:13.032Z"
   },
   {
    "duration": 25,
    "start_time": "2024-08-28T15:01:17.871Z"
   },
   {
    "duration": 19,
    "start_time": "2024-08-28T15:01:22.009Z"
   },
   {
    "duration": 18,
    "start_time": "2024-08-28T15:01:37.131Z"
   },
   {
    "duration": 68,
    "start_time": "2024-08-28T15:04:31.894Z"
   },
   {
    "duration": 54,
    "start_time": "2024-08-28T15:04:51.038Z"
   },
   {
    "duration": 53,
    "start_time": "2024-08-28T15:05:00.897Z"
   },
   {
    "duration": 62,
    "start_time": "2024-08-28T15:05:22.332Z"
   },
   {
    "duration": 57,
    "start_time": "2024-08-28T15:05:29.803Z"
   },
   {
    "duration": 54,
    "start_time": "2024-08-28T15:05:35.688Z"
   },
   {
    "duration": 56,
    "start_time": "2024-08-28T15:06:35.487Z"
   },
   {
    "duration": 63,
    "start_time": "2024-08-28T15:07:05.056Z"
   },
   {
    "duration": 59,
    "start_time": "2024-08-28T15:07:15.574Z"
   },
   {
    "duration": 40,
    "start_time": "2024-08-28T15:10:02.638Z"
   },
   {
    "duration": 32,
    "start_time": "2024-08-28T15:10:17.213Z"
   },
   {
    "duration": 29,
    "start_time": "2024-08-28T15:10:30.876Z"
   },
   {
    "duration": 30,
    "start_time": "2024-08-28T15:10:38.455Z"
   },
   {
    "duration": 37,
    "start_time": "2024-08-28T15:10:42.265Z"
   },
   {
    "duration": 30,
    "start_time": "2024-08-28T15:11:13.778Z"
   },
   {
    "duration": 33,
    "start_time": "2024-08-28T15:12:03.081Z"
   },
   {
    "duration": 28,
    "start_time": "2024-08-28T15:12:46.698Z"
   },
   {
    "duration": 61,
    "start_time": "2024-08-28T15:13:39.437Z"
   },
   {
    "duration": 54,
    "start_time": "2024-08-28T15:13:51.483Z"
   },
   {
    "duration": 66,
    "start_time": "2024-08-28T15:14:35.942Z"
   },
   {
    "duration": 65,
    "start_time": "2024-08-28T15:15:03.717Z"
   },
   {
    "duration": 450,
    "start_time": "2024-08-28T15:15:07.136Z"
   },
   {
    "duration": 212,
    "start_time": "2024-08-28T15:15:07.588Z"
   },
   {
    "duration": 24,
    "start_time": "2024-08-28T15:15:07.802Z"
   },
   {
    "duration": 5,
    "start_time": "2024-08-28T15:15:07.828Z"
   },
   {
    "duration": 46,
    "start_time": "2024-08-28T15:15:07.835Z"
   },
   {
    "duration": 92,
    "start_time": "2024-08-28T15:15:07.883Z"
   },
   {
    "duration": 84,
    "start_time": "2024-08-28T15:15:07.976Z"
   },
   {
    "duration": 20,
    "start_time": "2024-08-28T15:15:08.062Z"
   },
   {
    "duration": 105,
    "start_time": "2024-08-28T15:15:08.084Z"
   },
   {
    "duration": 36,
    "start_time": "2024-08-28T15:15:08.191Z"
   },
   {
    "duration": 90,
    "start_time": "2024-08-28T15:15:08.229Z"
   },
   {
    "duration": 81,
    "start_time": "2024-08-28T15:15:08.321Z"
   },
   {
    "duration": 61,
    "start_time": "2024-08-28T15:15:08.403Z"
   },
   {
    "duration": 1144,
    "start_time": "2024-08-28T15:19:23.769Z"
   },
   {
    "duration": 65,
    "start_time": "2024-08-28T15:19:34.934Z"
   },
   {
    "duration": 45,
    "start_time": "2024-08-28T15:19:43.253Z"
   },
   {
    "duration": 85,
    "start_time": "2024-08-28T15:19:58.494Z"
   },
   {
    "duration": 395,
    "start_time": "2024-08-28T15:20:14.015Z"
   },
   {
    "duration": 213,
    "start_time": "2024-08-28T15:20:14.413Z"
   },
   {
    "duration": 33,
    "start_time": "2024-08-28T15:20:14.628Z"
   },
   {
    "duration": 5,
    "start_time": "2024-08-28T15:20:14.663Z"
   },
   {
    "duration": 25,
    "start_time": "2024-08-28T15:20:14.671Z"
   },
   {
    "duration": 84,
    "start_time": "2024-08-28T15:20:14.698Z"
   },
   {
    "duration": 89,
    "start_time": "2024-08-28T15:20:14.784Z"
   },
   {
    "duration": 20,
    "start_time": "2024-08-28T15:20:14.875Z"
   },
   {
    "duration": 102,
    "start_time": "2024-08-28T15:20:14.897Z"
   },
   {
    "duration": 38,
    "start_time": "2024-08-28T15:20:15.001Z"
   },
   {
    "duration": 98,
    "start_time": "2024-08-28T15:20:15.041Z"
   },
   {
    "duration": 48,
    "start_time": "2024-08-28T15:20:15.141Z"
   },
   {
    "duration": 36,
    "start_time": "2024-08-28T15:20:15.191Z"
   },
   {
    "duration": 70,
    "start_time": "2024-08-28T15:20:32.951Z"
   },
   {
    "duration": 35,
    "start_time": "2024-08-28T15:21:02.395Z"
   },
   {
    "duration": 95,
    "start_time": "2024-08-28T15:21:35.101Z"
   },
   {
    "duration": 71,
    "start_time": "2024-08-28T15:23:38.950Z"
   },
   {
    "duration": 8,
    "start_time": "2024-08-28T15:23:57.479Z"
   },
   {
    "duration": 964,
    "start_time": "2024-08-28T15:25:32.397Z"
   },
   {
    "duration": 6,
    "start_time": "2024-08-28T15:25:42.699Z"
   },
   {
    "duration": 4,
    "start_time": "2024-08-28T15:25:51.774Z"
   },
   {
    "duration": 5,
    "start_time": "2024-08-28T15:26:19.857Z"
   },
   {
    "duration": 8,
    "start_time": "2024-08-28T15:26:30.297Z"
   },
   {
    "duration": 6,
    "start_time": "2024-08-28T15:27:58.243Z"
   },
   {
    "duration": 650,
    "start_time": "2024-08-28T15:32:59.752Z"
   },
   {
    "duration": 451,
    "start_time": "2024-08-28T15:33:26.263Z"
   },
   {
    "duration": 226,
    "start_time": "2024-08-28T15:33:41.176Z"
   },
   {
    "duration": 440,
    "start_time": "2024-08-28T15:33:45.449Z"
   },
   {
    "duration": 207,
    "start_time": "2024-08-28T15:34:35.836Z"
   },
   {
    "duration": 377,
    "start_time": "2024-08-28T15:44:44.831Z"
   },
   {
    "duration": 294,
    "start_time": "2024-08-28T15:51:11.112Z"
   },
   {
    "duration": 54,
    "start_time": "2024-08-28T15:52:00.724Z"
   },
   {
    "duration": 676,
    "start_time": "2024-08-28T15:52:19.392Z"
   },
   {
    "duration": 222,
    "start_time": "2024-08-28T15:52:20.070Z"
   },
   {
    "duration": 26,
    "start_time": "2024-08-28T15:52:20.294Z"
   },
   {
    "duration": 32,
    "start_time": "2024-08-28T15:52:20.322Z"
   },
   {
    "duration": 25,
    "start_time": "2024-08-28T15:52:20.360Z"
   },
   {
    "duration": 85,
    "start_time": "2024-08-28T15:52:20.386Z"
   },
   {
    "duration": 94,
    "start_time": "2024-08-28T15:52:20.473Z"
   },
   {
    "duration": 22,
    "start_time": "2024-08-28T15:52:20.570Z"
   },
   {
    "duration": 105,
    "start_time": "2024-08-28T15:52:20.593Z"
   },
   {
    "duration": 34,
    "start_time": "2024-08-28T15:52:20.700Z"
   },
   {
    "duration": 94,
    "start_time": "2024-08-28T15:52:20.735Z"
   },
   {
    "duration": 50,
    "start_time": "2024-08-28T15:52:20.831Z"
   },
   {
    "duration": 120,
    "start_time": "2024-08-28T15:52:20.883Z"
   },
   {
    "duration": 5,
    "start_time": "2024-08-28T15:52:21.007Z"
   },
   {
    "duration": 62750,
    "start_time": "2024-08-28T15:52:21.014Z"
   },
   {
    "duration": 0,
    "start_time": "2024-08-28T15:53:23.769Z"
   },
   {
    "duration": 675,
    "start_time": "2024-08-28T15:53:36.297Z"
   },
   {
    "duration": 211,
    "start_time": "2024-08-28T15:53:38.898Z"
   },
   {
    "duration": 24,
    "start_time": "2024-08-28T15:53:39.117Z"
   },
   {
    "duration": 5,
    "start_time": "2024-08-28T15:53:39.588Z"
   },
   {
    "duration": 17,
    "start_time": "2024-08-28T15:53:39.878Z"
   },
   {
    "duration": 76,
    "start_time": "2024-08-28T15:53:40.148Z"
   },
   {
    "duration": 97,
    "start_time": "2024-08-28T15:53:40.447Z"
   },
   {
    "duration": 33,
    "start_time": "2024-08-28T15:53:40.764Z"
   },
   {
    "duration": 115,
    "start_time": "2024-08-28T15:53:41.188Z"
   },
   {
    "duration": 38,
    "start_time": "2024-08-28T15:53:41.731Z"
   },
   {
    "duration": 83,
    "start_time": "2024-08-28T15:53:41.822Z"
   },
   {
    "duration": 73,
    "start_time": "2024-08-28T15:53:41.908Z"
   },
   {
    "duration": 118,
    "start_time": "2024-08-28T15:53:42.327Z"
   },
   {
    "duration": 7,
    "start_time": "2024-08-28T15:53:42.818Z"
   },
   {
    "duration": 726,
    "start_time": "2024-08-28T15:54:06.013Z"
   },
   {
    "duration": 226,
    "start_time": "2024-08-28T15:54:06.741Z"
   },
   {
    "duration": 25,
    "start_time": "2024-08-28T15:54:06.969Z"
   },
   {
    "duration": 8,
    "start_time": "2024-08-28T15:54:06.996Z"
   },
   {
    "duration": 27,
    "start_time": "2024-08-28T15:54:07.006Z"
   },
   {
    "duration": 107,
    "start_time": "2024-08-28T15:54:07.035Z"
   },
   {
    "duration": 103,
    "start_time": "2024-08-28T15:54:07.144Z"
   },
   {
    "duration": 38,
    "start_time": "2024-08-28T15:54:07.249Z"
   },
   {
    "duration": 99,
    "start_time": "2024-08-28T15:54:07.289Z"
   },
   {
    "duration": 32,
    "start_time": "2024-08-28T15:54:07.390Z"
   },
   {
    "duration": 88,
    "start_time": "2024-08-28T15:54:07.424Z"
   },
   {
    "duration": 53,
    "start_time": "2024-08-28T15:54:07.514Z"
   },
   {
    "duration": 128,
    "start_time": "2024-08-28T15:54:07.569Z"
   },
   {
    "duration": 6,
    "start_time": "2024-08-28T15:54:07.699Z"
   },
   {
    "duration": 86,
    "start_time": "2024-08-28T15:54:07.707Z"
   },
   {
    "duration": 60,
    "start_time": "2024-08-28T15:54:14.448Z"
   },
   {
    "duration": 47,
    "start_time": "2024-08-28T15:54:26.137Z"
   },
   {
    "duration": 57,
    "start_time": "2024-08-28T15:54:43.248Z"
   },
   {
    "duration": 395,
    "start_time": "2024-08-28T15:54:57.821Z"
   },
   {
    "duration": 289,
    "start_time": "2024-08-28T15:55:07.636Z"
   },
   {
    "duration": 309,
    "start_time": "2024-08-28T15:55:12.934Z"
   },
   {
    "duration": 346,
    "start_time": "2024-08-28T15:55:16.274Z"
   },
   {
    "duration": 317,
    "start_time": "2024-08-28T15:57:48.020Z"
   },
   {
    "duration": 280,
    "start_time": "2024-08-28T15:57:54.548Z"
   },
   {
    "duration": 5,
    "start_time": "2024-08-28T15:58:05.038Z"
   },
   {
    "duration": 252,
    "start_time": "2024-08-28T15:58:08.881Z"
   },
   {
    "duration": 266,
    "start_time": "2024-08-28T15:58:24.078Z"
   },
   {
    "duration": 238,
    "start_time": "2024-08-28T15:58:44.308Z"
   },
   {
    "duration": 275,
    "start_time": "2024-08-28T15:58:48.321Z"
   },
   {
    "duration": 261,
    "start_time": "2024-08-28T15:59:06.819Z"
   },
   {
    "duration": 269,
    "start_time": "2024-08-28T15:59:10.848Z"
   },
   {
    "duration": 284,
    "start_time": "2024-08-28T15:59:17.855Z"
   },
   {
    "duration": 259,
    "start_time": "2024-08-28T15:59:23.896Z"
   },
   {
    "duration": 342,
    "start_time": "2024-08-28T16:12:05.194Z"
   },
   {
    "duration": 250,
    "start_time": "2024-08-28T16:12:35.697Z"
   },
   {
    "duration": 254,
    "start_time": "2024-08-28T16:12:55.440Z"
   },
   {
    "duration": 11,
    "start_time": "2024-08-28T16:14:31.362Z"
   },
   {
    "duration": 751,
    "start_time": "2024-08-28T16:14:38.796Z"
   },
   {
    "duration": 764,
    "start_time": "2024-08-28T16:15:01.484Z"
   },
   {
    "duration": 854,
    "start_time": "2024-08-28T16:15:31.456Z"
   },
   {
    "duration": 260,
    "start_time": "2024-08-28T16:17:22.872Z"
   },
   {
    "duration": 513,
    "start_time": "2024-08-28T16:17:35.627Z"
   },
   {
    "duration": 762,
    "start_time": "2024-08-28T16:18:21.966Z"
   },
   {
    "duration": 255,
    "start_time": "2024-08-28T16:21:15.825Z"
   },
   {
    "duration": 839,
    "start_time": "2024-08-28T16:21:22.776Z"
   },
   {
    "duration": 741,
    "start_time": "2024-08-28T16:21:46.672Z"
   },
   {
    "duration": 2,
    "start_time": "2024-08-28T16:34:14.821Z"
   },
   {
    "duration": 6,
    "start_time": "2024-08-28T16:36:18.668Z"
   },
   {
    "duration": 26,
    "start_time": "2024-08-28T16:37:49.194Z"
   },
   {
    "duration": 31,
    "start_time": "2024-08-28T16:37:54.100Z"
   },
   {
    "duration": 30,
    "start_time": "2024-08-28T16:38:07.501Z"
   },
   {
    "duration": 15,
    "start_time": "2024-08-28T16:38:17.518Z"
   },
   {
    "duration": 25,
    "start_time": "2024-08-28T16:38:25.408Z"
   },
   {
    "duration": 20,
    "start_time": "2024-08-28T16:38:43.127Z"
   },
   {
    "duration": 778,
    "start_time": "2024-08-28T16:39:37.350Z"
   },
   {
    "duration": 739,
    "start_time": "2024-08-28T16:39:44.557Z"
   },
   {
    "duration": 222,
    "start_time": "2024-08-28T16:39:45.298Z"
   },
   {
    "duration": 35,
    "start_time": "2024-08-28T16:39:45.521Z"
   },
   {
    "duration": 9,
    "start_time": "2024-08-28T16:39:45.559Z"
   },
   {
    "duration": 41,
    "start_time": "2024-08-28T16:39:45.571Z"
   },
   {
    "duration": 79,
    "start_time": "2024-08-28T16:39:45.613Z"
   },
   {
    "duration": 94,
    "start_time": "2024-08-28T16:39:45.693Z"
   },
   {
    "duration": 21,
    "start_time": "2024-08-28T16:39:45.788Z"
   },
   {
    "duration": 108,
    "start_time": "2024-08-28T16:39:45.810Z"
   },
   {
    "duration": 46,
    "start_time": "2024-08-28T16:39:45.920Z"
   },
   {
    "duration": 71,
    "start_time": "2024-08-28T16:39:45.968Z"
   },
   {
    "duration": 59,
    "start_time": "2024-08-28T16:39:46.041Z"
   },
   {
    "duration": 121,
    "start_time": "2024-08-28T16:39:46.101Z"
   },
   {
    "duration": 5,
    "start_time": "2024-08-28T16:39:46.224Z"
   },
   {
    "duration": 963,
    "start_time": "2024-08-28T16:39:46.231Z"
   },
   {
    "duration": 17,
    "start_time": "2024-08-28T16:39:47.196Z"
   },
   {
    "duration": 56,
    "start_time": "2024-08-28T16:45:44.442Z"
   },
   {
    "duration": 128,
    "start_time": "2024-08-28T18:29:58.472Z"
   },
   {
    "duration": 140,
    "start_time": "2024-08-28T18:30:32.749Z"
   },
   {
    "duration": 133,
    "start_time": "2024-08-28T18:30:49.591Z"
   },
   {
    "duration": 131,
    "start_time": "2024-08-28T18:31:00.561Z"
   },
   {
    "duration": 165,
    "start_time": "2024-08-28T18:31:11.638Z"
   },
   {
    "duration": 92,
    "start_time": "2024-08-28T18:31:20.691Z"
   },
   {
    "duration": 73,
    "start_time": "2024-08-28T18:31:35.784Z"
   },
   {
    "duration": 72,
    "start_time": "2024-08-28T18:32:02.766Z"
   },
   {
    "duration": 82,
    "start_time": "2024-08-28T18:32:10.751Z"
   },
   {
    "duration": 69,
    "start_time": "2024-08-28T18:32:54.337Z"
   },
   {
    "duration": 220,
    "start_time": "2024-08-28T18:35:02.884Z"
   },
   {
    "duration": 155,
    "start_time": "2024-08-28T18:35:11.581Z"
   },
   {
    "duration": 147,
    "start_time": "2024-08-28T18:35:51.266Z"
   },
   {
    "duration": 167,
    "start_time": "2024-08-28T18:37:32.347Z"
   },
   {
    "duration": 152,
    "start_time": "2024-08-28T18:39:03.704Z"
   },
   {
    "duration": 5,
    "start_time": "2024-08-28T18:45:00.052Z"
   },
   {
    "duration": 4,
    "start_time": "2024-08-28T18:46:35.451Z"
   },
   {
    "duration": 5,
    "start_time": "2024-08-28T18:46:39.613Z"
   },
   {
    "duration": 81,
    "start_time": "2024-08-28T18:48:03.032Z"
   },
   {
    "duration": 84,
    "start_time": "2024-08-28T18:48:51.605Z"
   },
   {
    "duration": 156,
    "start_time": "2024-08-28T18:49:07.332Z"
   },
   {
    "duration": 85,
    "start_time": "2024-08-28T18:49:52.864Z"
   },
   {
    "duration": 92,
    "start_time": "2024-08-28T18:50:15.744Z"
   },
   {
    "duration": 83,
    "start_time": "2024-08-28T18:52:12.842Z"
   },
   {
    "duration": 76,
    "start_time": "2024-08-28T18:53:32.871Z"
   },
   {
    "duration": 75,
    "start_time": "2024-08-28T18:53:37.909Z"
   },
   {
    "duration": 92,
    "start_time": "2024-08-28T18:53:40.693Z"
   },
   {
    "duration": 74,
    "start_time": "2024-08-28T18:53:50.203Z"
   },
   {
    "duration": 92,
    "start_time": "2024-08-28T18:53:55.077Z"
   },
   {
    "duration": 73,
    "start_time": "2024-08-28T18:55:28.411Z"
   },
   {
    "duration": 6,
    "start_time": "2024-08-28T18:57:53.563Z"
   },
   {
    "duration": 6,
    "start_time": "2024-08-28T18:57:58.790Z"
   },
   {
    "duration": 11,
    "start_time": "2024-08-28T19:02:51.871Z"
   },
   {
    "duration": 5,
    "start_time": "2024-08-28T19:02:55.859Z"
   },
   {
    "duration": 31,
    "start_time": "2024-08-28T19:05:37.046Z"
   },
   {
    "duration": 2,
    "start_time": "2024-08-28T19:05:39.662Z"
   },
   {
    "duration": 29,
    "start_time": "2024-08-28T19:08:35.823Z"
   },
   {
    "duration": 868,
    "start_time": "2024-08-29T11:42:30.066Z"
   },
   {
    "duration": 1032,
    "start_time": "2024-08-29T11:42:30.936Z"
   },
   {
    "duration": 26,
    "start_time": "2024-08-29T11:42:31.970Z"
   },
   {
    "duration": 6,
    "start_time": "2024-08-29T11:42:31.998Z"
   },
   {
    "duration": 18,
    "start_time": "2024-08-29T11:42:32.007Z"
   },
   {
    "duration": 81,
    "start_time": "2024-08-29T11:42:32.027Z"
   },
   {
    "duration": 79,
    "start_time": "2024-08-29T11:42:32.110Z"
   },
   {
    "duration": 34,
    "start_time": "2024-08-29T11:42:32.191Z"
   },
   {
    "duration": 104,
    "start_time": "2024-08-29T11:42:32.226Z"
   },
   {
    "duration": 34,
    "start_time": "2024-08-29T11:42:32.332Z"
   },
   {
    "duration": 85,
    "start_time": "2024-08-29T11:42:32.367Z"
   },
   {
    "duration": 57,
    "start_time": "2024-08-29T11:42:32.453Z"
   },
   {
    "duration": 108,
    "start_time": "2024-08-29T11:42:32.512Z"
   },
   {
    "duration": 7,
    "start_time": "2024-08-29T11:42:32.623Z"
   },
   {
    "duration": 831,
    "start_time": "2024-08-29T11:42:32.632Z"
   },
   {
    "duration": 18,
    "start_time": "2024-08-29T11:42:33.464Z"
   },
   {
    "duration": 224,
    "start_time": "2024-08-29T11:42:33.484Z"
   },
   {
    "duration": 32,
    "start_time": "2024-08-29T11:42:33.710Z"
   },
   {
    "duration": 2,
    "start_time": "2024-08-29T11:42:33.744Z"
   },
   {
    "duration": 64,
    "start_time": "2024-08-29T11:44:45.510Z"
   },
   {
    "duration": 53,
    "start_time": "2024-08-29T11:44:48.711Z"
   },
   {
    "duration": 124,
    "start_time": "2024-08-29T11:45:18.022Z"
   },
   {
    "duration": 60,
    "start_time": "2024-08-29T11:47:10.306Z"
   },
   {
    "duration": 49,
    "start_time": "2024-08-29T11:47:17.410Z"
   },
   {
    "duration": 54,
    "start_time": "2024-08-29T11:47:20.623Z"
   },
   {
    "duration": 58,
    "start_time": "2024-08-29T11:48:14.158Z"
   },
   {
    "duration": 63,
    "start_time": "2024-08-29T11:50:18.001Z"
   },
   {
    "duration": 52,
    "start_time": "2024-08-29T11:50:31.743Z"
   },
   {
    "duration": 54,
    "start_time": "2024-08-29T11:50:49.509Z"
   },
   {
    "duration": 56,
    "start_time": "2024-08-29T11:51:09.487Z"
   },
   {
    "duration": 18,
    "start_time": "2024-08-29T11:53:07.240Z"
   },
   {
    "duration": 56,
    "start_time": "2024-08-29T11:53:10.222Z"
   },
   {
    "duration": 3746,
    "start_time": "2024-08-29T11:53:22.942Z"
   },
   {
    "duration": 199,
    "start_time": "2024-08-29T11:53:26.690Z"
   },
   {
    "duration": 25,
    "start_time": "2024-08-29T11:53:26.890Z"
   },
   {
    "duration": 37,
    "start_time": "2024-08-29T11:53:26.917Z"
   },
   {
    "duration": 21,
    "start_time": "2024-08-29T11:53:26.956Z"
   },
   {
    "duration": 69,
    "start_time": "2024-08-29T11:53:26.978Z"
   },
   {
    "duration": 81,
    "start_time": "2024-08-29T11:53:27.049Z"
   },
   {
    "duration": 21,
    "start_time": "2024-08-29T11:53:27.131Z"
   },
   {
    "duration": 108,
    "start_time": "2024-08-29T11:53:27.154Z"
   },
   {
    "duration": 33,
    "start_time": "2024-08-29T11:53:27.264Z"
   },
   {
    "duration": 72,
    "start_time": "2024-08-29T11:53:27.299Z"
   },
   {
    "duration": 62,
    "start_time": "2024-08-29T11:53:27.373Z"
   },
   {
    "duration": 111,
    "start_time": "2024-08-29T11:53:27.436Z"
   },
   {
    "duration": 6,
    "start_time": "2024-08-29T11:53:27.549Z"
   },
   {
    "duration": 853,
    "start_time": "2024-08-29T11:53:27.557Z"
   },
   {
    "duration": 17,
    "start_time": "2024-08-29T11:53:28.412Z"
   },
   {
    "duration": 218,
    "start_time": "2024-08-29T11:53:28.431Z"
   },
   {
    "duration": 63,
    "start_time": "2024-08-29T11:53:28.650Z"
   },
   {
    "duration": 2,
    "start_time": "2024-08-29T11:53:28.714Z"
   },
   {
    "duration": 3,
    "start_time": "2024-08-29T11:53:28.718Z"
   },
   {
    "duration": 55,
    "start_time": "2024-08-29T11:53:37.885Z"
   },
   {
    "duration": 19,
    "start_time": "2024-08-29T11:53:54.221Z"
   },
   {
    "duration": 55,
    "start_time": "2024-08-29T11:53:55.603Z"
   },
   {
    "duration": 17,
    "start_time": "2024-08-29T11:54:18.359Z"
   },
   {
    "duration": 55,
    "start_time": "2024-08-29T11:54:20.693Z"
   },
   {
    "duration": 16,
    "start_time": "2024-08-29T11:54:26.393Z"
   },
   {
    "duration": 54,
    "start_time": "2024-08-29T11:54:28.783Z"
   },
   {
    "duration": 17,
    "start_time": "2024-08-29T11:54:57.288Z"
   },
   {
    "duration": 57,
    "start_time": "2024-08-29T11:55:00.246Z"
   },
   {
    "duration": 15,
    "start_time": "2024-08-29T11:55:24.866Z"
   },
   {
    "duration": 54,
    "start_time": "2024-08-29T11:55:26.911Z"
   },
   {
    "duration": 19,
    "start_time": "2024-08-29T11:55:37.360Z"
   },
   {
    "duration": 55,
    "start_time": "2024-08-29T11:55:38.876Z"
   },
   {
    "duration": 4220,
    "start_time": "2024-08-29T11:58:14.779Z"
   },
   {
    "duration": 196,
    "start_time": "2024-08-29T11:58:19.001Z"
   },
   {
    "duration": 30,
    "start_time": "2024-08-29T11:58:19.198Z"
   },
   {
    "duration": 5,
    "start_time": "2024-08-29T11:58:19.229Z"
   },
   {
    "duration": 20,
    "start_time": "2024-08-29T11:58:19.236Z"
   },
   {
    "duration": 75,
    "start_time": "2024-08-29T11:58:19.257Z"
   },
   {
    "duration": 82,
    "start_time": "2024-08-29T11:58:19.333Z"
   },
   {
    "duration": 20,
    "start_time": "2024-08-29T11:58:19.416Z"
   },
   {
    "duration": 86,
    "start_time": "2024-08-29T11:58:19.438Z"
   },
   {
    "duration": 35,
    "start_time": "2024-08-29T11:58:19.526Z"
   },
   {
    "duration": 73,
    "start_time": "2024-08-29T11:58:19.563Z"
   },
   {
    "duration": 46,
    "start_time": "2024-08-29T11:58:19.638Z"
   },
   {
    "duration": 105,
    "start_time": "2024-08-29T11:58:19.685Z"
   },
   {
    "duration": 5,
    "start_time": "2024-08-29T11:58:19.793Z"
   },
   {
    "duration": 805,
    "start_time": "2024-08-29T11:58:19.804Z"
   },
   {
    "duration": 16,
    "start_time": "2024-08-29T11:58:20.611Z"
   },
   {
    "duration": 208,
    "start_time": "2024-08-29T11:58:20.629Z"
   },
   {
    "duration": 2,
    "start_time": "2024-08-29T11:58:20.839Z"
   },
   {
    "duration": 3,
    "start_time": "2024-08-29T12:00:59.508Z"
   },
   {
    "duration": 31,
    "start_time": "2024-08-29T12:01:33.539Z"
   },
   {
    "duration": 32,
    "start_time": "2024-08-29T12:02:26.044Z"
   },
   {
    "duration": 6,
    "start_time": "2024-08-29T12:11:51.268Z"
   },
   {
    "duration": 5,
    "start_time": "2024-08-29T12:11:59.281Z"
   },
   {
    "duration": 89,
    "start_time": "2024-08-29T12:13:53.946Z"
   },
   {
    "duration": 21,
    "start_time": "2024-08-29T12:14:05.083Z"
   },
   {
    "duration": 21,
    "start_time": "2024-08-29T12:14:13.014Z"
   },
   {
    "duration": 21,
    "start_time": "2024-08-29T12:14:24.884Z"
   },
   {
    "duration": 19,
    "start_time": "2024-08-29T12:14:29.318Z"
   },
   {
    "duration": 19,
    "start_time": "2024-08-29T12:15:15.933Z"
   },
   {
    "duration": 662,
    "start_time": "2024-08-29T12:15:39.369Z"
   },
   {
    "duration": 201,
    "start_time": "2024-08-29T12:15:40.033Z"
   },
   {
    "duration": 24,
    "start_time": "2024-08-29T12:15:40.238Z"
   },
   {
    "duration": 8,
    "start_time": "2024-08-29T12:15:40.264Z"
   },
   {
    "duration": 34,
    "start_time": "2024-08-29T12:15:40.273Z"
   },
   {
    "duration": 71,
    "start_time": "2024-08-29T12:15:40.308Z"
   },
   {
    "duration": 91,
    "start_time": "2024-08-29T12:15:40.380Z"
   },
   {
    "duration": 33,
    "start_time": "2024-08-29T12:15:40.473Z"
   },
   {
    "duration": 88,
    "start_time": "2024-08-29T12:15:40.509Z"
   },
   {
    "duration": 33,
    "start_time": "2024-08-29T12:15:40.604Z"
   },
   {
    "duration": 88,
    "start_time": "2024-08-29T12:15:40.639Z"
   },
   {
    "duration": 47,
    "start_time": "2024-08-29T12:15:40.729Z"
   },
   {
    "duration": 122,
    "start_time": "2024-08-29T12:15:40.777Z"
   },
   {
    "duration": 5,
    "start_time": "2024-08-29T12:15:40.905Z"
   },
   {
    "duration": 915,
    "start_time": "2024-08-29T12:15:40.912Z"
   },
   {
    "duration": 17,
    "start_time": "2024-08-29T12:15:41.829Z"
   },
   {
    "duration": 225,
    "start_time": "2024-08-29T12:15:41.848Z"
   },
   {
    "duration": 93,
    "start_time": "2024-08-29T12:15:42.074Z"
   },
   {
    "duration": 59,
    "start_time": "2024-08-29T12:16:44.197Z"
   },
   {
    "duration": 17,
    "start_time": "2024-08-29T12:16:50.070Z"
   },
   {
    "duration": 28,
    "start_time": "2024-08-29T12:17:19.638Z"
   },
   {
    "duration": 32,
    "start_time": "2024-08-29T12:21:32.832Z"
   },
   {
    "duration": 221,
    "start_time": "2024-08-29T12:21:43.218Z"
   },
   {
    "duration": 77,
    "start_time": "2024-08-29T12:22:09.639Z"
   },
   {
    "duration": 356,
    "start_time": "2024-08-29T12:22:17.189Z"
   },
   {
    "duration": 98,
    "start_time": "2024-08-29T12:23:35.476Z"
   },
   {
    "duration": 208,
    "start_time": "2024-08-29T12:23:40.604Z"
   },
   {
    "duration": 72,
    "start_time": "2024-08-29T12:42:23.583Z"
   },
   {
    "duration": 72,
    "start_time": "2024-08-29T12:42:26.866Z"
   },
   {
    "duration": 21,
    "start_time": "2024-08-29T12:52:47.613Z"
   },
   {
    "duration": 40,
    "start_time": "2024-08-29T13:00:52.564Z"
   },
   {
    "duration": 45,
    "start_time": "2024-08-29T13:01:24.483Z"
   },
   {
    "duration": 41,
    "start_time": "2024-08-29T13:01:36.894Z"
   },
   {
    "duration": 38,
    "start_time": "2024-08-29T13:01:41.992Z"
   },
   {
    "duration": 44,
    "start_time": "2024-08-29T13:01:55.868Z"
   },
   {
    "duration": 48,
    "start_time": "2024-08-29T13:04:08.020Z"
   },
   {
    "duration": 233,
    "start_time": "2024-08-29T13:04:40.982Z"
   },
   {
    "duration": 232,
    "start_time": "2024-08-29T13:04:50.448Z"
   },
   {
    "duration": 237,
    "start_time": "2024-08-29T13:04:58.007Z"
   },
   {
    "duration": 229,
    "start_time": "2024-08-29T13:06:06.509Z"
   },
   {
    "duration": 45,
    "start_time": "2024-08-29T13:06:23.144Z"
   },
   {
    "duration": 220,
    "start_time": "2024-08-29T13:06:29.043Z"
   },
   {
    "duration": 220,
    "start_time": "2024-08-29T13:06:36.653Z"
   },
   {
    "duration": 67,
    "start_time": "2024-08-29T13:07:03.555Z"
   },
   {
    "duration": 295,
    "start_time": "2024-08-29T13:07:14.361Z"
   },
   {
    "duration": 230,
    "start_time": "2024-08-29T13:07:17.649Z"
   },
   {
    "duration": 60,
    "start_time": "2024-08-29T13:07:25.495Z"
   },
   {
    "duration": 223,
    "start_time": "2024-08-29T13:07:33.579Z"
   },
   {
    "duration": 70,
    "start_time": "2024-08-29T13:16:21.049Z"
   },
   {
    "duration": 109,
    "start_time": "2024-08-29T13:17:38.405Z"
   },
   {
    "duration": 17,
    "start_time": "2024-08-29T13:18:10.071Z"
   },
   {
    "duration": 73,
    "start_time": "2024-08-29T13:18:21.427Z"
   },
   {
    "duration": 262,
    "start_time": "2024-08-29T13:19:08.760Z"
   },
   {
    "duration": 72,
    "start_time": "2024-08-29T13:25:43.763Z"
   },
   {
    "duration": 78,
    "start_time": "2024-08-29T13:42:56.075Z"
   },
   {
    "duration": 921,
    "start_time": "2024-08-29T13:43:02.172Z"
   },
   {
    "duration": 1059,
    "start_time": "2024-08-29T13:43:17.983Z"
   },
   {
    "duration": 264,
    "start_time": "2024-08-29T13:43:41.565Z"
   },
   {
    "duration": 267,
    "start_time": "2024-08-29T13:44:10.081Z"
   },
   {
    "duration": 254,
    "start_time": "2024-08-29T13:44:21.636Z"
   },
   {
    "duration": 275,
    "start_time": "2024-08-29T13:44:26.025Z"
   },
   {
    "duration": 812,
    "start_time": "2024-08-29T13:45:18.877Z"
   },
   {
    "duration": 334,
    "start_time": "2024-08-29T13:45:42.927Z"
   },
   {
    "duration": 242,
    "start_time": "2024-08-29T13:46:11.648Z"
   },
   {
    "duration": 253,
    "start_time": "2024-08-29T13:47:01.005Z"
   },
   {
    "duration": 449,
    "start_time": "2024-08-29T13:52:17.272Z"
   },
   {
    "duration": 451,
    "start_time": "2024-08-29T13:52:33.726Z"
   },
   {
    "duration": 469,
    "start_time": "2024-08-29T13:52:45.689Z"
   },
   {
    "duration": 441,
    "start_time": "2024-08-29T13:52:52.646Z"
   },
   {
    "duration": 528,
    "start_time": "2024-08-29T13:53:00.621Z"
   },
   {
    "duration": 452,
    "start_time": "2024-08-29T13:53:09.438Z"
   },
   {
    "duration": 443,
    "start_time": "2024-08-29T13:54:11.151Z"
   },
   {
    "duration": 468,
    "start_time": "2024-08-29T15:26:17.913Z"
   },
   {
    "duration": 459,
    "start_time": "2024-08-29T15:26:43.113Z"
   },
   {
    "duration": 551,
    "start_time": "2024-08-29T15:32:20.603Z"
   },
   {
    "duration": 443,
    "start_time": "2024-08-29T15:32:40.741Z"
   },
   {
    "duration": 439,
    "start_time": "2024-08-29T15:36:57.705Z"
   },
   {
    "duration": 456,
    "start_time": "2024-08-29T15:39:58.406Z"
   },
   {
    "duration": 445,
    "start_time": "2024-08-29T15:40:02.555Z"
   },
   {
    "duration": 23,
    "start_time": "2024-08-29T17:21:44.182Z"
   },
   {
    "duration": 466,
    "start_time": "2024-08-29T17:48:45.711Z"
   },
   {
    "duration": 688,
    "start_time": "2024-08-29T17:48:52.509Z"
   },
   {
    "duration": 213,
    "start_time": "2024-08-29T17:48:53.199Z"
   },
   {
    "duration": 25,
    "start_time": "2024-08-29T17:48:53.415Z"
   },
   {
    "duration": 5,
    "start_time": "2024-08-29T17:48:53.442Z"
   },
   {
    "duration": 22,
    "start_time": "2024-08-29T17:48:53.449Z"
   },
   {
    "duration": 93,
    "start_time": "2024-08-29T17:48:53.472Z"
   },
   {
    "duration": 89,
    "start_time": "2024-08-29T17:48:53.566Z"
   },
   {
    "duration": 20,
    "start_time": "2024-08-29T17:48:53.657Z"
   },
   {
    "duration": 103,
    "start_time": "2024-08-29T17:48:53.679Z"
   },
   {
    "duration": 37,
    "start_time": "2024-08-29T17:48:53.784Z"
   },
   {
    "duration": 97,
    "start_time": "2024-08-29T17:48:53.823Z"
   },
   {
    "duration": 46,
    "start_time": "2024-08-29T17:48:53.922Z"
   },
   {
    "duration": 113,
    "start_time": "2024-08-29T17:48:53.969Z"
   },
   {
    "duration": 5,
    "start_time": "2024-08-29T17:48:54.083Z"
   },
   {
    "duration": 829,
    "start_time": "2024-08-29T17:48:54.090Z"
   },
   {
    "duration": 16,
    "start_time": "2024-08-29T17:48:54.921Z"
   },
   {
    "duration": 225,
    "start_time": "2024-08-29T17:48:54.939Z"
   },
   {
    "duration": 77,
    "start_time": "2024-08-29T17:48:55.166Z"
   },
   {
    "duration": 19,
    "start_time": "2024-08-29T17:48:55.244Z"
   },
   {
    "duration": 292,
    "start_time": "2024-08-29T17:48:55.264Z"
   },
   {
    "duration": 465,
    "start_time": "2024-08-29T17:48:55.558Z"
   },
   {
    "duration": 7,
    "start_time": "2024-08-29T17:49:03.815Z"
   },
   {
    "duration": 75,
    "start_time": "2024-08-29T17:51:07.172Z"
   },
   {
    "duration": 4,
    "start_time": "2024-08-29T17:51:17.107Z"
   },
   {
    "duration": 9,
    "start_time": "2024-08-29T17:51:22.286Z"
   },
   {
    "duration": 654,
    "start_time": "2024-08-29T17:51:31.635Z"
   },
   {
    "duration": 208,
    "start_time": "2024-08-29T17:51:32.291Z"
   },
   {
    "duration": 24,
    "start_time": "2024-08-29T17:51:32.501Z"
   },
   {
    "duration": 6,
    "start_time": "2024-08-29T17:51:32.527Z"
   },
   {
    "duration": 25,
    "start_time": "2024-08-29T17:51:32.535Z"
   },
   {
    "duration": 83,
    "start_time": "2024-08-29T17:51:32.562Z"
   },
   {
    "duration": 92,
    "start_time": "2024-08-29T17:51:32.647Z"
   },
   {
    "duration": 21,
    "start_time": "2024-08-29T17:51:32.740Z"
   },
   {
    "duration": 96,
    "start_time": "2024-08-29T17:51:32.763Z"
   },
   {
    "duration": 32,
    "start_time": "2024-08-29T17:51:32.862Z"
   },
   {
    "duration": 73,
    "start_time": "2024-08-29T17:51:32.904Z"
   },
   {
    "duration": 64,
    "start_time": "2024-08-29T17:51:32.978Z"
   },
   {
    "duration": 110,
    "start_time": "2024-08-29T17:51:33.043Z"
   },
   {
    "duration": 5,
    "start_time": "2024-08-29T17:51:33.155Z"
   },
   {
    "duration": 828,
    "start_time": "2024-08-29T17:51:33.161Z"
   },
   {
    "duration": 21,
    "start_time": "2024-08-29T17:51:33.990Z"
   },
   {
    "duration": 221,
    "start_time": "2024-08-29T17:51:34.013Z"
   },
   {
    "duration": 80,
    "start_time": "2024-08-29T17:51:34.235Z"
   },
   {
    "duration": 18,
    "start_time": "2024-08-29T17:51:34.317Z"
   },
   {
    "duration": 233,
    "start_time": "2024-08-29T17:51:34.337Z"
   },
   {
    "duration": 459,
    "start_time": "2024-08-29T17:51:34.572Z"
   },
   {
    "duration": 8,
    "start_time": "2024-08-29T17:51:35.032Z"
   },
   {
    "duration": 7,
    "start_time": "2024-08-29T17:58:31.155Z"
   },
   {
    "duration": 709,
    "start_time": "2024-08-29T17:58:34.587Z"
   },
   {
    "duration": 242,
    "start_time": "2024-08-29T17:58:35.304Z"
   },
   {
    "duration": 25,
    "start_time": "2024-08-29T17:58:35.548Z"
   },
   {
    "duration": 51,
    "start_time": "2024-08-29T17:58:35.574Z"
   },
   {
    "duration": 34,
    "start_time": "2024-08-29T17:58:35.627Z"
   },
   {
    "duration": 80,
    "start_time": "2024-08-29T17:58:35.663Z"
   },
   {
    "duration": 90,
    "start_time": "2024-08-29T17:58:35.745Z"
   },
   {
    "duration": 26,
    "start_time": "2024-08-29T17:58:35.837Z"
   },
   {
    "duration": 98,
    "start_time": "2024-08-29T17:58:35.864Z"
   },
   {
    "duration": 42,
    "start_time": "2024-08-29T17:58:35.964Z"
   },
   {
    "duration": 74,
    "start_time": "2024-08-29T17:58:36.007Z"
   },
   {
    "duration": 63,
    "start_time": "2024-08-29T17:58:36.082Z"
   },
   {
    "duration": 113,
    "start_time": "2024-08-29T17:58:36.147Z"
   },
   {
    "duration": 5,
    "start_time": "2024-08-29T17:58:36.263Z"
   },
   {
    "duration": 861,
    "start_time": "2024-08-29T17:58:36.269Z"
   },
   {
    "duration": 16,
    "start_time": "2024-08-29T17:58:37.132Z"
   },
   {
    "duration": 227,
    "start_time": "2024-08-29T17:58:37.149Z"
   },
   {
    "duration": 83,
    "start_time": "2024-08-29T17:58:37.378Z"
   },
   {
    "duration": 19,
    "start_time": "2024-08-29T17:58:37.463Z"
   },
   {
    "duration": 237,
    "start_time": "2024-08-29T17:58:37.484Z"
   },
   {
    "duration": 478,
    "start_time": "2024-08-29T17:58:37.723Z"
   },
   {
    "duration": 6,
    "start_time": "2024-08-29T17:58:38.204Z"
   },
   {
    "duration": 8,
    "start_time": "2024-08-29T17:59:30.500Z"
   },
   {
    "duration": 7,
    "start_time": "2024-08-29T18:00:12.103Z"
   },
   {
    "duration": 8,
    "start_time": "2024-08-29T18:00:24.686Z"
   },
   {
    "duration": 8,
    "start_time": "2024-08-29T18:00:38.737Z"
   },
   {
    "duration": 859,
    "start_time": "2024-08-29T18:01:11.909Z"
   },
   {
    "duration": 204,
    "start_time": "2024-08-29T18:01:12.770Z"
   },
   {
    "duration": 34,
    "start_time": "2024-08-29T18:01:12.976Z"
   },
   {
    "duration": 5,
    "start_time": "2024-08-29T18:01:13.012Z"
   },
   {
    "duration": 31,
    "start_time": "2024-08-29T18:01:13.019Z"
   },
   {
    "duration": 125,
    "start_time": "2024-08-29T18:01:13.052Z"
   },
   {
    "duration": 84,
    "start_time": "2024-08-29T18:01:13.179Z"
   },
   {
    "duration": 21,
    "start_time": "2024-08-29T18:01:13.265Z"
   },
   {
    "duration": 89,
    "start_time": "2024-08-29T18:01:13.305Z"
   },
   {
    "duration": 43,
    "start_time": "2024-08-29T18:01:13.396Z"
   },
   {
    "duration": 90,
    "start_time": "2024-08-29T18:01:13.441Z"
   },
   {
    "duration": 47,
    "start_time": "2024-08-29T18:01:13.533Z"
   },
   {
    "duration": 123,
    "start_time": "2024-08-29T18:01:13.582Z"
   },
   {
    "duration": 6,
    "start_time": "2024-08-29T18:01:13.708Z"
   },
   {
    "duration": 838,
    "start_time": "2024-08-29T18:01:13.715Z"
   },
   {
    "duration": 18,
    "start_time": "2024-08-29T18:01:14.555Z"
   },
   {
    "duration": 222,
    "start_time": "2024-08-29T18:01:14.575Z"
   },
   {
    "duration": 71,
    "start_time": "2024-08-29T18:01:14.799Z"
   },
   {
    "duration": 34,
    "start_time": "2024-08-29T18:01:14.872Z"
   },
   {
    "duration": 237,
    "start_time": "2024-08-29T18:01:14.907Z"
   },
   {
    "duration": 536,
    "start_time": "2024-08-29T18:01:15.145Z"
   },
   {
    "duration": 8,
    "start_time": "2024-08-29T18:01:15.683Z"
   },
   {
    "duration": 8,
    "start_time": "2024-08-29T18:01:19.659Z"
   },
   {
    "duration": 9,
    "start_time": "2024-08-29T18:02:00.289Z"
   },
   {
    "duration": 10,
    "start_time": "2024-08-29T18:02:56.096Z"
   },
   {
    "duration": 77,
    "start_time": "2024-08-29T18:04:53.833Z"
   },
   {
    "duration": 9,
    "start_time": "2024-08-29T18:04:58.957Z"
   },
   {
    "duration": 8,
    "start_time": "2024-08-29T18:05:04.752Z"
   },
   {
    "duration": 6,
    "start_time": "2024-08-29T18:06:17.998Z"
   },
   {
    "duration": 12,
    "start_time": "2024-08-29T18:06:20.949Z"
   },
   {
    "duration": 13,
    "start_time": "2024-08-29T18:06:36.525Z"
   },
   {
    "duration": 12,
    "start_time": "2024-08-29T18:06:39.301Z"
   },
   {
    "duration": 9,
    "start_time": "2024-08-29T18:07:36.748Z"
   },
   {
    "duration": 8,
    "start_time": "2024-08-29T18:08:29.885Z"
   },
   {
    "duration": 6,
    "start_time": "2024-08-29T18:08:35.414Z"
   },
   {
    "duration": 7,
    "start_time": "2024-08-29T18:08:47.003Z"
   },
   {
    "duration": 67,
    "start_time": "2024-08-29T18:09:02.208Z"
   },
   {
    "duration": 6,
    "start_time": "2024-08-29T18:09:07.613Z"
   },
   {
    "duration": 9,
    "start_time": "2024-08-29T18:09:34.167Z"
   },
   {
    "duration": 10,
    "start_time": "2024-08-29T18:09:47.270Z"
   },
   {
    "duration": 866,
    "start_time": "2024-08-29T18:10:09.101Z"
   },
   {
    "duration": 844,
    "start_time": "2024-08-29T18:10:14.100Z"
   },
   {
    "duration": 74,
    "start_time": "2024-08-29T18:10:17.422Z"
   },
   {
    "duration": 875,
    "start_time": "2024-08-29T18:10:21.474Z"
   },
   {
    "duration": 464,
    "start_time": "2024-08-29T18:10:59.959Z"
   },
   {
    "duration": 439,
    "start_time": "2024-08-29T18:11:05.234Z"
   },
   {
    "duration": 26,
    "start_time": "2024-08-29T18:11:11.595Z"
   },
   {
    "duration": 7,
    "start_time": "2024-08-29T18:11:20.126Z"
   },
   {
    "duration": 7,
    "start_time": "2024-08-29T18:22:49.918Z"
   },
   {
    "duration": 17,
    "start_time": "2024-08-29T18:23:01.643Z"
   },
   {
    "duration": 7,
    "start_time": "2024-08-29T18:23:06.218Z"
   },
   {
    "duration": 5,
    "start_time": "2024-08-29T18:23:16.990Z"
   },
   {
    "duration": 6,
    "start_time": "2024-08-29T18:23:23.581Z"
   },
   {
    "duration": 5,
    "start_time": "2024-08-29T18:23:59.362Z"
   },
   {
    "duration": 6,
    "start_time": "2024-08-29T18:26:23.379Z"
   },
   {
    "duration": 20,
    "start_time": "2024-08-29T18:57:32.792Z"
   },
   {
    "duration": 13,
    "start_time": "2024-08-29T18:57:46.987Z"
   },
   {
    "duration": 13,
    "start_time": "2024-08-29T18:58:03.579Z"
   },
   {
    "duration": 16,
    "start_time": "2024-08-29T18:58:15.926Z"
   },
   {
    "duration": 32,
    "start_time": "2024-08-29T18:58:59.415Z"
   },
   {
    "duration": 15,
    "start_time": "2024-08-29T18:59:13.574Z"
   },
   {
    "duration": 6,
    "start_time": "2024-08-29T19:04:19.064Z"
   },
   {
    "duration": 3,
    "start_time": "2024-08-29T19:05:17.263Z"
   },
   {
    "duration": 8,
    "start_time": "2024-08-29T19:05:20.134Z"
   },
   {
    "duration": 73,
    "start_time": "2024-08-29T19:06:15.782Z"
   },
   {
    "duration": 59,
    "start_time": "2024-08-29T19:06:34.720Z"
   },
   {
    "duration": 8,
    "start_time": "2024-08-29T19:06:38.342Z"
   },
   {
    "duration": 235,
    "start_time": "2024-08-29T19:08:27.829Z"
   },
   {
    "duration": 226,
    "start_time": "2024-08-29T19:08:39.867Z"
   },
   {
    "duration": 7,
    "start_time": "2024-08-29T19:08:50.486Z"
   },
   {
    "duration": 6,
    "start_time": "2024-08-29T19:10:53.672Z"
   },
   {
    "duration": 8,
    "start_time": "2024-08-29T19:11:11.666Z"
   },
   {
    "duration": 7,
    "start_time": "2024-08-29T19:11:31.384Z"
   },
   {
    "duration": 10,
    "start_time": "2024-08-29T19:13:21.524Z"
   },
   {
    "duration": 710,
    "start_time": "2024-08-29T19:13:28.058Z"
   },
   {
    "duration": 220,
    "start_time": "2024-08-29T19:13:28.770Z"
   },
   {
    "duration": 37,
    "start_time": "2024-08-29T19:13:28.992Z"
   },
   {
    "duration": 14,
    "start_time": "2024-08-29T19:13:29.030Z"
   },
   {
    "duration": 21,
    "start_time": "2024-08-29T19:13:29.046Z"
   },
   {
    "duration": 96,
    "start_time": "2024-08-29T19:13:29.069Z"
   },
   {
    "duration": 98,
    "start_time": "2024-08-29T19:13:29.167Z"
   },
   {
    "duration": 22,
    "start_time": "2024-08-29T19:13:29.266Z"
   },
   {
    "duration": 108,
    "start_time": "2024-08-29T19:13:29.290Z"
   },
   {
    "duration": 42,
    "start_time": "2024-08-29T19:13:29.399Z"
   },
   {
    "duration": 88,
    "start_time": "2024-08-29T19:13:29.443Z"
   },
   {
    "duration": 49,
    "start_time": "2024-08-29T19:13:29.533Z"
   },
   {
    "duration": 139,
    "start_time": "2024-08-29T19:13:29.584Z"
   },
   {
    "duration": 6,
    "start_time": "2024-08-29T19:13:29.726Z"
   },
   {
    "duration": 931,
    "start_time": "2024-08-29T19:13:29.733Z"
   },
   {
    "duration": 19,
    "start_time": "2024-08-29T19:13:30.665Z"
   },
   {
    "duration": 257,
    "start_time": "2024-08-29T19:13:30.686Z"
   },
   {
    "duration": 82,
    "start_time": "2024-08-29T19:13:30.945Z"
   },
   {
    "duration": 20,
    "start_time": "2024-08-29T19:13:31.029Z"
   },
   {
    "duration": 269,
    "start_time": "2024-08-29T19:13:31.051Z"
   },
   {
    "duration": 487,
    "start_time": "2024-08-29T19:13:31.322Z"
   },
   {
    "duration": 14,
    "start_time": "2024-08-29T19:13:31.813Z"
   },
   {
    "duration": 11,
    "start_time": "2024-08-29T19:14:39.695Z"
   },
   {
    "duration": 11,
    "start_time": "2024-08-29T19:15:50.890Z"
   },
   {
    "duration": 12,
    "start_time": "2024-08-29T19:16:02.326Z"
   },
   {
    "duration": 62,
    "start_time": "2024-08-29T19:16:54.586Z"
   },
   {
    "duration": 11,
    "start_time": "2024-08-29T19:16:58.935Z"
   },
   {
    "duration": 12,
    "start_time": "2024-08-29T19:17:15.449Z"
   },
   {
    "duration": 11,
    "start_time": "2024-08-29T19:18:01.885Z"
   },
   {
    "duration": 12,
    "start_time": "2024-08-29T19:18:14.486Z"
   },
   {
    "duration": 12,
    "start_time": "2024-08-29T19:18:39.986Z"
   },
   {
    "duration": 4,
    "start_time": "2024-08-29T19:31:16.295Z"
   },
   {
    "duration": 3,
    "start_time": "2024-08-29T19:31:25.601Z"
   },
   {
    "duration": 3,
    "start_time": "2024-08-29T19:31:41.523Z"
   },
   {
    "duration": 3,
    "start_time": "2024-08-29T19:31:48.427Z"
   },
   {
    "duration": 3,
    "start_time": "2024-08-29T19:31:51.422Z"
   },
   {
    "duration": 9,
    "start_time": "2024-08-29T19:31:53.914Z"
   },
   {
    "duration": 4,
    "start_time": "2024-08-29T19:31:59.832Z"
   },
   {
    "duration": 4,
    "start_time": "2024-08-29T19:35:29.136Z"
   },
   {
    "duration": 179,
    "start_time": "2024-08-29T19:39:48.661Z"
   },
   {
    "duration": 810,
    "start_time": "2024-08-30T09:18:30.409Z"
   },
   {
    "duration": 929,
    "start_time": "2024-08-30T09:18:31.222Z"
   },
   {
    "duration": 23,
    "start_time": "2024-08-30T09:18:32.153Z"
   },
   {
    "duration": 6,
    "start_time": "2024-08-30T09:18:32.177Z"
   },
   {
    "duration": 23,
    "start_time": "2024-08-30T09:18:32.185Z"
   },
   {
    "duration": 68,
    "start_time": "2024-08-30T09:18:32.209Z"
   },
   {
    "duration": 90,
    "start_time": "2024-08-30T09:18:32.279Z"
   },
   {
    "duration": 35,
    "start_time": "2024-08-30T09:18:32.372Z"
   },
   {
    "duration": 101,
    "start_time": "2024-08-30T09:18:32.409Z"
   },
   {
    "duration": 33,
    "start_time": "2024-08-30T09:18:32.512Z"
   },
   {
    "duration": 84,
    "start_time": "2024-08-30T09:18:32.547Z"
   },
   {
    "duration": 42,
    "start_time": "2024-08-30T09:18:32.633Z"
   },
   {
    "duration": 110,
    "start_time": "2024-08-30T09:18:32.677Z"
   },
   {
    "duration": 5,
    "start_time": "2024-08-30T09:18:32.790Z"
   },
   {
    "duration": 817,
    "start_time": "2024-08-30T09:18:32.807Z"
   },
   {
    "duration": 14,
    "start_time": "2024-08-30T09:18:33.626Z"
   },
   {
    "duration": 202,
    "start_time": "2024-08-30T09:18:33.641Z"
   },
   {
    "duration": 73,
    "start_time": "2024-08-30T09:18:33.845Z"
   },
   {
    "duration": 18,
    "start_time": "2024-08-30T09:18:33.919Z"
   },
   {
    "duration": 220,
    "start_time": "2024-08-30T09:18:33.939Z"
   },
   {
    "duration": 436,
    "start_time": "2024-08-30T09:18:34.161Z"
   },
   {
    "duration": 11,
    "start_time": "2024-08-30T09:18:34.606Z"
   },
   {
    "duration": 8,
    "start_time": "2024-08-30T09:18:34.618Z"
   },
   {
    "duration": 14,
    "start_time": "2024-08-30T10:34:19.659Z"
   },
   {
    "duration": 11,
    "start_time": "2024-08-30T10:37:44.179Z"
   },
   {
    "duration": 177,
    "start_time": "2024-08-30T10:52:18.490Z"
   },
   {
    "duration": 154,
    "start_time": "2024-08-30T10:52:24.547Z"
   },
   {
    "duration": 173,
    "start_time": "2024-08-30T10:52:33.931Z"
   },
   {
    "duration": 202,
    "start_time": "2024-08-30T10:52:54.632Z"
   },
   {
    "duration": 169,
    "start_time": "2024-08-30T10:53:00.789Z"
   },
   {
    "duration": 140,
    "start_time": "2024-08-30T10:53:19.577Z"
   },
   {
    "duration": 96,
    "start_time": "2024-08-30T10:54:23.347Z"
   },
   {
    "duration": 622,
    "start_time": "2024-08-30T10:54:58.834Z"
   },
   {
    "duration": 199,
    "start_time": "2024-08-30T10:54:59.458Z"
   },
   {
    "duration": 23,
    "start_time": "2024-08-30T10:54:59.658Z"
   },
   {
    "duration": 5,
    "start_time": "2024-08-30T10:54:59.682Z"
   },
   {
    "duration": 29,
    "start_time": "2024-08-30T10:54:59.689Z"
   },
   {
    "duration": 63,
    "start_time": "2024-08-30T10:54:59.720Z"
   },
   {
    "duration": 87,
    "start_time": "2024-08-30T10:54:59.784Z"
   },
   {
    "duration": 19,
    "start_time": "2024-08-30T10:54:59.872Z"
   },
   {
    "duration": 91,
    "start_time": "2024-08-30T10:54:59.892Z"
   },
   {
    "duration": 41,
    "start_time": "2024-08-30T10:54:59.985Z"
   },
   {
    "duration": 84,
    "start_time": "2024-08-30T10:55:00.028Z"
   },
   {
    "duration": 45,
    "start_time": "2024-08-30T10:55:00.114Z"
   },
   {
    "duration": 112,
    "start_time": "2024-08-30T10:55:00.160Z"
   },
   {
    "duration": 5,
    "start_time": "2024-08-30T10:55:00.275Z"
   },
   {
    "duration": 809,
    "start_time": "2024-08-30T10:55:00.282Z"
   },
   {
    "duration": 23,
    "start_time": "2024-08-30T10:55:01.093Z"
   },
   {
    "duration": 166,
    "start_time": "2024-08-30T10:55:01.118Z"
   },
   {
    "duration": 71,
    "start_time": "2024-08-30T10:55:01.286Z"
   },
   {
    "duration": 18,
    "start_time": "2024-08-30T10:55:01.359Z"
   },
   {
    "duration": 245,
    "start_time": "2024-08-30T10:55:01.378Z"
   },
   {
    "duration": 443,
    "start_time": "2024-08-30T10:55:01.625Z"
   },
   {
    "duration": 12,
    "start_time": "2024-08-30T10:55:02.070Z"
   },
   {
    "duration": 36,
    "start_time": "2024-08-30T10:55:02.083Z"
   },
   {
    "duration": 102,
    "start_time": "2024-08-30T11:03:27.158Z"
   },
   {
    "duration": 36,
    "start_time": "2024-08-30T11:03:57.073Z"
   },
   {
    "duration": 34,
    "start_time": "2024-08-30T11:04:53.772Z"
   },
   {
    "duration": 49,
    "start_time": "2024-08-30T11:45:13.532Z"
   },
   {
    "duration": 46,
    "start_time": "2024-08-30T11:46:02.434Z"
   },
   {
    "duration": 44,
    "start_time": "2024-08-30T11:46:16.388Z"
   },
   {
    "duration": 46,
    "start_time": "2024-08-30T11:46:51.147Z"
   },
   {
    "duration": 46,
    "start_time": "2024-08-30T11:47:17.092Z"
   },
   {
    "duration": 46,
    "start_time": "2024-08-30T11:47:28.675Z"
   },
   {
    "duration": 49,
    "start_time": "2024-08-30T11:47:32.543Z"
   },
   {
    "duration": 43,
    "start_time": "2024-08-30T11:47:35.857Z"
   },
   {
    "duration": 44,
    "start_time": "2024-08-30T11:47:38.848Z"
   },
   {
    "duration": 47,
    "start_time": "2024-08-30T11:54:54.697Z"
   },
   {
    "duration": 42,
    "start_time": "2024-08-30T12:08:09.421Z"
   },
   {
    "duration": 26,
    "start_time": "2024-08-30T12:09:44.070Z"
   },
   {
    "duration": 327,
    "start_time": "2024-08-30T12:09:51.288Z"
   },
   {
    "duration": 48,
    "start_time": "2024-08-30T12:10:10.117Z"
   },
   {
    "duration": 242,
    "start_time": "2024-08-30T12:10:31.700Z"
   },
   {
    "duration": 272,
    "start_time": "2024-08-30T12:10:48.797Z"
   },
   {
    "duration": 28,
    "start_time": "2024-08-30T12:11:36.312Z"
   },
   {
    "duration": 40,
    "start_time": "2024-08-30T12:11:55.500Z"
   },
   {
    "duration": 44,
    "start_time": "2024-08-30T12:19:47.580Z"
   },
   {
    "duration": 43,
    "start_time": "2024-08-30T12:20:12.599Z"
   },
   {
    "duration": 44,
    "start_time": "2024-08-30T12:22:35.652Z"
   },
   {
    "duration": 41,
    "start_time": "2024-08-30T12:24:20.161Z"
   },
   {
    "duration": 43,
    "start_time": "2024-08-30T12:24:40.261Z"
   },
   {
    "duration": 12,
    "start_time": "2024-08-30T12:37:07.975Z"
   },
   {
    "duration": 44,
    "start_time": "2024-08-30T12:37:11.043Z"
   },
   {
    "duration": 3,
    "start_time": "2024-08-30T12:44:20.653Z"
   },
   {
    "duration": 4,
    "start_time": "2024-08-30T12:48:03.415Z"
   },
   {
    "duration": 4,
    "start_time": "2024-08-30T12:48:08.838Z"
   },
   {
    "duration": 5,
    "start_time": "2024-08-30T12:49:07.894Z"
   },
   {
    "duration": 10,
    "start_time": "2024-08-30T12:52:17.859Z"
   },
   {
    "duration": 1105,
    "start_time": "2024-08-30T12:52:33.764Z"
   },
   {
    "duration": 198,
    "start_time": "2024-08-30T12:52:34.871Z"
   },
   {
    "duration": 22,
    "start_time": "2024-08-30T12:52:35.071Z"
   },
   {
    "duration": 14,
    "start_time": "2024-08-30T12:52:35.095Z"
   },
   {
    "duration": 30,
    "start_time": "2024-08-30T12:52:35.110Z"
   },
   {
    "duration": 109,
    "start_time": "2024-08-30T12:52:35.142Z"
   },
   {
    "duration": 83,
    "start_time": "2024-08-30T12:52:35.253Z"
   },
   {
    "duration": 19,
    "start_time": "2024-08-30T12:52:35.337Z"
   },
   {
    "duration": 106,
    "start_time": "2024-08-30T12:52:35.357Z"
   },
   {
    "duration": 31,
    "start_time": "2024-08-30T12:52:35.466Z"
   },
   {
    "duration": 70,
    "start_time": "2024-08-30T12:52:35.498Z"
   },
   {
    "duration": 48,
    "start_time": "2024-08-30T12:52:35.570Z"
   },
   {
    "duration": 106,
    "start_time": "2024-08-30T12:52:35.619Z"
   },
   {
    "duration": 5,
    "start_time": "2024-08-30T12:52:35.727Z"
   },
   {
    "duration": 784,
    "start_time": "2024-08-30T12:52:35.733Z"
   },
   {
    "duration": 15,
    "start_time": "2024-08-30T12:52:36.518Z"
   },
   {
    "duration": 134,
    "start_time": "2024-08-30T12:52:36.535Z"
   },
   {
    "duration": 70,
    "start_time": "2024-08-30T12:52:36.670Z"
   },
   {
    "duration": 17,
    "start_time": "2024-08-30T12:52:36.741Z"
   },
   {
    "duration": 225,
    "start_time": "2024-08-30T12:52:36.760Z"
   },
   {
    "duration": 481,
    "start_time": "2024-08-30T12:52:36.986Z"
   },
   {
    "duration": 11,
    "start_time": "2024-08-30T12:52:37.469Z"
   },
   {
    "duration": 26,
    "start_time": "2024-08-30T12:52:37.482Z"
   },
   {
    "duration": 66,
    "start_time": "2024-08-30T12:52:37.510Z"
   },
   {
    "duration": 56,
    "start_time": "2024-08-30T12:52:37.577Z"
   },
   {
    "duration": 5,
    "start_time": "2024-08-30T12:52:37.635Z"
   },
   {
    "duration": 5,
    "start_time": "2024-08-30T12:53:12.997Z"
   },
   {
    "duration": 6,
    "start_time": "2024-08-30T12:53:43.657Z"
   },
   {
    "duration": 5,
    "start_time": "2024-08-30T12:53:49.552Z"
   },
   {
    "duration": 6,
    "start_time": "2024-08-30T12:53:57.646Z"
   },
   {
    "duration": 6,
    "start_time": "2024-08-30T12:58:15.872Z"
   },
   {
    "duration": 97,
    "start_time": "2024-08-30T13:06:32.071Z"
   },
   {
    "duration": 72,
    "start_time": "2024-08-30T13:06:44.300Z"
   },
   {
    "duration": 111,
    "start_time": "2024-08-30T13:07:08.168Z"
   },
   {
    "duration": 1155,
    "start_time": "2024-08-30T13:08:07.831Z"
   },
   {
    "duration": 201,
    "start_time": "2024-08-30T13:08:08.988Z"
   },
   {
    "duration": 23,
    "start_time": "2024-08-30T13:08:09.190Z"
   },
   {
    "duration": 5,
    "start_time": "2024-08-30T13:08:09.215Z"
   },
   {
    "duration": 40,
    "start_time": "2024-08-30T13:08:09.221Z"
   },
   {
    "duration": 75,
    "start_time": "2024-08-30T13:08:09.263Z"
   },
   {
    "duration": 86,
    "start_time": "2024-08-30T13:08:09.340Z"
   },
   {
    "duration": 20,
    "start_time": "2024-08-30T13:08:09.427Z"
   },
   {
    "duration": 125,
    "start_time": "2024-08-30T13:08:09.449Z"
   },
   {
    "duration": 33,
    "start_time": "2024-08-30T13:08:09.577Z"
   },
   {
    "duration": 70,
    "start_time": "2024-08-30T13:08:09.612Z"
   },
   {
    "duration": 61,
    "start_time": "2024-08-30T13:08:09.684Z"
   },
   {
    "duration": 105,
    "start_time": "2024-08-30T13:08:09.747Z"
   },
   {
    "duration": 6,
    "start_time": "2024-08-30T13:08:09.854Z"
   },
   {
    "duration": 1033,
    "start_time": "2024-08-30T13:08:09.861Z"
   },
   {
    "duration": 19,
    "start_time": "2024-08-30T13:08:10.896Z"
   },
   {
    "duration": 113,
    "start_time": "2024-08-30T13:08:10.917Z"
   },
   {
    "duration": 79,
    "start_time": "2024-08-30T13:08:11.032Z"
   },
   {
    "duration": 18,
    "start_time": "2024-08-30T13:08:11.112Z"
   },
   {
    "duration": 249,
    "start_time": "2024-08-30T13:08:11.132Z"
   },
   {
    "duration": 476,
    "start_time": "2024-08-30T13:08:11.383Z"
   },
   {
    "duration": 12,
    "start_time": "2024-08-30T13:08:11.860Z"
   },
   {
    "duration": 26,
    "start_time": "2024-08-30T13:08:11.874Z"
   },
   {
    "duration": 81,
    "start_time": "2024-08-30T13:08:11.902Z"
   },
   {
    "duration": 46,
    "start_time": "2024-08-30T13:08:11.985Z"
   },
   {
    "duration": 117,
    "start_time": "2024-08-30T13:08:12.033Z"
   },
   {
    "duration": 0,
    "start_time": "2024-08-30T13:08:12.152Z"
   },
   {
    "duration": 5,
    "start_time": "2024-08-30T13:08:25.748Z"
   },
   {
    "duration": 5,
    "start_time": "2024-08-30T13:08:28.623Z"
   },
   {
    "duration": 279,
    "start_time": "2024-08-30T13:08:30.120Z"
   },
   {
    "duration": 1048,
    "start_time": "2024-08-30T14:36:23.126Z"
   },
   {
    "duration": 203,
    "start_time": "2024-08-30T14:36:24.176Z"
   },
   {
    "duration": 27,
    "start_time": "2024-08-30T14:36:24.381Z"
   },
   {
    "duration": 5,
    "start_time": "2024-08-30T14:36:24.410Z"
   },
   {
    "duration": 18,
    "start_time": "2024-08-30T14:36:24.417Z"
   },
   {
    "duration": 83,
    "start_time": "2024-08-30T14:36:24.437Z"
   },
   {
    "duration": 74,
    "start_time": "2024-08-30T14:36:24.521Z"
   },
   {
    "duration": 24,
    "start_time": "2024-08-30T14:36:24.596Z"
   },
   {
    "duration": 98,
    "start_time": "2024-08-30T14:36:24.622Z"
   },
   {
    "duration": 33,
    "start_time": "2024-08-30T14:36:24.721Z"
   },
   {
    "duration": 79,
    "start_time": "2024-08-30T14:36:24.756Z"
   },
   {
    "duration": 44,
    "start_time": "2024-08-30T14:36:24.837Z"
   },
   {
    "duration": 112,
    "start_time": "2024-08-30T14:36:24.882Z"
   },
   {
    "duration": 5,
    "start_time": "2024-08-30T14:36:25.007Z"
   },
   {
    "duration": 806,
    "start_time": "2024-08-30T14:36:25.014Z"
   },
   {
    "duration": 15,
    "start_time": "2024-08-30T14:36:25.822Z"
   },
   {
    "duration": 120,
    "start_time": "2024-08-30T14:36:25.839Z"
   },
   {
    "duration": 68,
    "start_time": "2024-08-30T14:36:25.960Z"
   },
   {
    "duration": 20,
    "start_time": "2024-08-30T14:36:26.030Z"
   },
   {
    "duration": 224,
    "start_time": "2024-08-30T14:36:26.051Z"
   },
   {
    "duration": 450,
    "start_time": "2024-08-30T14:36:26.277Z"
   },
   {
    "duration": 10,
    "start_time": "2024-08-30T14:36:26.729Z"
   },
   {
    "duration": 10,
    "start_time": "2024-08-30T14:36:26.741Z"
   },
   {
    "duration": 85,
    "start_time": "2024-08-30T14:36:26.753Z"
   },
   {
    "duration": 44,
    "start_time": "2024-08-30T14:36:26.839Z"
   },
   {
    "duration": 6,
    "start_time": "2024-08-30T14:36:26.885Z"
   },
   {
    "duration": 5,
    "start_time": "2024-08-30T14:44:27.844Z"
   },
   {
    "duration": 94,
    "start_time": "2024-08-30T14:49:09.042Z"
   },
   {
    "duration": 3,
    "start_time": "2024-08-30T14:49:14.846Z"
   },
   {
    "duration": 10,
    "start_time": "2024-08-30T14:49:17.391Z"
   },
   {
    "duration": 3,
    "start_time": "2024-08-30T14:49:43.682Z"
   },
   {
    "duration": 3,
    "start_time": "2024-08-30T14:49:52.885Z"
   },
   {
    "duration": 1057,
    "start_time": "2024-08-30T14:49:55.319Z"
   },
   {
    "duration": 199,
    "start_time": "2024-08-30T14:49:56.377Z"
   },
   {
    "duration": 23,
    "start_time": "2024-08-30T14:49:56.577Z"
   },
   {
    "duration": 5,
    "start_time": "2024-08-30T14:49:56.608Z"
   },
   {
    "duration": 19,
    "start_time": "2024-08-30T14:49:56.614Z"
   },
   {
    "duration": 78,
    "start_time": "2024-08-30T14:49:56.635Z"
   },
   {
    "duration": 71,
    "start_time": "2024-08-30T14:49:56.714Z"
   },
   {
    "duration": 31,
    "start_time": "2024-08-30T14:49:56.787Z"
   },
   {
    "duration": 77,
    "start_time": "2024-08-30T14:49:56.819Z"
   },
   {
    "duration": 31,
    "start_time": "2024-08-30T14:49:56.906Z"
   },
   {
    "duration": 74,
    "start_time": "2024-08-30T14:49:56.939Z"
   },
   {
    "duration": 38,
    "start_time": "2024-08-30T14:49:57.014Z"
   },
   {
    "duration": 112,
    "start_time": "2024-08-30T14:49:57.054Z"
   },
   {
    "duration": 5,
    "start_time": "2024-08-30T14:49:57.167Z"
   },
   {
    "duration": 903,
    "start_time": "2024-08-30T14:49:57.173Z"
   },
   {
    "duration": 14,
    "start_time": "2024-08-30T14:49:58.077Z"
   },
   {
    "duration": 120,
    "start_time": "2024-08-30T14:49:58.093Z"
   },
   {
    "duration": 66,
    "start_time": "2024-08-30T14:49:58.215Z"
   },
   {
    "duration": 33,
    "start_time": "2024-08-30T14:49:58.282Z"
   },
   {
    "duration": 235,
    "start_time": "2024-08-30T14:49:58.317Z"
   },
   {
    "duration": 462,
    "start_time": "2024-08-30T14:49:58.554Z"
   },
   {
    "duration": 12,
    "start_time": "2024-08-30T14:49:59.017Z"
   },
   {
    "duration": 8,
    "start_time": "2024-08-30T14:49:59.030Z"
   },
   {
    "duration": 82,
    "start_time": "2024-08-30T14:49:59.039Z"
   },
   {
    "duration": 43,
    "start_time": "2024-08-30T14:49:59.123Z"
   },
   {
    "duration": 7,
    "start_time": "2024-08-30T14:49:59.167Z"
   },
   {
    "duration": 8,
    "start_time": "2024-08-30T14:50:15.769Z"
   },
   {
    "duration": 7,
    "start_time": "2024-08-30T14:50:20.339Z"
   },
   {
    "duration": 8,
    "start_time": "2024-08-30T14:50:38.381Z"
   },
   {
    "duration": 6,
    "start_time": "2024-08-30T14:50:42.540Z"
   },
   {
    "duration": 58,
    "start_time": "2024-08-30T14:56:14.499Z"
   },
   {
    "duration": 60,
    "start_time": "2024-08-30T14:56:18.188Z"
   },
   {
    "duration": 62,
    "start_time": "2024-08-30T14:56:31.682Z"
   },
   {
    "duration": 45,
    "start_time": "2024-08-30T14:56:51.950Z"
   },
   {
    "duration": 33,
    "start_time": "2024-08-30T14:57:01.767Z"
   },
   {
    "duration": 69,
    "start_time": "2024-08-30T14:59:09.056Z"
   },
   {
    "duration": 6,
    "start_time": "2024-08-30T14:59:12.952Z"
   },
   {
    "duration": 63,
    "start_time": "2024-08-30T15:04:25.779Z"
   },
   {
    "duration": 7,
    "start_time": "2024-08-30T15:04:31.115Z"
   },
   {
    "duration": 8,
    "start_time": "2024-08-30T15:05:46.052Z"
   },
   {
    "duration": 8,
    "start_time": "2024-08-30T15:05:54.547Z"
   },
   {
    "duration": 8,
    "start_time": "2024-08-30T15:06:03.361Z"
   },
   {
    "duration": 6,
    "start_time": "2024-08-30T15:09:37.830Z"
   },
   {
    "duration": 7,
    "start_time": "2024-08-30T15:10:21.194Z"
   },
   {
    "duration": 36,
    "start_time": "2024-08-30T15:12:50.806Z"
   },
   {
    "duration": 10,
    "start_time": "2024-08-30T15:13:28.008Z"
   },
   {
    "duration": 10,
    "start_time": "2024-08-30T15:13:50.218Z"
   },
   {
    "duration": 9,
    "start_time": "2024-08-30T15:20:52.106Z"
   },
   {
    "duration": 6,
    "start_time": "2024-08-30T15:57:32.663Z"
   },
   {
    "duration": 6,
    "start_time": "2024-08-30T15:58:01.565Z"
   },
   {
    "duration": 5,
    "start_time": "2024-08-30T15:59:01.166Z"
   },
   {
    "duration": 6,
    "start_time": "2024-08-30T15:59:16.512Z"
   },
   {
    "duration": 6,
    "start_time": "2024-08-30T16:01:16.471Z"
   },
   {
    "duration": 1017,
    "start_time": "2024-08-30T16:01:20.538Z"
   },
   {
    "duration": 188,
    "start_time": "2024-08-30T16:01:21.557Z"
   },
   {
    "duration": 21,
    "start_time": "2024-08-30T16:01:21.746Z"
   },
   {
    "duration": 7,
    "start_time": "2024-08-30T16:01:21.768Z"
   },
   {
    "duration": 37,
    "start_time": "2024-08-30T16:01:21.777Z"
   },
   {
    "duration": 64,
    "start_time": "2024-08-30T16:01:21.816Z"
   },
   {
    "duration": 77,
    "start_time": "2024-08-30T16:01:21.882Z"
   },
   {
    "duration": 18,
    "start_time": "2024-08-30T16:01:21.961Z"
   },
   {
    "duration": 90,
    "start_time": "2024-08-30T16:01:21.980Z"
   },
   {
    "duration": 38,
    "start_time": "2024-08-30T16:01:22.072Z"
   },
   {
    "duration": 77,
    "start_time": "2024-08-30T16:01:22.112Z"
   },
   {
    "duration": 40,
    "start_time": "2024-08-30T16:01:22.190Z"
   },
   {
    "duration": 103,
    "start_time": "2024-08-30T16:01:22.231Z"
   },
   {
    "duration": 5,
    "start_time": "2024-08-30T16:01:22.336Z"
   },
   {
    "duration": 801,
    "start_time": "2024-08-30T16:01:22.342Z"
   },
   {
    "duration": 16,
    "start_time": "2024-08-30T16:01:23.145Z"
   },
   {
    "duration": 115,
    "start_time": "2024-08-30T16:01:23.163Z"
   },
   {
    "duration": 69,
    "start_time": "2024-08-30T16:01:23.280Z"
   },
   {
    "duration": 18,
    "start_time": "2024-08-30T16:01:23.350Z"
   },
   {
    "duration": 225,
    "start_time": "2024-08-30T16:01:23.369Z"
   },
   {
    "duration": 446,
    "start_time": "2024-08-30T16:01:23.596Z"
   },
   {
    "duration": 11,
    "start_time": "2024-08-30T16:01:24.044Z"
   },
   {
    "duration": 50,
    "start_time": "2024-08-30T16:01:24.057Z"
   },
   {
    "duration": 68,
    "start_time": "2024-08-30T16:01:24.109Z"
   },
   {
    "duration": 57,
    "start_time": "2024-08-30T16:01:24.179Z"
   },
   {
    "duration": 103,
    "start_time": "2024-08-30T16:01:24.237Z"
   },
   {
    "duration": 10,
    "start_time": "2024-08-30T16:01:44.554Z"
   },
   {
    "duration": 1037,
    "start_time": "2024-08-30T16:02:57.228Z"
   },
   {
    "duration": 188,
    "start_time": "2024-08-30T16:02:58.266Z"
   },
   {
    "duration": 21,
    "start_time": "2024-08-30T16:02:58.455Z"
   },
   {
    "duration": 4,
    "start_time": "2024-08-30T16:02:58.478Z"
   },
   {
    "duration": 34,
    "start_time": "2024-08-30T16:02:58.484Z"
   },
   {
    "duration": 90,
    "start_time": "2024-08-30T16:02:58.519Z"
   },
   {
    "duration": 77,
    "start_time": "2024-08-30T16:02:58.611Z"
   },
   {
    "duration": 32,
    "start_time": "2024-08-30T16:02:58.690Z"
   },
   {
    "duration": 113,
    "start_time": "2024-08-30T16:02:58.724Z"
   },
   {
    "duration": 34,
    "start_time": "2024-08-30T16:02:58.839Z"
   },
   {
    "duration": 81,
    "start_time": "2024-08-30T16:02:58.874Z"
   },
   {
    "duration": 50,
    "start_time": "2024-08-30T16:02:58.957Z"
   },
   {
    "duration": 108,
    "start_time": "2024-08-30T16:02:59.009Z"
   },
   {
    "duration": 5,
    "start_time": "2024-08-30T16:02:59.121Z"
   },
   {
    "duration": 775,
    "start_time": "2024-08-30T16:02:59.128Z"
   },
   {
    "duration": 16,
    "start_time": "2024-08-30T16:02:59.907Z"
   },
   {
    "duration": 118,
    "start_time": "2024-08-30T16:02:59.925Z"
   },
   {
    "duration": 73,
    "start_time": "2024-08-30T16:03:00.044Z"
   },
   {
    "duration": 18,
    "start_time": "2024-08-30T16:03:00.118Z"
   },
   {
    "duration": 229,
    "start_time": "2024-08-30T16:03:00.137Z"
   },
   {
    "duration": 450,
    "start_time": "2024-08-30T16:03:00.367Z"
   },
   {
    "duration": 12,
    "start_time": "2024-08-30T16:03:00.818Z"
   },
   {
    "duration": 23,
    "start_time": "2024-08-30T16:03:00.832Z"
   },
   {
    "duration": 105,
    "start_time": "2024-08-30T16:03:00.857Z"
   },
   {
    "duration": 44,
    "start_time": "2024-08-30T16:03:00.964Z"
   },
   {
    "duration": 103,
    "start_time": "2024-08-30T16:03:01.009Z"
   },
   {
    "duration": 6,
    "start_time": "2024-08-30T16:03:29.266Z"
   },
   {
    "duration": 3,
    "start_time": "2024-08-30T16:03:38.323Z"
   },
   {
    "duration": 985,
    "start_time": "2024-08-30T16:03:40.661Z"
   },
   {
    "duration": 184,
    "start_time": "2024-08-30T16:03:41.648Z"
   },
   {
    "duration": 21,
    "start_time": "2024-08-30T16:03:41.834Z"
   },
   {
    "duration": 5,
    "start_time": "2024-08-30T16:03:41.857Z"
   },
   {
    "duration": 17,
    "start_time": "2024-08-30T16:03:41.863Z"
   },
   {
    "duration": 84,
    "start_time": "2024-08-30T16:03:41.881Z"
   },
   {
    "duration": 82,
    "start_time": "2024-08-30T16:03:41.967Z"
   },
   {
    "duration": 20,
    "start_time": "2024-08-30T16:03:42.051Z"
   },
   {
    "duration": 97,
    "start_time": "2024-08-30T16:03:42.072Z"
   },
   {
    "duration": 31,
    "start_time": "2024-08-30T16:03:42.171Z"
   },
   {
    "duration": 65,
    "start_time": "2024-08-30T16:03:42.207Z"
   },
   {
    "duration": 57,
    "start_time": "2024-08-30T16:03:42.273Z"
   },
   {
    "duration": 103,
    "start_time": "2024-08-30T16:03:42.331Z"
   },
   {
    "duration": 5,
    "start_time": "2024-08-30T16:03:42.435Z"
   },
   {
    "duration": 788,
    "start_time": "2024-08-30T16:03:42.442Z"
   },
   {
    "duration": 15,
    "start_time": "2024-08-30T16:03:43.232Z"
   },
   {
    "duration": 108,
    "start_time": "2024-08-30T16:03:43.248Z"
   },
   {
    "duration": 74,
    "start_time": "2024-08-30T16:03:43.358Z"
   },
   {
    "duration": 16,
    "start_time": "2024-08-30T16:03:43.434Z"
   },
   {
    "duration": 211,
    "start_time": "2024-08-30T16:03:43.451Z"
   },
   {
    "duration": 434,
    "start_time": "2024-08-30T16:03:43.663Z"
   },
   {
    "duration": 15,
    "start_time": "2024-08-30T16:03:44.098Z"
   },
   {
    "duration": 18,
    "start_time": "2024-08-30T16:03:44.115Z"
   },
   {
    "duration": 64,
    "start_time": "2024-08-30T16:03:44.135Z"
   },
   {
    "duration": 48,
    "start_time": "2024-08-30T16:03:44.201Z"
   },
   {
    "duration": 7,
    "start_time": "2024-08-30T16:03:44.250Z"
   },
   {
    "duration": 6,
    "start_time": "2024-08-30T16:04:06.729Z"
   },
   {
    "duration": 6,
    "start_time": "2024-08-30T16:04:46.247Z"
   },
   {
    "duration": 107,
    "start_time": "2024-08-30T16:05:31.421Z"
   },
   {
    "duration": 17,
    "start_time": "2024-08-30T16:05:42.124Z"
   },
   {
    "duration": 26,
    "start_time": "2024-08-30T16:05:51.456Z"
   },
   {
    "duration": 42,
    "start_time": "2024-08-30T16:06:57.075Z"
   },
   {
    "duration": 7,
    "start_time": "2024-08-30T16:10:54.363Z"
   },
   {
    "duration": 8,
    "start_time": "2024-08-30T16:10:59.997Z"
   },
   {
    "duration": 47,
    "start_time": "2024-08-30T16:25:35.065Z"
   },
   {
    "duration": 48,
    "start_time": "2024-08-30T16:25:42.375Z"
   },
   {
    "duration": 47,
    "start_time": "2024-08-30T16:25:50.871Z"
   },
   {
    "duration": 44,
    "start_time": "2024-08-30T16:26:07.127Z"
   },
   {
    "duration": 46,
    "start_time": "2024-08-30T16:26:36.772Z"
   },
   {
    "duration": 46,
    "start_time": "2024-08-30T16:26:43.343Z"
   },
   {
    "duration": 50,
    "start_time": "2024-08-30T16:27:11.660Z"
   },
   {
    "duration": 8,
    "start_time": "2024-08-30T16:27:14.370Z"
   },
   {
    "duration": 70,
    "start_time": "2024-08-30T16:28:12.488Z"
   },
   {
    "duration": 58,
    "start_time": "2024-08-30T16:28:15.742Z"
   },
   {
    "duration": 1083,
    "start_time": "2024-08-30T16:31:22.577Z"
   },
   {
    "duration": 184,
    "start_time": "2024-08-30T16:31:23.662Z"
   },
   {
    "duration": 22,
    "start_time": "2024-08-30T16:31:23.847Z"
   },
   {
    "duration": 5,
    "start_time": "2024-08-30T16:31:23.870Z"
   },
   {
    "duration": 31,
    "start_time": "2024-08-30T16:31:23.877Z"
   },
   {
    "duration": 60,
    "start_time": "2024-08-30T16:31:23.909Z"
   },
   {
    "duration": 80,
    "start_time": "2024-08-30T16:31:23.971Z"
   },
   {
    "duration": 19,
    "start_time": "2024-08-30T16:31:24.053Z"
   },
   {
    "duration": 91,
    "start_time": "2024-08-30T16:31:24.074Z"
   },
   {
    "duration": 40,
    "start_time": "2024-08-30T16:31:24.167Z"
   },
   {
    "duration": 66,
    "start_time": "2024-08-30T16:31:24.209Z"
   },
   {
    "duration": 56,
    "start_time": "2024-08-30T16:31:24.277Z"
   },
   {
    "duration": 102,
    "start_time": "2024-08-30T16:31:24.335Z"
   },
   {
    "duration": 5,
    "start_time": "2024-08-30T16:31:24.440Z"
   },
   {
    "duration": 770,
    "start_time": "2024-08-30T16:31:24.446Z"
   },
   {
    "duration": 17,
    "start_time": "2024-08-30T16:31:25.217Z"
   },
   {
    "duration": 118,
    "start_time": "2024-08-30T16:31:25.235Z"
   },
   {
    "duration": 73,
    "start_time": "2024-08-30T16:31:25.355Z"
   },
   {
    "duration": 19,
    "start_time": "2024-08-30T16:31:25.430Z"
   },
   {
    "duration": 224,
    "start_time": "2024-08-30T16:31:25.450Z"
   },
   {
    "duration": 434,
    "start_time": "2024-08-30T16:31:25.676Z"
   },
   {
    "duration": 12,
    "start_time": "2024-08-30T16:31:26.112Z"
   },
   {
    "duration": 9,
    "start_time": "2024-08-30T16:31:26.125Z"
   },
   {
    "duration": 88,
    "start_time": "2024-08-30T16:31:26.136Z"
   },
   {
    "duration": 81,
    "start_time": "2024-08-30T16:31:26.226Z"
   },
   {
    "duration": 7,
    "start_time": "2024-08-30T16:31:26.309Z"
   },
   {
    "duration": 9,
    "start_time": "2024-08-30T16:31:26.317Z"
   },
   {
    "duration": 192,
    "start_time": "2024-08-30T16:54:28.139Z"
   },
   {
    "duration": 171,
    "start_time": "2024-08-30T16:54:43.534Z"
   },
   {
    "duration": 173,
    "start_time": "2024-08-30T16:54:56.773Z"
   },
   {
    "duration": 181,
    "start_time": "2024-08-30T16:55:01.352Z"
   },
   {
    "duration": 170,
    "start_time": "2024-08-30T16:55:18.920Z"
   },
   {
    "duration": 180,
    "start_time": "2024-08-30T16:55:41.555Z"
   },
   {
    "duration": 181,
    "start_time": "2024-08-30T16:57:06.190Z"
   },
   {
    "duration": 179,
    "start_time": "2024-08-30T16:57:21.847Z"
   },
   {
    "duration": 181,
    "start_time": "2024-08-30T16:57:59.222Z"
   },
   {
    "duration": 170,
    "start_time": "2024-08-30T16:58:45.715Z"
   },
   {
    "duration": 98,
    "start_time": "2024-08-30T16:58:53.787Z"
   },
   {
    "duration": 179,
    "start_time": "2024-08-30T16:58:58.326Z"
   },
   {
    "duration": 170,
    "start_time": "2024-08-30T16:59:09.020Z"
   },
   {
    "duration": 177,
    "start_time": "2024-08-30T16:59:24.042Z"
   },
   {
    "duration": 155,
    "start_time": "2024-08-30T17:05:31.459Z"
   },
   {
    "duration": 165,
    "start_time": "2024-08-30T17:08:23.265Z"
   },
   {
    "duration": 46,
    "start_time": "2024-08-30T17:17:08.935Z"
   },
   {
    "duration": 48,
    "start_time": "2024-08-30T17:20:02.077Z"
   },
   {
    "duration": 49,
    "start_time": "2024-08-30T17:20:08.374Z"
   },
   {
    "duration": 48,
    "start_time": "2024-08-30T17:20:25.961Z"
   },
   {
    "duration": 153,
    "start_time": "2024-08-30T17:24:26.142Z"
   },
   {
    "duration": 156,
    "start_time": "2024-08-30T17:28:28.986Z"
   },
   {
    "duration": 155,
    "start_time": "2024-08-30T17:28:55.334Z"
   },
   {
    "duration": 148,
    "start_time": "2024-08-30T17:29:09.737Z"
   },
   {
    "duration": 2,
    "start_time": "2024-08-30T17:38:31.205Z"
   },
   {
    "duration": 156,
    "start_time": "2024-08-30T17:47:34.897Z"
   },
   {
    "duration": 144,
    "start_time": "2024-08-30T17:47:45.241Z"
   },
   {
    "duration": 153,
    "start_time": "2024-08-30T17:47:46.229Z"
   },
   {
    "duration": 45,
    "start_time": "2024-08-30T21:43:18.702Z"
   },
   {
    "duration": 1342,
    "start_time": "2024-08-30T21:43:25.642Z"
   },
   {
    "duration": 751,
    "start_time": "2024-08-30T21:43:26.985Z"
   },
   {
    "duration": 22,
    "start_time": "2024-08-30T21:43:27.737Z"
   },
   {
    "duration": 13,
    "start_time": "2024-08-30T21:43:27.761Z"
   },
   {
    "duration": 21,
    "start_time": "2024-08-30T21:43:27.776Z"
   },
   {
    "duration": 71,
    "start_time": "2024-08-30T21:43:27.798Z"
   },
   {
    "duration": 73,
    "start_time": "2024-08-30T21:43:27.871Z"
   },
   {
    "duration": 32,
    "start_time": "2024-08-30T21:43:27.945Z"
   },
   {
    "duration": 102,
    "start_time": "2024-08-30T21:43:27.979Z"
   },
   {
    "duration": 33,
    "start_time": "2024-08-30T21:43:28.083Z"
   },
   {
    "duration": 108,
    "start_time": "2024-08-30T21:43:28.118Z"
   },
   {
    "duration": 54,
    "start_time": "2024-08-30T21:43:28.228Z"
   },
   {
    "duration": 101,
    "start_time": "2024-08-30T21:43:28.284Z"
   },
   {
    "duration": 5,
    "start_time": "2024-08-30T21:43:28.389Z"
   },
   {
    "duration": 795,
    "start_time": "2024-08-30T21:43:28.395Z"
   },
   {
    "duration": 70,
    "start_time": "2024-08-30T21:43:29.191Z"
   },
   {
    "duration": 218,
    "start_time": "2024-08-30T21:43:29.262Z"
   },
   {
    "duration": 119,
    "start_time": "2024-08-30T21:43:29.481Z"
   },
   {
    "duration": 69,
    "start_time": "2024-08-30T21:43:29.602Z"
   },
   {
    "duration": 489,
    "start_time": "2024-08-30T21:43:29.672Z"
   },
   {
    "duration": 608,
    "start_time": "2024-08-30T21:43:30.163Z"
   },
   {
    "duration": 11,
    "start_time": "2024-08-30T21:43:30.772Z"
   },
   {
    "duration": 18,
    "start_time": "2024-08-30T21:43:30.785Z"
   },
   {
    "duration": 80,
    "start_time": "2024-08-30T21:43:30.805Z"
   },
   {
    "duration": 42,
    "start_time": "2024-08-30T21:43:30.886Z"
   },
   {
    "duration": 7,
    "start_time": "2024-08-30T21:43:30.930Z"
   },
   {
    "duration": 66,
    "start_time": "2024-08-30T21:43:30.938Z"
   },
   {
    "duration": 177,
    "start_time": "2024-08-30T21:43:31.006Z"
   },
   {
    "duration": 187,
    "start_time": "2024-08-30T21:43:31.185Z"
   },
   {
    "duration": 189,
    "start_time": "2024-08-30T21:43:31.374Z"
   },
   {
    "duration": 2,
    "start_time": "2024-08-30T21:43:31.565Z"
   },
   {
    "duration": 176,
    "start_time": "2024-08-30T21:49:35.095Z"
   },
   {
    "duration": 1270,
    "start_time": "2024-09-02T11:02:36.312Z"
   },
   {
    "duration": 898,
    "start_time": "2024-09-02T11:02:37.585Z"
   },
   {
    "duration": 22,
    "start_time": "2024-09-02T11:02:38.484Z"
   },
   {
    "duration": 8,
    "start_time": "2024-09-02T11:02:38.508Z"
   },
   {
    "duration": 28,
    "start_time": "2024-09-02T11:02:38.518Z"
   },
   {
    "duration": 76,
    "start_time": "2024-09-02T11:02:38.548Z"
   },
   {
    "duration": 73,
    "start_time": "2024-09-02T11:02:38.625Z"
   },
   {
    "duration": 24,
    "start_time": "2024-09-02T11:02:38.699Z"
   },
   {
    "duration": 98,
    "start_time": "2024-09-02T11:02:38.725Z"
   },
   {
    "duration": 33,
    "start_time": "2024-09-02T11:02:38.825Z"
   },
   {
    "duration": 81,
    "start_time": "2024-09-02T11:02:38.860Z"
   },
   {
    "duration": 40,
    "start_time": "2024-09-02T11:02:38.942Z"
   },
   {
    "duration": 115,
    "start_time": "2024-09-02T11:02:38.983Z"
   },
   {
    "duration": 6,
    "start_time": "2024-09-02T11:02:39.106Z"
   },
   {
    "duration": 796,
    "start_time": "2024-09-02T11:02:39.113Z"
   },
   {
    "duration": 15,
    "start_time": "2024-09-02T11:02:39.911Z"
   },
   {
    "duration": 112,
    "start_time": "2024-09-02T11:02:39.927Z"
   },
   {
    "duration": 74,
    "start_time": "2024-09-02T11:02:40.041Z"
   },
   {
    "duration": 20,
    "start_time": "2024-09-02T11:02:40.117Z"
   },
   {
    "duration": 227,
    "start_time": "2024-09-02T11:02:40.139Z"
   },
   {
    "duration": 510,
    "start_time": "2024-09-02T11:02:40.368Z"
   },
   {
    "duration": 12,
    "start_time": "2024-09-02T11:02:40.907Z"
   },
   {
    "duration": 31,
    "start_time": "2024-09-02T11:02:40.921Z"
   },
   {
    "duration": 74,
    "start_time": "2024-09-02T11:02:40.954Z"
   },
   {
    "duration": 44,
    "start_time": "2024-09-02T11:02:41.030Z"
   },
   {
    "duration": 7,
    "start_time": "2024-09-02T11:02:41.075Z"
   },
   {
    "duration": 61,
    "start_time": "2024-09-02T11:02:41.084Z"
   },
   {
    "duration": 109,
    "start_time": "2024-09-02T11:02:41.148Z"
   },
   {
    "duration": 0,
    "start_time": "2024-09-02T11:02:41.259Z"
   },
   {
    "duration": 0,
    "start_time": "2024-09-02T11:02:41.260Z"
   },
   {
    "duration": 0,
    "start_time": "2024-09-02T11:02:41.261Z"
   },
   {
    "duration": 1108,
    "start_time": "2024-09-02T11:03:17.111Z"
   },
   {
    "duration": 194,
    "start_time": "2024-09-02T11:03:18.221Z"
   },
   {
    "duration": 21,
    "start_time": "2024-09-02T11:03:18.416Z"
   },
   {
    "duration": 16,
    "start_time": "2024-09-02T11:03:18.439Z"
   },
   {
    "duration": 25,
    "start_time": "2024-09-02T11:03:18.457Z"
   },
   {
    "duration": 65,
    "start_time": "2024-09-02T11:03:18.484Z"
   },
   {
    "duration": 81,
    "start_time": "2024-09-02T11:03:18.550Z"
   },
   {
    "duration": 19,
    "start_time": "2024-09-02T11:03:18.633Z"
   },
   {
    "duration": 97,
    "start_time": "2024-09-02T11:03:18.654Z"
   },
   {
    "duration": 32,
    "start_time": "2024-09-02T11:03:18.752Z"
   },
   {
    "duration": 76,
    "start_time": "2024-09-02T11:03:18.785Z"
   },
   {
    "duration": 49,
    "start_time": "2024-09-02T11:03:18.862Z"
   },
   {
    "duration": 110,
    "start_time": "2024-09-02T11:03:18.913Z"
   },
   {
    "duration": 5,
    "start_time": "2024-09-02T11:03:19.026Z"
   },
   {
    "duration": 791,
    "start_time": "2024-09-02T11:03:19.032Z"
   },
   {
    "duration": 15,
    "start_time": "2024-09-02T11:03:19.825Z"
   },
   {
    "duration": 118,
    "start_time": "2024-09-02T11:03:19.842Z"
   },
   {
    "duration": 74,
    "start_time": "2024-09-02T11:03:19.962Z"
   },
   {
    "duration": 18,
    "start_time": "2024-09-02T11:03:20.037Z"
   },
   {
    "duration": 227,
    "start_time": "2024-09-02T11:03:20.056Z"
   },
   {
    "duration": 445,
    "start_time": "2024-09-02T11:03:20.285Z"
   },
   {
    "duration": 12,
    "start_time": "2024-09-02T11:03:20.731Z"
   },
   {
    "duration": 66,
    "start_time": "2024-09-02T11:03:20.745Z"
   },
   {
    "duration": 92,
    "start_time": "2024-09-02T11:03:20.813Z"
   },
   {
    "duration": 43,
    "start_time": "2024-09-02T11:03:20.906Z"
   },
   {
    "duration": 7,
    "start_time": "2024-09-02T11:03:20.951Z"
   },
   {
    "duration": 62,
    "start_time": "2024-09-02T11:03:20.960Z"
   },
   {
    "duration": 133,
    "start_time": "2024-09-02T11:03:21.024Z"
   },
   {
    "duration": 0,
    "start_time": "2024-09-02T11:03:21.159Z"
   },
   {
    "duration": 0,
    "start_time": "2024-09-02T11:03:21.161Z"
   },
   {
    "duration": 0,
    "start_time": "2024-09-02T11:03:21.162Z"
   },
   {
    "duration": 172,
    "start_time": "2024-09-02T11:03:45.280Z"
   },
   {
    "duration": 160,
    "start_time": "2024-09-02T11:03:53.028Z"
   },
   {
    "duration": 162,
    "start_time": "2024-09-02T11:03:58.368Z"
   },
   {
    "duration": 9,
    "start_time": "2024-09-02T11:08:18.279Z"
   },
   {
    "duration": 2,
    "start_time": "2024-09-02T11:08:22.180Z"
   },
   {
    "duration": 3,
    "start_time": "2024-09-02T11:30:24.816Z"
   },
   {
    "duration": 9,
    "start_time": "2024-09-02T11:30:29.393Z"
   },
   {
    "duration": 8,
    "start_time": "2024-09-02T11:32:06.469Z"
   },
   {
    "duration": 8,
    "start_time": "2024-09-02T11:32:55.905Z"
   },
   {
    "duration": 3,
    "start_time": "2024-09-02T11:33:05.267Z"
   },
   {
    "duration": 8,
    "start_time": "2024-09-02T11:33:13.028Z"
   },
   {
    "duration": 1510,
    "start_time": "2024-09-02T11:33:21.182Z"
   },
   {
    "duration": 154,
    "start_time": "2024-09-02T11:33:28.105Z"
   },
   {
    "duration": 8,
    "start_time": "2024-09-02T11:33:52.753Z"
   },
   {
    "duration": 141,
    "start_time": "2024-09-02T11:42:22.018Z"
   },
   {
    "duration": 839,
    "start_time": "2024-09-02T11:42:45.595Z"
   },
   {
    "duration": 56,
    "start_time": "2024-09-02T11:43:18.754Z"
   },
   {
    "duration": 53,
    "start_time": "2024-09-02T11:43:28.977Z"
   },
   {
    "duration": 58,
    "start_time": "2024-09-02T11:43:33.278Z"
   },
   {
    "duration": 56,
    "start_time": "2024-09-02T11:43:36.909Z"
   },
   {
    "duration": 16,
    "start_time": "2024-09-02T12:13:08.896Z"
   },
   {
    "duration": 89,
    "start_time": "2024-09-02T12:13:18.890Z"
   },
   {
    "duration": 17,
    "start_time": "2024-09-02T12:13:26.783Z"
   },
   {
    "duration": 656,
    "start_time": "2024-09-02T12:13:39.225Z"
   },
   {
    "duration": 1023,
    "start_time": "2024-09-02T12:13:45.445Z"
   },
   {
    "duration": 190,
    "start_time": "2024-09-02T12:13:46.470Z"
   },
   {
    "duration": 22,
    "start_time": "2024-09-02T12:13:46.662Z"
   },
   {
    "duration": 14,
    "start_time": "2024-09-02T12:13:46.686Z"
   },
   {
    "duration": 35,
    "start_time": "2024-09-02T12:13:46.706Z"
   },
   {
    "duration": 77,
    "start_time": "2024-09-02T12:13:46.742Z"
   },
   {
    "duration": 73,
    "start_time": "2024-09-02T12:13:46.821Z"
   },
   {
    "duration": 24,
    "start_time": "2024-09-02T12:13:46.896Z"
   },
   {
    "duration": 100,
    "start_time": "2024-09-02T12:13:46.921Z"
   },
   {
    "duration": 33,
    "start_time": "2024-09-02T12:13:47.024Z"
   },
   {
    "duration": 74,
    "start_time": "2024-09-02T12:13:47.059Z"
   },
   {
    "duration": 38,
    "start_time": "2024-09-02T12:13:47.135Z"
   },
   {
    "duration": 117,
    "start_time": "2024-09-02T12:13:47.175Z"
   },
   {
    "duration": 16,
    "start_time": "2024-09-02T12:13:47.294Z"
   },
   {
    "duration": 774,
    "start_time": "2024-09-02T12:13:47.312Z"
   },
   {
    "duration": 19,
    "start_time": "2024-09-02T12:13:48.088Z"
   },
   {
    "duration": 98,
    "start_time": "2024-09-02T12:13:48.109Z"
   },
   {
    "duration": 61,
    "start_time": "2024-09-02T12:13:48.209Z"
   },
   {
    "duration": 17,
    "start_time": "2024-09-02T12:13:48.272Z"
   },
   {
    "duration": 214,
    "start_time": "2024-09-02T12:13:48.308Z"
   },
   {
    "duration": 427,
    "start_time": "2024-09-02T12:13:48.524Z"
   },
   {
    "duration": 12,
    "start_time": "2024-09-02T12:13:48.953Z"
   },
   {
    "duration": 26,
    "start_time": "2024-09-02T12:13:48.966Z"
   },
   {
    "duration": 100,
    "start_time": "2024-09-02T12:13:48.994Z"
   },
   {
    "duration": 43,
    "start_time": "2024-09-02T12:13:49.095Z"
   },
   {
    "duration": 10,
    "start_time": "2024-09-02T12:13:49.139Z"
   },
   {
    "duration": 68,
    "start_time": "2024-09-02T12:13:49.151Z"
   },
   {
    "duration": 185,
    "start_time": "2024-09-02T12:13:49.223Z"
   },
   {
    "duration": 168,
    "start_time": "2024-09-02T12:13:49.410Z"
   },
   {
    "duration": 172,
    "start_time": "2024-09-02T12:13:49.579Z"
   },
   {
    "duration": 192,
    "start_time": "2024-09-02T12:13:49.753Z"
   },
   {
    "duration": 11,
    "start_time": "2024-09-02T12:14:19.129Z"
   },
   {
    "duration": 10,
    "start_time": "2024-09-02T12:14:32.399Z"
   },
   {
    "duration": 1130,
    "start_time": "2024-09-02T12:14:41.946Z"
   },
   {
    "duration": 183,
    "start_time": "2024-09-02T12:14:43.078Z"
   },
   {
    "duration": 21,
    "start_time": "2024-09-02T12:14:43.262Z"
   },
   {
    "duration": 5,
    "start_time": "2024-09-02T12:14:43.285Z"
   },
   {
    "duration": 86,
    "start_time": "2024-09-02T12:14:43.291Z"
   },
   {
    "duration": 100,
    "start_time": "2024-09-02T12:14:43.379Z"
   },
   {
    "duration": 73,
    "start_time": "2024-09-02T12:14:43.481Z"
   },
   {
    "duration": 20,
    "start_time": "2024-09-02T12:14:43.555Z"
   },
   {
    "duration": 89,
    "start_time": "2024-09-02T12:14:43.576Z"
   },
   {
    "duration": 47,
    "start_time": "2024-09-02T12:14:43.669Z"
   },
   {
    "duration": 63,
    "start_time": "2024-09-02T12:14:43.718Z"
   },
   {
    "duration": 49,
    "start_time": "2024-09-02T12:14:43.782Z"
   },
   {
    "duration": 97,
    "start_time": "2024-09-02T12:14:43.833Z"
   },
   {
    "duration": 6,
    "start_time": "2024-09-02T12:14:43.931Z"
   },
   {
    "duration": 772,
    "start_time": "2024-09-02T12:14:43.938Z"
   },
   {
    "duration": 14,
    "start_time": "2024-09-02T12:14:44.712Z"
   },
   {
    "duration": 107,
    "start_time": "2024-09-02T12:14:44.728Z"
   },
   {
    "duration": 70,
    "start_time": "2024-09-02T12:14:44.837Z"
   },
   {
    "duration": 17,
    "start_time": "2024-09-02T12:14:44.909Z"
   },
   {
    "duration": 216,
    "start_time": "2024-09-02T12:14:44.927Z"
   },
   {
    "duration": 455,
    "start_time": "2024-09-02T12:14:45.145Z"
   },
   {
    "duration": 10,
    "start_time": "2024-09-02T12:14:45.602Z"
   },
   {
    "duration": 33,
    "start_time": "2024-09-02T12:14:45.614Z"
   },
   {
    "duration": 66,
    "start_time": "2024-09-02T12:14:45.649Z"
   },
   {
    "duration": 43,
    "start_time": "2024-09-02T12:14:45.717Z"
   },
   {
    "duration": 7,
    "start_time": "2024-09-02T12:14:45.761Z"
   },
   {
    "duration": 66,
    "start_time": "2024-09-02T12:14:45.769Z"
   },
   {
    "duration": 184,
    "start_time": "2024-09-02T12:14:45.838Z"
   },
   {
    "duration": 172,
    "start_time": "2024-09-02T12:14:46.024Z"
   },
   {
    "duration": 169,
    "start_time": "2024-09-02T12:14:46.207Z"
   },
   {
    "duration": 147,
    "start_time": "2024-09-02T12:14:46.377Z"
   },
   {
    "duration": 145,
    "start_time": "2024-09-02T12:24:29.315Z"
   },
   {
    "duration": 31,
    "start_time": "2024-09-02T12:24:57.558Z"
   },
   {
    "duration": 53,
    "start_time": "2024-09-02T12:25:06.641Z"
   },
   {
    "duration": 52,
    "start_time": "2024-09-02T12:25:30.137Z"
   },
   {
    "duration": 1095,
    "start_time": "2024-09-02T12:25:41.760Z"
   },
   {
    "duration": 218,
    "start_time": "2024-09-02T12:25:42.856Z"
   },
   {
    "duration": 31,
    "start_time": "2024-09-02T12:25:43.076Z"
   },
   {
    "duration": 7,
    "start_time": "2024-09-02T12:25:43.110Z"
   },
   {
    "duration": 37,
    "start_time": "2024-09-02T12:25:43.120Z"
   },
   {
    "duration": 82,
    "start_time": "2024-09-02T12:25:43.159Z"
   },
   {
    "duration": 89,
    "start_time": "2024-09-02T12:25:43.243Z"
   },
   {
    "duration": 20,
    "start_time": "2024-09-02T12:25:43.334Z"
   },
   {
    "duration": 102,
    "start_time": "2024-09-02T12:25:43.356Z"
   },
   {
    "duration": 31,
    "start_time": "2024-09-02T12:25:43.460Z"
   },
   {
    "duration": 101,
    "start_time": "2024-09-02T12:25:43.493Z"
   },
   {
    "duration": 59,
    "start_time": "2024-09-02T12:25:43.595Z"
   },
   {
    "duration": 102,
    "start_time": "2024-09-02T12:25:43.656Z"
   },
   {
    "duration": 5,
    "start_time": "2024-09-02T12:25:43.761Z"
   },
   {
    "duration": 865,
    "start_time": "2024-09-02T12:25:43.767Z"
   },
   {
    "duration": 16,
    "start_time": "2024-09-02T12:25:44.633Z"
   },
   {
    "duration": 123,
    "start_time": "2024-09-02T12:25:44.651Z"
   },
   {
    "duration": 80,
    "start_time": "2024-09-02T12:25:44.775Z"
   },
   {
    "duration": 17,
    "start_time": "2024-09-02T12:25:44.857Z"
   },
   {
    "duration": 253,
    "start_time": "2024-09-02T12:25:44.876Z"
   },
   {
    "duration": 470,
    "start_time": "2024-09-02T12:25:45.130Z"
   },
   {
    "duration": 15,
    "start_time": "2024-09-02T12:25:45.601Z"
   },
   {
    "duration": 17,
    "start_time": "2024-09-02T12:25:45.618Z"
   },
   {
    "duration": 84,
    "start_time": "2024-09-02T12:25:45.637Z"
   },
   {
    "duration": 43,
    "start_time": "2024-09-02T12:25:45.723Z"
   },
   {
    "duration": 7,
    "start_time": "2024-09-02T12:25:45.768Z"
   },
   {
    "duration": 80,
    "start_time": "2024-09-02T12:25:45.776Z"
   },
   {
    "duration": 204,
    "start_time": "2024-09-02T12:25:45.858Z"
   },
   {
    "duration": 179,
    "start_time": "2024-09-02T12:25:46.064Z"
   },
   {
    "duration": 169,
    "start_time": "2024-09-02T12:25:46.245Z"
   },
   {
    "duration": 244,
    "start_time": "2024-09-02T12:25:46.416Z"
   },
   {
    "duration": 72,
    "start_time": "2024-09-02T12:27:06.638Z"
   },
   {
    "duration": 9,
    "start_time": "2024-09-02T12:27:13.325Z"
   },
   {
    "duration": 9,
    "start_time": "2024-09-02T12:27:20.185Z"
   },
   {
    "duration": 15,
    "start_time": "2024-09-02T12:27:25.987Z"
   },
   {
    "duration": 10,
    "start_time": "2024-09-02T12:28:18.877Z"
   },
   {
    "duration": 184,
    "start_time": "2024-09-02T12:28:23.054Z"
   },
   {
    "duration": 189,
    "start_time": "2024-09-02T12:28:30.722Z"
   },
   {
    "duration": 721,
    "start_time": "2024-09-02T12:29:33.523Z"
   },
   {
    "duration": 769,
    "start_time": "2024-09-02T12:29:42.574Z"
   },
   {
    "duration": 947,
    "start_time": "2024-09-02T12:30:55.161Z"
   },
   {
    "duration": 1143,
    "start_time": "2024-09-02T13:04:59.718Z"
   },
   {
    "duration": 190,
    "start_time": "2024-09-02T13:05:00.863Z"
   },
   {
    "duration": 23,
    "start_time": "2024-09-02T13:05:01.055Z"
   },
   {
    "duration": 11,
    "start_time": "2024-09-02T13:05:01.079Z"
   },
   {
    "duration": 33,
    "start_time": "2024-09-02T13:05:01.092Z"
   },
   {
    "duration": 65,
    "start_time": "2024-09-02T13:05:01.127Z"
   },
   {
    "duration": 82,
    "start_time": "2024-09-02T13:05:01.194Z"
   },
   {
    "duration": 31,
    "start_time": "2024-09-02T13:05:01.277Z"
   },
   {
    "duration": 81,
    "start_time": "2024-09-02T13:05:01.310Z"
   },
   {
    "duration": 45,
    "start_time": "2024-09-02T13:05:01.392Z"
   },
   {
    "duration": 78,
    "start_time": "2024-09-02T13:05:01.439Z"
   },
   {
    "duration": 38,
    "start_time": "2024-09-02T13:05:01.518Z"
   },
   {
    "duration": 179,
    "start_time": "2024-09-02T13:05:01.557Z"
   },
   {
    "duration": 5,
    "start_time": "2024-09-02T13:05:01.739Z"
   },
   {
    "duration": 1512,
    "start_time": "2024-09-02T13:05:01.746Z"
   },
   {
    "duration": 15,
    "start_time": "2024-09-02T13:05:03.260Z"
   },
   {
    "duration": 117,
    "start_time": "2024-09-02T13:05:03.277Z"
   },
   {
    "duration": 69,
    "start_time": "2024-09-02T13:05:03.396Z"
   },
   {
    "duration": 40,
    "start_time": "2024-09-02T13:05:03.467Z"
   },
   {
    "duration": 212,
    "start_time": "2024-09-02T13:05:03.509Z"
   },
   {
    "duration": 458,
    "start_time": "2024-09-02T13:05:03.723Z"
   },
   {
    "duration": 12,
    "start_time": "2024-09-02T13:05:04.182Z"
   },
   {
    "duration": 9,
    "start_time": "2024-09-02T13:05:04.195Z"
   },
   {
    "duration": 74,
    "start_time": "2024-09-02T13:05:04.207Z"
   },
   {
    "duration": 64,
    "start_time": "2024-09-02T13:05:04.283Z"
   },
   {
    "duration": 7,
    "start_time": "2024-09-02T13:05:04.349Z"
   },
   {
    "duration": 65,
    "start_time": "2024-09-02T13:05:04.358Z"
   },
   {
    "duration": 184,
    "start_time": "2024-09-02T13:05:04.425Z"
   },
   {
    "duration": 172,
    "start_time": "2024-09-02T13:05:04.611Z"
   },
   {
    "duration": 180,
    "start_time": "2024-09-02T13:05:04.785Z"
   },
   {
    "duration": 966,
    "start_time": "2024-09-02T13:05:04.967Z"
   },
   {
    "duration": 160,
    "start_time": "2024-09-02T13:08:07.549Z"
   },
   {
    "duration": 3,
    "start_time": "2024-09-02T13:18:17.748Z"
   },
   {
    "duration": 1101,
    "start_time": "2024-09-02T14:02:27.046Z"
   },
   {
    "duration": 793,
    "start_time": "2024-09-02T14:02:28.149Z"
   },
   {
    "duration": 22,
    "start_time": "2024-09-02T14:02:28.944Z"
   },
   {
    "duration": 37,
    "start_time": "2024-09-02T14:02:28.968Z"
   },
   {
    "duration": 58,
    "start_time": "2024-09-02T14:02:29.007Z"
   },
   {
    "duration": 81,
    "start_time": "2024-09-02T14:02:29.067Z"
   },
   {
    "duration": 78,
    "start_time": "2024-09-02T14:02:29.150Z"
   },
   {
    "duration": 29,
    "start_time": "2024-09-02T14:02:29.230Z"
   },
   {
    "duration": 92,
    "start_time": "2024-09-02T14:02:29.261Z"
   },
   {
    "duration": 31,
    "start_time": "2024-09-02T14:02:29.356Z"
   },
   {
    "duration": 84,
    "start_time": "2024-09-02T14:02:29.389Z"
   },
   {
    "duration": 43,
    "start_time": "2024-09-02T14:02:29.475Z"
   },
   {
    "duration": 143,
    "start_time": "2024-09-02T14:02:29.519Z"
   },
   {
    "duration": 6,
    "start_time": "2024-09-02T14:02:29.664Z"
   },
   {
    "duration": 828,
    "start_time": "2024-09-02T14:02:29.672Z"
   },
   {
    "duration": 17,
    "start_time": "2024-09-02T14:02:30.502Z"
   },
   {
    "duration": 124,
    "start_time": "2024-09-02T14:02:30.521Z"
   },
   {
    "duration": 69,
    "start_time": "2024-09-02T14:02:30.647Z"
   },
   {
    "duration": 32,
    "start_time": "2024-09-02T14:02:30.718Z"
   },
   {
    "duration": 219,
    "start_time": "2024-09-02T14:02:30.752Z"
   },
   {
    "duration": 453,
    "start_time": "2024-09-02T14:02:30.973Z"
   },
   {
    "duration": 21,
    "start_time": "2024-09-02T14:02:31.427Z"
   },
   {
    "duration": 13,
    "start_time": "2024-09-02T14:02:31.450Z"
   },
   {
    "duration": 150,
    "start_time": "2024-09-02T14:02:31.465Z"
   },
   {
    "duration": 52,
    "start_time": "2024-09-02T14:02:31.617Z"
   },
   {
    "duration": 7,
    "start_time": "2024-09-02T14:02:31.671Z"
   },
   {
    "duration": 67,
    "start_time": "2024-09-02T14:02:31.680Z"
   },
   {
    "duration": 203,
    "start_time": "2024-09-02T14:02:31.750Z"
   },
   {
    "duration": 194,
    "start_time": "2024-09-02T14:02:31.955Z"
   },
   {
    "duration": 197,
    "start_time": "2024-09-02T14:02:32.150Z"
   },
   {
    "duration": 989,
    "start_time": "2024-09-02T14:02:32.349Z"
   },
   {
    "duration": 3,
    "start_time": "2024-09-02T14:02:33.347Z"
   },
   {
    "duration": 1276,
    "start_time": "2024-09-03T11:27:56.552Z"
   },
   {
    "duration": 1178,
    "start_time": "2024-09-03T11:28:01.752Z"
   },
   {
    "duration": 1014,
    "start_time": "2024-09-03T11:28:02.931Z"
   },
   {
    "duration": 21,
    "start_time": "2024-09-03T11:28:03.947Z"
   },
   {
    "duration": 5,
    "start_time": "2024-09-03T11:28:03.970Z"
   },
   {
    "duration": 40,
    "start_time": "2024-09-03T11:28:03.977Z"
   },
   {
    "duration": 87,
    "start_time": "2024-09-03T11:28:04.018Z"
   },
   {
    "duration": 83,
    "start_time": "2024-09-03T11:28:04.107Z"
   },
   {
    "duration": 25,
    "start_time": "2024-09-03T11:28:04.192Z"
   },
   {
    "duration": 95,
    "start_time": "2024-09-03T11:28:04.220Z"
   },
   {
    "duration": 31,
    "start_time": "2024-09-03T11:28:04.318Z"
   },
   {
    "duration": 81,
    "start_time": "2024-09-03T11:28:04.351Z"
   },
   {
    "duration": 42,
    "start_time": "2024-09-03T11:28:04.433Z"
   },
   {
    "duration": 113,
    "start_time": "2024-09-03T11:28:04.477Z"
   },
   {
    "duration": 6,
    "start_time": "2024-09-03T11:28:04.591Z"
   },
   {
    "duration": 762,
    "start_time": "2024-09-03T11:28:04.599Z"
   },
   {
    "duration": 28,
    "start_time": "2024-09-03T11:28:05.362Z"
   },
   {
    "duration": 108,
    "start_time": "2024-09-03T11:28:05.391Z"
   },
   {
    "duration": 63,
    "start_time": "2024-09-03T11:28:05.501Z"
   },
   {
    "duration": 34,
    "start_time": "2024-09-03T11:28:05.566Z"
   },
   {
    "duration": 211,
    "start_time": "2024-09-03T11:28:05.602Z"
   },
   {
    "duration": 437,
    "start_time": "2024-09-03T11:28:05.814Z"
   },
   {
    "duration": 12,
    "start_time": "2024-09-03T11:28:06.253Z"
   },
   {
    "duration": 73,
    "start_time": "2024-09-03T11:28:06.267Z"
   },
   {
    "duration": 72,
    "start_time": "2024-09-03T11:28:06.342Z"
   },
   {
    "duration": 44,
    "start_time": "2024-09-03T11:28:06.416Z"
   },
   {
    "duration": 8,
    "start_time": "2024-09-03T11:28:06.462Z"
   },
   {
    "duration": 68,
    "start_time": "2024-09-03T11:28:06.471Z"
   },
   {
    "duration": 193,
    "start_time": "2024-09-03T11:28:06.543Z"
   },
   {
    "duration": 186,
    "start_time": "2024-09-03T11:28:06.738Z"
   },
   {
    "duration": 182,
    "start_time": "2024-09-03T11:28:06.926Z"
   },
   {
    "duration": 964,
    "start_time": "2024-09-03T11:28:07.110Z"
   },
   {
    "duration": 4,
    "start_time": "2024-09-03T11:28:08.076Z"
   },
   {
    "duration": 5,
    "start_time": "2024-09-03T11:28:16.741Z"
   },
   {
    "duration": 390,
    "start_time": "2024-09-03T11:28:51.065Z"
   },
   {
    "duration": 40,
    "start_time": "2024-09-03T11:29:31.474Z"
   },
   {
    "duration": 412,
    "start_time": "2024-09-03T11:29:49.775Z"
   },
   {
    "duration": 41,
    "start_time": "2024-09-03T11:29:58.379Z"
   },
   {
    "duration": 3,
    "start_time": "2024-09-03T11:34:14.387Z"
   },
   {
    "duration": 8,
    "start_time": "2024-09-03T11:34:50.529Z"
   },
   {
    "duration": 416,
    "start_time": "2024-09-03T11:35:02.205Z"
   },
   {
    "duration": 8,
    "start_time": "2024-09-03T11:35:04.324Z"
   },
   {
    "duration": 9,
    "start_time": "2024-09-03T11:35:23.387Z"
   },
   {
    "duration": 10,
    "start_time": "2024-09-03T11:35:44.466Z"
   },
   {
    "duration": 403,
    "start_time": "2024-09-03T11:35:48.863Z"
   },
   {
    "duration": 9,
    "start_time": "2024-09-03T11:35:51.787Z"
   },
   {
    "duration": 68,
    "start_time": "2024-09-03T11:36:53.851Z"
   },
   {
    "duration": 60,
    "start_time": "2024-09-03T11:38:38.986Z"
   },
   {
    "duration": 68,
    "start_time": "2024-09-03T11:38:52.896Z"
   },
   {
    "duration": 14,
    "start_time": "2024-09-03T11:39:00.370Z"
   },
   {
    "duration": 10,
    "start_time": "2024-09-03T11:39:30.753Z"
   },
   {
    "duration": 12,
    "start_time": "2024-09-03T11:40:43.201Z"
   },
   {
    "duration": 11,
    "start_time": "2024-09-03T11:41:15.550Z"
   },
   {
    "duration": 142,
    "start_time": "2024-09-03T11:42:29.254Z"
   },
   {
    "duration": 10,
    "start_time": "2024-09-03T11:42:32.518Z"
   },
   {
    "duration": 13,
    "start_time": "2024-09-03T11:58:50.965Z"
   },
   {
    "duration": 11,
    "start_time": "2024-09-03T11:58:57.887Z"
   },
   {
    "duration": 11,
    "start_time": "2024-09-03T11:59:34.883Z"
   },
   {
    "duration": 66,
    "start_time": "2024-09-03T11:59:45.690Z"
   },
   {
    "duration": 67,
    "start_time": "2024-09-03T11:59:48.797Z"
   },
   {
    "duration": 11,
    "start_time": "2024-09-03T11:59:52.456Z"
   },
   {
    "duration": 11,
    "start_time": "2024-09-03T11:59:58.981Z"
   },
   {
    "duration": 13,
    "start_time": "2024-09-03T12:00:03.358Z"
   },
   {
    "duration": 97,
    "start_time": "2024-09-03T12:00:10.454Z"
   },
   {
    "duration": 13,
    "start_time": "2024-09-03T12:00:37.162Z"
   },
   {
    "duration": 12,
    "start_time": "2024-09-03T12:00:45.421Z"
   },
   {
    "duration": 12,
    "start_time": "2024-09-03T12:01:26.240Z"
   },
   {
    "duration": 11,
    "start_time": "2024-09-03T12:01:35.928Z"
   },
   {
    "duration": 12,
    "start_time": "2024-09-03T12:01:49.137Z"
   },
   {
    "duration": 12,
    "start_time": "2024-09-03T12:01:57.242Z"
   },
   {
    "duration": 12,
    "start_time": "2024-09-03T12:02:14.157Z"
   },
   {
    "duration": 12,
    "start_time": "2024-09-03T12:02:19.712Z"
   },
   {
    "duration": 12,
    "start_time": "2024-09-03T12:08:42.335Z"
   },
   {
    "duration": 13,
    "start_time": "2024-09-03T12:09:35.930Z"
   },
   {
    "duration": 14,
    "start_time": "2024-09-03T12:09:43.791Z"
   },
   {
    "duration": 13,
    "start_time": "2024-09-03T12:20:54.618Z"
   },
   {
    "duration": 233,
    "start_time": "2024-09-03T12:27:45.134Z"
   },
   {
    "duration": 234,
    "start_time": "2024-09-03T12:27:54.308Z"
   },
   {
    "duration": 248,
    "start_time": "2024-09-03T12:28:03.462Z"
   },
   {
    "duration": 234,
    "start_time": "2024-09-03T12:28:15.347Z"
   },
   {
    "duration": 1135,
    "start_time": "2024-09-03T12:28:44.798Z"
   },
   {
    "duration": 191,
    "start_time": "2024-09-03T12:28:45.935Z"
   },
   {
    "duration": 21,
    "start_time": "2024-09-03T12:28:46.127Z"
   },
   {
    "duration": 5,
    "start_time": "2024-09-03T12:28:46.150Z"
   },
   {
    "duration": 34,
    "start_time": "2024-09-03T12:28:46.156Z"
   },
   {
    "duration": 61,
    "start_time": "2024-09-03T12:28:46.192Z"
   },
   {
    "duration": 84,
    "start_time": "2024-09-03T12:28:46.255Z"
   },
   {
    "duration": 19,
    "start_time": "2024-09-03T12:28:46.341Z"
   },
   {
    "duration": 86,
    "start_time": "2024-09-03T12:28:46.361Z"
   },
   {
    "duration": 29,
    "start_time": "2024-09-03T12:28:46.450Z"
   },
   {
    "duration": 64,
    "start_time": "2024-09-03T12:28:46.490Z"
   },
   {
    "duration": 51,
    "start_time": "2024-09-03T12:28:46.555Z"
   },
   {
    "duration": 102,
    "start_time": "2024-09-03T12:28:46.608Z"
   },
   {
    "duration": 6,
    "start_time": "2024-09-03T12:28:46.711Z"
   },
   {
    "duration": 762,
    "start_time": "2024-09-03T12:28:46.718Z"
   },
   {
    "duration": 17,
    "start_time": "2024-09-03T12:28:47.489Z"
   },
   {
    "duration": 107,
    "start_time": "2024-09-03T12:28:47.507Z"
   },
   {
    "duration": 62,
    "start_time": "2024-09-03T12:28:47.616Z"
   },
   {
    "duration": 16,
    "start_time": "2024-09-03T12:28:47.690Z"
   },
   {
    "duration": 207,
    "start_time": "2024-09-03T12:28:47.708Z"
   },
   {
    "duration": 388,
    "start_time": "2024-09-03T12:28:47.916Z"
   },
   {
    "duration": 15,
    "start_time": "2024-09-03T12:28:48.307Z"
   },
   {
    "duration": 11,
    "start_time": "2024-09-03T12:28:48.324Z"
   },
   {
    "duration": 162,
    "start_time": "2024-09-03T12:28:48.337Z"
   },
   {
    "duration": 42,
    "start_time": "2024-09-03T12:28:48.501Z"
   },
   {
    "duration": 6,
    "start_time": "2024-09-03T12:28:48.545Z"
   },
   {
    "duration": 69,
    "start_time": "2024-09-03T12:28:48.553Z"
   },
   {
    "duration": 180,
    "start_time": "2024-09-03T12:28:48.625Z"
   },
   {
    "duration": 167,
    "start_time": "2024-09-03T12:28:48.807Z"
   },
   {
    "duration": 170,
    "start_time": "2024-09-03T12:28:48.975Z"
   },
   {
    "duration": 1659,
    "start_time": "2024-09-03T12:28:49.146Z"
   },
   {
    "duration": 3,
    "start_time": "2024-09-03T12:28:50.806Z"
   },
   {
    "duration": 308,
    "start_time": "2024-09-03T12:30:07.581Z"
   },
   {
    "duration": 159,
    "start_time": "2024-09-03T12:34:25.274Z"
   },
   {
    "duration": 96,
    "start_time": "2024-09-03T12:34:34.949Z"
   },
   {
    "duration": 96,
    "start_time": "2024-09-03T12:34:49.911Z"
   },
   {
    "duration": 99,
    "start_time": "2024-09-03T12:35:01.496Z"
   },
   {
    "duration": 97,
    "start_time": "2024-09-03T12:37:03.648Z"
   },
   {
    "duration": 93,
    "start_time": "2024-09-03T12:37:14.137Z"
   },
   {
    "duration": 98,
    "start_time": "2024-09-03T12:37:32.605Z"
   },
   {
    "duration": 97,
    "start_time": "2024-09-03T12:39:04.916Z"
   },
   {
    "duration": 92,
    "start_time": "2024-09-03T12:39:26.301Z"
   },
   {
    "duration": 131,
    "start_time": "2024-09-03T12:40:34.445Z"
   },
   {
    "duration": 102,
    "start_time": "2024-09-03T12:40:51.700Z"
   },
   {
    "duration": 104,
    "start_time": "2024-09-03T12:42:16.762Z"
   },
   {
    "duration": 112,
    "start_time": "2024-09-03T12:42:21.986Z"
   },
   {
    "duration": 108,
    "start_time": "2024-09-03T12:42:25.736Z"
   },
   {
    "duration": 104,
    "start_time": "2024-09-03T12:42:42.386Z"
   },
   {
    "duration": 101,
    "start_time": "2024-09-03T12:42:48.486Z"
   },
   {
    "duration": 98,
    "start_time": "2024-09-03T12:42:52.232Z"
   },
   {
    "duration": 99,
    "start_time": "2024-09-03T12:42:56.281Z"
   },
   {
    "duration": 119,
    "start_time": "2024-09-03T12:43:03.195Z"
   },
   {
    "duration": 113,
    "start_time": "2024-09-03T12:43:15.305Z"
   },
   {
    "duration": 108,
    "start_time": "2024-09-03T12:43:20.842Z"
   },
   {
    "duration": 137,
    "start_time": "2024-09-03T12:43:30.166Z"
   },
   {
    "duration": 109,
    "start_time": "2024-09-03T12:43:33.659Z"
   },
   {
    "duration": 1342,
    "start_time": "2024-09-03T12:43:41.669Z"
   },
   {
    "duration": 395,
    "start_time": "2024-09-03T12:43:43.013Z"
   },
   {
    "duration": 22,
    "start_time": "2024-09-03T12:43:43.409Z"
   },
   {
    "duration": 59,
    "start_time": "2024-09-03T12:43:43.433Z"
   },
   {
    "duration": 23,
    "start_time": "2024-09-03T12:43:43.493Z"
   },
   {
    "duration": 183,
    "start_time": "2024-09-03T12:43:43.518Z"
   },
   {
    "duration": 127,
    "start_time": "2024-09-03T12:43:43.702Z"
   },
   {
    "duration": 72,
    "start_time": "2024-09-03T12:43:43.831Z"
   },
   {
    "duration": 208,
    "start_time": "2024-09-03T12:43:43.905Z"
   },
   {
    "duration": 30,
    "start_time": "2024-09-03T12:43:44.116Z"
   },
   {
    "duration": 105,
    "start_time": "2024-09-03T12:43:44.148Z"
   },
   {
    "duration": 52,
    "start_time": "2024-09-03T12:43:44.255Z"
   },
   {
    "duration": 106,
    "start_time": "2024-09-03T12:43:44.309Z"
   },
   {
    "duration": 5,
    "start_time": "2024-09-03T12:43:44.417Z"
   },
   {
    "duration": 800,
    "start_time": "2024-09-03T12:43:44.423Z"
   },
   {
    "duration": 15,
    "start_time": "2024-09-03T12:43:45.225Z"
   },
   {
    "duration": 114,
    "start_time": "2024-09-03T12:43:45.241Z"
   },
   {
    "duration": 75,
    "start_time": "2024-09-03T12:43:45.356Z"
   },
   {
    "duration": 17,
    "start_time": "2024-09-03T12:43:45.433Z"
   },
   {
    "duration": 224,
    "start_time": "2024-09-03T12:43:45.452Z"
   },
   {
    "duration": 422,
    "start_time": "2024-09-03T12:43:45.678Z"
   },
   {
    "duration": 13,
    "start_time": "2024-09-03T12:43:46.102Z"
   },
   {
    "duration": 27,
    "start_time": "2024-09-03T12:43:46.117Z"
   },
   {
    "duration": 286,
    "start_time": "2024-09-03T12:43:46.145Z"
   },
   {
    "duration": 0,
    "start_time": "2024-09-03T12:43:46.433Z"
   },
   {
    "duration": 0,
    "start_time": "2024-09-03T12:43:46.434Z"
   },
   {
    "duration": 0,
    "start_time": "2024-09-03T12:43:46.435Z"
   },
   {
    "duration": 0,
    "start_time": "2024-09-03T12:43:46.436Z"
   },
   {
    "duration": 0,
    "start_time": "2024-09-03T12:43:46.437Z"
   },
   {
    "duration": 0,
    "start_time": "2024-09-03T12:43:46.438Z"
   },
   {
    "duration": 0,
    "start_time": "2024-09-03T12:43:46.439Z"
   },
   {
    "duration": 0,
    "start_time": "2024-09-03T12:43:46.440Z"
   },
   {
    "duration": 110,
    "start_time": "2024-09-03T12:43:54.492Z"
   },
   {
    "duration": 116,
    "start_time": "2024-09-03T12:43:58.246Z"
   },
   {
    "duration": 114,
    "start_time": "2024-09-03T12:44:01.538Z"
   },
   {
    "duration": 1363,
    "start_time": "2024-09-03T12:45:33.948Z"
   },
   {
    "duration": 185,
    "start_time": "2024-09-03T12:45:35.313Z"
   },
   {
    "duration": 21,
    "start_time": "2024-09-03T12:45:35.500Z"
   },
   {
    "duration": 5,
    "start_time": "2024-09-03T12:45:35.523Z"
   },
   {
    "duration": 30,
    "start_time": "2024-09-03T12:45:35.529Z"
   },
   {
    "duration": 70,
    "start_time": "2024-09-03T12:45:35.560Z"
   },
   {
    "duration": 84,
    "start_time": "2024-09-03T12:45:35.632Z"
   },
   {
    "duration": 20,
    "start_time": "2024-09-03T12:45:35.717Z"
   },
   {
    "duration": 90,
    "start_time": "2024-09-03T12:45:35.738Z"
   },
   {
    "duration": 32,
    "start_time": "2024-09-03T12:45:35.831Z"
   },
   {
    "duration": 77,
    "start_time": "2024-09-03T12:45:35.864Z"
   },
   {
    "duration": 48,
    "start_time": "2024-09-03T12:45:35.942Z"
   },
   {
    "duration": 105,
    "start_time": "2024-09-03T12:45:35.991Z"
   },
   {
    "duration": 6,
    "start_time": "2024-09-03T12:45:36.098Z"
   },
   {
    "duration": 771,
    "start_time": "2024-09-03T12:45:36.105Z"
   },
   {
    "duration": 19,
    "start_time": "2024-09-03T12:45:36.878Z"
   },
   {
    "duration": 108,
    "start_time": "2024-09-03T12:45:36.898Z"
   },
   {
    "duration": 62,
    "start_time": "2024-09-03T12:45:37.007Z"
   },
   {
    "duration": 26,
    "start_time": "2024-09-03T12:45:37.071Z"
   },
   {
    "duration": 217,
    "start_time": "2024-09-03T12:45:37.098Z"
   },
   {
    "duration": 407,
    "start_time": "2024-09-03T12:45:37.316Z"
   },
   {
    "duration": 12,
    "start_time": "2024-09-03T12:45:37.725Z"
   },
   {
    "duration": 8,
    "start_time": "2024-09-03T12:45:37.738Z"
   },
   {
    "duration": 175,
    "start_time": "2024-09-03T12:45:37.747Z"
   },
   {
    "duration": 41,
    "start_time": "2024-09-03T12:45:37.923Z"
   },
   {
    "duration": 7,
    "start_time": "2024-09-03T12:45:37.966Z"
   },
   {
    "duration": 48,
    "start_time": "2024-09-03T12:45:37.989Z"
   },
   {
    "duration": 184,
    "start_time": "2024-09-03T12:45:38.040Z"
   },
   {
    "duration": 166,
    "start_time": "2024-09-03T12:45:38.225Z"
   },
   {
    "duration": 162,
    "start_time": "2024-09-03T12:45:38.392Z"
   },
   {
    "duration": 1041,
    "start_time": "2024-09-03T12:45:38.555Z"
   },
   {
    "duration": 3,
    "start_time": "2024-09-03T12:45:39.598Z"
   },
   {
    "duration": 178,
    "start_time": "2024-09-03T12:47:43.100Z"
   },
   {
    "duration": 1122,
    "start_time": "2024-09-03T12:47:51.012Z"
   },
   {
    "duration": 187,
    "start_time": "2024-09-03T12:47:52.136Z"
   },
   {
    "duration": 21,
    "start_time": "2024-09-03T12:47:52.324Z"
   },
   {
    "duration": 4,
    "start_time": "2024-09-03T12:47:52.347Z"
   },
   {
    "duration": 28,
    "start_time": "2024-09-03T12:47:52.353Z"
   },
   {
    "duration": 66,
    "start_time": "2024-09-03T12:47:52.382Z"
   },
   {
    "duration": 80,
    "start_time": "2024-09-03T12:47:52.450Z"
   },
   {
    "duration": 19,
    "start_time": "2024-09-03T12:47:52.531Z"
   },
   {
    "duration": 89,
    "start_time": "2024-09-03T12:47:52.551Z"
   },
   {
    "duration": 32,
    "start_time": "2024-09-03T12:47:52.643Z"
   },
   {
    "duration": 71,
    "start_time": "2024-09-03T12:47:52.677Z"
   },
   {
    "duration": 56,
    "start_time": "2024-09-03T12:47:52.750Z"
   },
   {
    "duration": 107,
    "start_time": "2024-09-03T12:47:52.808Z"
   },
   {
    "duration": 5,
    "start_time": "2024-09-03T12:47:52.917Z"
   },
   {
    "duration": 777,
    "start_time": "2024-09-03T12:47:52.923Z"
   },
   {
    "duration": 17,
    "start_time": "2024-09-03T12:47:53.701Z"
   },
   {
    "duration": 113,
    "start_time": "2024-09-03T12:47:53.719Z"
   },
   {
    "duration": 70,
    "start_time": "2024-09-03T12:47:53.834Z"
   },
   {
    "duration": 16,
    "start_time": "2024-09-03T12:47:53.905Z"
   },
   {
    "duration": 236,
    "start_time": "2024-09-03T12:47:53.922Z"
   },
   {
    "duration": 379,
    "start_time": "2024-09-03T12:47:54.159Z"
   },
   {
    "duration": 12,
    "start_time": "2024-09-03T12:47:54.539Z"
   },
   {
    "duration": 41,
    "start_time": "2024-09-03T12:47:54.552Z"
   },
   {
    "duration": 152,
    "start_time": "2024-09-03T12:47:54.595Z"
   },
   {
    "duration": 49,
    "start_time": "2024-09-03T12:47:54.749Z"
   },
   {
    "duration": 6,
    "start_time": "2024-09-03T12:47:54.800Z"
   },
   {
    "duration": 58,
    "start_time": "2024-09-03T12:47:54.807Z"
   },
   {
    "duration": 189,
    "start_time": "2024-09-03T12:47:54.867Z"
   },
   {
    "duration": 180,
    "start_time": "2024-09-03T12:47:55.058Z"
   },
   {
    "duration": 187,
    "start_time": "2024-09-03T12:47:55.239Z"
   },
   {
    "duration": 954,
    "start_time": "2024-09-03T12:47:55.428Z"
   },
   {
    "duration": 3,
    "start_time": "2024-09-03T12:47:56.390Z"
   },
   {
    "duration": 976,
    "start_time": "2024-09-03T12:49:04.666Z"
   },
   {
    "duration": 1019,
    "start_time": "2024-09-03T12:49:23.570Z"
   },
   {
    "duration": 972,
    "start_time": "2024-09-03T12:49:49.448Z"
   },
   {
    "duration": 946,
    "start_time": "2024-09-03T12:50:08.319Z"
   },
   {
    "duration": 953,
    "start_time": "2024-09-03T12:50:35.337Z"
   },
   {
    "duration": 921,
    "start_time": "2024-09-03T12:50:54.134Z"
   },
   {
    "duration": 930,
    "start_time": "2024-09-03T12:51:25.824Z"
   },
   {
    "duration": 849,
    "start_time": "2024-09-03T12:51:43.217Z"
   },
   {
    "duration": 849,
    "start_time": "2024-09-03T12:55:02.780Z"
   },
   {
    "duration": 736,
    "start_time": "2024-09-03T13:00:20.554Z"
   },
   {
    "duration": 795,
    "start_time": "2024-09-03T13:00:48.610Z"
   },
   {
    "duration": 870,
    "start_time": "2024-09-03T13:01:31.910Z"
   },
   {
    "duration": 936,
    "start_time": "2024-09-03T13:01:51.815Z"
   },
   {
    "duration": 945,
    "start_time": "2024-09-03T13:02:04.959Z"
   },
   {
    "duration": 1188,
    "start_time": "2024-09-03T13:24:47.124Z"
   },
   {
    "duration": 1467,
    "start_time": "2024-09-03T13:25:15.090Z"
   },
   {
    "duration": 1089,
    "start_time": "2024-09-03T13:25:25.150Z"
   },
   {
    "duration": 1038,
    "start_time": "2024-09-03T13:25:58.767Z"
   },
   {
    "duration": 869,
    "start_time": "2024-09-03T13:26:36.290Z"
   },
   {
    "duration": 857,
    "start_time": "2024-09-03T13:26:46.151Z"
   },
   {
    "duration": 881,
    "start_time": "2024-09-03T13:26:51.136Z"
   },
   {
    "duration": 871,
    "start_time": "2024-09-03T13:28:11.592Z"
   },
   {
    "duration": 1048,
    "start_time": "2024-09-03T13:28:16.429Z"
   },
   {
    "duration": 1103,
    "start_time": "2024-09-03T13:31:48.434Z"
   },
   {
    "duration": 188,
    "start_time": "2024-09-03T13:31:49.539Z"
   },
   {
    "duration": 21,
    "start_time": "2024-09-03T13:31:49.728Z"
   },
   {
    "duration": 5,
    "start_time": "2024-09-03T13:31:49.751Z"
   },
   {
    "duration": 42,
    "start_time": "2024-09-03T13:31:49.757Z"
   },
   {
    "duration": 63,
    "start_time": "2024-09-03T13:31:49.801Z"
   },
   {
    "duration": 87,
    "start_time": "2024-09-03T13:31:49.866Z"
   },
   {
    "duration": 20,
    "start_time": "2024-09-03T13:31:49.955Z"
   },
   {
    "duration": 80,
    "start_time": "2024-09-03T13:31:49.989Z"
   },
   {
    "duration": 41,
    "start_time": "2024-09-03T13:31:50.072Z"
   },
   {
    "duration": 78,
    "start_time": "2024-09-03T13:31:50.115Z"
   },
   {
    "duration": 55,
    "start_time": "2024-09-03T13:31:50.196Z"
   },
   {
    "duration": 112,
    "start_time": "2024-09-03T13:31:50.254Z"
   },
   {
    "duration": 5,
    "start_time": "2024-09-03T13:31:50.367Z"
   },
   {
    "duration": 738,
    "start_time": "2024-09-03T13:31:50.373Z"
   },
   {
    "duration": 14,
    "start_time": "2024-09-03T13:31:51.113Z"
   },
   {
    "duration": 122,
    "start_time": "2024-09-03T13:31:51.128Z"
   },
   {
    "duration": 71,
    "start_time": "2024-09-03T13:31:51.252Z"
   },
   {
    "duration": 18,
    "start_time": "2024-09-03T13:31:51.324Z"
   },
   {
    "duration": 237,
    "start_time": "2024-09-03T13:31:51.344Z"
   },
   {
    "duration": 403,
    "start_time": "2024-09-03T13:31:51.583Z"
   },
   {
    "duration": 14,
    "start_time": "2024-09-03T13:31:51.988Z"
   },
   {
    "duration": 51,
    "start_time": "2024-09-03T13:31:52.004Z"
   },
   {
    "duration": 153,
    "start_time": "2024-09-03T13:31:52.056Z"
   },
   {
    "duration": 45,
    "start_time": "2024-09-03T13:31:52.211Z"
   },
   {
    "duration": 6,
    "start_time": "2024-09-03T13:31:52.257Z"
   },
   {
    "duration": 67,
    "start_time": "2024-09-03T13:31:52.264Z"
   },
   {
    "duration": 204,
    "start_time": "2024-09-03T13:31:52.334Z"
   },
   {
    "duration": 181,
    "start_time": "2024-09-03T13:31:52.540Z"
   },
   {
    "duration": 192,
    "start_time": "2024-09-03T13:31:52.722Z"
   },
   {
    "duration": 1066,
    "start_time": "2024-09-03T13:31:52.915Z"
   },
   {
    "duration": 7,
    "start_time": "2024-09-03T13:31:53.983Z"
   },
   {
    "duration": 1161,
    "start_time": "2024-09-03T13:35:57.999Z"
   },
   {
    "duration": 190,
    "start_time": "2024-09-03T13:35:59.162Z"
   },
   {
    "duration": 23,
    "start_time": "2024-09-03T13:35:59.353Z"
   },
   {
    "duration": 13,
    "start_time": "2024-09-03T13:35:59.377Z"
   },
   {
    "duration": 19,
    "start_time": "2024-09-03T13:35:59.392Z"
   },
   {
    "duration": 65,
    "start_time": "2024-09-03T13:35:59.413Z"
   },
   {
    "duration": 81,
    "start_time": "2024-09-03T13:35:59.480Z"
   },
   {
    "duration": 31,
    "start_time": "2024-09-03T13:35:59.562Z"
   },
   {
    "duration": 87,
    "start_time": "2024-09-03T13:35:59.595Z"
   },
   {
    "duration": 30,
    "start_time": "2024-09-03T13:35:59.690Z"
   },
   {
    "duration": 82,
    "start_time": "2024-09-03T13:35:59.722Z"
   },
   {
    "duration": 38,
    "start_time": "2024-09-03T13:35:59.806Z"
   },
   {
    "duration": 104,
    "start_time": "2024-09-03T13:35:59.845Z"
   },
   {
    "duration": 4,
    "start_time": "2024-09-03T13:35:59.952Z"
   },
   {
    "duration": 799,
    "start_time": "2024-09-03T13:35:59.958Z"
   },
   {
    "duration": 14,
    "start_time": "2024-09-03T13:36:00.759Z"
   },
   {
    "duration": 104,
    "start_time": "2024-09-03T13:36:00.775Z"
   },
   {
    "duration": 65,
    "start_time": "2024-09-03T13:36:00.890Z"
   },
   {
    "duration": 17,
    "start_time": "2024-09-03T13:36:00.956Z"
   },
   {
    "duration": 202,
    "start_time": "2024-09-03T13:36:00.989Z"
   },
   {
    "duration": 406,
    "start_time": "2024-09-03T13:36:01.193Z"
   },
   {
    "duration": 12,
    "start_time": "2024-09-03T13:36:01.601Z"
   },
   {
    "duration": 9,
    "start_time": "2024-09-03T13:36:01.614Z"
   },
   {
    "duration": 202,
    "start_time": "2024-09-03T13:36:01.624Z"
   },
   {
    "duration": 44,
    "start_time": "2024-09-03T13:36:01.827Z"
   },
   {
    "duration": 20,
    "start_time": "2024-09-03T13:36:01.873Z"
   },
   {
    "duration": 80,
    "start_time": "2024-09-03T13:36:01.894Z"
   },
   {
    "duration": 186,
    "start_time": "2024-09-03T13:36:01.976Z"
   },
   {
    "duration": 196,
    "start_time": "2024-09-03T13:36:02.163Z"
   },
   {
    "duration": 195,
    "start_time": "2024-09-03T13:36:02.361Z"
   },
   {
    "duration": 1039,
    "start_time": "2024-09-03T13:36:02.557Z"
   },
   {
    "duration": 3,
    "start_time": "2024-09-03T13:36:03.598Z"
   },
   {
    "duration": 1282,
    "start_time": "2024-09-03T13:54:57.068Z"
   },
   {
    "duration": 193,
    "start_time": "2024-09-03T13:54:58.352Z"
   },
   {
    "duration": 20,
    "start_time": "2024-09-03T13:54:58.547Z"
   },
   {
    "duration": 30,
    "start_time": "2024-09-03T13:54:58.569Z"
   },
   {
    "duration": 19,
    "start_time": "2024-09-03T13:54:58.601Z"
   },
   {
    "duration": 65,
    "start_time": "2024-09-03T13:54:58.622Z"
   },
   {
    "duration": 72,
    "start_time": "2024-09-03T13:54:58.688Z"
   },
   {
    "duration": 28,
    "start_time": "2024-09-03T13:54:58.762Z"
   },
   {
    "duration": 79,
    "start_time": "2024-09-03T13:54:58.792Z"
   },
   {
    "duration": 39,
    "start_time": "2024-09-03T13:54:58.874Z"
   },
   {
    "duration": 78,
    "start_time": "2024-09-03T13:54:58.914Z"
   },
   {
    "duration": 40,
    "start_time": "2024-09-03T13:54:58.993Z"
   },
   {
    "duration": 104,
    "start_time": "2024-09-03T13:54:59.034Z"
   },
   {
    "duration": 5,
    "start_time": "2024-09-03T13:54:59.140Z"
   },
   {
    "duration": 766,
    "start_time": "2024-09-03T13:54:59.146Z"
   },
   {
    "duration": 16,
    "start_time": "2024-09-03T13:54:59.914Z"
   },
   {
    "duration": 117,
    "start_time": "2024-09-03T13:54:59.932Z"
   },
   {
    "duration": 76,
    "start_time": "2024-09-03T13:55:00.051Z"
   },
   {
    "duration": 17,
    "start_time": "2024-09-03T13:55:00.129Z"
   },
   {
    "duration": 252,
    "start_time": "2024-09-03T13:55:00.148Z"
   },
   {
    "duration": 422,
    "start_time": "2024-09-03T13:55:00.401Z"
   },
   {
    "duration": 12,
    "start_time": "2024-09-03T13:55:00.825Z"
   },
   {
    "duration": 15,
    "start_time": "2024-09-03T13:55:00.838Z"
   },
   {
    "duration": 170,
    "start_time": "2024-09-03T13:55:00.855Z"
   },
   {
    "duration": 45,
    "start_time": "2024-09-03T13:55:01.026Z"
   },
   {
    "duration": 20,
    "start_time": "2024-09-03T13:55:01.072Z"
   },
   {
    "duration": 56,
    "start_time": "2024-09-03T13:55:01.094Z"
   },
   {
    "duration": 193,
    "start_time": "2024-09-03T13:55:01.154Z"
   },
   {
    "duration": 190,
    "start_time": "2024-09-03T13:55:01.349Z"
   },
   {
    "duration": 201,
    "start_time": "2024-09-03T13:55:01.541Z"
   },
   {
    "duration": 1067,
    "start_time": "2024-09-03T13:55:01.743Z"
   },
   {
    "duration": 4,
    "start_time": "2024-09-03T13:55:02.811Z"
   },
   {
    "duration": 998,
    "start_time": "2024-09-03T13:57:28.245Z"
   },
   {
    "duration": 187,
    "start_time": "2024-09-03T13:57:29.245Z"
   },
   {
    "duration": 21,
    "start_time": "2024-09-03T13:57:29.433Z"
   },
   {
    "duration": 5,
    "start_time": "2024-09-03T13:57:29.455Z"
   },
   {
    "duration": 32,
    "start_time": "2024-09-03T13:57:29.462Z"
   },
   {
    "duration": 66,
    "start_time": "2024-09-03T13:57:29.496Z"
   },
   {
    "duration": 79,
    "start_time": "2024-09-03T13:57:29.563Z"
   },
   {
    "duration": 19,
    "start_time": "2024-09-03T13:57:29.643Z"
   },
   {
    "duration": 89,
    "start_time": "2024-09-03T13:57:29.664Z"
   },
   {
    "duration": 35,
    "start_time": "2024-09-03T13:57:29.754Z"
   },
   {
    "duration": 67,
    "start_time": "2024-09-03T13:57:29.791Z"
   },
   {
    "duration": 54,
    "start_time": "2024-09-03T13:57:29.860Z"
   },
   {
    "duration": 98,
    "start_time": "2024-09-03T13:57:29.915Z"
   },
   {
    "duration": 6,
    "start_time": "2024-09-03T13:57:30.016Z"
   },
   {
    "duration": 849,
    "start_time": "2024-09-03T13:57:30.024Z"
   },
   {
    "duration": 23,
    "start_time": "2024-09-03T13:57:30.874Z"
   },
   {
    "duration": 107,
    "start_time": "2024-09-03T13:57:30.898Z"
   },
   {
    "duration": 64,
    "start_time": "2024-09-03T13:57:31.006Z"
   },
   {
    "duration": 26,
    "start_time": "2024-09-03T13:57:31.071Z"
   },
   {
    "duration": 216,
    "start_time": "2024-09-03T13:57:31.098Z"
   },
   {
    "duration": 404,
    "start_time": "2024-09-03T13:57:31.315Z"
   },
   {
    "duration": 12,
    "start_time": "2024-09-03T13:57:31.720Z"
   },
   {
    "duration": 17,
    "start_time": "2024-09-03T13:57:31.733Z"
   },
   {
    "duration": 174,
    "start_time": "2024-09-03T13:57:31.751Z"
   },
   {
    "duration": 44,
    "start_time": "2024-09-03T13:57:31.926Z"
   },
   {
    "duration": 18,
    "start_time": "2024-09-03T13:57:31.972Z"
   },
   {
    "duration": 64,
    "start_time": "2024-09-03T13:57:31.991Z"
   },
   {
    "duration": 177,
    "start_time": "2024-09-03T13:57:32.057Z"
   },
   {
    "duration": 186,
    "start_time": "2024-09-03T13:57:32.236Z"
   },
   {
    "duration": 192,
    "start_time": "2024-09-03T13:57:32.423Z"
   },
   {
    "duration": 1062,
    "start_time": "2024-09-03T13:57:32.616Z"
   },
   {
    "duration": 3,
    "start_time": "2024-09-03T13:57:33.680Z"
   },
   {
    "duration": 1115,
    "start_time": "2024-09-03T14:42:52.458Z"
   },
   {
    "duration": 232,
    "start_time": "2024-09-03T14:42:53.575Z"
   },
   {
    "duration": 23,
    "start_time": "2024-09-03T14:42:53.809Z"
   },
   {
    "duration": 5,
    "start_time": "2024-09-03T14:42:53.834Z"
   },
   {
    "duration": 19,
    "start_time": "2024-09-03T14:42:53.841Z"
   },
   {
    "duration": 90,
    "start_time": "2024-09-03T14:42:53.862Z"
   },
   {
    "duration": 78,
    "start_time": "2024-09-03T14:42:53.954Z"
   },
   {
    "duration": 19,
    "start_time": "2024-09-03T14:42:54.034Z"
   },
   {
    "duration": 97,
    "start_time": "2024-09-03T14:42:54.055Z"
   },
   {
    "duration": 31,
    "start_time": "2024-09-03T14:42:54.154Z"
   },
   {
    "duration": 106,
    "start_time": "2024-09-03T14:42:54.186Z"
   },
   {
    "duration": 46,
    "start_time": "2024-09-03T14:42:54.294Z"
   },
   {
    "duration": 116,
    "start_time": "2024-09-03T14:42:54.341Z"
   },
   {
    "duration": 6,
    "start_time": "2024-09-03T14:42:54.459Z"
   },
   {
    "duration": 845,
    "start_time": "2024-09-03T14:42:54.467Z"
   },
   {
    "duration": 17,
    "start_time": "2024-09-03T14:42:55.313Z"
   },
   {
    "duration": 136,
    "start_time": "2024-09-03T14:42:55.332Z"
   },
   {
    "duration": 85,
    "start_time": "2024-09-03T14:42:55.470Z"
   },
   {
    "duration": 20,
    "start_time": "2024-09-03T14:42:55.557Z"
   },
   {
    "duration": 250,
    "start_time": "2024-09-03T14:42:55.578Z"
   },
   {
    "duration": 693,
    "start_time": "2024-09-03T14:42:55.830Z"
   },
   {
    "duration": 13,
    "start_time": "2024-09-03T14:42:56.524Z"
   },
   {
    "duration": 10,
    "start_time": "2024-09-03T14:42:56.539Z"
   },
   {
    "duration": 221,
    "start_time": "2024-09-03T14:42:56.550Z"
   },
   {
    "duration": 64,
    "start_time": "2024-09-03T14:42:56.772Z"
   },
   {
    "duration": 9,
    "start_time": "2024-09-03T14:42:56.838Z"
   },
   {
    "duration": 68,
    "start_time": "2024-09-03T14:42:56.848Z"
   },
   {
    "duration": 210,
    "start_time": "2024-09-03T14:42:56.919Z"
   },
   {
    "duration": 205,
    "start_time": "2024-09-03T14:42:57.130Z"
   },
   {
    "duration": 210,
    "start_time": "2024-09-03T14:42:57.337Z"
   },
   {
    "duration": 1104,
    "start_time": "2024-09-03T14:42:57.549Z"
   },
   {
    "duration": 3,
    "start_time": "2024-09-03T14:42:58.654Z"
   },
   {
    "duration": 1196,
    "start_time": "2024-10-16T19:41:04.539Z"
   },
   {
    "duration": 785,
    "start_time": "2024-10-16T19:41:05.737Z"
   },
   {
    "duration": 22,
    "start_time": "2024-10-16T19:41:06.524Z"
   },
   {
    "duration": 5,
    "start_time": "2024-10-16T19:41:06.549Z"
   },
   {
    "duration": 23,
    "start_time": "2024-10-16T19:41:06.556Z"
   },
   {
    "duration": 68,
    "start_time": "2024-10-16T19:41:06.581Z"
   },
   {
    "duration": 82,
    "start_time": "2024-10-16T19:41:06.651Z"
   },
   {
    "duration": 32,
    "start_time": "2024-10-16T19:41:06.734Z"
   },
   {
    "duration": 83,
    "start_time": "2024-10-16T19:41:06.768Z"
   },
   {
    "duration": 32,
    "start_time": "2024-10-16T19:41:06.864Z"
   },
   {
    "duration": 83,
    "start_time": "2024-10-16T19:41:06.898Z"
   },
   {
    "duration": 55,
    "start_time": "2024-10-16T19:41:06.983Z"
   },
   {
    "duration": 96,
    "start_time": "2024-10-16T19:41:07.040Z"
   },
   {
    "duration": 6,
    "start_time": "2024-10-16T19:41:07.138Z"
   },
   {
    "duration": 834,
    "start_time": "2024-10-16T19:41:07.145Z"
   },
   {
    "duration": 17,
    "start_time": "2024-10-16T19:41:07.981Z"
   },
   {
    "duration": 117,
    "start_time": "2024-10-16T19:41:08.000Z"
   },
   {
    "duration": 74,
    "start_time": "2024-10-16T19:41:08.119Z"
   },
   {
    "duration": 19,
    "start_time": "2024-10-16T19:41:08.194Z"
   },
   {
    "duration": 214,
    "start_time": "2024-10-16T19:41:08.214Z"
   },
   {
    "duration": 390,
    "start_time": "2024-10-16T19:41:08.430Z"
   },
   {
    "duration": 15,
    "start_time": "2024-10-16T19:41:08.822Z"
   },
   {
    "duration": 4,
    "start_time": "2024-10-16T19:41:08.865Z"
   },
   {
    "duration": 222,
    "start_time": "2024-10-16T19:41:08.871Z"
   },
   {
    "duration": 49,
    "start_time": "2024-10-16T19:41:09.095Z"
   },
   {
    "duration": 21,
    "start_time": "2024-10-16T19:41:09.146Z"
   },
   {
    "duration": 58,
    "start_time": "2024-10-16T19:41:09.169Z"
   },
   {
    "duration": 214,
    "start_time": "2024-10-16T19:41:09.229Z"
   },
   {
    "duration": 195,
    "start_time": "2024-10-16T19:41:09.445Z"
   },
   {
    "duration": 230,
    "start_time": "2024-10-16T19:41:09.642Z"
   },
   {
    "duration": 1100,
    "start_time": "2024-10-16T19:41:09.873Z"
   },
   {
    "duration": 3,
    "start_time": "2024-10-16T19:41:10.975Z"
   },
   {
    "duration": 263,
    "start_time": "2024-10-16T19:42:30.522Z"
   },
   {
    "duration": 1138,
    "start_time": "2024-10-16T19:42:37.502Z"
   },
   {
    "duration": 193,
    "start_time": "2024-10-16T19:42:38.643Z"
   },
   {
    "duration": 22,
    "start_time": "2024-10-16T19:42:38.837Z"
   },
   {
    "duration": 4,
    "start_time": "2024-10-16T19:42:38.865Z"
   },
   {
    "duration": 16,
    "start_time": "2024-10-16T19:42:38.871Z"
   },
   {
    "duration": 84,
    "start_time": "2024-10-16T19:42:38.888Z"
   },
   {
    "duration": 73,
    "start_time": "2024-10-16T19:42:38.973Z"
   },
   {
    "duration": 29,
    "start_time": "2024-10-16T19:42:39.048Z"
   },
   {
    "duration": 92,
    "start_time": "2024-10-16T19:42:39.079Z"
   },
   {
    "duration": 32,
    "start_time": "2024-10-16T19:42:39.172Z"
   },
   {
    "duration": 82,
    "start_time": "2024-10-16T19:42:39.205Z"
   },
   {
    "duration": 42,
    "start_time": "2024-10-16T19:42:39.289Z"
   },
   {
    "duration": 116,
    "start_time": "2024-10-16T19:42:39.333Z"
   },
   {
    "duration": 13,
    "start_time": "2024-10-16T19:42:39.452Z"
   },
   {
    "duration": 805,
    "start_time": "2024-10-16T19:42:39.466Z"
   },
   {
    "duration": 15,
    "start_time": "2024-10-16T19:42:40.272Z"
   },
   {
    "duration": 113,
    "start_time": "2024-10-16T19:42:40.289Z"
   },
   {
    "duration": 77,
    "start_time": "2024-10-16T19:42:40.403Z"
   },
   {
    "duration": 19,
    "start_time": "2024-10-16T19:42:40.482Z"
   },
   {
    "duration": 257,
    "start_time": "2024-10-16T19:42:40.503Z"
   },
   {
    "duration": 268,
    "start_time": "2024-10-16T19:42:40.762Z"
   },
   {
    "duration": 11,
    "start_time": "2024-10-16T19:42:41.032Z"
   },
   {
    "duration": 7,
    "start_time": "2024-10-16T19:42:41.044Z"
   },
   {
    "duration": 117,
    "start_time": "2024-10-16T19:42:41.066Z"
   },
   {
    "duration": 47,
    "start_time": "2024-10-16T19:42:41.185Z"
   },
   {
    "duration": 8,
    "start_time": "2024-10-16T19:42:41.234Z"
   },
   {
    "duration": 55,
    "start_time": "2024-10-16T19:42:41.267Z"
   },
   {
    "duration": 195,
    "start_time": "2024-10-16T19:42:41.324Z"
   },
   {
    "duration": 192,
    "start_time": "2024-10-16T19:42:41.520Z"
   },
   {
    "duration": 202,
    "start_time": "2024-10-16T19:42:41.714Z"
   },
   {
    "duration": 1088,
    "start_time": "2024-10-16T19:42:41.918Z"
   },
   {
    "duration": 3,
    "start_time": "2024-10-16T19:42:43.008Z"
   },
   {
    "duration": 1177,
    "start_time": "2024-10-16T19:48:34.459Z"
   },
   {
    "duration": 233,
    "start_time": "2024-10-16T19:48:35.638Z"
   },
   {
    "duration": 31,
    "start_time": "2024-10-16T19:48:35.873Z"
   },
   {
    "duration": 5,
    "start_time": "2024-10-16T19:48:35.906Z"
   },
   {
    "duration": 18,
    "start_time": "2024-10-16T19:48:35.913Z"
   },
   {
    "duration": 79,
    "start_time": "2024-10-16T19:48:35.933Z"
   },
   {
    "duration": 83,
    "start_time": "2024-10-16T19:48:36.013Z"
   },
   {
    "duration": 19,
    "start_time": "2024-10-16T19:48:36.098Z"
   },
   {
    "duration": 117,
    "start_time": "2024-10-16T19:48:36.118Z"
   },
   {
    "duration": 32,
    "start_time": "2024-10-16T19:48:36.236Z"
   },
   {
    "duration": 74,
    "start_time": "2024-10-16T19:48:36.270Z"
   },
   {
    "duration": 48,
    "start_time": "2024-10-16T19:48:36.346Z"
   },
   {
    "duration": 101,
    "start_time": "2024-10-16T19:48:36.396Z"
   },
   {
    "duration": 5,
    "start_time": "2024-10-16T19:48:36.500Z"
   },
   {
    "duration": 809,
    "start_time": "2024-10-16T19:48:36.506Z"
   },
   {
    "duration": 14,
    "start_time": "2024-10-16T19:48:37.317Z"
   },
   {
    "duration": 110,
    "start_time": "2024-10-16T19:48:37.333Z"
   },
   {
    "duration": 70,
    "start_time": "2024-10-16T19:48:37.444Z"
   },
   {
    "duration": 17,
    "start_time": "2024-10-16T19:48:37.516Z"
   },
   {
    "duration": 219,
    "start_time": "2024-10-16T19:48:37.534Z"
   },
   {
    "duration": 255,
    "start_time": "2024-10-16T19:48:37.754Z"
   },
   {
    "duration": 11,
    "start_time": "2024-10-16T19:48:38.011Z"
   },
   {
    "duration": 24,
    "start_time": "2024-10-16T19:48:38.023Z"
   },
   {
    "duration": 113,
    "start_time": "2024-10-16T19:48:38.049Z"
   },
   {
    "duration": 45,
    "start_time": "2024-10-16T19:48:38.165Z"
   },
   {
    "duration": 7,
    "start_time": "2024-10-16T19:48:38.212Z"
   },
   {
    "duration": 76,
    "start_time": "2024-10-16T19:48:38.220Z"
   },
   {
    "duration": 192,
    "start_time": "2024-10-16T19:48:38.298Z"
   },
   {
    "duration": 180,
    "start_time": "2024-10-16T19:48:38.491Z"
   },
   {
    "duration": 210,
    "start_time": "2024-10-16T19:48:38.673Z"
   },
   {
    "duration": 1059,
    "start_time": "2024-10-16T19:48:38.885Z"
   },
   {
    "duration": 4,
    "start_time": "2024-10-16T19:48:39.945Z"
   }
  ],
  "kernelspec": {
   "display_name": "Python 3 (ipykernel)",
   "language": "python",
   "name": "python3"
  },
  "language_info": {
   "codemirror_mode": {
    "name": "ipython",
    "version": 3
   },
   "file_extension": ".py",
   "mimetype": "text/x-python",
   "name": "python",
   "nbconvert_exporter": "python",
   "pygments_lexer": "ipython3",
   "version": "3.9.5"
  },
  "toc": {
   "base_numbering": 1,
   "nav_menu": {},
   "number_sections": true,
   "sideBar": true,
   "skip_h1_title": true,
   "title_cell": "Table of Contents",
   "title_sidebar": "Contents",
   "toc_cell": false,
   "toc_position": {
    "height": "calc(100% - 180px)",
    "left": "10px",
    "top": "150px",
    "width": "384px"
   },
   "toc_section_display": true,
   "toc_window_display": true
  }
 },
 "nbformat": 4,
 "nbformat_minor": 2
}
