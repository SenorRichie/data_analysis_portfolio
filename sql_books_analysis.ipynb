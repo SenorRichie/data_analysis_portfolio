{
 "cells": [
  {
   "cell_type": "markdown",
   "metadata": {},
   "source": [
    "# Анализ крупного сервиса для чтения книг по подписке\n",
    "\n",
    "**Коронавирус застал мир врасплох, изменив привычный порядок вещей. На какое-то время жители городов перестали выходить на улицу, посещать кафе и торговые центры. Зато стало больше времени для книг. Это заметили стартаперы — и бросились создавать приложения для тех, кто любит читать.**\n",
    "\n",
    "**Ваша компания решила быть на волне и купила крупный сервис для чтения книг по подписке. Ваша первая задача как аналитика — проанализировать базу данных.**\n",
    "\n",
    "**В ней — информация о книгах, издательствах, авторах, а также пользовательские обзоры книг. Эти данные помогут сформулировать ценностное предложение для нового продукта.**\n",
    "\n",
    "\n",
    "# Задания:\n",
    "\n",
    "- **Посчитайте, сколько книг вышло после 1 января 2000 года;**\n",
    "\n",
    "\n",
    "- **Для каждой книги посчитайте количество обзоров и среднюю оценку;**\n",
    "\n",
    "\n",
    "- **Определите издательство, которое выпустило наибольшее число книг толще 50 страниц — так вы исключите из анализа брошюры;**\n",
    "\n",
    "\n",
    "- **Определите автора с самой высокой средней оценкой книг — учитывайте только книги с 50 и более оценками;**\n",
    "\n",
    "\n",
    "- **Посчитайте среднее количество обзоров от пользователей, которые поставили больше 48 оценок.**"
   ]
  },
  {
   "cell_type": "markdown",
   "metadata": {},
   "source": [
    "## Вывод первых строк таблиц\n",
    "\n",
    "# books:"
   ]
  },
  {
   "cell_type": "code",
   "execution_count": 2,
   "metadata": {},
   "outputs": [
    {
     "data": {
      "text/html": [
       "<div>\n",
       "<style scoped>\n",
       "    .dataframe tbody tr th:only-of-type {\n",
       "        vertical-align: middle;\n",
       "    }\n",
       "\n",
       "    .dataframe tbody tr th {\n",
       "        vertical-align: top;\n",
       "    }\n",
       "\n",
       "    .dataframe thead th {\n",
       "        text-align: right;\n",
       "    }\n",
       "</style>\n",
       "<table border=\"1\" class=\"dataframe\">\n",
       "  <thead>\n",
       "    <tr style=\"text-align: right;\">\n",
       "      <th></th>\n",
       "      <th>book_id</th>\n",
       "      <th>author_id</th>\n",
       "      <th>title</th>\n",
       "      <th>num_pages</th>\n",
       "      <th>publication_date</th>\n",
       "      <th>publisher_id</th>\n",
       "    </tr>\n",
       "  </thead>\n",
       "  <tbody>\n",
       "    <tr>\n",
       "      <th>0</th>\n",
       "      <td>1</td>\n",
       "      <td>546</td>\n",
       "      <td>'Salem's Lot</td>\n",
       "      <td>594</td>\n",
       "      <td>2005-11-01</td>\n",
       "      <td>93</td>\n",
       "    </tr>\n",
       "    <tr>\n",
       "      <th>1</th>\n",
       "      <td>2</td>\n",
       "      <td>465</td>\n",
       "      <td>1 000 Places to See Before You Die</td>\n",
       "      <td>992</td>\n",
       "      <td>2003-05-22</td>\n",
       "      <td>336</td>\n",
       "    </tr>\n",
       "    <tr>\n",
       "      <th>2</th>\n",
       "      <td>3</td>\n",
       "      <td>407</td>\n",
       "      <td>13 Little Blue Envelopes (Little Blue Envelope...</td>\n",
       "      <td>322</td>\n",
       "      <td>2010-12-21</td>\n",
       "      <td>135</td>\n",
       "    </tr>\n",
       "    <tr>\n",
       "      <th>3</th>\n",
       "      <td>4</td>\n",
       "      <td>82</td>\n",
       "      <td>1491: New Revelations of the Americas Before C...</td>\n",
       "      <td>541</td>\n",
       "      <td>2006-10-10</td>\n",
       "      <td>309</td>\n",
       "    </tr>\n",
       "    <tr>\n",
       "      <th>4</th>\n",
       "      <td>5</td>\n",
       "      <td>125</td>\n",
       "      <td>1776</td>\n",
       "      <td>386</td>\n",
       "      <td>2006-07-04</td>\n",
       "      <td>268</td>\n",
       "    </tr>\n",
       "    <tr>\n",
       "      <th>5</th>\n",
       "      <td>6</td>\n",
       "      <td>257</td>\n",
       "      <td>1st to Die (Women's Murder Club  #1)</td>\n",
       "      <td>424</td>\n",
       "      <td>2005-05-20</td>\n",
       "      <td>116</td>\n",
       "    </tr>\n",
       "    <tr>\n",
       "      <th>6</th>\n",
       "      <td>7</td>\n",
       "      <td>258</td>\n",
       "      <td>2nd Chance (Women's Murder Club  #2)</td>\n",
       "      <td>400</td>\n",
       "      <td>2005-05-20</td>\n",
       "      <td>116</td>\n",
       "    </tr>\n",
       "    <tr>\n",
       "      <th>7</th>\n",
       "      <td>8</td>\n",
       "      <td>260</td>\n",
       "      <td>4th of July (Women's Murder Club  #4)</td>\n",
       "      <td>448</td>\n",
       "      <td>2006-06-01</td>\n",
       "      <td>318</td>\n",
       "    </tr>\n",
       "    <tr>\n",
       "      <th>8</th>\n",
       "      <td>9</td>\n",
       "      <td>563</td>\n",
       "      <td>A Beautiful Mind</td>\n",
       "      <td>461</td>\n",
       "      <td>2002-02-04</td>\n",
       "      <td>104</td>\n",
       "    </tr>\n",
       "    <tr>\n",
       "      <th>9</th>\n",
       "      <td>10</td>\n",
       "      <td>445</td>\n",
       "      <td>A Bend in the Road</td>\n",
       "      <td>341</td>\n",
       "      <td>2005-04-01</td>\n",
       "      <td>116</td>\n",
       "    </tr>\n",
       "  </tbody>\n",
       "</table>\n",
       "</div>"
      ],
      "text/plain": [
       "   book_id  author_id                                              title  \\\n",
       "0        1        546                                       'Salem's Lot   \n",
       "1        2        465                 1 000 Places to See Before You Die   \n",
       "2        3        407  13 Little Blue Envelopes (Little Blue Envelope...   \n",
       "3        4         82  1491: New Revelations of the Americas Before C...   \n",
       "4        5        125                                               1776   \n",
       "5        6        257               1st to Die (Women's Murder Club  #1)   \n",
       "6        7        258               2nd Chance (Women's Murder Club  #2)   \n",
       "7        8        260              4th of July (Women's Murder Club  #4)   \n",
       "8        9        563                                   A Beautiful Mind   \n",
       "9       10        445                                 A Bend in the Road   \n",
       "\n",
       "   num_pages publication_date  publisher_id  \n",
       "0        594       2005-11-01            93  \n",
       "1        992       2003-05-22           336  \n",
       "2        322       2010-12-21           135  \n",
       "3        541       2006-10-10           309  \n",
       "4        386       2006-07-04           268  \n",
       "5        424       2005-05-20           116  \n",
       "6        400       2005-05-20           116  \n",
       "7        448       2006-06-01           318  \n",
       "8        461       2002-02-04           104  \n",
       "9        341       2005-04-01           116  "
      ]
     },
     "execution_count": 2,
     "metadata": {},
     "output_type": "execute_result"
    }
   ],
   "source": [
    "books = '''\n",
    "SELECT *\n",
    "FROM books\n",
    "LIMIT 10\n",
    "'''\n",
    "\n",
    "pd.io.sql.read_sql(sql=text(books), con = con)"
   ]
  },
  {
   "cell_type": "markdown",
   "metadata": {},
   "source": [
    "# authors:"
   ]
  },
  {
   "cell_type": "code",
   "execution_count": 3,
   "metadata": {},
   "outputs": [
    {
     "data": {
      "text/html": [
       "<div>\n",
       "<style scoped>\n",
       "    .dataframe tbody tr th:only-of-type {\n",
       "        vertical-align: middle;\n",
       "    }\n",
       "\n",
       "    .dataframe tbody tr th {\n",
       "        vertical-align: top;\n",
       "    }\n",
       "\n",
       "    .dataframe thead th {\n",
       "        text-align: right;\n",
       "    }\n",
       "</style>\n",
       "<table border=\"1\" class=\"dataframe\">\n",
       "  <thead>\n",
       "    <tr style=\"text-align: right;\">\n",
       "      <th></th>\n",
       "      <th>author_id</th>\n",
       "      <th>author</th>\n",
       "    </tr>\n",
       "  </thead>\n",
       "  <tbody>\n",
       "    <tr>\n",
       "      <th>0</th>\n",
       "      <td>1</td>\n",
       "      <td>A.S. Byatt</td>\n",
       "    </tr>\n",
       "    <tr>\n",
       "      <th>1</th>\n",
       "      <td>2</td>\n",
       "      <td>Aesop/Laura Harris/Laura Gibbs</td>\n",
       "    </tr>\n",
       "    <tr>\n",
       "      <th>2</th>\n",
       "      <td>3</td>\n",
       "      <td>Agatha Christie</td>\n",
       "    </tr>\n",
       "    <tr>\n",
       "      <th>3</th>\n",
       "      <td>4</td>\n",
       "      <td>Alan Brennert</td>\n",
       "    </tr>\n",
       "    <tr>\n",
       "      <th>4</th>\n",
       "      <td>5</td>\n",
       "      <td>Alan Moore/David   Lloyd</td>\n",
       "    </tr>\n",
       "    <tr>\n",
       "      <th>5</th>\n",
       "      <td>6</td>\n",
       "      <td>Alan Paton</td>\n",
       "    </tr>\n",
       "    <tr>\n",
       "      <th>6</th>\n",
       "      <td>7</td>\n",
       "      <td>Albert Camus/Justin O'Brien</td>\n",
       "    </tr>\n",
       "    <tr>\n",
       "      <th>7</th>\n",
       "      <td>8</td>\n",
       "      <td>Aldous Huxley</td>\n",
       "    </tr>\n",
       "    <tr>\n",
       "      <th>8</th>\n",
       "      <td>9</td>\n",
       "      <td>Aldous Huxley/Christopher Hitchens</td>\n",
       "    </tr>\n",
       "    <tr>\n",
       "      <th>9</th>\n",
       "      <td>10</td>\n",
       "      <td>Aleksandr Solzhenitsyn/H.T. Willetts</td>\n",
       "    </tr>\n",
       "  </tbody>\n",
       "</table>\n",
       "</div>"
      ],
      "text/plain": [
       "   author_id                                author\n",
       "0          1                            A.S. Byatt\n",
       "1          2        Aesop/Laura Harris/Laura Gibbs\n",
       "2          3                       Agatha Christie\n",
       "3          4                         Alan Brennert\n",
       "4          5              Alan Moore/David   Lloyd\n",
       "5          6                            Alan Paton\n",
       "6          7           Albert Camus/Justin O'Brien\n",
       "7          8                         Aldous Huxley\n",
       "8          9    Aldous Huxley/Christopher Hitchens\n",
       "9         10  Aleksandr Solzhenitsyn/H.T. Willetts"
      ]
     },
     "execution_count": 3,
     "metadata": {},
     "output_type": "execute_result"
    }
   ],
   "source": [
    "authors = '''\n",
    "SELECT *\n",
    "FROM authors\n",
    "LIMIT 10\n",
    "'''\n",
    "\n",
    "pd.io.sql.read_sql(sql=text(authors), con = con)"
   ]
  },
  {
   "cell_type": "markdown",
   "metadata": {},
   "source": [
    "# publishers:"
   ]
  },
  {
   "cell_type": "code",
   "execution_count": 4,
   "metadata": {},
   "outputs": [
    {
     "data": {
      "text/html": [
       "<div>\n",
       "<style scoped>\n",
       "    .dataframe tbody tr th:only-of-type {\n",
       "        vertical-align: middle;\n",
       "    }\n",
       "\n",
       "    .dataframe tbody tr th {\n",
       "        vertical-align: top;\n",
       "    }\n",
       "\n",
       "    .dataframe thead th {\n",
       "        text-align: right;\n",
       "    }\n",
       "</style>\n",
       "<table border=\"1\" class=\"dataframe\">\n",
       "  <thead>\n",
       "    <tr style=\"text-align: right;\">\n",
       "      <th></th>\n",
       "      <th>publisher_id</th>\n",
       "      <th>publisher</th>\n",
       "    </tr>\n",
       "  </thead>\n",
       "  <tbody>\n",
       "    <tr>\n",
       "      <th>0</th>\n",
       "      <td>1</td>\n",
       "      <td>Ace</td>\n",
       "    </tr>\n",
       "    <tr>\n",
       "      <th>1</th>\n",
       "      <td>2</td>\n",
       "      <td>Ace Book</td>\n",
       "    </tr>\n",
       "    <tr>\n",
       "      <th>2</th>\n",
       "      <td>3</td>\n",
       "      <td>Ace Books</td>\n",
       "    </tr>\n",
       "    <tr>\n",
       "      <th>3</th>\n",
       "      <td>4</td>\n",
       "      <td>Ace Hardcover</td>\n",
       "    </tr>\n",
       "    <tr>\n",
       "      <th>4</th>\n",
       "      <td>5</td>\n",
       "      <td>Addison Wesley Publishing Company</td>\n",
       "    </tr>\n",
       "    <tr>\n",
       "      <th>5</th>\n",
       "      <td>6</td>\n",
       "      <td>Aladdin</td>\n",
       "    </tr>\n",
       "    <tr>\n",
       "      <th>6</th>\n",
       "      <td>7</td>\n",
       "      <td>Aladdin Paperbacks</td>\n",
       "    </tr>\n",
       "    <tr>\n",
       "      <th>7</th>\n",
       "      <td>8</td>\n",
       "      <td>Albin Michel</td>\n",
       "    </tr>\n",
       "    <tr>\n",
       "      <th>8</th>\n",
       "      <td>9</td>\n",
       "      <td>Alfred A. Knopf</td>\n",
       "    </tr>\n",
       "    <tr>\n",
       "      <th>9</th>\n",
       "      <td>10</td>\n",
       "      <td>Alfred A. Knopf Books for Young Readers</td>\n",
       "    </tr>\n",
       "  </tbody>\n",
       "</table>\n",
       "</div>"
      ],
      "text/plain": [
       "   publisher_id                                publisher\n",
       "0             1                                      Ace\n",
       "1             2                                 Ace Book\n",
       "2             3                                Ace Books\n",
       "3             4                            Ace Hardcover\n",
       "4             5        Addison Wesley Publishing Company\n",
       "5             6                                  Aladdin\n",
       "6             7                       Aladdin Paperbacks\n",
       "7             8                             Albin Michel\n",
       "8             9                          Alfred A. Knopf\n",
       "9            10  Alfred A. Knopf Books for Young Readers"
      ]
     },
     "execution_count": 4,
     "metadata": {},
     "output_type": "execute_result"
    }
   ],
   "source": [
    "publishers = '''\n",
    "SELECT *\n",
    "FROM publishers\n",
    "LIMIT 10\n",
    "'''\n",
    "\n",
    "pd.io.sql.read_sql(sql=text(publishers), con = con)"
   ]
  },
  {
   "cell_type": "markdown",
   "metadata": {},
   "source": [
    "# ratings:"
   ]
  },
  {
   "cell_type": "code",
   "execution_count": 5,
   "metadata": {},
   "outputs": [
    {
     "data": {
      "text/html": [
       "<div>\n",
       "<style scoped>\n",
       "    .dataframe tbody tr th:only-of-type {\n",
       "        vertical-align: middle;\n",
       "    }\n",
       "\n",
       "    .dataframe tbody tr th {\n",
       "        vertical-align: top;\n",
       "    }\n",
       "\n",
       "    .dataframe thead th {\n",
       "        text-align: right;\n",
       "    }\n",
       "</style>\n",
       "<table border=\"1\" class=\"dataframe\">\n",
       "  <thead>\n",
       "    <tr style=\"text-align: right;\">\n",
       "      <th></th>\n",
       "      <th>rating_id</th>\n",
       "      <th>book_id</th>\n",
       "      <th>username</th>\n",
       "      <th>rating</th>\n",
       "    </tr>\n",
       "  </thead>\n",
       "  <tbody>\n",
       "    <tr>\n",
       "      <th>0</th>\n",
       "      <td>1</td>\n",
       "      <td>1</td>\n",
       "      <td>ryanfranco</td>\n",
       "      <td>4</td>\n",
       "    </tr>\n",
       "    <tr>\n",
       "      <th>1</th>\n",
       "      <td>2</td>\n",
       "      <td>1</td>\n",
       "      <td>grantpatricia</td>\n",
       "      <td>2</td>\n",
       "    </tr>\n",
       "    <tr>\n",
       "      <th>2</th>\n",
       "      <td>3</td>\n",
       "      <td>1</td>\n",
       "      <td>brandtandrea</td>\n",
       "      <td>5</td>\n",
       "    </tr>\n",
       "    <tr>\n",
       "      <th>3</th>\n",
       "      <td>4</td>\n",
       "      <td>2</td>\n",
       "      <td>lorichen</td>\n",
       "      <td>3</td>\n",
       "    </tr>\n",
       "    <tr>\n",
       "      <th>4</th>\n",
       "      <td>5</td>\n",
       "      <td>2</td>\n",
       "      <td>mariokeller</td>\n",
       "      <td>2</td>\n",
       "    </tr>\n",
       "    <tr>\n",
       "      <th>5</th>\n",
       "      <td>6</td>\n",
       "      <td>3</td>\n",
       "      <td>johnsonamanda</td>\n",
       "      <td>4</td>\n",
       "    </tr>\n",
       "    <tr>\n",
       "      <th>6</th>\n",
       "      <td>7</td>\n",
       "      <td>3</td>\n",
       "      <td>scotttamara</td>\n",
       "      <td>5</td>\n",
       "    </tr>\n",
       "    <tr>\n",
       "      <th>7</th>\n",
       "      <td>8</td>\n",
       "      <td>3</td>\n",
       "      <td>lesliegibbs</td>\n",
       "      <td>5</td>\n",
       "    </tr>\n",
       "    <tr>\n",
       "      <th>8</th>\n",
       "      <td>9</td>\n",
       "      <td>4</td>\n",
       "      <td>abbottjames</td>\n",
       "      <td>5</td>\n",
       "    </tr>\n",
       "    <tr>\n",
       "      <th>9</th>\n",
       "      <td>10</td>\n",
       "      <td>4</td>\n",
       "      <td>valenciaanne</td>\n",
       "      <td>4</td>\n",
       "    </tr>\n",
       "  </tbody>\n",
       "</table>\n",
       "</div>"
      ],
      "text/plain": [
       "   rating_id  book_id       username  rating\n",
       "0          1        1     ryanfranco       4\n",
       "1          2        1  grantpatricia       2\n",
       "2          3        1   brandtandrea       5\n",
       "3          4        2       lorichen       3\n",
       "4          5        2    mariokeller       2\n",
       "5          6        3  johnsonamanda       4\n",
       "6          7        3    scotttamara       5\n",
       "7          8        3    lesliegibbs       5\n",
       "8          9        4    abbottjames       5\n",
       "9         10        4   valenciaanne       4"
      ]
     },
     "execution_count": 5,
     "metadata": {},
     "output_type": "execute_result"
    }
   ],
   "source": [
    "ratings = '''\n",
    "SELECT *\n",
    "FROM ratings\n",
    "LIMIT 10\n",
    "'''\n",
    "\n",
    "pd.io.sql.read_sql(sql=text(ratings), con = con)"
   ]
  },
  {
   "cell_type": "markdown",
   "metadata": {},
   "source": [
    "# reviews:"
   ]
  },
  {
   "cell_type": "code",
   "execution_count": 6,
   "metadata": {},
   "outputs": [
    {
     "data": {
      "text/html": [
       "<div>\n",
       "<style scoped>\n",
       "    .dataframe tbody tr th:only-of-type {\n",
       "        vertical-align: middle;\n",
       "    }\n",
       "\n",
       "    .dataframe tbody tr th {\n",
       "        vertical-align: top;\n",
       "    }\n",
       "\n",
       "    .dataframe thead th {\n",
       "        text-align: right;\n",
       "    }\n",
       "</style>\n",
       "<table border=\"1\" class=\"dataframe\">\n",
       "  <thead>\n",
       "    <tr style=\"text-align: right;\">\n",
       "      <th></th>\n",
       "      <th>review_id</th>\n",
       "      <th>book_id</th>\n",
       "      <th>username</th>\n",
       "      <th>text</th>\n",
       "    </tr>\n",
       "  </thead>\n",
       "  <tbody>\n",
       "    <tr>\n",
       "      <th>0</th>\n",
       "      <td>1</td>\n",
       "      <td>1</td>\n",
       "      <td>brandtandrea</td>\n",
       "      <td>Mention society tell send professor analysis. ...</td>\n",
       "    </tr>\n",
       "    <tr>\n",
       "      <th>1</th>\n",
       "      <td>2</td>\n",
       "      <td>1</td>\n",
       "      <td>ryanfranco</td>\n",
       "      <td>Foot glass pretty audience hit themselves. Amo...</td>\n",
       "    </tr>\n",
       "    <tr>\n",
       "      <th>2</th>\n",
       "      <td>3</td>\n",
       "      <td>2</td>\n",
       "      <td>lorichen</td>\n",
       "      <td>Listen treat keep worry. Miss husband tax but ...</td>\n",
       "    </tr>\n",
       "    <tr>\n",
       "      <th>3</th>\n",
       "      <td>4</td>\n",
       "      <td>3</td>\n",
       "      <td>johnsonamanda</td>\n",
       "      <td>Finally month interesting blue could nature cu...</td>\n",
       "    </tr>\n",
       "    <tr>\n",
       "      <th>4</th>\n",
       "      <td>5</td>\n",
       "      <td>3</td>\n",
       "      <td>scotttamara</td>\n",
       "      <td>Nation purpose heavy give wait song will. List...</td>\n",
       "    </tr>\n",
       "    <tr>\n",
       "      <th>5</th>\n",
       "      <td>6</td>\n",
       "      <td>3</td>\n",
       "      <td>lesliegibbs</td>\n",
       "      <td>Analysis no several cause international.</td>\n",
       "    </tr>\n",
       "    <tr>\n",
       "      <th>6</th>\n",
       "      <td>7</td>\n",
       "      <td>4</td>\n",
       "      <td>valenciaanne</td>\n",
       "      <td>One there cost another. Say type save. With pe...</td>\n",
       "    </tr>\n",
       "    <tr>\n",
       "      <th>7</th>\n",
       "      <td>8</td>\n",
       "      <td>4</td>\n",
       "      <td>abbottjames</td>\n",
       "      <td>Within enough mother. There at system full rec...</td>\n",
       "    </tr>\n",
       "    <tr>\n",
       "      <th>8</th>\n",
       "      <td>9</td>\n",
       "      <td>5</td>\n",
       "      <td>npowers</td>\n",
       "      <td>Thank now focus realize economy focus fly. Ite...</td>\n",
       "    </tr>\n",
       "    <tr>\n",
       "      <th>9</th>\n",
       "      <td>10</td>\n",
       "      <td>5</td>\n",
       "      <td>staylor</td>\n",
       "      <td>Game push lot reduce where remember. Including...</td>\n",
       "    </tr>\n",
       "  </tbody>\n",
       "</table>\n",
       "</div>"
      ],
      "text/plain": [
       "   review_id  book_id       username  \\\n",
       "0          1        1   brandtandrea   \n",
       "1          2        1     ryanfranco   \n",
       "2          3        2       lorichen   \n",
       "3          4        3  johnsonamanda   \n",
       "4          5        3    scotttamara   \n",
       "5          6        3    lesliegibbs   \n",
       "6          7        4   valenciaanne   \n",
       "7          8        4    abbottjames   \n",
       "8          9        5        npowers   \n",
       "9         10        5        staylor   \n",
       "\n",
       "                                                text  \n",
       "0  Mention society tell send professor analysis. ...  \n",
       "1  Foot glass pretty audience hit themselves. Amo...  \n",
       "2  Listen treat keep worry. Miss husband tax but ...  \n",
       "3  Finally month interesting blue could nature cu...  \n",
       "4  Nation purpose heavy give wait song will. List...  \n",
       "5           Analysis no several cause international.  \n",
       "6  One there cost another. Say type save. With pe...  \n",
       "7  Within enough mother. There at system full rec...  \n",
       "8  Thank now focus realize economy focus fly. Ite...  \n",
       "9  Game push lot reduce where remember. Including...  "
      ]
     },
     "execution_count": 6,
     "metadata": {},
     "output_type": "execute_result"
    }
   ],
   "source": [
    "reviews = '''\n",
    "SELECT *\n",
    "FROM reviews\n",
    "LIMIT 10\n",
    "'''\n",
    "\n",
    "pd.io.sql.read_sql(sql=text(reviews), con = con)"
   ]
  },
  {
   "cell_type": "markdown",
   "metadata": {},
   "source": [
    "## Посчитайте, сколько книг вышло после 1 января 2000 года"
   ]
  },
  {
   "cell_type": "code",
   "execution_count": 7,
   "metadata": {},
   "outputs": [
    {
     "data": {
      "text/html": [
       "<div>\n",
       "<style scoped>\n",
       "    .dataframe tbody tr th:only-of-type {\n",
       "        vertical-align: middle;\n",
       "    }\n",
       "\n",
       "    .dataframe tbody tr th {\n",
       "        vertical-align: top;\n",
       "    }\n",
       "\n",
       "    .dataframe thead th {\n",
       "        text-align: right;\n",
       "    }\n",
       "</style>\n",
       "<table border=\"1\" class=\"dataframe\">\n",
       "  <thead>\n",
       "    <tr style=\"text-align: right;\">\n",
       "      <th></th>\n",
       "      <th>count</th>\n",
       "    </tr>\n",
       "  </thead>\n",
       "  <tbody>\n",
       "    <tr>\n",
       "      <th>0</th>\n",
       "      <td>821</td>\n",
       "    </tr>\n",
       "  </tbody>\n",
       "</table>\n",
       "</div>"
      ],
      "text/plain": [
       "   count\n",
       "0    821"
      ]
     },
     "execution_count": 7,
     "metadata": {},
     "output_type": "execute_result"
    }
   ],
   "source": [
    "books_after_2000 = '''\n",
    "SELECT COUNT(book_id)\n",
    "FROM books\n",
    "WHERE publication_date >= '2000-01-01'\n",
    "'''\n",
    "\n",
    "pd.io.sql.read_sql(sql=text(books_after_2000), con = con)"
   ]
  },
  {
   "cell_type": "markdown",
   "metadata": {},
   "source": [
    "**После 1 января 2000 года вышла 821 книга.**"
   ]
  },
  {
   "cell_type": "markdown",
   "metadata": {},
   "source": [
    "## Для каждой книги посчитайте количество обзоров и среднюю оценку"
   ]
  },
  {
   "cell_type": "code",
   "execution_count": 8,
   "metadata": {},
   "outputs": [
    {
     "data": {
      "text/html": [
       "<div>\n",
       "<style scoped>\n",
       "    .dataframe tbody tr th:only-of-type {\n",
       "        vertical-align: middle;\n",
       "    }\n",
       "\n",
       "    .dataframe tbody tr th {\n",
       "        vertical-align: top;\n",
       "    }\n",
       "\n",
       "    .dataframe thead th {\n",
       "        text-align: right;\n",
       "    }\n",
       "</style>\n",
       "<table border=\"1\" class=\"dataframe\">\n",
       "  <thead>\n",
       "    <tr style=\"text-align: right;\">\n",
       "      <th></th>\n",
       "      <th>title</th>\n",
       "      <th>reviews_count</th>\n",
       "      <th>avg_rating</th>\n",
       "    </tr>\n",
       "  </thead>\n",
       "  <tbody>\n",
       "    <tr>\n",
       "      <th>0</th>\n",
       "      <td>Twilight (Twilight  #1)</td>\n",
       "      <td>7</td>\n",
       "      <td>3.66</td>\n",
       "    </tr>\n",
       "    <tr>\n",
       "      <th>1</th>\n",
       "      <td>Harry Potter and the Prisoner of Azkaban (Harr...</td>\n",
       "      <td>6</td>\n",
       "      <td>4.41</td>\n",
       "    </tr>\n",
       "    <tr>\n",
       "      <th>2</th>\n",
       "      <td>Harry Potter and the Chamber of Secrets (Harry...</td>\n",
       "      <td>6</td>\n",
       "      <td>4.29</td>\n",
       "    </tr>\n",
       "    <tr>\n",
       "      <th>3</th>\n",
       "      <td>The Book Thief</td>\n",
       "      <td>6</td>\n",
       "      <td>4.26</td>\n",
       "    </tr>\n",
       "    <tr>\n",
       "      <th>4</th>\n",
       "      <td>The Glass Castle</td>\n",
       "      <td>6</td>\n",
       "      <td>4.21</td>\n",
       "    </tr>\n",
       "    <tr>\n",
       "      <th>...</th>\n",
       "      <td>...</td>\n",
       "      <td>...</td>\n",
       "      <td>...</td>\n",
       "    </tr>\n",
       "    <tr>\n",
       "      <th>995</th>\n",
       "      <td>Leonardo's Notebooks</td>\n",
       "      <td>0</td>\n",
       "      <td>4.00</td>\n",
       "    </tr>\n",
       "    <tr>\n",
       "      <th>996</th>\n",
       "      <td>Disney's Beauty and the Beast (A Little Golden...</td>\n",
       "      <td>0</td>\n",
       "      <td>4.00</td>\n",
       "    </tr>\n",
       "    <tr>\n",
       "      <th>997</th>\n",
       "      <td>Essential Tales and Poems</td>\n",
       "      <td>0</td>\n",
       "      <td>4.00</td>\n",
       "    </tr>\n",
       "    <tr>\n",
       "      <th>998</th>\n",
       "      <td>Anne Rice's The Vampire Lestat: A Graphic Novel</td>\n",
       "      <td>0</td>\n",
       "      <td>3.67</td>\n",
       "    </tr>\n",
       "    <tr>\n",
       "      <th>999</th>\n",
       "      <td>The Natural Way to Draw</td>\n",
       "      <td>0</td>\n",
       "      <td>3.00</td>\n",
       "    </tr>\n",
       "  </tbody>\n",
       "</table>\n",
       "<p>1000 rows × 3 columns</p>\n",
       "</div>"
      ],
      "text/plain": [
       "                                                 title  reviews_count  \\\n",
       "0                              Twilight (Twilight  #1)              7   \n",
       "1    Harry Potter and the Prisoner of Azkaban (Harr...              6   \n",
       "2    Harry Potter and the Chamber of Secrets (Harry...              6   \n",
       "3                                       The Book Thief              6   \n",
       "4                                     The Glass Castle              6   \n",
       "..                                                 ...            ...   \n",
       "995                               Leonardo's Notebooks              0   \n",
       "996  Disney's Beauty and the Beast (A Little Golden...              0   \n",
       "997                          Essential Tales and Poems              0   \n",
       "998    Anne Rice's The Vampire Lestat: A Graphic Novel              0   \n",
       "999                            The Natural Way to Draw              0   \n",
       "\n",
       "     avg_rating  \n",
       "0          3.66  \n",
       "1          4.41  \n",
       "2          4.29  \n",
       "3          4.26  \n",
       "4          4.21  \n",
       "..          ...  \n",
       "995        4.00  \n",
       "996        4.00  \n",
       "997        4.00  \n",
       "998        3.67  \n",
       "999        3.00  \n",
       "\n",
       "[1000 rows x 3 columns]"
      ]
     },
     "execution_count": 8,
     "metadata": {},
     "output_type": "execute_result"
    }
   ],
   "source": [
    "books_reviews_ratings = '''\n",
    "WITH\n",
    "reviews_count AS (SELECT book_id,\n",
    "                  COUNT(review_id) AS reviews_count\n",
    "                  FROM reviews\n",
    "                  GROUP BY book_id),\n",
    "ratings_avg AS (SELECT book_id,\n",
    "                ROUND(AVG(rating), 2) AS avg_rating\n",
    "                FROM ratings\n",
    "                GROUP BY book_id)\n",
    "                                  \n",
    "SELECT b.title,\n",
    "       COALESCE(rev_c.reviews_count, 0) AS reviews_count,\n",
    "       rat_a.avg_rating\n",
    "FROM books AS b\n",
    "LEFT JOIN reviews_count AS rev_c ON b.book_id = rev_c.book_id\n",
    "LEFT JOIN ratings_avg AS rat_a ON b.book_id = rat_a.book_id\n",
    "ORDER BY reviews_count DESC, rat_a.avg_rating DESC\n",
    "'''\n",
    "\n",
    "pd.io.sql.read_sql(sql=text(books_reviews_ratings), con = con)"
   ]
  },
  {
   "cell_type": "markdown",
   "metadata": {},
   "source": [
    "**Книга \"Twilight (Twilight #1)\" имеет самое большое кол-во обзоров.**"
   ]
  },
  {
   "cell_type": "markdown",
   "metadata": {},
   "source": [
    "## Определите издательство, которое выпустило наибольшее число книг толще 50 страниц — так вы исключите из анализа брошюры"
   ]
  },
  {
   "cell_type": "code",
   "execution_count": 9,
   "metadata": {},
   "outputs": [
    {
     "data": {
      "text/html": [
       "<div>\n",
       "<style scoped>\n",
       "    .dataframe tbody tr th:only-of-type {\n",
       "        vertical-align: middle;\n",
       "    }\n",
       "\n",
       "    .dataframe tbody tr th {\n",
       "        vertical-align: top;\n",
       "    }\n",
       "\n",
       "    .dataframe thead th {\n",
       "        text-align: right;\n",
       "    }\n",
       "</style>\n",
       "<table border=\"1\" class=\"dataframe\">\n",
       "  <thead>\n",
       "    <tr style=\"text-align: right;\">\n",
       "      <th></th>\n",
       "      <th>publisher</th>\n",
       "      <th>book_count</th>\n",
       "    </tr>\n",
       "  </thead>\n",
       "  <tbody>\n",
       "    <tr>\n",
       "      <th>0</th>\n",
       "      <td>Penguin Books</td>\n",
       "      <td>42</td>\n",
       "    </tr>\n",
       "  </tbody>\n",
       "</table>\n",
       "</div>"
      ],
      "text/plain": [
       "       publisher  book_count\n",
       "0  Penguin Books          42"
      ]
     },
     "execution_count": 9,
     "metadata": {},
     "output_type": "execute_result"
    }
   ],
   "source": [
    "publisher_a_lot = '''\n",
    "SELECT p.publisher,\n",
    "       COUNT(b.book_id) AS book_count\n",
    "FROM publishers AS p\n",
    "JOIN books AS b ON p.publisher_id = b.publisher_id\n",
    "WHERE b.num_pages > 50\n",
    "GROUP BY p.publisher\n",
    "ORDER BY book_count DESC\n",
    "LIMIT 1\n",
    "'''\n",
    "\n",
    "pd.io.sql.read_sql(sql=text(publisher_a_lot), con = con)"
   ]
  },
  {
   "cell_type": "markdown",
   "metadata": {},
   "source": [
    "**Издательство \"Penguin Books\" выпустило наибольшее число книг, не считая брошюры.**"
   ]
  },
  {
   "cell_type": "markdown",
   "metadata": {},
   "source": [
    "## Определите автора с самой высокой средней оценкой книг — учитывайте только книги с 50 и более оценками"
   ]
  },
  {
   "cell_type": "code",
   "execution_count": 10,
   "metadata": {},
   "outputs": [
    {
     "data": {
      "text/html": [
       "<div>\n",
       "<style scoped>\n",
       "    .dataframe tbody tr th:only-of-type {\n",
       "        vertical-align: middle;\n",
       "    }\n",
       "\n",
       "    .dataframe tbody tr th {\n",
       "        vertical-align: top;\n",
       "    }\n",
       "\n",
       "    .dataframe thead th {\n",
       "        text-align: right;\n",
       "    }\n",
       "</style>\n",
       "<table border=\"1\" class=\"dataframe\">\n",
       "  <thead>\n",
       "    <tr style=\"text-align: right;\">\n",
       "      <th></th>\n",
       "      <th>author</th>\n",
       "      <th>author_rating</th>\n",
       "    </tr>\n",
       "  </thead>\n",
       "  <tbody>\n",
       "    <tr>\n",
       "      <th>0</th>\n",
       "      <td>J.K. Rowling/Mary GrandPré</td>\n",
       "      <td>4.28</td>\n",
       "    </tr>\n",
       "  </tbody>\n",
       "</table>\n",
       "</div>"
      ],
      "text/plain": [
       "                       author  author_rating\n",
       "0  J.K. Rowling/Mary GrandPré           4.28"
      ]
     },
     "execution_count": 10,
     "metadata": {},
     "output_type": "execute_result"
    }
   ],
   "source": [
    "author_high_rating = '''\n",
    "WITH\n",
    "books_rating AS (SELECT b.book_id,\n",
    "                        b.author_id,\n",
    "                        COUNT(r.rating_id) AS rating_count,\n",
    "                        AVG(r.rating) AS avg_rating\n",
    "                 FROM books AS b\n",
    "                 JOIN ratings AS r ON b.book_id = r.book_id\n",
    "                 GROUP BY b.book_id\n",
    "                 HAVING COUNT(r.rating_id) >= 50)\n",
    "\n",
    "SELECT a.author,\n",
    "       ROUND(AVG(b_r.avg_rating), 2) AS author_rating\n",
    "FROM books_rating AS b_r\n",
    "JOIN authors AS a ON b_r.author_id = a.author_id\n",
    "GROUP BY a.author_id\n",
    "ORDER BY author_rating DESC\n",
    "LIMIT 1\n",
    "'''\n",
    "\n",
    "pd.io.sql.read_sql(sql=text(author_high_rating), con = con)"
   ]
  },
  {
   "cell_type": "markdown",
   "metadata": {},
   "source": [
    "**Авторы J.K. Rowling и Mary GrandPré имеют самый высокий средний рейтинг по своим книгам.**"
   ]
  },
  {
   "cell_type": "markdown",
   "metadata": {},
   "source": [
    "## Посчитайте среднее количество обзоров от пользователей, которые поставили больше 48 оценок"
   ]
  },
  {
   "cell_type": "code",
   "execution_count": 11,
   "metadata": {},
   "outputs": [
    {
     "data": {
      "text/html": [
       "<div>\n",
       "<style scoped>\n",
       "    .dataframe tbody tr th:only-of-type {\n",
       "        vertical-align: middle;\n",
       "    }\n",
       "\n",
       "    .dataframe tbody tr th {\n",
       "        vertical-align: top;\n",
       "    }\n",
       "\n",
       "    .dataframe thead th {\n",
       "        text-align: right;\n",
       "    }\n",
       "</style>\n",
       "<table border=\"1\" class=\"dataframe\">\n",
       "  <thead>\n",
       "    <tr style=\"text-align: right;\">\n",
       "      <th></th>\n",
       "      <th>avg_reviews</th>\n",
       "    </tr>\n",
       "  </thead>\n",
       "  <tbody>\n",
       "    <tr>\n",
       "      <th>0</th>\n",
       "      <td>24</td>\n",
       "    </tr>\n",
       "  </tbody>\n",
       "</table>\n",
       "</div>"
      ],
      "text/plain": [
       "   avg_reviews\n",
       "0           24"
      ]
     },
     "execution_count": 11,
     "metadata": {},
     "output_type": "execute_result"
    }
   ],
   "source": [
    "mean_reviews = '''\n",
    "WITH\n",
    "reviews_count AS (SELECT COUNT(review_id) AS reviews_count\n",
    "                  FROM reviews\n",
    "                  WHERE username IN (SELECT rat.username\n",
    "                                     FROM ratings AS rat\n",
    "                                     JOIN books AS b ON rat.book_id = b.book_id\n",
    "                                     GROUP BY rat.username\n",
    "                                     HAVING COUNT(rat.rating_id) > 48)\n",
    "                  GROUP BY username)\n",
    "\n",
    "SELECT AVG(reviews_count)::int AS avg_reviews\n",
    "FROM reviews_count\n",
    "'''\n",
    "\n",
    "pd.io.sql.read_sql(sql=text(mean_reviews), con = con)"
   ]
  },
  {
   "cell_type": "markdown",
   "metadata": {},
   "source": [
    "**Пользователи, которые ставят больше 48 оценок - имеют в среднем 24 обзора.**"
   ]
  },
  {
   "cell_type": "markdown",
   "metadata": {},
   "source": [
    "## Вывод по исследованию\n",
    "\n",
    "- **После 1 января 2000 года вышла 821 книга;**\n",
    "\n",
    "\n",
    "- **Книга \"Twilight (Twilight #1)\" имеет самое большое кол-во обзоров;**\n",
    "\n",
    "\n",
    "- **Издательство \"Penguin Books\" выпустило наибольшее число книг, не считая брошюры;**\n",
    "\n",
    "\n",
    "- **Авторы J.K. Rowling и Mary GrandPré имеют самый высокий средний рейтинг по своим книгам;**\n",
    "\n",
    "\n",
    "- **Пользователи, которые ставят больше 48 оценок - имеют в среднем 24 обзора.**"
   ]
  }
 ],
 "metadata": {
  "ExecuteTimeLog": [
   {
    "duration": 64,
    "start_time": "2024-10-11T12:09:58.682Z"
   },
   {
    "duration": 3116,
    "start_time": "2024-10-11T12:14:52.663Z"
   },
   {
    "duration": 54,
    "start_time": "2024-10-11T14:42:36.565Z"
   },
   {
    "duration": 6,
    "start_time": "2024-10-11T14:42:42.529Z"
   },
   {
    "duration": 6,
    "start_time": "2024-10-11T14:42:52.367Z"
   },
   {
    "duration": 8865,
    "start_time": "2024-10-11T15:04:25.139Z"
   },
   {
    "duration": 76,
    "start_time": "2024-10-11T15:05:09.139Z"
   },
   {
    "duration": 65,
    "start_time": "2024-10-11T15:05:13.887Z"
   },
   {
    "duration": 2,
    "start_time": "2024-10-11T15:05:54.934Z"
   },
   {
    "duration": 4,
    "start_time": "2024-10-11T15:06:00.440Z"
   },
   {
    "duration": 62,
    "start_time": "2024-10-11T15:06:10.513Z"
   },
   {
    "duration": 61,
    "start_time": "2024-10-11T15:06:20.859Z"
   },
   {
    "duration": 45,
    "start_time": "2024-10-11T15:07:38.238Z"
   },
   {
    "duration": 43,
    "start_time": "2024-10-11T15:09:03.650Z"
   },
   {
    "duration": 8516,
    "start_time": "2024-10-11T16:35:53.399Z"
   },
   {
    "duration": 84,
    "start_time": "2024-10-11T16:37:58.927Z"
   },
   {
    "duration": 8,
    "start_time": "2024-10-11T16:38:31.714Z"
   },
   {
    "duration": 194,
    "start_time": "2024-10-11T16:38:33.539Z"
   },
   {
    "duration": 83,
    "start_time": "2024-10-11T16:38:35.873Z"
   },
   {
    "duration": 61,
    "start_time": "2024-10-11T16:39:20.630Z"
   },
   {
    "duration": 43,
    "start_time": "2024-10-11T16:39:30.655Z"
   },
   {
    "duration": 55,
    "start_time": "2024-10-11T16:47:10.057Z"
   },
   {
    "duration": 63,
    "start_time": "2024-10-11T16:47:49.840Z"
   },
   {
    "duration": 65,
    "start_time": "2024-10-11T16:48:20.713Z"
   },
   {
    "duration": 84,
    "start_time": "2024-10-11T16:48:27.655Z"
   },
   {
    "duration": 43,
    "start_time": "2024-10-11T16:48:38.993Z"
   },
   {
    "duration": 69,
    "start_time": "2024-10-11T16:48:46.447Z"
   },
   {
    "duration": 70,
    "start_time": "2024-10-11T16:49:41.800Z"
   },
   {
    "duration": 43,
    "start_time": "2024-10-11T17:08:40.534Z"
   },
   {
    "duration": 35,
    "start_time": "2024-10-11T17:08:44.326Z"
   },
   {
    "duration": 70,
    "start_time": "2024-10-11T17:08:52.522Z"
   },
   {
    "duration": 34,
    "start_time": "2024-10-11T17:09:03.637Z"
   },
   {
    "duration": 36,
    "start_time": "2024-10-11T17:09:08.347Z"
   },
   {
    "duration": 33,
    "start_time": "2024-10-11T17:09:10.866Z"
   },
   {
    "duration": 37,
    "start_time": "2024-10-11T17:09:14.368Z"
   },
   {
    "duration": 68,
    "start_time": "2024-10-11T17:09:23.316Z"
   },
   {
    "duration": 55,
    "start_time": "2024-10-11T17:14:27.174Z"
   },
   {
    "duration": 49,
    "start_time": "2024-10-11T17:14:35.516Z"
   },
   {
    "duration": 43,
    "start_time": "2024-10-11T17:14:44.392Z"
   },
   {
    "duration": 43,
    "start_time": "2024-10-11T17:14:55.098Z"
   },
   {
    "duration": 36,
    "start_time": "2024-10-11T17:15:27.928Z"
   },
   {
    "duration": 36,
    "start_time": "2024-10-11T17:15:32.121Z"
   },
   {
    "duration": 53,
    "start_time": "2024-10-11T17:21:49.813Z"
   },
   {
    "duration": 65,
    "start_time": "2024-10-11T17:30:32.714Z"
   },
   {
    "duration": 48,
    "start_time": "2024-10-11T17:30:40.757Z"
   },
   {
    "duration": 31,
    "start_time": "2024-10-11T17:31:26.233Z"
   },
   {
    "duration": 31,
    "start_time": "2024-10-11T17:31:31.038Z"
   },
   {
    "duration": 69,
    "start_time": "2024-10-11T19:40:20.745Z"
   },
   {
    "duration": 47,
    "start_time": "2024-10-11T19:41:09.390Z"
   },
   {
    "duration": 33,
    "start_time": "2024-10-11T19:41:31.080Z"
   },
   {
    "duration": 69,
    "start_time": "2024-10-11T19:42:50.491Z"
   },
   {
    "duration": 138,
    "start_time": "2024-10-11T20:17:16.932Z"
   },
   {
    "duration": 49,
    "start_time": "2024-10-11T20:18:09.257Z"
   },
   {
    "duration": 37,
    "start_time": "2024-10-11T20:18:19.197Z"
   },
   {
    "duration": 53,
    "start_time": "2024-10-11T20:21:20.412Z"
   },
   {
    "duration": 48,
    "start_time": "2024-10-11T20:22:18.106Z"
   },
   {
    "duration": 37,
    "start_time": "2024-10-11T20:22:27.596Z"
   },
   {
    "duration": 53,
    "start_time": "2024-10-11T20:26:25.998Z"
   },
   {
    "duration": 47,
    "start_time": "2024-10-11T20:26:32.933Z"
   },
   {
    "duration": 35,
    "start_time": "2024-10-11T20:26:38.299Z"
   },
   {
    "duration": 35,
    "start_time": "2024-10-11T20:32:24.458Z"
   },
   {
    "duration": 34,
    "start_time": "2024-10-11T20:32:36.909Z"
   },
   {
    "duration": 35,
    "start_time": "2024-10-11T20:35:07.938Z"
   },
   {
    "duration": 45,
    "start_time": "2024-10-11T20:37:11.974Z"
   },
   {
    "duration": 43,
    "start_time": "2024-10-11T20:37:33.043Z"
   },
   {
    "duration": 34,
    "start_time": "2024-10-11T20:37:44.473Z"
   },
   {
    "duration": 35,
    "start_time": "2024-10-11T20:38:14.815Z"
   },
   {
    "duration": 95,
    "start_time": "2024-10-11T20:38:55.489Z"
   },
   {
    "duration": 57,
    "start_time": "2024-10-11T20:39:47.485Z"
   },
   {
    "duration": 64,
    "start_time": "2024-10-11T20:43:00.698Z"
   },
   {
    "duration": 65,
    "start_time": "2024-10-11T20:44:15.702Z"
   },
   {
    "duration": 66,
    "start_time": "2024-10-11T20:44:55.943Z"
   },
   {
    "duration": 46,
    "start_time": "2024-10-11T20:45:53.281Z"
   },
   {
    "duration": 35,
    "start_time": "2024-10-11T20:48:24.108Z"
   },
   {
    "duration": 35,
    "start_time": "2024-10-11T20:48:38.808Z"
   },
   {
    "duration": 34,
    "start_time": "2024-10-11T20:48:48.861Z"
   },
   {
    "duration": 37,
    "start_time": "2024-10-11T20:53:55.662Z"
   },
   {
    "duration": 35,
    "start_time": "2024-10-11T20:54:00.237Z"
   },
   {
    "duration": 37,
    "start_time": "2024-10-11T20:54:33.327Z"
   },
   {
    "duration": 36,
    "start_time": "2024-10-11T20:54:52.652Z"
   },
   {
    "duration": 8901,
    "start_time": "2024-10-11T20:55:36.477Z"
   },
   {
    "duration": 48,
    "start_time": "2024-10-11T20:55:45.380Z"
   },
   {
    "duration": 66,
    "start_time": "2024-10-11T20:55:45.429Z"
   },
   {
    "duration": 31,
    "start_time": "2024-10-11T20:55:45.497Z"
   },
   {
    "duration": 34,
    "start_time": "2024-10-11T20:55:45.530Z"
   },
   {
    "duration": 33,
    "start_time": "2024-10-11T20:55:45.565Z"
   },
   {
    "duration": 7492,
    "start_time": "2024-10-12T09:44:25.004Z"
   },
   {
    "duration": 48,
    "start_time": "2024-10-12T09:44:32.498Z"
   },
   {
    "duration": 68,
    "start_time": "2024-10-12T09:44:32.547Z"
   },
   {
    "duration": 30,
    "start_time": "2024-10-12T09:44:32.617Z"
   },
   {
    "duration": 63,
    "start_time": "2024-10-12T09:44:32.650Z"
   },
   {
    "duration": 35,
    "start_time": "2024-10-12T09:44:32.715Z"
   },
   {
    "duration": 67,
    "start_time": "2024-10-12T09:44:58.649Z"
   },
   {
    "duration": 51,
    "start_time": "2024-10-12T10:04:13.628Z"
   },
   {
    "duration": 5495,
    "start_time": "2024-10-12T10:04:20.906Z"
   },
   {
    "duration": 17,
    "start_time": "2024-10-12T10:04:26.403Z"
   },
   {
    "duration": 27,
    "start_time": "2024-10-12T10:04:26.421Z"
   },
   {
    "duration": 12,
    "start_time": "2024-10-12T10:04:26.449Z"
   },
   {
    "duration": 15,
    "start_time": "2024-10-12T10:04:26.463Z"
   },
   {
    "duration": 27,
    "start_time": "2024-10-12T10:04:26.480Z"
   },
   {
    "duration": 13,
    "start_time": "2024-10-12T10:37:10.947Z"
   },
   {
    "duration": 11,
    "start_time": "2024-10-12T10:37:32.625Z"
   },
   {
    "duration": 9,
    "start_time": "2024-10-12T10:38:10.874Z"
   },
   {
    "duration": 10,
    "start_time": "2024-10-12T10:38:34.826Z"
   },
   {
    "duration": 10,
    "start_time": "2024-10-12T10:38:51.360Z"
   },
   {
    "duration": 11,
    "start_time": "2024-10-12T10:39:00.640Z"
   },
   {
    "duration": 10,
    "start_time": "2024-10-12T10:41:27.770Z"
   },
   {
    "duration": 89,
    "start_time": "2024-10-12T10:42:17.345Z"
   },
   {
    "duration": 22,
    "start_time": "2024-10-12T10:42:40.847Z"
   },
   {
    "duration": 19,
    "start_time": "2024-10-12T10:42:58.873Z"
   },
   {
    "duration": 9,
    "start_time": "2024-10-12T10:43:09.477Z"
   },
   {
    "duration": 21,
    "start_time": "2024-10-12T10:47:25.283Z"
   },
   {
    "duration": 18,
    "start_time": "2024-10-12T10:47:35.910Z"
   },
   {
    "duration": 19,
    "start_time": "2024-10-12T10:47:46.846Z"
   },
   {
    "duration": 16,
    "start_time": "2024-10-12T10:48:27.152Z"
   },
   {
    "duration": 21,
    "start_time": "2024-10-12T10:49:32.740Z"
   },
   {
    "duration": 21,
    "start_time": "2024-10-12T10:49:48.753Z"
   },
   {
    "duration": 24,
    "start_time": "2024-10-12T10:50:22.380Z"
   },
   {
    "duration": 31,
    "start_time": "2024-10-12T10:53:38.406Z"
   },
   {
    "duration": 21,
    "start_time": "2024-10-12T10:54:02.654Z"
   },
   {
    "duration": 17,
    "start_time": "2024-10-12T10:54:10.711Z"
   },
   {
    "duration": 31,
    "start_time": "2024-10-12T10:54:21.815Z"
   },
   {
    "duration": 33,
    "start_time": "2024-10-12T10:55:15.442Z"
   },
   {
    "duration": 20,
    "start_time": "2024-10-12T10:55:23.337Z"
   },
   {
    "duration": 33,
    "start_time": "2024-10-12T10:55:35.370Z"
   },
   {
    "duration": 33,
    "start_time": "2024-10-12T10:55:58.934Z"
   },
   {
    "duration": 27,
    "start_time": "2024-10-12T10:56:30.579Z"
   },
   {
    "duration": 23,
    "start_time": "2024-10-12T11:12:58.092Z"
   },
   {
    "duration": 24,
    "start_time": "2024-10-12T11:13:34.122Z"
   },
   {
    "duration": 21,
    "start_time": "2024-10-12T11:13:50.377Z"
   },
   {
    "duration": 20,
    "start_time": "2024-10-12T11:16:00.388Z"
   },
   {
    "duration": 20,
    "start_time": "2024-10-12T11:16:15.678Z"
   },
   {
    "duration": 20,
    "start_time": "2024-10-12T11:16:34.736Z"
   },
   {
    "duration": 21,
    "start_time": "2024-10-12T11:16:52.671Z"
   },
   {
    "duration": 20,
    "start_time": "2024-10-12T11:17:06.933Z"
   },
   {
    "duration": 20,
    "start_time": "2024-10-12T11:17:11.131Z"
   },
   {
    "duration": 19,
    "start_time": "2024-10-12T11:17:14.099Z"
   },
   {
    "duration": 20,
    "start_time": "2024-10-12T11:18:55.127Z"
   },
   {
    "duration": 26,
    "start_time": "2024-10-12T11:19:28.094Z"
   },
   {
    "duration": 19,
    "start_time": "2024-10-12T11:19:35.459Z"
   },
   {
    "duration": 11,
    "start_time": "2024-10-12T11:20:43.156Z"
   },
   {
    "duration": 23,
    "start_time": "2024-10-12T11:20:58.886Z"
   },
   {
    "duration": 21,
    "start_time": "2024-10-12T11:22:34.843Z"
   },
   {
    "duration": 21,
    "start_time": "2024-10-12T11:22:41.955Z"
   },
   {
    "duration": 21,
    "start_time": "2024-10-12T11:22:52.204Z"
   },
   {
    "duration": 19,
    "start_time": "2024-10-12T11:22:58.055Z"
   },
   {
    "duration": 22,
    "start_time": "2024-10-12T11:23:18.341Z"
   },
   {
    "duration": 22,
    "start_time": "2024-10-12T11:23:27.127Z"
   },
   {
    "duration": 19,
    "start_time": "2024-10-12T11:24:11.540Z"
   },
   {
    "duration": 22,
    "start_time": "2024-10-12T11:24:42.152Z"
   },
   {
    "duration": 19,
    "start_time": "2024-10-12T11:24:51.987Z"
   },
   {
    "duration": 25,
    "start_time": "2024-10-12T11:24:55.101Z"
   },
   {
    "duration": 19,
    "start_time": "2024-10-12T11:25:00.804Z"
   },
   {
    "duration": 23,
    "start_time": "2024-10-12T11:25:35.405Z"
   },
   {
    "duration": 20,
    "start_time": "2024-10-12T11:26:10.966Z"
   },
   {
    "duration": 13,
    "start_time": "2024-10-12T11:26:30.302Z"
   },
   {
    "duration": 19,
    "start_time": "2024-10-12T11:27:04.262Z"
   },
   {
    "duration": 22,
    "start_time": "2024-10-12T11:27:20.836Z"
   },
   {
    "duration": 18,
    "start_time": "2024-10-12T11:29:34.244Z"
   },
   {
    "duration": 17,
    "start_time": "2024-10-12T11:29:44.899Z"
   },
   {
    "duration": 19,
    "start_time": "2024-10-12T11:29:50.596Z"
   },
   {
    "duration": 5333,
    "start_time": "2024-10-12T11:30:22.265Z"
   },
   {
    "duration": 20,
    "start_time": "2024-10-12T11:30:27.600Z"
   },
   {
    "duration": 12,
    "start_time": "2024-10-12T11:30:27.622Z"
   },
   {
    "duration": 10,
    "start_time": "2024-10-12T11:30:27.635Z"
   },
   {
    "duration": 22,
    "start_time": "2024-10-12T11:30:27.647Z"
   },
   {
    "duration": 30,
    "start_time": "2024-10-12T11:30:27.671Z"
   },
   {
    "duration": 12,
    "start_time": "2024-10-12T11:30:27.703Z"
   },
   {
    "duration": 21,
    "start_time": "2024-10-12T11:30:27.716Z"
   },
   {
    "duration": 10,
    "start_time": "2024-10-12T11:30:27.740Z"
   },
   {
    "duration": 13,
    "start_time": "2024-10-12T11:30:27.752Z"
   },
   {
    "duration": 11,
    "start_time": "2024-10-12T11:30:27.766Z"
   },
   {
    "duration": 18,
    "start_time": "2024-10-12T11:32:01.255Z"
   },
   {
    "duration": 5650,
    "start_time": "2024-10-12T11:35:40.770Z"
   },
   {
    "duration": 19,
    "start_time": "2024-10-12T11:35:46.422Z"
   },
   {
    "duration": 9,
    "start_time": "2024-10-12T11:35:46.443Z"
   },
   {
    "duration": 13,
    "start_time": "2024-10-12T11:35:46.454Z"
   },
   {
    "duration": 13,
    "start_time": "2024-10-12T11:35:46.469Z"
   },
   {
    "duration": 15,
    "start_time": "2024-10-12T11:35:46.484Z"
   },
   {
    "duration": 9,
    "start_time": "2024-10-12T11:35:46.500Z"
   },
   {
    "duration": 27,
    "start_time": "2024-10-12T11:35:46.510Z"
   },
   {
    "duration": 10,
    "start_time": "2024-10-12T11:35:46.539Z"
   },
   {
    "duration": 17,
    "start_time": "2024-10-12T11:35:46.551Z"
   },
   {
    "duration": 11,
    "start_time": "2024-10-12T11:35:46.570Z"
   },
   {
    "duration": 7192,
    "start_time": "2024-10-12T12:13:07.076Z"
   },
   {
    "duration": 53,
    "start_time": "2024-10-12T12:13:14.271Z"
   },
   {
    "duration": 33,
    "start_time": "2024-10-12T12:13:14.326Z"
   },
   {
    "duration": 30,
    "start_time": "2024-10-12T12:13:14.362Z"
   },
   {
    "duration": 33,
    "start_time": "2024-10-12T12:13:14.394Z"
   },
   {
    "duration": 33,
    "start_time": "2024-10-12T12:13:14.429Z"
   },
   {
    "duration": 32,
    "start_time": "2024-10-12T12:13:14.464Z"
   },
   {
    "duration": 63,
    "start_time": "2024-10-12T12:13:14.498Z"
   },
   {
    "duration": 32,
    "start_time": "2024-10-12T12:13:14.563Z"
   },
   {
    "duration": 34,
    "start_time": "2024-10-12T12:13:14.597Z"
   },
   {
    "duration": 33,
    "start_time": "2024-10-12T12:13:14.632Z"
   },
   {
    "duration": 18727,
    "start_time": "2024-10-16T16:06:07.089Z"
   },
   {
    "duration": 51,
    "start_time": "2024-10-16T16:06:25.818Z"
   },
   {
    "duration": 30,
    "start_time": "2024-10-16T16:06:25.873Z"
   },
   {
    "duration": 30,
    "start_time": "2024-10-16T16:06:25.905Z"
   },
   {
    "duration": 31,
    "start_time": "2024-10-16T16:06:25.937Z"
   },
   {
    "duration": 31,
    "start_time": "2024-10-16T16:06:25.969Z"
   },
   {
    "duration": 29,
    "start_time": "2024-10-16T16:06:26.003Z"
   },
   {
    "duration": 63,
    "start_time": "2024-10-16T16:06:26.034Z"
   },
   {
    "duration": 31,
    "start_time": "2024-10-16T16:06:26.099Z"
   },
   {
    "duration": 34,
    "start_time": "2024-10-16T16:06:26.131Z"
   },
   {
    "duration": 34,
    "start_time": "2024-10-16T16:06:26.166Z"
   }
  ],
  "kernelspec": {
   "display_name": "Python 3 (ipykernel)",
   "language": "python",
   "name": "python3"
  },
  "language_info": {
   "codemirror_mode": {
    "name": "ipython",
    "version": 3
   },
   "file_extension": ".py",
   "mimetype": "text/x-python",
   "name": "python",
   "nbconvert_exporter": "python",
   "pygments_lexer": "ipython3",
   "version": "3.9.5"
  },
  "toc": {
   "base_numbering": 1,
   "nav_menu": {},
   "number_sections": true,
   "sideBar": true,
   "skip_h1_title": true,
   "title_cell": "Table of Contents",
   "title_sidebar": "Contents",
   "toc_cell": false,
   "toc_position": {},
   "toc_section_display": true,
   "toc_window_display": true
  }
 },
 "nbformat": 4,
 "nbformat_minor": 2
}
